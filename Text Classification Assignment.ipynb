{
 "cells": [
  {
   "cell_type": "markdown",
   "metadata": {
    "colab_type": "text",
    "id": "mDMgSstPYv0P"
   },
   "source": [
    "# Text Classification:\n",
    "\n",
    "## Data\n",
    "<pre>\n",
    "1. we have total of 20 types of documents(Text files) and total 18828 documents(text files).\n",
    "2. You can download data from this <a href='https://drive.google.com/open?id=1rxD15nyeIPIAZ-J2VYPrDRZI66-TBWvM'>link</a>, in that you will get documents.rar folder. <br>If you unzip that, you will get total of 18828 documnets. document name is defined as'ClassLabel_DocumentNumberInThatLabel'. \n",
    "so from document name, you can extract the label for that document.\n",
    "4. Now our problem is to classify all the documents into any one of the class.\n",
    "5. Below we provided count plot of all the labels in our data. \n",
    "</pre>"
   ]
  },
  {
   "cell_type": "code",
   "execution_count": 1,
   "metadata": {
    "colab": {},
    "colab_type": "code",
    "id": "64U9NzWFYv0V",
    "outputId": "f3f19ed2-f637-4a8c-cff7-40a603025e96"
   },
   "outputs": [
    {
     "name": "stderr",
     "output_type": "stream",
     "text": [
      "C:\\Users\\user\\Anaconda3\\lib\\site-packages\\numpy\\core\\__init__.py:29: UserWarning: loaded more than 1 DLL from .libs:\n",
      "C:\\Users\\user\\Anaconda3\\lib\\site-packages\\numpy\\.libs\\libopenblas.PYQHXLVVQ7VESDPUVUADXEVJOBGHJPAY.gfortran-win_amd64.dll\n",
      "C:\\Users\\user\\Anaconda3\\lib\\site-packages\\numpy\\.libs\\libopenblas.TXA6YQSD3GCQQC22GEQ54J2UDCXDXHWN.gfortran-win_amd64.dll\n",
      "  stacklevel=1)\n",
      "100%|████████████████████████████████████████████████████████████████████████████| 18828/18828 [05:38<00:00, 55.59it/s]\n"
     ]
    }
   ],
   "source": [
    "import pandas as pd\n",
    "from tqdm import tqdm\n",
    "import os\n",
    "folder = 'C:\\\\Users\\\\user\\\\Desktop\\\\CNN\\\\CNN_with_textdata\\\\documents'\n",
    "#labels = {'pos': 1, 'neg': 0}\n",
    "df = pd.DataFrame()\n",
    "path = os.path.join(folder)\n",
    "for file in tqdm(os.listdir (path) ):\n",
    "    label=file.rsplit('_')[0]\n",
    "    with open(os.path.join(path, file),'r') as infile:\n",
    "        txt = infile.read()\n",
    "        df = df.append([[txt, label]],ignore_index=True)"
   ]
  },
  {
   "cell_type": "code",
   "execution_count": 2,
   "metadata": {},
   "outputs": [
    {
     "data": {
      "text/html": [
       "<div>\n",
       "<style scoped>\n",
       "    .dataframe tbody tr th:only-of-type {\n",
       "        vertical-align: middle;\n",
       "    }\n",
       "\n",
       "    .dataframe tbody tr th {\n",
       "        vertical-align: top;\n",
       "    }\n",
       "\n",
       "    .dataframe thead th {\n",
       "        text-align: right;\n",
       "    }\n",
       "</style>\n",
       "<table border=\"1\" class=\"dataframe\">\n",
       "  <thead>\n",
       "    <tr style=\"text-align: right;\">\n",
       "      <th></th>\n",
       "      <th>0</th>\n",
       "      <th>1</th>\n",
       "    </tr>\n",
       "  </thead>\n",
       "  <tbody>\n",
       "    <tr>\n",
       "      <td>0</td>\n",
       "      <td>From: mathew &lt;mathew@mantis.co.uk&gt;\\nSubject: A...</td>\n",
       "      <td>alt.atheism</td>\n",
       "    </tr>\n",
       "    <tr>\n",
       "      <td>1</td>\n",
       "      <td>From: mathew &lt;mathew@mantis.co.uk&gt;\\nSubject: A...</td>\n",
       "      <td>alt.atheism</td>\n",
       "    </tr>\n",
       "    <tr>\n",
       "      <td>2</td>\n",
       "      <td>From: I3150101@dbstu1.rz.tu-bs.de (Benedikt Ro...</td>\n",
       "      <td>alt.atheism</td>\n",
       "    </tr>\n",
       "    <tr>\n",
       "      <td>3</td>\n",
       "      <td>From: mathew &lt;mathew@mantis.co.uk&gt;\\nSubject: R...</td>\n",
       "      <td>alt.atheism</td>\n",
       "    </tr>\n",
       "    <tr>\n",
       "      <td>4</td>\n",
       "      <td>From: strom@Watson.Ibm.Com (Rob Strom)\\nSubjec...</td>\n",
       "      <td>alt.atheism</td>\n",
       "    </tr>\n",
       "  </tbody>\n",
       "</table>\n",
       "</div>"
      ],
      "text/plain": [
       "                                                   0            1\n",
       "0  From: mathew <mathew@mantis.co.uk>\\nSubject: A...  alt.atheism\n",
       "1  From: mathew <mathew@mantis.co.uk>\\nSubject: A...  alt.atheism\n",
       "2  From: I3150101@dbstu1.rz.tu-bs.de (Benedikt Ro...  alt.atheism\n",
       "3  From: mathew <mathew@mantis.co.uk>\\nSubject: R...  alt.atheism\n",
       "4  From: strom@Watson.Ibm.Com (Rob Strom)\\nSubjec...  alt.atheism"
      ]
     },
     "execution_count": 2,
     "metadata": {},
     "output_type": "execute_result"
    }
   ],
   "source": [
    "df.head()"
   ]
  },
  {
   "cell_type": "code",
   "execution_count": 3,
   "metadata": {},
   "outputs": [
    {
     "data": {
      "text/plain": [
       "array(['alt.atheism', 'comp.graphics', 'comp.os.ms-windows.misc',\n",
       "       'comp.sys.ibm.pc.hardware', 'comp.sys.mac.hardware',\n",
       "       'comp.windows.x', 'misc.forsale', 'rec.autos', 'rec.motorcycles',\n",
       "       'rec.sport.baseball', 'rec.sport.hockey', 'sci.crypt',\n",
       "       'sci.electronics', 'sci.med', 'sci.space',\n",
       "       'soc.religion.christian', 'talk.politics.guns',\n",
       "       'talk.politics.mideast', 'talk.politics.misc',\n",
       "       'talk.religion.misc'], dtype=object)"
      ]
     },
     "execution_count": 3,
     "metadata": {},
     "output_type": "execute_result"
    }
   ],
   "source": [
    "df[1].unique()"
   ]
  },
  {
   "cell_type": "markdown",
   "metadata": {
    "colab_type": "text",
    "id": "2mK4TJOFYv0h"
   },
   "source": [
    "## Assignment:"
   ]
  },
  {
   "cell_type": "markdown",
   "metadata": {
    "colab_type": "text",
    "id": "VlqYFVI3Yv0k"
   },
   "source": [
    "#### sample document\n",
    "<pre>\n",
    "<font color='blue'>\n",
    "Subject: A word of advice\n",
    "From: jcopelan@nyx.cs.du.edu (The One and Only)\n",
    "\n",
    "In article < 65882@mimsy.umd.edu > mangoe@cs.umd.edu (Charley Wingate) writes:\n",
    ">\n",
    ">I've said 100 times that there is no \"alternative\" that should think you\n",
    ">might have caught on by now.  And there is no \"alternative\", but the point\n",
    ">is, \"rationality\" isn't an alternative either.  The problems of metaphysical\n",
    ">and religious knowledge are unsolvable-- or I should say, humans cannot\n",
    ">solve them.\n",
    "\n",
    "How does that saying go: Those who say it can't be done shouldn't interrupt\n",
    "those who are doing it.\n",
    "\n",
    "Jim\n",
    "--\n",
    "Have you washed your brain today?\n",
    "</font>\n",
    "</pre>"
   ]
  },
  {
   "cell_type": "code",
   "execution_count": 4,
   "metadata": {},
   "outputs": [],
   "source": [
    "import re\n",
    "preprocessed_emails=[]\n",
    "for i in range(len(df[0])):\n",
    "    doc_preprocessed_email=re.findall('@[\\w.-]+',df[0][i])\n",
    "    df[0][i]=re.sub('@[\\w.-]+',' ',df[0][i])\n",
    "    preprocessed_email=[]\n",
    "    for j in range(len(doc_preprocessed_email)):\n",
    "        doc_preprocessed_email[j]=doc_preprocessed_email[j].lstrip('@')\n",
    "        preprocessed_email.extend(doc_preprocessed_email[j].split('.'))\n",
    "    duplicate=[]\n",
    "    duplicate.extend(preprocessed_email)\n",
    "    for word in duplicate:\n",
    "        if len(word)<=2:\n",
    "            preprocessed_email.remove(word)\n",
    "        if word=='com'or word=='COM':\n",
    "            preprocessed_email.remove(word)\n",
    "    preprocessed_email=(' '.join(preprocessed_email))\n",
    "    preprocessed_emails.append(preprocessed_email)"
   ]
  },
  {
   "cell_type": "markdown",
   "metadata": {
    "colab_type": "text",
    "id": "KAR5HoR1Yv0m"
   },
   "source": [
    "### Preprocessing:\n",
    "<pre>\n",
    "useful links: <a href='http://www.pyregex.com/'>http://www.pyregex.com/</a>\n",
    "\n",
    "<font color='blue'><b>1.</b></font> Find all emails in the document and then get the text after the \"@\". and then split those texts by '.' \n",
    "after that remove the words whose length is less than or equal to 2 and also remove'com' word and then combine those words by space. \n",
    "In one doc, if we have 2 or more mails, get all.\n",
    "<b>Eg:[test@dm1.d.com, test2@dm2.dm3.com]-->[dm1.d.com, dm3.dm4.com]-->[dm1,d,com,dm2,dm3,com]-->[dm1,dm2,dm3]-->\"dm1 dm2 dm3\" </b> \n",
    "append all those into one list/array. ( This will give length of 18828 sentences i.e one list for each of the document). \n",
    "Some sample output was shown below. \n",
    "\n",
    "> In the above sample document there are emails [jcopelan@nyx.cs.du.edu, 65882@mimsy.umd.edu, mangoe@cs.umd.edu]\n",
    "\n",
    "preprocessing:\n",
    "[jcopelan@nyx.cs.du.edu, 65882@mimsy.umd.edu, mangoe@cs.umd.edu] ==> [nyx cs du edu mimsy umd edu cs umd edu] ==> \n",
    "[nyx edu mimsy umd edu umd edu]\n",
    "\n",
    "<font color='blue'><b>2.</b></font> Replace all the emails by space in the original text. \n",
    "</pre>"
   ]
  },
  {
   "cell_type": "code",
   "execution_count": 5,
   "metadata": {},
   "outputs": [
    {
     "data": {
      "text/plain": [
       "'From: strom  (Rob Strom)\\nSubject: Re: [soc.motss, et al.] \"Princeton axes matching funds for Boy Scouts\"\\n\\nIn article <N4HY.93Apr5120934 >, n4hy  (Bob McGwier) writes:\\n\\n|> [1] HOWEVER, I hate economic terrorism and political correctness\\n|> worse than I hate this policy.  \\n\\n\\n|> [2] A more effective approach is to stop donating\\n|> to ANY organizating that directly or indirectly supports gay rights issues\\n|> until they end the boycott on funding of scouts.  \\n\\nCan somebody reconcile the apparent contradiction between [1] and [2]?\\n\\n-- \\nRob Strom, strom , (914) 784-7641\\nIBM Research, 30 Saw Mill River Road, P.O. Box 704, Yorktown Heights, NY  10598\\n'"
      ]
     },
     "execution_count": 5,
     "metadata": {},
     "output_type": "execute_result"
    }
   ],
   "source": [
    "df[0][4]"
   ]
  },
  {
   "cell_type": "code",
   "execution_count": 6,
   "metadata": {},
   "outputs": [
    {
     "data": {
      "text/plain": [
       "[\"can't\"]"
      ]
     },
     "execution_count": 6,
     "metadata": {},
     "output_type": "execute_result"
    }
   ],
   "source": [
    "text=\"Jews can't hide from keith\"\n",
    "text=re.findall(\"\\w+'\\w+\",text)\n",
    "text"
   ]
  },
  {
   "cell_type": "code",
   "execution_count": null,
   "metadata": {},
   "outputs": [],
   "source": []
  },
  {
   "cell_type": "code",
   "execution_count": 16,
   "metadata": {},
   "outputs": [
    {
     "name": "stderr",
     "output_type": "stream",
     "text": [
      "\r",
      "  0%|                                                                                        | 0/18828 [00:00<?, ?it/s]"
     ]
    },
    {
     "name": "stdout",
     "output_type": "stream",
     "text": [
      "0 :  Alt.Atheism FAQ: Atheist Resources\n",
      "1 :  Alt.Atheism FAQ: Introduction to Atheism\n",
      "2 :   Gospel Dating\n",
      "3 :   university violating separation of churchstate\n",
      "4 :    Princeton axes matching funds for Boy Scouts\n",
      "5 :   A visit from the Jehovah is Witnesses\n",
      "6 :   Political Atheists\n",
      "7 :   An Anecdote about Islam\n",
      "8 :   Political Atheists\n",
      "9 :   Pompous ass\n",
      "10 :   Pompous ass\n",
      "11 :   Keith Schneider  Stealth Poster\n",
      "12 :   Keith Schneider  Stealth Poster\n",
      "13 :   Political Atheists\n"
     ]
    },
    {
     "name": "stderr",
     "output_type": "stream",
     "text": [
      "\r",
      "  0%|                                                                              | 14/18828 [00:00<02:14, 139.38it/s]"
     ]
    },
    {
     "name": "stdout",
     "output_type": "stream",
     "text": [
      "14 :   Political Atheists\n",
      "15 :   Political Atheists\n",
      "16 :   Don't more innocents die without the death penalty\n",
      "17 :   Ancient islamic rituals\n",
      "18 :   Political Atheists\n",
      "19 :   There must be a creator \n",
      "20 :   Americans and Evolution\n",
      "21 :   Speculations\n",
      "22 :   Political Atheists\n",
      "23 :   Political Atheists\n",
      "24 :   university violating separation of churchstate\n",
      "25 :   USAToday ad \n",
      "26 :   islamic authority over women\n",
      "27 :   Ancient islamic rituals\n",
      "28 :    Princeton axes matching funds for Boy Scouts\n",
      "29 :   Political Atheists\n"
     ]
    },
    {
     "name": "stderr",
     "output_type": "stream",
     "text": [
      "\r",
      "  0%|                                                                              | 30/18828 [00:00<02:10, 144.33it/s]"
     ]
    },
    {
     "name": "stdout",
     "output_type": "stream",
     "text": [
      "30 :   Political Atheists\n",
      "31 :   EnviroLeague\n",
      "32 :  Idle questions for fellow atheists\n",
      "33 :   Americans and Evolution\n",
      "34 :   Genocide is Caused by Atheism\n",
      "35 :   Dear Mr. Theist\n",
      "36 :   Political Atheists\n",
      "37 :   Radical Agnostic... NOT\n",
      "38 :  So what is Maddi\n",
      "39 :   The wrong and the right.\n",
      "40 :   Political Atheists\n",
      "41 :   Americans and Evolution\n",
      "42 :   Political Atheists\n",
      "43 :   Political Atheists\n",
      "44 :   Idle questions for fellow atheists\n"
     ]
    },
    {
     "name": "stderr",
     "output_type": "stream",
     "text": [
      "\r",
      "  0%|▏                                                                             | 45/18828 [00:00<02:09, 145.16it/s]"
     ]
    },
    {
     "name": "stdout",
     "output_type": "stream",
     "text": [
      "45 :   The Problem of Satan \n",
      "46 :    Princeton axes matching funds for Boy Scouts\n",
      "47 :   Gospel Dating\n",
      "48 :  A word of advice\n",
      "49 :   Concerning God is Morality \n",
      "50 :   islamic authority over women\n",
      "51 :   islamic authority over women\n",
      "52 :  Omnipotence \n",
      "53 :   Islamic marriage\n",
      "54 :   Political Atheists\n",
      "55 :   Political Atheists\n",
      "56 :   Political Atheists\n",
      "57 :   Pompous ass\n",
      "58 :   Pompous ass\n",
      "59 :   Concerning God is Morality \n"
     ]
    },
    {
     "name": "stderr",
     "output_type": "stream",
     "text": [
      "\r",
      "  0%|▏                                                                             | 60/18828 [00:00<02:11, 143.08it/s]"
     ]
    },
    {
     "name": "stdout",
     "output_type": "stream",
     "text": [
      "60 :   Jews can not hide from keith \n",
      "61 :   Jews can not hide from keith \n",
      "62 :   Yet more Rushdie \n",
      "63 :   An Anecdote about Islam\n",
      "64 :   Genocide is Caused by Atheism\n",
      "65 :    The list of Biblical contradictions\n",
      "66 :   A visit from the Jehovah is Witnesses\n",
      "67 :   Political Atheists\n",
      "68 :   Political Atheists\n",
      "69 :   Omnipotence \n",
      "70 :   A Little Too Satanic\n",
      "71 :   Ancient islamic rituals\n",
      "72 :   Americans and Evolution\n",
      "73 :   Jews can not hide from keith \n",
      "74 :   Omnipotence \n",
      "75 :   A visit from the Jehovah is Witnesses\n"
     ]
    },
    {
     "name": "stderr",
     "output_type": "stream",
     "text": [
      "\r",
      "  0%|▎                                                                             | 76/18828 [00:00<02:17, 136.49it/s]"
     ]
    },
    {
     "name": "stdout",
     "output_type": "stream",
     "text": [
      "76 :  Islam vs the Jehovah is Witnesses\n",
      "77 :   Had to share this\n",
      "78 :   Genocide is Caused by Atheism\n",
      "79 :   A visit from the Jehovah is Witnesses\n",
      "80 :   Gospel Dating\n",
      "81 :   Gospel Dating\n",
      "82 :   Americans and Evolution\n",
      "83 :   A visit from the Jehovah is Witnesses\n",
      "84 :   Concerning God is Morality \n",
      "85 :   Concerning God is Morality \n",
      "86 :   An Anecdote about Islam\n",
      "87 :   Concerning God is Morality \n",
      "88 :   Islam & Dress Code for women\n",
      "89 :   islamic authority over women\n",
      "90 :   Jews can not hide from keith \n",
      "91 :   Don't more innocents die without the death penalty\n",
      "92 :   Islam & Dress Code for women\n"
     ]
    },
    {
     "name": "stderr",
     "output_type": "stream",
     "text": [
      "\r",
      "  0%|▍                                                                             | 93/18828 [00:00<02:09, 144.39it/s]"
     ]
    },
    {
     "name": "stdout",
     "output_type": "stream",
     "text": [
      "93 :   There must be a creator \n",
      "94 :   Political Atheists\n",
      "95 :   A Little Too Satanic\n",
      "96 :   Islamic marriage\n",
      "97 :   Don't more innocents die without the death penalty\n",
      "98 :   A visit from the Jehovah is Witnesses\n",
      "99 :   A visit from the Jehovah is Witnesses\n",
      "100 :    Princeton axes matching funds for Boy Scouts\n",
      "101 :   A Little Too Satanic\n",
      "102 :   Americans and Evolution\n",
      "103 :   Alt.Atheism FAQ: Introduction to Atheism\n",
      "104 :   Theists posting\n",
      "105 :   Genocide is Caused by Atheism\n",
      "106 :   Genocide is Caused by Atheism\n",
      "107 :   Radical Agnostic... NOT\n"
     ]
    },
    {
     "name": "stderr",
     "output_type": "stream",
     "text": [
      "\r",
      "  1%|▍                                                                            | 108/18828 [00:00<02:08, 145.31it/s]"
     ]
    },
    {
     "name": "stdout",
     "output_type": "stream",
     "text": [
      "108 :   Is Keith as ignorant as he seems\n",
      "109 :   Keith Schneider  Stealth Poster\n",
      "110 :   Keith Schneider  Stealth Poster\n",
      "111 :   Political Atheists\n",
      "112 :   Political Atheists\n",
      "113 :   Political Atheists\n",
      "114 :   Pompous ass\n",
      "115 :   A visit from the Jehovah is Witnesses\n",
      "116 :   Political Atheists\n",
      "117 :   Political Atheists\n",
      "118 :   Political Atheists\n",
      "119 :   atheist\n",
      "120 :   Political Atheists\n",
      "121 :   An Anecdote about Islam\n"
     ]
    },
    {
     "name": "stderr",
     "output_type": "stream",
     "text": [
      "\r",
      "  1%|▍                                                                            | 122/18828 [00:00<02:19, 134.29it/s]"
     ]
    },
    {
     "name": "stdout",
     "output_type": "stream",
     "text": [
      "122 :  A fundamental contradiction \n",
      "123 :   atheist\n",
      "124 :   The Inimitable Rushdie ( An Anecdote about Islam\n",
      "125 :   An Anecdote about Islam\n",
      "126 :   Biblical Rape\n",
      "127 :    Princeton axes matching funds for Boy Scouts\n",
      "128 :   Americans and Evolution\n",
      "129 :   Is Morality Constant \n",
      "130 :   Political Atheists\n",
      "131 :   islamic authority over women\n",
      "132 :    Princeton axes matching funds for Boy Scouts\n",
      "133 :    Princeton axes matching funds for Boy Scouts\n",
      "134 :   Biblical Rape\n",
      "135 :   atheist\n",
      "136 :   Why is sex only allowed in marriage: Rationality \n",
      "137 :   Motto Mania\n"
     ]
    },
    {
     "name": "stderr",
     "output_type": "stream",
     "text": [
      "\r",
      "  1%|▌                                                                            | 138/18828 [00:00<02:12, 141.03it/s]"
     ]
    },
    {
     "name": "stdout",
     "output_type": "stream",
     "text": [
      "138 :   A visit from the Jehovah is Witnesses \n",
      "139 :  Benediktine Metaphysics\n",
      "140 :   Gospel Dating\n",
      "141 :  A Remarkable Admission\n",
      "142 :   Gospel Dating\n",
      "143 :   Yeah, Right\n",
      "144 :   Radical Agnostic... NOT\n",
      "145 :   Political Atheists\n",
      "146 :   Yeah, Right\n",
      "147 :   Yeah, Right\n",
      "148 :   Ancient islamic rituals\n",
      "149 :   Ancient islamic rituals\n",
      "150 :   Why is sex only allowed in marriage: Rationality \n",
      "151 :   Ancient islamic rituals\n",
      "152 :   Benediktine Metaphysics\n",
      "153 :   islamic authority over women\n",
      "154 :   A visit from the Jehovah is Witnesses \n"
     ]
    },
    {
     "name": "stderr",
     "output_type": "stream",
     "text": [
      "\r",
      "  1%|▋                                                                            | 155/18828 [00:01<02:08, 145.83it/s]"
     ]
    },
    {
     "name": "stdout",
     "output_type": "stream",
     "text": [
      "155 :  Evo. & Homosexuality \n",
      "156 :  Vonnegutatheism\n",
      "157 :   Yet more Rushdie \n",
      "158 :   Request for Support\n",
      "159 :   Bill Conner:\n",
      "160 :    Princeton axes matching funds for Boy Scouts\n",
      "161 :    Princeton axes matching funds for Boy Scouts\n",
      "162 :  Fluids vs Liquids\n",
      "163 :   Gospel Dating\n",
      "164 :   Is Morality Constant \n",
      "165 :   Gospel Dating\n",
      "166 :   Contradictions\n",
      "167 :  Ontology \n",
      "168 :   The Inimitable Rushdie\n",
      "169 :   A visit from the Jehovah is Witnesses\n"
     ]
    },
    {
     "name": "stderr",
     "output_type": "stream",
     "text": [
      "\r",
      "  1%|▋                                                                            | 170/18828 [00:01<02:09, 143.67it/s]"
     ]
    },
    {
     "name": "stdout",
     "output_type": "stream",
     "text": [
      "170 :   Ancient islamic rituals\n",
      "171 :   Yeah, Right\n",
      "172 :   Yet more Rushdie \n",
      "173 :   Gospel Dating\n",
      "174 :   And Another THing:\n",
      "175 :  Periodic Post of Charley Challenges, #3, with additions\n",
      "176 :   Political Atheists\n",
      "177 :  Request for Support\n",
      "178 :   Gospel Dating\n",
      "179 :   Americans and Evolution\n",
      "180 :   Second Law \n",
      "181 :   Gospel Dating\n",
      "182 :   Gospel Dating\n",
      "183 :   Not the Omni\n",
      "184 :   IF ONLY HE KNEW\n",
      "185 :   Allah Akbar and Praise the Lord.\n",
      "186 :   Dear Mr. Theist\n"
     ]
    },
    {
     "name": "stderr",
     "output_type": "stream",
     "text": [
      "\r",
      "  1%|▊                                                                            | 187/18828 [00:01<02:03, 150.63it/s]"
     ]
    },
    {
     "name": "stdout",
     "output_type": "stream",
     "text": [
      "187 :   Is Morality Constant \n",
      "188 :   Bill Conner:\n",
      "189 :   Islam & Dress Code for women\n",
      "190 :   Slavery \n",
      "191 :   Jews can not hide from keith \n",
      "192 :  Alt.Atheism FAQ: Frequently Asked Questions\n",
      "193 :  Alt.Atheism FAQ: Constructing a Logical Argument\n",
      "194 :  Alt.Atheism FAQ: Overview for New Readers\n",
      "195 :   Amusing atheists and agnostics\n",
      "196 :   So help you God in court  \n",
      "197 :   Nicknames\n",
      "198 :   Amusing atheists and agnostics\n",
      "199 :  Christian Morality is\n",
      "200 :   KORESH IS GOD\n",
      "201 :   YOU WILL ALL GO TO HELL\n",
      "202 :   Amusing atheists and agnostics\n"
     ]
    },
    {
     "name": "stderr",
     "output_type": "stream",
     "text": [
      "\r",
      "  1%|▊                                                                            | 203/18828 [00:01<02:09, 143.48it/s]"
     ]
    },
    {
     "name": "stdout",
     "output_type": "stream",
     "text": [
      "203 :   Is Morality Constant \n",
      "204 :   Yet more Rushdie \n",
      "205 :   about the bible quiz answers\n",
      "206 :   Amusing atheists and agnostics\n",
      "207 :   some thoughts.\n",
      "208 :   THE POPE IS JEWISH\n",
      "209 :   free moral agency and Jeff Clark\n",
      "210 :   THE POPE IS JEWISH\n",
      "211 :   A silly question on xtianity\n",
      "212 :   I don't beleive in you either.\n",
      "213 :   Genocide is Caused by Theism : Evidence\n",
      "214 :   free moral agency and Jeff Clark\n",
      "215 :   Political Atheists\n",
      "216 :   New Member\n",
      "217 :   free moral agency\n",
      "218 :   some thoughts.\n"
     ]
    },
    {
     "name": "stderr",
     "output_type": "stream",
     "text": [
      "\r",
      "  1%|▉                                                                            | 219/18828 [00:01<02:07, 145.78it/s]"
     ]
    },
    {
     "name": "stdout",
     "output_type": "stream",
     "text": [
      "219 :   some thoughts.\n",
      "220 :   Genocide is Caused by Atheism\n",
      "221 :   some thoughts.\n",
      "222 :   Slavery \n",
      "223 :   Slavery \n",
      "224 :   New Member\n",
      "225 :   Genocide is Caused by Atheism\n",
      "226 :   some thoughts.\n",
      "227 :   Genocide is Caused by Atheism\n",
      "228 :   some thoughts.\n",
      "229 :   islamic genocide\n",
      "230 :   I don't beleive in you either.\n",
      "231 :   Genocide is Caused by Atheism\n",
      "232 :  islamic authority  over women\n",
      "233 :   Feminism and Islam, again\n"
     ]
    },
    {
     "name": "stderr",
     "output_type": "stream",
     "text": [
      "\r",
      "  1%|▉                                                                            | 234/18828 [00:01<02:08, 145.10it/s]"
     ]
    },
    {
     "name": "stdout",
     "output_type": "stream",
     "text": [
      "234 :   After 2000 years, can we say that Christian Morality is\n",
      "235 :   The Inimitable Rushdie ( An Anecdote about Islam\n",
      "236 :   Yet more Rushdie \n",
      "237 :   Yet more Rushdie \n",
      "238 :   Genocide is Caused by Atheism\n",
      "239 :   The nonexistance of Atheists\n",
      "240 :   some thoughts.\n",
      "241 :   Genocide is Caused by Atheism\n",
      "242 :   The Inimitable Rushdie\n",
      "243 :   A Little Too Satanic\n",
      "244 :   note to Bobby M.\n",
      "245 :   The Inimitable Rushdie ( An Anecdote about Islam\n",
      "246 :   Slavery \n",
      "247 :   Political Atheists\n",
      "248 :   After 2000 years, can we say that Christian Morality is\n"
     ]
    },
    {
     "name": "stderr",
     "output_type": "stream",
     "text": [
      "\r",
      "  1%|█                                                                            | 249/18828 [00:01<02:11, 141.60it/s]"
     ]
    },
    {
     "name": "stdout",
     "output_type": "stream",
     "text": [
      "249 :   Where are they now\n",
      "250 :   some thoughts.\n",
      "251 :   thoughts on christians\n",
      "252 :   Where are they now\n",
      "253 :   Political Atheists\n",
      "254 :   Political Atheists\n",
      "255 :   Political Atheists\n",
      "256 :   Political Atheists\n",
      "257 :   Political Atheists\n",
      "258 :   Political Atheists\n",
      "259 :   After 2000 years, can we say that Christian Morality is\n",
      "260 :   After 2000 years, can we say that Christian Morality is\n",
      "261 :   After 2000 years, can we say that Christian Morality is\n",
      "262 :   After 2000 years, can we say that Christian Morality is\n",
      "263 :   islamic genocide\n"
     ]
    },
    {
     "name": "stderr",
     "output_type": "stream",
     "text": [
      "\r",
      "  1%|█                                                                            | 264/18828 [00:01<02:19, 133.07it/s]"
     ]
    },
    {
     "name": "stdout",
     "output_type": "stream",
     "text": [
      "264 :   Death Penalty \n",
      "265 :   thoughts on christians\n",
      "266 :   Bible Quiz\n",
      "267 :  Why the bible\n",
      "268 :   Political Atheists\n",
      "269 :   New Member\n",
      "270 :   The Inimitable Rushdie\n",
      "271 :   Yet more Rushdie \n",
      "272 :   Yet more Rushdie \n",
      "273 :   Yet more Rushdie \n",
      "274 :   Yet more Rushdie \n",
      "275 :   The Inimitable Rushdie\n",
      "276 :   free moral agency\n",
      "277 :   note to Bobby M.\n",
      "278 :   Morality \n",
      "279 :   Morality \n"
     ]
    },
    {
     "name": "stderr",
     "output_type": "stream",
     "text": [
      "\r",
      "  1%|█▏                                                                           | 280/18828 [00:01<02:12, 139.97it/s]"
     ]
    },
    {
     "name": "stdout",
     "output_type": "stream",
     "text": [
      "280 :   Morality \n",
      "281 :    \n",
      "282 :   The Inimitable Rushdie\n",
      "283 :   Free Moral Agency and Kent S.\n",
      "284 :   free moral agency and Jeff Clark\n",
      "285 :   Pompous ass\n",
      "286 :   Pompous ass\n",
      "287 :   Objective morality \n",
      "288 :   who are we to judge, Bobby\n",
      "289 :   some thoughts.\n",
      "290 :   who are we to judge, Bobby\n",
      "291 :   Death Penalty \n",
      "292 :   some thoughts.\n",
      "293 :   Political Atheists\n",
      "294 :   some thoughts.\n",
      "295 :   Yet more Rushdie \n",
      "296 :   Morality \n",
      "297 :   Moraltiy \n",
      "298 :   Cruel \n",
      "299 :   Political Atheists\n"
     ]
    },
    {
     "name": "stderr",
     "output_type": "stream",
     "text": [
      "\r",
      "  2%|█▏                                                                           | 300/18828 [00:02<02:02, 151.84it/s]"
     ]
    },
    {
     "name": "stdout",
     "output_type": "stream",
     "text": [
      "300 :   Morality \n",
      "301 :   Pompous ass\n",
      "302 :   thoughts on christians\n",
      "303 :  It is all Mary is fault\n",
      "304 :   Rawlins debunks creationism\n",
      "305 :   some thoughts.\n",
      "306 :   After 2000 years, can we say that Christian Morality is\n",
      "307 :   islamic authority over women\n",
      "308 :   Objective morality \n",
      "309 :   Pompous ass\n",
      "310 :   Moraltiy \n",
      "311 :   The Inimitable Rushdie\n",
      "312 :   The Inimitable Rushdie\n",
      "313 :   Slavery \n",
      "314 :   Pompous ass\n",
      "315 :   Pompous ass\n",
      "316 :   Morality \n",
      "317 :   Objective morality \n",
      "318 :   New Member\n"
     ]
    },
    {
     "name": "stderr",
     "output_type": "stream",
     "text": [
      "\r",
      "  2%|█▎                                                                           | 319/18828 [00:02<01:54, 161.21it/s]"
     ]
    },
    {
     "name": "stdout",
     "output_type": "stream",
     "text": [
      "319 :   Political Atheists\n",
      "320 :   Pompous ass\n",
      "321 :   Objective morality \n",
      "322 :   Slavery \n",
      "323 :   Morality \n",
      "324 :   After 2000 years, can we say that Christian Morality is\n",
      "325 :   Yet more Rushdie \n",
      "326 :   Morality \n",
      "327 :   Cruel \n",
      "328 :   Pompous ass\n",
      "329 :   thoughts on christians\n",
      "330 :   Political Atheists\n",
      "331 :   Objective morality \n",
      "332 :  Islam is caused by believing \n",
      "333 :   The Inimitable Rushdie ( An Anecdote about Islam\n",
      "334 :   The Inimitable Rushdie ( An Anecdote about Islam\n",
      "335 :   A silly question on xtianity\n"
     ]
    },
    {
     "name": "stderr",
     "output_type": "stream",
     "text": [
      "\r",
      "  2%|█▎                                                                           | 336/18828 [00:02<01:54, 161.31it/s]"
     ]
    },
    {
     "name": "stdout",
     "output_type": "stream",
     "text": [
      "336 :   The nonexistance of Atheists\n",
      "337 :  Keith IS a relativist\n",
      "338 :   some thoughts.\n",
      "339 :   Objective Values 'v' Scientific Accuracy \n",
      "340 :  Victims of various 'Good Fight is\n",
      "341 :   Keith Schneider  Stealth Poster\n",
      "342 :   It is all Mary is fault\n",
      "343 :   Amusing atheists and agnostics\n",
      "344 :   Origins of the bible.\n",
      "345 :   Yet more Rushdie \n",
      "346 :   Christian Morality is\n",
      "347 :   After 2000 years, can we say that Christian Morality is\n",
      "348 :   Amusing atheists and agnostics\n",
      "349 :   The Inimitable Rushdie\n",
      "350 :   Amusing atheists and agnostics\n",
      "351 :   Islam And Scientific Predictions \n",
      "352 :   Islam And Scientific Predictions \n",
      "353 :  Southern Baptist Convention & Freemasonry\n",
      "354 :   Societally acceptable behavior\n"
     ]
    },
    {
     "name": "stderr",
     "output_type": "stream",
     "text": [
      "\r",
      "  2%|█▍                                                                           | 355/18828 [00:02<01:50, 167.68it/s]"
     ]
    },
    {
     "name": "stdout",
     "output_type": "stream",
     "text": [
      "355 :   Origins of the bible.\n",
      "356 :   Amusing atheists and agnostics\n",
      "357 :   Requests\n",
      "358 :   thoughts on christians\n",
      "359 :   What is a shit shoveler to do \n",
      "360 :   Christian Morality is\n",
      "361 :   Amusing atheists and agnostics\n",
      "362 :  Studies on Book of Mormon\n",
      "363 :   Gulf War and Peaceniks\n",
      "364 :   Amusing atheists and agnostics\n",
      "365 :  He has risen\n",
      "366 :   Idle questions for fellow atheists\n",
      "367 :   Societally acceptable behavior\n",
      "368 :   islamic genocide\n",
      "369 :   Amusing atheists and agnostics\n",
      "370 :   Christian Morality is\n",
      "371 :   Death Penalty  Gulf War\n",
      "372 :   Theism and Fanatism \n"
     ]
    },
    {
     "name": "stderr",
     "output_type": "stream",
     "text": [
      "\r",
      "  2%|█▌                                                                           | 373/18828 [00:02<02:05, 147.37it/s]"
     ]
    },
    {
     "name": "stdout",
     "output_type": "stream",
     "text": [
      "373 :   YOU WILL ALL GO TO HELL\n",
      "374 :   YOU WILL ALL GO TO HELL\n",
      "375 :   free moral agency\n",
      "376 :   What is a shit shoveler to do \n",
      "377 :   Genocide is Caused by Theism : Evidence\n",
      "378 :   islamic genocide\n",
      "379 :   Where are they now\n",
      "380 :   Cruel \n",
      "381 :   Political Atheists\n",
      "382 :   some thoughts.\n",
      "383 :   Who Says the Apostles Were Tortured\n",
      "384 :   Political Atheists\n",
      "385 :   Where are they now\n",
      "386 :   Societally acceptable behavior\n",
      "387 :   free moral agency\n",
      "388 :   Societally acceptable behavior\n",
      "389 :   Christian Morality is\n",
      "390 :   Gulf War and Peaceniks\n"
     ]
    },
    {
     "name": "stderr",
     "output_type": "stream",
     "text": [
      "\r",
      "  2%|█▌                                                                           | 391/18828 [00:02<01:58, 155.65it/s]"
     ]
    },
    {
     "name": "stdout",
     "output_type": "stream",
     "text": [
      "391 :   Christian Morality is\n",
      "392 :   Societal basis for morality\n",
      "393 :   Nicknames\n",
      "394 :   free moral agency\n",
      "395 :   Death Penalty  Gulf War \n",
      "396 :   Is Morality Constant \n",
      "397 :   satanic verses\n",
      "398 :   Who Says the Apostles Were Tortured\n",
      "399 :   Who has read Rushdie is _The Satanic Verses_\n",
      "400 :   Is Morality Constant \n",
      "401 :   Origins of the bible.\n",
      "402 :   Amusing atheists and agnostics\n",
      "403 :   Christian Morality is\n",
      "404 :   Gulf War  Selling Arms\n",
      "405 :   Amusing atheists and agnostics\n",
      "406 :   Studies on Book of Mormon\n",
      "407 :   Amusing atheists and agnostics\n"
     ]
    },
    {
     "name": "stderr",
     "output_type": "stream",
     "text": [
      "\r",
      "  2%|█▋                                                                           | 408/18828 [00:02<02:04, 147.77it/s]"
     ]
    },
    {
     "name": "stdout",
     "output_type": "stream",
     "text": [
      "408 :   Where are they now\n",
      "409 :  STRONG & weak Atheism\n",
      "410 :   Faith and Dogma\n",
      "411 :   Yet more Rushdie \n",
      "412 :   Yet more Rushdie \n",
      "413 :   Who Says the Apostles Were Tortured\n",
      "414 :   Yet more Rushdie \n",
      "415 :   Islam And Scientific Predictions \n",
      "416 :   Societally acceptable behavior\n",
      "417 :   Gulf War \n",
      "418 :   Amusing atheists and anarchists\n",
      "419 :   Who has read Rushdie is _The Satanic Ve\n",
      "420 :   After 2000 years, can we say that Christian Morality is\n",
      "421 :   He has risen\n",
      "422 :  College atheists\n",
      "423 :   Amusing atheists and agnostics\n",
      "424 :   What is a shit shoveler to do \n"
     ]
    },
    {
     "name": "stderr",
     "output_type": "stream",
     "text": [
      "\r",
      "  2%|█▋                                                                           | 425/18828 [00:02<01:59, 153.53it/s]"
     ]
    },
    {
     "name": "stdout",
     "output_type": "stream",
     "text": [
      "425 :   Amusing atheists and agnostics\n",
      "426 :   Death Penalty (was  Political Athei\n",
      "427 :   Amusing atheists and agnostics\n",
      "428 :   Societally acceptable behavior\n",
      "429 :   You will all go to hell.\n",
      "430 :   So help you God in court\n",
      "431 :   some thoughts.\n",
      "432 :   Who Says the Apostles Were Tortured\n",
      "433 :   some thoughts.\n",
      "434 :   some thoughts.\n",
      "435 :   thoughts on christians\n",
      "436 :   Victims of various 'Good Fight is\n",
      "437 :   After 2000 years, can we say that Christian Morality is\n",
      "438 :   KORESH IS GOD\n",
      "439 :   Where are they now\n",
      "440 :   After 2000 years, can we say that Christian Morality is\n",
      "441 :   The Inimitable Rushdie\n",
      "442 :   After 2000 years, can we say that Christian Morality is\n",
      "443 :   KORESH IS GOD\n",
      "444 :   THE POPE IS JEWISH\n"
     ]
    },
    {
     "name": "stderr",
     "output_type": "stream",
     "text": [
      "\r",
      "  2%|█▊                                                                           | 445/18828 [00:02<01:52, 163.82it/s]"
     ]
    },
    {
     "name": "stdout",
     "output_type": "stream",
     "text": [
      "445 :   Bible Quiz\n",
      "446 :   YOU WILL ALL GO TO HELL\n",
      "447 :   Death Penalty  Gulf War \n",
      "448 :   Societally acceptable behavior\n",
      "449 :   Societally acceptable behavior\n",
      "450 :   Societal basis for morality\n",
      "451 :   YOU WILL ALL GO TO HELL\n",
      "452 :   free moral agency\n",
      "453 :  TEST: IGNORE\n",
      "454 :   Amusing atheists and anarchists\n",
      "455 :   THE POPE IS JEWISH\n",
      "456 :   Faith and Dogma\n",
      "457 :  Church o' Satan \n",
      "458 :   Who has read Rushdie is _The Satanic Verses_\n",
      "459 :   islamic genocide\n",
      "460 :   The Inimitable Rushdie\n",
      "461 :   Who has read Rushdie is _The Satanic Verses_\n"
     ]
    },
    {
     "name": "stderr",
     "output_type": "stream",
     "text": [
      "\r",
      "  2%|█▉                                                                           | 462/18828 [00:03<01:56, 157.01it/s]"
     ]
    },
    {
     "name": "stdout",
     "output_type": "stream",
     "text": [
      "462 :   The Universe and Black Holes, was  2000 years.....\n",
      "463 :   Yet more Rushdie \n",
      "464 :   Yet more Rushdie \n",
      "465 :   Cruel \n",
      "466 :   Cruel \n",
      "467 :   Political Atheists\n",
      "468 :   Political Atheists\n",
      "469 :   A Little Too Satanic\n",
      "470 :   Amusing atheists and agnostics\n",
      "471 :   Faith and Dogma\n",
      "472 :   Christian Morality is\n",
      "473 :   YOU WILL ALL GO TO HELL\n",
      "474 :   Genocide is Caused by Atheism\n",
      "475 :   Genocide is Caused by Atheism\n",
      "476 :   Genocide is Caused by Atheism\n",
      "477 :   Faith and Dogma\n",
      "478 :   Faith and Dogma\n",
      "479 :   Faith and Dogma\n",
      "480 :   islamic authority over women\n",
      "481 :   islamic authority over women\n",
      "482 :   some thoughts.\n"
     ]
    },
    {
     "name": "stderr",
     "output_type": "stream",
     "text": [
      "\r",
      "  3%|█▉                                                                           | 483/18828 [00:03<01:49, 167.84it/s]"
     ]
    },
    {
     "name": "stdout",
     "output_type": "stream",
     "text": [
      "483 :   some thoughts.\n",
      "484 :   thoughts on christians\n",
      "485 :   thoughts on christians\n",
      "486 :   Nicknames\n",
      "487 :   islamic authority over women\n",
      "488 :   Death Penalty \n",
      "489 :   Americans and Evolution\n",
      "490 :   Amusing atheists and agnostics\n",
      "491 :   thoughts on christians\n",
      "492 :   Who has read Rushdie is _The Satanic Verses_\n",
      "493 :  Age of Reason Was: Who has read Rushdie is\n",
      "494 :   Death Penalty (was  Political Athei\n",
      "495 :   some thoughts.\n",
      "496 :   thoughts on christians\n",
      "497 :   Cruel \n",
      "498 :   Studies on Book of Mormon\n",
      "499 :   Christian Morality is\n",
      "500 :   Requests\n"
     ]
    },
    {
     "name": "stderr",
     "output_type": "stream",
     "text": [
      "\r",
      "  3%|██                                                                           | 501/18828 [00:03<01:53, 160.81it/s]"
     ]
    },
    {
     "name": "stdout",
     "output_type": "stream",
     "text": [
      "501 :   Studies on Book of Mormon\n",
      "502 :  Logic of Jesus\n",
      "503 :   islamic authority over women\n",
      "504 :   So help you God in court\n",
      "505 :   Societal basis for morality\n",
      "506 :   Genocide is Caused by Atheism\n",
      "507 :   free moral agency\n",
      "508 :   Yet more Rushdie \n",
      "509 :   After 2000 years, can we say that Christian Morality is\n",
      "510 :   islamic authority over women\n",
      "511 :   some thoughts.\n",
      "512 :   Christian Morality is\n",
      "513 :   thoughts on christians\n",
      "514 :   islamic authority over women\n",
      "515 :   Death Penalty \n",
      "516 :   Suggestion for resources FAQ\n",
      "517 :   Amusing atheists and agnostics\n",
      "518 :   Genocide is Caused by Atheism\n",
      "519 :   islamic genocide\n",
      "520 :   Objective Values 'v' Scientific Accuracy \n"
     ]
    },
    {
     "name": "stderr",
     "output_type": "stream",
     "text": [
      "\r",
      "  3%|██▏                                                                          | 521/18828 [00:03<01:47, 170.24it/s]"
     ]
    },
    {
     "name": "stdout",
     "output_type": "stream",
     "text": [
      "521 :   Islam And Scientific Predictions \n",
      "522 :   After 2000 years, can we say that Christian Morality is\n",
      "523 :   Yet more Rushdie \n",
      "524 :   Death Penalty  Gulf War \n",
      "525 :   Gulf War \n",
      "526 :   Gulf War and Peaceniks\n",
      "527 :   Christian Morality is\n",
      "528 :   Genocide is Caused by Atheism\n",
      "529 :   Gulf War  Selling Arms\n",
      "530 :   Yet more Rushdie \n",
      "531 :   Yet more Rushdie \n",
      "532 :   Consciousness part II  Kev Strikes Back\n",
      "533 :   Consciousness part II  Kev Strikes Back\n",
      "534 :   Consciousness part II  Kev Strikes Back\n",
      "535 :   Christian Morality is\n",
      "536 :   Cults Vs. Religions\n",
      "537 :   Gulf War and Peaceniks\n",
      "538 :   Death Penalty  Gulf War \n"
     ]
    },
    {
     "name": "stderr",
     "output_type": "stream",
     "text": [
      "\r",
      "  3%|██▏                                                                          | 539/18828 [00:03<01:54, 160.16it/s]"
     ]
    },
    {
     "name": "stdout",
     "output_type": "stream",
     "text": [
      "539 :   DAVID CORESH IS GOD\n",
      "540 :   It is all Mary is fault\n",
      "541 :    Islam And Scientific Predictions (was\n",
      "542 :   Yet more Rushdie \n",
      "543 :   The Inimitable Rushdie ( An Anecdote about Islam\n",
      "544 :   Jewish Settlers Demolish a Mosque in Gaza\n",
      "545 :  Nostalgia\n",
      "546 :   some thoughts.\n",
      "547 :   Bible Quiz\n",
      "548 :    Islam And Scientific Predictions (was\n",
      "549 :  Bible contradictions\n",
      "550 :   After 2000 years, can we say that Christian Morality is\n",
      "551 :   A silly question on xtianity\n",
      "552 :   Islam And Scientific Predictions (was\n",
      "553 :   The Bible and Abortion\n",
      "554 :  YOU WILL ALL GO TO HELL\n",
      "555 :   Yet more Rushdie \n",
      "556 :   note to Bobby M., again\n",
      "557 :   ISLAM: a clearer view\n",
      "558 :  Cannanite genocide in the Bible\n"
     ]
    },
    {
     "name": "stderr",
     "output_type": "stream",
     "text": [
      "\r",
      "  3%|██▎                                                                          | 559/18828 [00:03<01:47, 170.19it/s]"
     ]
    },
    {
     "name": "stdout",
     "output_type": "stream",
     "text": [
      "559 :  getting to the point\n",
      "560 :   Smullyanism for the day.....\n",
      "561 :   Christian Morality is\n",
      "562 :   Christian Morality is\n",
      "563 :  From soc.religion.christian\n",
      "564 :   College atheists\n",
      "565 :  some thoughts on Christian books...\n",
      "566 :   What it means to be human \n",
      "567 :   Christian Morality is\n",
      "568 :  Another request for Darwin Fish\n",
      "569 :   Another request for Darwin Fish\n",
      "570 :   FAQ sheet\n",
      "571 :   Gulf War \n",
      "572 :   Death Penalty  Gulf War \n",
      "573 :   Death Penalty  Gulf War \n",
      "574 :   Death Penalty  Gulf War \n",
      "575 :   Gulf War  Selling Arms\n",
      "576 :   free moral agency\n"
     ]
    },
    {
     "name": "stderr",
     "output_type": "stream",
     "text": [
      "\r",
      "  3%|██▎                                                                          | 577/18828 [00:03<01:52, 161.52it/s]"
     ]
    },
    {
     "name": "stdout",
     "output_type": "stream",
     "text": [
      "577 :  Discordian & SubGenius books, addresses etc.\n",
      "578 :   free moral agency\n",
      "579 :  Atheism survey\n",
      "580 :   Americans and Evolution, now with free Ockham is Razor inside\n",
      "581 :   some thoughts.\n",
      "582 :   The Inimitable Rushdie ( An Anecdote about Islam\n",
      "583 :   The Inimitable Rushdie ( An Anecdote about Islam\n",
      "584 :   Objective morality \n",
      "585 :   Free Moral Agency and Kent S.\n",
      "586 :   free moral agency\n",
      "587 :   Religion As Cause  \n",
      "588 :   Yet more Rushdie \n",
      "589 :   free moral agency\n",
      "590 :   Societally acceptable behavior\n",
      "591 :   Societal basis for morality\n",
      "592 :   Faith and Dogma\n",
      "593 :   Yet more Rushdie \n",
      "594 :   After 2000 years, can we say that Christian Morality is\n",
      "595 :   Amusing atheists and agnostics\n",
      "596 :   Theism and Fanatism \n"
     ]
    },
    {
     "name": "stderr",
     "output_type": "stream",
     "text": [
      "\r",
      "  3%|██▍                                                                          | 597/18828 [00:03<01:47, 169.62it/s]"
     ]
    },
    {
     "name": "stdout",
     "output_type": "stream",
     "text": [
      "597 :   islamic authority over women\n",
      "598 :   Death Penalty  Gulf War \n",
      "599 :   Gulf War  Selling Arms\n",
      "600 :   Gulf War \n",
      "601 :   Gulf War and Peaceniks\n",
      "602 :   STRONG & weak Atheism\n",
      "603 :   Who has read Rushdie is _The Satanic Verses_\n",
      "604 :   Yet more Rushdie \n",
      "605 :   Yet more Rushdie \n",
      "606 :   After 2000 years, can we say that Christian Morality is\n",
      "607 :   Studies on Book of Mormon\n",
      "608 :  Science and theories\n",
      "609 :   Age of Reason Was: Who has read Rushdie is\n",
      "610 :   Science and theories\n",
      "611 :   Theism and Fanatism \n",
      "612 :   After 2000 years, can we say that Christian Morality is\n",
      "613 :   free moral agency\n",
      "614 :   Room for Metaphor\n"
     ]
    },
    {
     "name": "stderr",
     "output_type": "stream",
     "text": [
      "\r",
      "  3%|██▌                                                                          | 615/18828 [00:03<01:52, 161.57it/s]"
     ]
    },
    {
     "name": "stdout",
     "output_type": "stream",
     "text": [
      "615 :   The Universe and Black Holes, was  2000 years.....\n",
      "616 :   Asimov stamp\n",
      "617 :   Amusing atheists and agnostics\n",
      "618 :   some thoughts.\n",
      "619 :   Death Penalty \n",
      "620 :   YOU WILL ALL GO TO HELL\n",
      "621 :   YOU WILL ALL GO TO HELL\n",
      "622 :   some thoughts.\n",
      "623 :   Christian Morality is\n",
      "624 :   Genocide is Caused by Theism : Evidence\n",
      "625 :   Gulf War and Peaceniks\n",
      "626 :   After 2000 years, can we say that Christian Morality is\n",
      "627 :   Asimov stamp\n",
      "628 :   Mottos to replace In doG we trust\n",
      "629 :   islamic genocide\n",
      "630 :   Asimov stamp\n",
      "631 :  More Best of A.A\n",
      "632 :   Are atoms real \n",
      "633 :   free moral agency\n",
      "634 :   sci.skeptic.religion \n",
      "635 :   The Inimitable Rushdie\n"
     ]
    },
    {
     "name": "stderr",
     "output_type": "stream",
     "text": [
      "\r",
      "  3%|██▌                                                                          | 636/18828 [00:04<01:46, 171.55it/s]"
     ]
    },
    {
     "name": "stdout",
     "output_type": "stream",
     "text": [
      "636 :   Yet more Rushdie \n",
      "637 :   some thoughts.\n",
      "638 :  Islam and Sufism \n",
      "639 :  Nicknames\n",
      "640 :   Death Penalty  Gulf War\n",
      "641 :   Genocide is Caused by Atheism\n",
      "642 :   Atheism survey\n",
      "643 :   Theism and Fanatism \n",
      "644 :   Christian Morality is\n",
      "645 :   Alt.Atheism FAQ: Constructing a Logical Argument\n",
      "646 :  Religion As Cause  \n",
      "647 :  Books\n",
      "648 :   College atheists\n",
      "649 :   Yet more Rushdie \n",
      "650 :   Who has read Rushdie is _The Satanic Verses_\n",
      "651 :   The Inimitable Rushdie\n",
      "652 :   YOU WILL ALL GO TO HELL\n",
      "653 :   The Inimitable Rushdie\n"
     ]
    },
    {
     "name": "stderr",
     "output_type": "stream",
     "text": [
      "\r",
      "  3%|██▋                                                                          | 654/18828 [00:04<01:53, 160.07it/s]"
     ]
    },
    {
     "name": "stdout",
     "output_type": "stream",
     "text": [
      "654 :   An Anecdote about Islam\n",
      "655 :   free moral agency\n",
      "656 :   Yet more Rushdie \n",
      "657 :   KORESH IS GOD\n",
      "658 :   Islam And Scientific Predictions (was\n",
      "659 :   Keith IS a relativist\n",
      "660 :   Political Atheists\n",
      "661 :   Objective morality \n",
      "662 :   Yet more Rushdie \n",
      "663 :   Cruel \n",
      "664 :   Cruel \n",
      "665 :   The Inimitable Rushdie\n",
      "666 :   Genocide is Caused by Theism : Evidence\n",
      "667 :   Societal basis for morality\n",
      "668 :   High Times A Comin'\n",
      "669 :   High Times A Comin'\n",
      "670 :   Cruel \n",
      "671 :   Christian Morality is\n",
      "672 :   Who has read Rushdie is _The Satanic Verses_\n",
      "673 :   Burden of Proof\n"
     ]
    },
    {
     "name": "stderr",
     "output_type": "stream",
     "text": [
      "\r",
      "  4%|██▊                                                                          | 674/18828 [00:04<01:47, 169.22it/s]"
     ]
    },
    {
     "name": "stdout",
     "output_type": "stream",
     "text": [
      "674 :   Rawlins debunks creationism\n",
      "675 :   Genocide is Caused by Theism : Evidence\n",
      "676 :   Political Atheists\n",
      "677 :   Bayesian Statistics, theism and atheism\n",
      "678 :   Asimov stamp\n",
      "679 :   Where are they now\n",
      "680 :   Age of Reason Was: Who has read Rushdie is\n",
      "681 :   STRONG & weak Atheism\n",
      "682 :  \u0010A PROBLEM WITH OMNIPOTENCE\n",
      "683 :  Atheism\n",
      "684 :   YOU WILL ALL GO TO HELL\n",
      "685 :   Requests\n",
      "686 :   A Little Too Satanic\n",
      "687 :   Societally acceptable behavior\n",
      "688 :   Why Rushdie is writings are unappreciated\n",
      "689 :   Yet more Rushdie \n",
      "690 :   Why\n",
      "691 :  Christianity & Logic \n"
     ]
    },
    {
     "name": "stderr",
     "output_type": "stream",
     "text": [
      "\r",
      "  4%|██▊                                                                          | 692/18828 [00:04<01:50, 164.37it/s]"
     ]
    },
    {
     "name": "stdout",
     "output_type": "stream",
     "text": [
      "692 :   some thoughts.\n",
      "693 :   some thoughts.\n",
      "694 :   27 fundamental beliefs of SDA\n",
      "695 :   Cults Vs. Religions\n",
      "696 :   YOU WILL ALL GO TO HELL\n",
      "697 :   Poisoning the well \n",
      "698 :   some thoughts.\n",
      "699 :   some thoughts.\n",
      "700 :   some thoughts.\n",
      "701 :   It is all Mary is fault\n",
      "702 :   thoughts on christians\n",
      "703 :   Room for Metaphor\n",
      "704 :   Moraltiy \n",
      "705 :   YOU WILL ALL GO TO HELL\n",
      "706 :   Islam And Scientific Predictions \n",
      "707 :   Cruel \n",
      "708 :  Alt.Atheism FAQ: Atheist Resources\n",
      "709 :  Alt.Atheism FAQ: Overview for New Readers\n",
      "710 :   The nonexistance of Atheists\n"
     ]
    },
    {
     "name": "stderr",
     "output_type": "stream",
     "text": [
      "\r",
      "  4%|██▉                                                                          | 711/18828 [00:04<01:46, 169.70it/s]"
     ]
    },
    {
     "name": "stdout",
     "output_type": "stream",
     "text": [
      "711 :   An Anecdote about Islam\n",
      "712 :   The Inimitable Rushdie\n",
      "713 :   A Little Too Satanic\n",
      "714 :   After 2000 years, can we say that Christian Morality is\n",
      "715 :   Genocide is Caused by Theism : Evidence\n",
      "716 :   thoughts on christians\n",
      "717 :   Death Penalty \n",
      "718 :   Americans and Evolution\n",
      "719 :   Christian Morality is\n",
      "720 :  HardSoft == StrongWeak.  KISS\n",
      "721 :   After 2000 years, can we say that Christian Morality is\n",
      "722 :   Islamic Banks (was  Slavery\n",
      "723 :  We don't need no stinking subjects\n",
      "724 :   After 2000 years, can we say that Christian Morality is\n",
      "725 :   Political Atheists\n",
      "726 :   After 2000 years, can we say that Christian Morality is\n",
      "727 :   Burden of Proof\n",
      "728 :   Cults Vs. Religions\n"
     ]
    },
    {
     "name": "stderr",
     "output_type": "stream",
     "text": [
      "\r",
      "  4%|██▉                                                                          | 729/18828 [00:04<01:46, 169.94it/s]"
     ]
    },
    {
     "name": "stdout",
     "output_type": "stream",
     "text": [
      "729 :   Gulf War and Peaceniks\n",
      "730 :   Are atoms real \n",
      "731 :   History & texts \n",
      "732 :   After 2000 years, can we say that Christian Morality is\n",
      "733 :   After 2000 years, can we say that Christian Morality is\n",
      "734 :   Yet more Rushdie \n",
      "735 :   Hoban \n",
      "736 :   Death Penalty \n",
      "737 :   Faith and Dogma\n",
      "738 :   Rawlins debunks creationism\n",
      "739 :   Rawlins debunks creationism\n",
      "740 :   Mottos to replace In doG we trust\n",
      "741 :   After 2000 years, can we say that Christian Morality is\n",
      "742 :   Death Penalty \n",
      "743 :   After 2000 years, can we say that Christian Morality is\n",
      "744 :   Yet more Rushdie \n",
      "745 :   The Inimitable Rushdie\n",
      "746 :   After 2000 years, can we say that Christian Morality is\n"
     ]
    },
    {
     "name": "stderr",
     "output_type": "stream",
     "text": [
      "\r",
      "  4%|███                                                                          | 747/18828 [00:04<01:50, 163.30it/s]"
     ]
    },
    {
     "name": "stdout",
     "output_type": "stream",
     "text": [
      "747 :   YOU WILL ALL GO TO HELL\n",
      "748 :   FAKE GOD, HOLY LIES\n",
      "749 :   free moral agency\n",
      "750 :   free moral agency\n",
      "751 :   free moral agency\n",
      "752 :   free moral agency\n",
      "753 :   free moral agency\n",
      "754 :   free moral agency\n",
      "755 :   Death Penalty  Gulf War \n",
      "756 :   The Qur'an and atheists \n",
      "757 :   free moral agency\n",
      "758 :   free moral agency\n",
      "759 :   free moral agency\n",
      "760 :   The Inimitable Rushdie ( An Anecdote about Islam\n",
      "761 :   Death Penalty \n",
      "762 :   Cruel\n",
      "763 :   Christian Morality is\n"
     ]
    },
    {
     "name": "stderr",
     "output_type": "stream",
     "text": [
      "\r",
      "  4%|███                                                                          | 764/18828 [00:04<01:56, 154.71it/s]"
     ]
    },
    {
     "name": "stdout",
     "output_type": "stream",
     "text": [
      "764 :   Mother files complaint over Boy Scouts\n",
      "765 :   free moral agency\n",
      "766 :   After 2000 years, can we say that Christian Morality is\n",
      "767 :   YOU WILL ALL GO TO HELL\n",
      "768 :   free moral agency\n",
      "769 :   Cruel\n",
      "770 :   Books\n",
      "771 :   Cults Vs. Religions\n",
      "772 :   Nicknames\n",
      "773 :   Asimov stamp\n",
      "774 :   free moral agency\n",
      "775 :   After 2000 years, can we say that Christian Morality is\n",
      "776 :   After 2000 years, can we say that Christian Morality is\n",
      "777 :   After 2000 years, can we say that Christian Morality is\n",
      "778 :   What is a shit shoveler to do \n",
      "779 :  FREEENERGY TECHNOLOGY\n"
     ]
    },
    {
     "name": "stderr",
     "output_type": "stream",
     "text": [
      "\r",
      "  4%|███▏                                                                         | 780/18828 [00:05<02:07, 141.48it/s]"
     ]
    },
    {
     "name": "stdout",
     "output_type": "stream",
     "text": [
      "780 :   Christian Morality is\n",
      "781 :   free moral agency\n",
      "782 :   FREEENERGY TECHNOLOGY\n",
      "783 :   The Qur'an and atheists \n",
      "784 :   Cults Vs. Religions\n",
      "785 :   Science and theories\n",
      "786 :   A Little Too Satanic\n",
      "787 :  Albert Sabin\n",
      "788 :  Albert Sabin\n",
      "789 :  After 2000 years, can we say that Christian Morality is\n",
      "790 :  some thoughts.\n",
      "791 :   So help you God in court\n",
      "792 :   Alleged Deathbed Conversions \n",
      "793 :   YOU WILL ALL GO TO HELL\n",
      "794 :   The Inimitable Rushdie ( An Anecdote about Islam\n",
      "795 :   Islam And Scientific Predictions \n",
      "796 :   Wholly Babble \n",
      "797 :   Yet more Rushdie \n",
      "798 :   Alleged Deathbed Conversions \n"
     ]
    },
    {
     "name": "stderr",
     "output_type": "stream",
     "text": [
      "\r",
      "  4%|███▎                                                                         | 799/18828 [00:05<01:58, 152.19it/s]"
     ]
    },
    {
     "name": "stdout",
     "output_type": "stream",
     "text": [
      "799 :  CALL FOR PRESENTATIONS: Navy SciVizVR Seminar\n",
      "800 :  graphical representation of vectorvalued functions\n",
      "801 :   DMORPH\n",
      "802 :    VOICE INPUT  vendor information needed\n",
      "803 :  Where can I find SIPP\n",
      "804 :   16 million vs 65 thousand colors\n",
      "805 :  Translating TTTDDD to DXF or Swiv3D.\n",
      "806 :  Help on RenderMan language wanted\n",
      "807 :   More gray levels out of the screen\n",
      "808 :   More gray levels out of the screen\n",
      "809 :   Rumours about 3DO \n",
      "810 :  Visuallib \n",
      "811 :  Graphics Library Package\n",
      "812 :   Rumours about 3DO \n",
      "813 :   Graphics Library Package\n",
      "814 :  WANTED: SIRD Alogorythmn\n",
      "815 :  Any graphics packages available for AIX \n",
      "816 :   BW hardcopy of colored window\n",
      "817 :   More gray levels out of the screen\n"
     ]
    },
    {
     "name": "stderr",
     "output_type": "stream",
     "text": [
      "\r",
      "  4%|███▎                                                                         | 818/18828 [00:05<01:52, 160.14it/s]"
     ]
    },
    {
     "name": "stdout",
     "output_type": "stream",
     "text": [
      "818 :  LOOKING for CTDS \n",
      "819 :   POV previewer\n",
      "820 :   Real Time Graphics\n",
      "821 :  BGI Drivers for SVGA\n",
      "822 :  RE: VESA on the Speedstar 24\n",
      "823 :  \n",
      "824 :  HELP WANTED FOR DMORF.......\n",
      "825 :  test....\n",
      "826 :   Rumours about 3DO \n",
      "827 :  Technical Help Sought\n",
      "828 :  Surface normal orientations\n",
      "829 :   Graphics Library Package\n",
      "830 :   Signature Image Database\n",
      "831 :   Surface normal orientations\n",
      "832 :   Genoa Blitz 24 hits 1600x1200x256 NI \n",
      "833 :   Surface normal orientations\n",
      "834 :   Surface normal orientations\n",
      "835 :   16 million vs 65 thousand colors\n"
     ]
    },
    {
     "name": "stderr",
     "output_type": "stream",
     "text": [
      "\r",
      "  4%|███▍                                                                         | 836/18828 [00:05<01:49, 164.72it/s]"
     ]
    },
    {
     "name": "stdout",
     "output_type": "stream",
     "text": [
      "836 :   Real Time Graphics\n",
      "837 :  IGES Viewer for DOSWindows\n",
      "838 :  computer graphics to vcr\n",
      "839 :  Stereoscopic imaging\n",
      "840 :   Fractals what good are they\n",
      "841 :  Complex  biomedical images..\n",
      "842 :  MPEG for MSDOS\n",
      "843 :  Help\n",
      "844 :   Help 256 colors display in C.\n",
      "845 :   Rumours about 3DO \n",
      "846 :   QuickTime movie available\n",
      "847 :  QCMSC code to viewsave images\n",
      "848 :  AutoCAD  TIFF Can it be done\n",
      "849 :  GammaLaw Correction\n",
      "850 :  MPEG for xwindows MONO needed.\n",
      "851 :   thining algorithm\n",
      "852 :   TIFF: philosophical significance of 42\n",
      "853 :   VGA 640x400 graphics mode\n"
     ]
    },
    {
     "name": "stderr",
     "output_type": "stream",
     "text": [
      "\r",
      "  5%|███▍                                                                         | 854/18828 [00:05<01:46, 168.13it/s]"
     ]
    },
    {
     "name": "stdout",
     "output_type": "stream",
     "text": [
      "854 :   Weitek P9000 \n",
      "855 :   Delaunay Triangulation\n",
      "856 :  Graphic Formats\n",
      "857 :   Nice gif code\n",
      "858 :   Rumours about 3DO \n",
      "859 :   forms for curses\n",
      "860 :   Trying to view POV files.....\n",
      "861 :  HOT NEW 3D Software\n",
      "862 :   HOT NEW 3D Software\n",
      "863 :   VGA 640x400 graphics mode\n",
      "864 :  TIN files & coutours\n",
      "865 :  Apr 20 Toronto Siggraph Event\n",
      "866 :   Delaunay Triangulation\n",
      "867 :  ANSIAIIM MS53 Standard Image File Format\n",
      "868 :   Trying to view POV files.....\n",
      "869 :   looking for circle algorithm faster than Bresenhams\n",
      "870 :  Email of Michael Abrash\n",
      "871 :  Fonts in POV\n"
     ]
    },
    {
     "name": "stderr",
     "output_type": "stream",
     "text": [
      "\r",
      "  5%|███▌                                                                         | 872/18828 [00:05<01:53, 158.15it/s]"
     ]
    },
    {
     "name": "stdout",
     "output_type": "stream",
     "text": [
      "872 :  Polygon Reduction for Marching Cubes\n",
      "873 :  dmpeg10.zip info: Another DOS MPEG decoderplayer posted\n",
      "874 :  Point within a polygon\n",
      "875 :  POV reboots PC after memory upgrade\n",
      "876 :  Good shareware paint andor animation software for SGI\n",
      "877 :  Processing of stereo images\n",
      "878 :   Weitek P9000 \n",
      "879 :  Sunos and 8bit ASCII graphics\n",
      "880 :   looking for circle algorithm faster than Bresenhams\n",
      "881 :  Geometry package\n",
      "882 :   Point within a polygon\n",
      "883 :   Distance between two Bezier curves\n",
      "884 :   Point within a polygon\n",
      "885 :   Point within a polygon\n",
      "886 :   Two pointing devices in one COMport\n",
      "887 :   Fractals what good are they\n",
      "888 :   BGI Drivers for SVGA\n",
      "889 :   TIFF: philosophical significance of 42\n",
      "890 :  Interleaf to CGM\n"
     ]
    },
    {
     "name": "stderr",
     "output_type": "stream",
     "text": [
      "\r",
      "  5%|███▋                                                                         | 891/18828 [00:05<01:48, 165.53it/s]"
     ]
    },
    {
     "name": "stdout",
     "output_type": "stream",
     "text": [
      "891 :   Hollywood Hits, Virtual Reality\n",
      "892 :   Point within a polygon\n",
      "893 :  Virtual Reality for X on the CHEAP\n",
      "894 :   Virtual Reality for X on the CHEAP\n",
      "895 :  PCX\n",
      "896 :  What is a good assembly VGA programming book\n",
      "897 :   Fractals what good are they\n",
      "898 :    VGA 640x400 graphics mode\n",
      "899 :  ReactionDiffusion techniques\n",
      "900 :  24 bit Graphics cards\n",
      "901 :   Fractal Generation of Clouds\n",
      "902 :  Please Recommend 3D Graphics Library For Mac.\n",
      "903 :   HOT NEW 3D Software\n",
      "904 :  Raytracers: which is best\n",
      "905 :  Shareware\n",
      "906 :   Please Recommend 3D Graphics Library For Mac.\n",
      "907 :  thinning algorithm\n"
     ]
    },
    {
     "name": "stderr",
     "output_type": "stream",
     "text": [
      "\r",
      "  5%|███▋                                                                         | 908/18828 [00:05<01:59, 149.35it/s]"
     ]
    },
    {
     "name": "stdout",
     "output_type": "stream",
     "text": [
      "908 :  Looking for AUTOCAD .DXF file parser\n",
      "909 :  Delaunay Triangulation\n",
      "910 :   cylinder and ray\n",
      "911 :   Crimson \n",
      "912 :  BOOK OF KELLS CORRECTION\n",
      "913 :  JOB\n",
      "914 :  Chosing optimal colors for colormap \n",
      "915 :   SIGGRAPH\n",
      "916 :  3d studio works changes\n",
      "917 :   Rumours about 3DO \n",
      "918 :   Please Recommend 3D Graphics Library For M\n",
      "919 :  About the various DXF format questions\n",
      "920 :   MPEG for xwindows MONO needed.\n",
      "921 :  Compiled version of VOGLlibrary for PC\n",
      "922 :   Virtual Reality for X on the CHEAP\n",
      "923 :  Micro World Data Bank II \n",
      "924 :  Looking for Dr. Bala R. Vatti is email address\n",
      "925 :  Round VS Elliptical DOT Screens\n",
      "926 :  SGI sales practices \n"
     ]
    },
    {
     "name": "stderr",
     "output_type": "stream",
     "text": [
      "\r",
      "  5%|███▊                                                                         | 927/18828 [00:05<01:52, 158.64it/s]"
     ]
    },
    {
     "name": "stdout",
     "output_type": "stream",
     "text": [
      "927 :   Please Recommend 3D Graphics Library For Mac.\n",
      "928 :   Fonts in POV\n",
      "929 :   VESA on the Speedstar 24\n",
      "930 :   HOT NEW 3D Software\n",
      "931 :   PCX\n",
      "932 :   Please Recommend 3D Graphics Library F\n",
      "933 :  Need help with Mitsubishi P78U image printer\n",
      "934 :  Need graph displayedit\n",
      "935 :   Rumours about 3DO \n",
      "936 :  XGA2 info\n",
      "937 :   TIFF: philosophical significance of 42\n",
      "938 :   SGI sales practices \n",
      "939 :  Rendering Software for Multiprocessor Computer S\n",
      "940 :  Wanted: map of the world type gifs\n",
      "941 :   Having trouble bump mapping a gif to a sphere\n",
      "942 :  Point of intersection of n lines\n",
      "943 :  Program Included: 2 Edge Detection Algorithms\n"
     ]
    },
    {
     "name": "stderr",
     "output_type": "stream",
     "text": [
      "\r",
      "  5%|███▊                                                                         | 944/18828 [00:06<02:04, 143.25it/s]"
     ]
    },
    {
     "name": "stdout",
     "output_type": "stream",
     "text": [
      "944 :   Virtual Reality for X on the CHEAP\n",
      "945 :  RE: Hot new 3D software\n",
      "946 :   cylinder and ray\n",
      "947 :  Sphere from 4 points\n",
      "948 :   Ivan Sutherland to speak at Harvard\n",
      "949 :  windows imagine\n",
      "950 :  VGA Mode 13h Routines Available\n",
      "951 :   Please Recommend 3D Graphics Library For Mac.\n",
      "952 :   Please Recommend 3D Graphics Library F\n",
      "953 :   Sphere from 4 points\n",
      "954 :   Sphere from 4 points\n",
      "955 :  Rayshade to DXF,RIB,etc.. \n",
      "956 :  Siggraph 1987 Course Notes\n",
      "957 :  Cobra 2.0 1b1 Video card HELP ME\n",
      "958 :  Externel processes for 3D Studio\n",
      "959 :   Text Recognition software availability\n",
      "960 :   Sphere from 4 points\n",
      "961 :   Rumours about 3DO \n",
      "962 :  AVI file format\n"
     ]
    },
    {
     "name": "stderr",
     "output_type": "stream",
     "text": [
      "\r",
      "  5%|███▉                                                                         | 963/18828 [00:06<01:56, 153.08it/s]"
     ]
    },
    {
     "name": "stdout",
     "output_type": "stream",
     "text": [
      "963 :   VGA 640x400 graphics mode\n",
      "964 :  CView answers\n",
      "965 :   alt.raytrace \n",
      "966 :  SHADOW Optical Raytracing Package\n",
      "967 :  character recognition\n",
      "968 :  Need a good concave  convex polygon algorithm\n",
      "969 :  Automatic layout of state diagrams\n",
      "970 :  How do I compensate for photographic viewpoint and distortion\n",
      "971 :   Sphere from 4 points\n",
      "972 :  polygon orientation in DXF\n",
      "973 :  Fractals What good are they \n",
      "974 :   A Book I found... graphics\n",
      "975 :  Speedstar 24  how to program the TrueColor mode \n",
      "976 :  Info needed: 2D contour plotting\n",
      "977 :  VESA standard VGASVGA programming\n",
      "978 :   Sphere from 4 points\n",
      "979 :   VESA on the Speedstar 24\n"
     ]
    },
    {
     "name": "stderr",
     "output_type": "stream",
     "text": [
      "\r",
      "  5%|████                                                                         | 980/18828 [00:06<02:06, 141.56it/s]"
     ]
    },
    {
     "name": "stdout",
     "output_type": "stream",
     "text": [
      "980 :   Delaunay Triangulation\n",
      "981 :   Rumours about 3DO \n",
      "982 :  .GIF to .BMP\n",
      "983 :  Point within a polygon \n",
      "984 :   Any graphics packages available for AIX \n",
      "985 :   VESA standard VGASVGA programming\n",
      "986 :   Please Recommend 3D Graphics Library For Mac.\n",
      "987 :  Questions about Plane Eqn method of Hidden Surface removal\n",
      "988 :  Reprints\n",
      "989 :  Church related graphics\n",
      "990 :  PC fastest linecircle drawing routines: HELP\n",
      "991 :   Rumours about 3DO \n",
      "992 :  Oak Driver NEEDED \n",
      "993 :  manipulating a hexagonal grid\n",
      "994 :   .GIF to .BMP\n",
      "995 :  Looking for a good book for beginners\n",
      "996 :  Need some Graphics Help\n",
      "997 :  What is reverse or negative video\n",
      "998 :   Need a good concave  convex polygon algorithm\n",
      "999 :   Please Recommend 3D Graphics Library For Mac.\n"
     ]
    },
    {
     "name": "stderr",
     "output_type": "stream",
     "text": [
      "\r",
      "  5%|████                                                                        | 1000/18828 [00:06<01:55, 154.22it/s]"
     ]
    },
    {
     "name": "stdout",
     "output_type": "stream",
     "text": [
      "1000 :  Grayscale Printer\n",
      "1001 :  WingCommanderII Graphics\n",
      "1002 :  VISION3D site and email unavailable\n",
      "1003 :   Computer Graphics Resource Listing : WEEKLY \n",
      "1004 :   Computer Graphics Resource Listing : WEEKLY \n",
      "1005 :   Computer Graphics Resource Listing : WEEKLY \n",
      "1006 :  Ellipse from Its Offset\n",
      "1007 :   Please Recommend 3D Graphics Library For Mac.\n",
      "1008 :  To yhe one who wants fonts in POVPOLYRAYVIVID\n",
      "1009 :  newss\n",
      "1010 :  PD 3D Viewer wanted\n",
      "1011 :   CView answers\n",
      "1012 :   CView answers\n",
      "1013 :  Need specsinfo on Apple QuickTime\n",
      "1014 :  Genoa graphics board Drivers FTP site\n",
      "1015 :   CView answers\n",
      "1016 :  Fast polygon routine needed\n",
      "1017 :   Fast polygon routine needed\n",
      "1018 :   Rumours about 3DO \n",
      "1019 :  MSWindows graphics viewer\n"
     ]
    },
    {
     "name": "stderr",
     "output_type": "stream",
     "text": [
      "\r",
      "  5%|████                                                                        | 1020/18828 [00:06<01:48, 164.62it/s]"
     ]
    },
    {
     "name": "stdout",
     "output_type": "stream",
     "text": [
      "1020 :   Rumours about 3DO \n",
      "1021 :   Fast polygon routine needed\n",
      "1022 :   CView answers\n",
      "1023 :  Anyone know use rayshade out there\n",
      "1024 :   Fake virtual reality\n",
      "1025 :  Video inout\n",
      "1026 :  MSWindows screen grabber\n",
      "1027 :   Rumours about 3DO \n",
      "1028 :  DICTA93\n",
      "1029 :   So what is the fastest Windows video c\n",
      "1030 :   Weitek P9000 \n",
      "1031 :  JPEG image compression: Frequently Asked Questions\n",
      "1032 :   CView answers\n",
      "1033 :   CView answers\n",
      "1034 :  Needed: Plotting package that does...\n",
      "1035 :   Video inout\n",
      "1036 :  .GL and .FLI specs\n",
      "1037 :   MSWindows graphics viewer\n"
     ]
    },
    {
     "name": "stderr",
     "output_type": "stream",
     "text": [
      "\r",
      "  6%|████▏                                                                       | 1038/18828 [00:06<01:56, 153.03it/s]"
     ]
    },
    {
     "name": "stdout",
     "output_type": "stream",
     "text": [
      "1038 :   MSWindows Screen Grabber \n",
      "1039 :  TIFF   GIF conversion\n",
      "1040 :  2D bitmap interpolation\n",
      "1041 :  CDROM Indexes available\n",
      "1042 :   So what is the fastest Windows video c\n",
      "1043 :  HELP Need JPEG  MPEG encoddecode \n",
      "1044 :  scanned grey to color equations\n",
      "1045 :  POV .TGA is and SpeedStar 24\n",
      "1046 :  need algorithm for reading and displaying bitmap files\n",
      "1047 :  images of earth\n",
      "1048 :   Sphere from 4 points\n",
      "1049 :  PaintProgram Wanted\n",
      "1050 :  VESA as a graphics standard\n",
      "1051 :  Where is DMORF\n",
      "1052 :   Sphere from 4 points\n",
      "1053 :  Sphere from 4 points\n",
      "1054 :   Rumours about 3DO \n",
      "1055 :  Chaos Editions: IDEA \n",
      "1056 :   images of earth\n"
     ]
    },
    {
     "name": "stderr",
     "output_type": "stream",
     "text": [
      "\r",
      "  6%|████▎                                                                       | 1057/18828 [00:06<01:49, 162.09it/s]"
     ]
    },
    {
     "name": "stdout",
     "output_type": "stream",
     "text": [
      "1057 :   Rumours about 3DO \n",
      "1058 :   Sphere from 4 points\n",
      "1059 :   images of earth\n",
      "1060 :   CView answers\n",
      "1061 :   CView answers\n",
      "1062 :   CView answers\n",
      "1063 :   CView answers\n",
      "1064 :  Help Need 3D graphics codepackage for DOS\n",
      "1065 :  re: Vesa on the Speedstar 24\n",
      "1066 :  Converting images to HP LaserJet III\n",
      "1067 :  comp.graphics.programmer\n",
      "1068 :   Help Need 3D graphics codepackage for DOS\n",
      "1069 :  Surface intersections\n",
      "1070 :  WANTED: Atomic Energy Res. Establishment  techreport\n",
      "1071 :   24 bit Graphics cards\n",
      "1072 :  need a viewer for gl files\n",
      "1073 :  Radiosity\n"
     ]
    },
    {
     "name": "stderr",
     "output_type": "stream",
     "text": [
      "\r",
      "  6%|████▎                                                                       | 1074/18828 [00:06<01:55, 154.36it/s]"
     ]
    },
    {
     "name": "stdout",
     "output_type": "stream",
     "text": [
      "1074 :  Borland turbo C libraries for S3 graphics card\n",
      "1075 :   Radiosity\n",
      "1076 :   Needed: Plotting package that does...\n",
      "1077 :   Rumours about 3DO \n",
      "1078 :   images of earth\n",
      "1079 :  Removing Distortion From Bitmapped Drawings\n",
      "1080 :  HELP GRASP\n",
      "1081 :   comp.graphics.programmer\n",
      "1082 :   CView answers\n",
      "1083 :   Help Need 3D graphics codepackage for DOS\n",
      "1084 :   Postscript drawing prog\n",
      "1085 :  SIGGRAPH  Conference on Understanding Images\n",
      "1086 :   Fake virtual reality\n",
      "1087 :   Removing Distortion From Bitmapped Drawings\n",
      "1088 :  outlining of spline surface\n",
      "1089 :  Flat globe\n",
      "1090 :   images of earth\n",
      "1091 :  Newsgroup Split\n",
      "1092 :   Surface intersections\n",
      "1093 :  Page flipping in VGA 320x200x256 mode.\n"
     ]
    },
    {
     "name": "stderr",
     "output_type": "stream",
     "text": [
      "\r",
      "  6%|████▍                                                                       | 1094/18828 [00:06<01:47, 165.34it/s]"
     ]
    },
    {
     "name": "stdout",
     "output_type": "stream",
     "text": [
      "1094 :  IMAGINE\n",
      "1095 :   PCX\n",
      "1096 :  VGA Passthrough Cables\n",
      "1097 :  detecting double points in bezier curves\n",
      "1098 :   computer graphics to vcr\n",
      "1099 :   Newsgroup Split\n",
      "1100 :  Ellipse Again\n",
      "1101 :   Newsgroup Split\n",
      "1102 :  WAYNE RIGBY\n",
      "1103 :   CView answers\n",
      "1104 :  help: Splitting a trimming region along a mesh \n",
      "1105 :   detecting double points in bezier curves\n",
      "1106 :   Video inout\n",
      "1107 :  stand alone editing suite.\n",
      "1108 :   HELP GRASP\n",
      "1109 :   Please Recommend 3D Graphics Library For Mac.\n",
      "1110 :   Please Recommend 3D Graphics Library For Mac.\n",
      "1111 :   Rumours about 3DO \n"
     ]
    },
    {
     "name": "stderr",
     "output_type": "stream",
     "text": [
      "\r",
      "  6%|████▍                                                                       | 1112/18828 [00:07<01:51, 158.68it/s]"
     ]
    },
    {
     "name": "stdout",
     "output_type": "stream",
     "text": [
      "1112 :  WANTED: Multipage GIF\n",
      "1113 :  Physics lab LOSES a number\n",
      "1114 :  articles on flocking\n",
      "1115 :  XV under MSDOS \n",
      "1116 :  Need polygon splitting algo...\n",
      "1117 :  J.C.Jensen is bitmap code\n",
      "1118 :   HDF readersviewers\n",
      "1119 :  MMOTION VIDEO CARD: YUV to RGB \n",
      "1120 :  Tseng ET4000 pixel clock\n",
      "1121 :  Sun IPX root window display  background picture\n",
      "1122 :  HDF readersviewers\n",
      "1123 :   Grayscale Printer\n",
      "1124 :   TIFF: philosophical significance of 42\n",
      "1125 :   need a viewer for gl files\n",
      "1126 :  24bit mode on Speedstar 24X\n",
      "1127 :   Flat globe\n",
      "1128 :   MMOTION VIDEO CARD: YUV to RGB \n",
      "1129 :   XV under MSDOS \n",
      "1130 :   Rumours about 3DO \n",
      "1131 :   Newsgroup Split\n"
     ]
    },
    {
     "name": "stderr",
     "output_type": "stream",
     "text": [
      "\r",
      "  6%|████▌                                                                       | 1132/18828 [00:07<01:45, 168.29it/s]"
     ]
    },
    {
     "name": "stdout",
     "output_type": "stream",
     "text": [
      "1132 :   TIFF: philosophical significance of 42\n",
      "1133 :   Fonts in POV\n",
      "1134 :  RTrace 8.2.0\n",
      "1135 :   images of earth\n",
      "1136 :   Newsgroup Split\n",
      "1137 :  WANTED : Info on Image Databases\n",
      "1138 :  Lyon lamb minivas2 control of abekas A66\n",
      "1139 :   Stay Away from MAG Innovision\n",
      "1140 :   detecting double points in bezier curves\n",
      "1141 :   HELP GRASP\n",
      "1142 :   TIFF: philosophical significance of 42\n",
      "1143 :   XV under MSDOS \n",
      "1144 :  PostScript driver for GINO\n",
      "1145 :  Info on Medical Imaging systems\n",
      "1146 :  Paradise VGA\n",
      "1147 :  Antialiasing utility wanted\n",
      "1148 :  Another CVIEW question \n",
      "1149 :   Sun IPX root window display  background picture\n"
     ]
    },
    {
     "name": "stderr",
     "output_type": "stream",
     "text": [
      "\r",
      "  6%|████▋                                                                       | 1150/18828 [00:07<01:50, 160.12it/s]"
     ]
    },
    {
     "name": "stdout",
     "output_type": "stream",
     "text": [
      "1150 :   WANTED: Multipage GIF\n",
      "1151 :  Ray tracer for msdos\n",
      "1152 :   images of earth\n",
      "1153 :   images of earth\n",
      "1154 :   images of earth\n",
      "1155 :   Need polygon splitting algo...\n",
      "1156 :   images of earth\n",
      "1157 :   comp.graphics.programmer\n",
      "1158 :   stand alone editing suite.\n",
      "1159 :  XV problems\n",
      "1160 :   Newsgroup Split\n",
      "1161 :  Beta Testers Wanted for Graphics Libraries\n",
      "1162 :  radiosity\n",
      "1163 :   Newsgroup Split\n",
      "1164 :  CorelDraw Bitmap to SCODAL\n",
      "1165 :   Fast polygon routine needed\n",
      "1166 :  more on radiosity\n",
      "1167 :   TIFF: philosophical significance of 42\n",
      "1168 :   Another CVIEW question (wa\n",
      "1169 :  univesa driver\n"
     ]
    },
    {
     "name": "stderr",
     "output_type": "stream",
     "text": [
      "\r",
      "  6%|████▋                                                                       | 1170/18828 [00:07<01:44, 169.43it/s]"
     ]
    },
    {
     "name": "stdout",
     "output_type": "stream",
     "text": [
      "1170 :  windows imagine\n",
      "1171 :   Fast polygon routine needed\n",
      "1172 :  Ribbon Information \n",
      "1173 :  Need rgb data from saved images\n",
      "1174 :   Fast polygon routine needed\n",
      "1175 :  Fast wireframe graphics\n",
      "1176 :   SGI sales practices \n",
      "1177 :  PascalFractals\n",
      "1178 :   detecting double points in bezier curves\n",
      "1179 :   CorelDraw Bitmap to SCODAL\n",
      "1180 :   TIFF: philosophical significance of 42\n",
      "1181 :   TIFF: philosophical significance of 42\n",
      "1182 :   PascalFractals\n",
      "1183 :  irit to pov \n",
      "1184 :   RTrace 8.2.0\n",
      "1185 :   HELP GRASP\n",
      "1186 :  PBMPLUS sources, where\n",
      "1187 :   Fractals What good are they \n"
     ]
    },
    {
     "name": "stderr",
     "output_type": "stream",
     "text": [
      "\r",
      "  6%|████▊                                                                       | 1188/18828 [00:07<01:46, 165.33it/s]"
     ]
    },
    {
     "name": "stdout",
     "output_type": "stream",
     "text": [
      "1188 :   univesa driver\n",
      "1189 :   more on radiosity\n",
      "1190 :  XV for MSDOS \n",
      "1191 :  3dStudio V2.01 : Any differences with previous version\n",
      "1192 :   CorelDraw Bitmap to SCODAL\n",
      "1193 :  OAK VGA 1Mb. Please, I needd VESA TSR 8^)\n",
      "1194 :  PC PAINTBRUSH IV+\n",
      "1195 :   XV for MSDOS \n",
      "1196 :   CView answers\n",
      "1197 :  Image of pictures...\n",
      "1198 :  Help needed on hidden line removal\n",
      "1199 :  The OTIS Project \n",
      "1200 :  ET 4000 W32 VLBus Cards\n",
      "1201 :   Newsgroup Split\n",
      "1202 :  sources for shading wanted\n",
      "1203 :   Fast polygon routine needed\n",
      "1204 :  One day graphicscomposites seminar\n",
      "1205 :  ray tracing spline surfaces\n",
      "1206 :  Hitatchi Raster Format \n",
      "1207 :  Windows BMP to Sun raster or others\n"
     ]
    },
    {
     "name": "stderr",
     "output_type": "stream",
     "text": [
      "\r",
      "  6%|████▉                                                                       | 1208/18828 [00:07<01:42, 172.73it/s]"
     ]
    },
    {
     "name": "stdout",
     "output_type": "stream",
     "text": [
      "1208 :   CView answers\n",
      "1209 :  Photoshop for Windows\n",
      "1210 :  graphics libraries\n",
      "1211 :  .SCF files, help needed\n",
      "1212 :  QUESTION: Video Projector\n",
      "1213 :   TIFF: philosophical significance of 42 \n",
      "1214 :  Looking for WMF Converter\n",
      "1215 :  WANTED: Super 8mm Projector with SOUNDS\n",
      "1216 :  CorelDraw BITMAP to SCODAL \n",
      "1217 :   Need specsinfo on Apple QuickTime\n",
      "1218 :  Image Analysis for PC\n",
      "1219 :   sources for shading wanted\n",
      "1220 :   CView answers\n",
      "1221 :   Newsgroup Split\n",
      "1222 :   Fast wireframe graphics\n",
      "1223 :   detecting double points in bezier curves\n",
      "1224 :   TIFF: philosophical significance of 42\n",
      "1225 :  Diamond Stelth 24 any good\n"
     ]
    },
    {
     "name": "stderr",
     "output_type": "stream",
     "text": [
      "\r",
      "  7%|████▉                                                                       | 1226/18828 [00:07<01:45, 167.01it/s]"
     ]
    },
    {
     "name": "stdout",
     "output_type": "stream",
     "text": [
      "1226 :   Trying to view POV files.....\n",
      "1227 :  ATI GUP and Graphics WkshopWin\n",
      "1228 :   Photoshop for Windows\n",
      "1229 :  Targa formattext file\n",
      "1230 :  Call for presentations: Navy SciVizVR seminar\n",
      "1231 :   Newsgroup Split\n",
      "1232 :  JPEG file format\n",
      "1233 :   Please Recommend 3D Graphics Library For Mac.\n",
      "1234 :  Looking for Mr. radon\n",
      "1235 :   Ray tracer for msdos\n",
      "1236 :   Color pict of spinning Earth\n",
      "1237 :  Cornerstone DualPage driver wanted\n",
      "1238 :   Newsgroup Split\n",
      "1239 :   .SCF files, help needed\n",
      "1240 :  conversion of pic format files to HPGL files\n",
      "1241 :  Hijaak\n",
      "1242 :   graphics libraries\n"
     ]
    },
    {
     "name": "stderr",
     "output_type": "stream",
     "text": [
      "\r",
      "  7%|█████                                                                       | 1243/18828 [00:07<01:48, 162.61it/s]"
     ]
    },
    {
     "name": "stdout",
     "output_type": "stream",
     "text": [
      "1243 :  Canon copierprinterpostscript questions.\n",
      "1244 :  Ray Tracing Pictures\n",
      "1245 :   TIFF: philosophical significance of 42\n",
      "1246 :  3D display software\n",
      "1247 :   Looking for WMF Converter\n",
      "1248 :   TIFF: philosophical significance of 42 \n",
      "1249 :  WANTED: Matrox PG1281 CV driver\n",
      "1250 :  Fixedpoint math library\n",
      "1251 :  NEEDED: algorithms for 2d & 3d object recognition\n",
      "1252 :   Hijaak\n",
      "1253 :  Adobe Photo Shop type software for UnixXMotif platforms\n",
      "1254 :   TIFF: philosophical significance of 42\n",
      "1255 :  Marching Cubs\n",
      "1256 :  Epson  4 pen plotter W340 Pens $500  B.O.\n",
      "1257 :   TIFF: philosophical significance of 42 \n",
      "1258 :   Sphere from 4 points\n",
      "1259 :  POLYGON FILL routine needed ....\n"
     ]
    },
    {
     "name": "stderr",
     "output_type": "stream",
     "text": [
      "\r",
      "  7%|█████                                                                       | 1260/18828 [00:07<01:49, 159.71it/s]"
     ]
    },
    {
     "name": "stdout",
     "output_type": "stream",
     "text": [
      "1260 :  Disney Animation\n",
      "1261 :   Rumours about 3DO \n",
      "1262 :   3dStudio V2.01 : Any differences with previous version\n",
      "1263 :   CView answers\n",
      "1264 :   TIFF: philosophical significance of 42\n",
      "1265 :  Need info on cc:Mail file format\n",
      "1266 :  Medical Images via Gopher\n",
      "1267 :  morphing\n",
      "1268 :  graphics driver standards\n",
      "1269 :   TIFF: philosophical significance of 42 \n",
      "1270 :  3D Animation Station\n",
      "1271 :  XLib and 24 Bit Displays \t\n",
      "1272 :  TIFF  Anything\n",
      "1273 :  IMAGINE for PC\n",
      "1274 :  Screen capture  CYMK converter\n",
      "1275 :  hp2xx for DOS\n",
      "1276 :   Virtual Reality for X on the CHEAP\n"
     ]
    },
    {
     "name": "stderr",
     "output_type": "stream",
     "text": [
      "\r",
      "  7%|█████▏                                                                      | 1277/18828 [00:08<01:58, 148.42it/s]"
     ]
    },
    {
     "name": "stdout",
     "output_type": "stream",
     "text": [
      "1277 :  3d Animation Studio file format\n",
      "1278 :   Ray tracer for msdos\n",
      "1279 :  SIGKids Research Showcase Call\n",
      "1280 :  WANTED: Playmation Info\n",
      "1281 :   Marching Cubs\n",
      "1282 :  POV file constructor for UnixX11\n",
      "1283 :   more on radiosity\n",
      "1284 :  Finding equally spaced points on a sphere.\n",
      "1285 :   Grayscale Printer\n",
      "1286 :  HELP: advice on what video system to buy\n",
      "1287 :   TIFF  Anything\n",
      "1288 :   Sun IPX root window display  background picture\n",
      "1289 :   detecting double points in bezier curves\n",
      "1290 :  DREGISTE XV for MSDOS\n",
      "1291 :   Looking for Tseng VESA drivers\n",
      "1292 :  I need to make my VGA do shades.\n"
     ]
    },
    {
     "name": "stderr",
     "output_type": "stream",
     "text": [
      "\r",
      "  7%|█████▏                                                                      | 1293/18828 [00:08<01:56, 150.02it/s]"
     ]
    },
    {
     "name": "stdout",
     "output_type": "stream",
     "text": [
      "1293 :   Photoshop for Windows\n",
      "1294 :   3dStudio V2.01 : Any differences with previous version\n",
      "1295 :  True Color Display in POV\n",
      "1296 :  Fractal compression\n",
      "1297 :  Developable Surface\n",
      "1298 :   Virtual Reality for X on the CHEAP\n",
      "1299 :  Alias phone number wanted\n",
      "1300 :   Postscript drawing prog\n",
      "1301 :  Why does Illustrator AutoTrace so poorly\n",
      "1302 :  Marchin Cubes\n",
      "1303 :  disp135 \n",
      "1304 :   POV file constructor for UnixX11\n",
      "1305 :  Which Video Card \n",
      "1306 :   Fast polygon routine needed\n",
      "1307 :   Postscript drawing prog\n",
      "1308 :  Any good Morphing Anims...\n",
      "1309 :  DTP\n",
      "1310 :   Diamond Stelth 24 any good\n"
     ]
    },
    {
     "name": "stderr",
     "output_type": "stream",
     "text": [
      "\r",
      "  7%|█████▎                                                                      | 1311/18828 [00:08<01:50, 157.82it/s]"
     ]
    },
    {
     "name": "stdout",
     "output_type": "stream",
     "text": [
      "1311 :  gif aerial maps\n",
      "1312 :  Hiddenline removal program\n",
      "1313 :  SPHINX: Satellite Image Processing under X11\n",
      "1314 :   Diamond Stelth 24 any good\n",
      "1315 :   Photoshop for Windows\n",
      "1316 :   Why does Illustrator AutoTrace so poorly\n",
      "1317 :  Rayshade query\n",
      "1318 :  InterViews graphics package\n",
      "1319 :   Developable Surface\n",
      "1320 :  Views on isomorphic perspectives\n",
      "1321 :   Rayshade query\n",
      "1322 :   Finding equally spaced points on a sphere.\n",
      "1323 :   Fonts in POV\n",
      "1324 :  Psygnosis CDI titles \n",
      "1325 :   .SCF files, help needed\n",
      "1326 :   3dStudio V2.01 : Any differences with previous version\n",
      "1327 :   Photoshop for Windows\n",
      "1328 :   TIFF: philosophical significance of 42\n",
      "1329 :  graphics formats\n"
     ]
    },
    {
     "name": "stderr",
     "output_type": "stream",
     "text": [
      "\r",
      "  7%|█████▎                                                                      | 1330/18828 [00:08<01:46, 164.15it/s]"
     ]
    },
    {
     "name": "stdout",
     "output_type": "stream",
     "text": [
      "1330 :   WANTED: Info on Image Databases\n",
      "1331 :  Problems grabbing a block of a Starbase screen.\n",
      "1332 :   XV under MSDOS \n",
      "1333 :  Closedcurve intersection\n",
      "1334 :  print graph on printer\n",
      "1335 :  Is there an FTP achive for USGS terrain data\n",
      "1336 :  Need PostScript strokeadjust info\n",
      "1337 :  Package for Fashion Designer\n",
      "1338 :  Packages for Fashion Designers\n",
      "1339 :  MPEG Location\n",
      "1340 :  Color palette for 256 color VGA rainbow\n",
      "1341 :  Attractive drawing on the sphere\n",
      "1342 :  Attractive drawing on the sphere\n",
      "1343 :   Newsgroup Split\n",
      "1344 :  Tom Gaskins Pexlib vs Phigs Programming Manuals \n",
      "1345 :   .SCF files, help needed \n",
      "1346 :  Help  Miro Crystal or ATI GUP \n",
      "1347 :  List or image processing systems\n"
     ]
    },
    {
     "name": "stderr",
     "output_type": "stream",
     "text": [
      "\r",
      "  7%|█████▍                                                                      | 1348/18828 [00:08<01:43, 168.20it/s]"
     ]
    },
    {
     "name": "stdout",
     "output_type": "stream",
     "text": [
      "1348 :  Renderman ShadersDiscussion\n",
      "1349 :   CorelDraw BITMAP to SCODAL \n",
      "1350 :  POV problems with tga outputs\n",
      "1351 :  48bit graphics...\n",
      "1352 :   Adobe Photo Shop type software for UnixXMotif platforms\n",
      "1353 :   Is there an FTP achive for USGS terrain data\n",
      "1354 :  Advice sought: Turning font outlines into renderable polygons\n",
      "1355 :  looking for USA map\n",
      "1356 :  3D2 files  what are they\n",
      "1357 :  FTP for Targa+\n",
      "1358 :  MGR NAPLPS & GUI BBS Frontends\n",
      "1359 :  Gaspra Animation \n",
      "1360 :  RE: VGAScrolling \n",
      "1361 :  Q: TIFF description\n",
      "1362 :   Why does Illustrator AutoTrace so poorly\n",
      "1363 :   Tom Gaskins Pexlib vs Phigs Programming Manuals \n",
      "1364 :   MPEG Location\n",
      "1365 :   Newsgroup Split\n"
     ]
    },
    {
     "name": "stderr",
     "output_type": "stream",
     "text": [
      "\r",
      "  7%|█████▌                                                                      | 1366/18828 [00:08<01:46, 163.89it/s]"
     ]
    },
    {
     "name": "stdout",
     "output_type": "stream",
     "text": [
      "1366 :   Rumours about 3DO \n",
      "1367 :   TIFF  Anything\n",
      "1368 :   Newsgroup Split\n",
      "1369 :  Loosing color.\n",
      "1370 :  Color problem.\n",
      "1371 :   Why does Illustrator AutoTrace so poorly\n",
      "1372 :  Povray problem  Please Help...\n",
      "1373 :  SciP+Fi: fiction set in CompScience\\ programming environs\n",
      "1374 :   InterViews graphics package\n",
      "1375 :   Fractal compression\n",
      "1376 :  Graphics Needed\n",
      "1377 :   JPEG file format\n",
      "1378 :  QuickTime performance \n",
      "1379 :  Easy to translate JPEG code...\n",
      "1380 :   3D2 files  what are they\n",
      "1381 :  ICN   PBMPGMPPM format\n",
      "1382 :   48bit graphics...\n",
      "1383 :  HELP: Need 24 bits viewer\n",
      "1384 :  Human Body data sets needed urgently\n",
      "1385 :   Why does Illustrator AutoTrace so poorly\n",
      "1386 :  WANTED : Scott  Leatham @ Microsoft\n"
     ]
    },
    {
     "name": "stderr",
     "output_type": "stream",
     "text": [
      "\r",
      "  7%|█████▌                                                                      | 1387/18828 [00:08<01:40, 173.92it/s]"
     ]
    },
    {
     "name": "stdout",
     "output_type": "stream",
     "text": [
      "1387 :   POV problems with tga outputs\n",
      "1388 :   Povray problem  Please Help...\n",
      "1389 :   Why does Illustrator AutoTrace so poorly\n",
      "1390 :   Rumours about 3DO \n",
      "1391 :  REAL3D\n",
      "1392 :  Hallusion info\n",
      "1393 :  CGM  something \n",
      "1394 :  Kubota KenaiDenali \n",
      "1395 :   Is there an FTP achive for USGS terrain dat\n",
      "1396 :   REAL3D\n",
      "1397 :   Fast polygon routine needed\n",
      "1398 :  \n",
      "1399 :  AVI to FLC converter\n",
      "1400 :  Turning photographic images into thermal print andor negatives\n",
      "1401 :  Need help to find out the address of several companies doing graphics.\n",
      "1402 :  Research Positions in 3D Graphics, Munich, Germany\n",
      "1403 :   WANTED: Playmation Info\n",
      "1404 :   48bit graphics...\n"
     ]
    },
    {
     "name": "stderr",
     "output_type": "stream",
     "text": [
      "\r",
      "  7%|█████▋                                                                      | 1405/18828 [00:08<01:50, 157.94it/s]"
     ]
    },
    {
     "name": "stdout",
     "output_type": "stream",
     "text": [
      "1405 :   Hallusion info\n",
      "1406 :  MESSAGE: for cgcad \n",
      "1407 :  2nd RFD for Open Telematic Group for RealTime Multimedia Online apps\n",
      "1408 :  3DS INV NORMAL ARRAY \n",
      "1409 :  Format of GIF files\n",
      "1410 :  RE: 48 bit graphics...\n",
      "1411 :   Why does Illustrator AutoTrace so poorly\n",
      "1412 :   oak77 vga driver available via ftp\n",
      "1413 :   Fast polygon routine needed\n",
      "1414 :  Fast Polygon Routines needed.\n",
      "1415 :  .GIF to .BMP\n",
      "1416 :   Virtual Reality for X on the CHEAP\n",
      "1417 :  Graph Traversal Algorithms\n",
      "1418 :   Newsgroup Split\n",
      "1419 :  WANTED: Grayscale dithering routine\n",
      "1420 :  VRrend386, where is it kept\n",
      "1421 :   Rumours about 3DO \n",
      "1422 :   MGR NAPLPS & GUI BBS Frontends\n",
      "1423 :  patches for SUNGKS4.1 \n"
     ]
    },
    {
     "name": "stderr",
     "output_type": "stream",
     "text": [
      "\r",
      "  8%|█████▋                                                                      | 1424/18828 [00:08<01:46, 163.55it/s]"
     ]
    },
    {
     "name": "stdout",
     "output_type": "stream",
     "text": [
      "1424 :   need a viewer for gl files\n",
      "1425 :   Psygnosis CDI titles \n",
      "1426 :  Front end for POVRay\n",
      "1427 :  Vatican library\n",
      "1428 :   TIFF: philosophical significance of 42\n",
      "1429 :  Raytracing Colours\n",
      "1430 :   48bit graphics...\n",
      "1431 :  Lasergraphics Language \n",
      "1432 :  Matrox PG1281 CV Windows driver\n",
      "1433 :   Help needed on hidden line removal\n",
      "1434 :  wanted, how to do a screen dump of a VGA screen\n",
      "1435 :  3DS: Where did all the texture rules go\n",
      "1436 :   CorelDraw Bitmap to SCODAL\n",
      "1437 :   Needed: Plotting package that does...\n",
      "1438 :  C++ classes for graphics\n",
      "1439 :   XV problems\n",
      "1440 :   Vatican library\n"
     ]
    },
    {
     "name": "stderr",
     "output_type": "stream",
     "text": [
      "\r",
      "  8%|█████▊                                                                      | 1441/18828 [00:09<01:51, 156.12it/s]"
     ]
    },
    {
     "name": "stdout",
     "output_type": "stream",
     "text": [
      "1441 :   CorelDraw BITMAP to SCODAL \n",
      "1442 :   Adobe Photo Shop type software for UnixXMotif platforms\n",
      "1443 :   48bit graphics...\n",
      "1444 :   Turning photographic images into thermal print andor negatives\n",
      "1445 :   HELP: Need 24 bits viewer\n",
      "1446 :  POVray : tga  rle\n",
      "1447 :   WANTED: Playmation Info\n",
      "1448 :  Please Help: Point in concave Polyhedra\n",
      "1449 :  Triangulized Data Wanted : with texture to be mapped.\n",
      "1450 :  Where is FAQ \n",
      "1451 :  What is the difference between Raytracing and rendering\n",
      "1452 :  re: TIFF complexity\n",
      "1453 :  DXF to PCX,GIF,TIF or TGA\n",
      "1454 :  I donwloaded a .bin file from a unix machine  now what\n",
      "1455 :  Help 3D Studio IPAS.\n",
      "1456 :  Computer Graphics studies at the Technion\n",
      "1457 :  .DWG.GCD3DD Formats Reference Needed\n",
      "1458 :  Any Autodesk 3D Concepts Users Out There\n",
      "1459 :   Raytracing Colours\n",
      "1460 :   What is the difference between Raytracing and rendering\n"
     ]
    },
    {
     "name": "stderr",
     "output_type": "stream",
     "text": [
      "\r",
      "  8%|█████▉                                                                      | 1461/18828 [00:09<01:44, 166.29it/s]"
     ]
    },
    {
     "name": "stdout",
     "output_type": "stream",
     "text": [
      "1461 :  DNA Helix\n",
      "1462 :   I donwloaded a .bin file from a unix machine  now what\n",
      "1463 :  RFD: comp.multimedia.opentelematic\n",
      "1464 :  WANTED: 24 bit viewer\n",
      "1465 :  Scientific Visualization of Chemical Systems\n",
      "1466 :  Analysis on text readins utils \n",
      "1467 :  Cross, Sobel & Roberts Filters \n",
      "1468 :   Computer Graphics Resource Listing : WEEKLY \n",
      "1469 :   Computer Graphics Resource Listing : WEEKLY \n",
      "1470 :   Computer Graphics Resource Listing : WEEKLY \n",
      "1471 :  WANTED: references on parallel algorithms\n",
      "1472 :  Need help: Zbuffering lines & areas together\n",
      "1473 :  Raytriacing and animation\n",
      "1474 :  Need gififf file format\n",
      "1475 :  Archiving GIF\n",
      "1476 :   POVray : tga  rle\n",
      "1477 :  Kubota KenaiDenali specs\n",
      "1478 :  AUTOCAD GRAPHICS CONVERTER\n"
     ]
    },
    {
     "name": "stderr",
     "output_type": "stream",
     "text": [
      "\r",
      "  8%|█████▉                                                                      | 1479/18828 [00:09<01:50, 156.61it/s]"
     ]
    },
    {
     "name": "stdout",
     "output_type": "stream",
     "text": [
      "1479 :  Looking for code to brake image into subbands\n",
      "1480 :   Virtual Reality for X on the CHEAP\n",
      "1481 :  LOOKING FOR GRAIG \n",
      "1482 :   GIF to Targa\n",
      "1483 :   ACM SIGGRAPH Registration Problem\n",
      "1484 :  HPGL viewer and utilities\n",
      "1485 :   Why does Illustrator AutoTrace so poorly\n",
      "1486 :   Cross, Sobel & Roberts Filters \n",
      "1487 :  Source codehelp on IP packages\n",
      "1488 :   QuickTime performance \n",
      "1489 :   HELP: Need 24 bits viewer\n",
      "1490 :   POVray : tga  rle\n",
      "1491 :   POVray : tga  rle\n",
      "1492 :  Adobe Photoshop Mailing List\n",
      "1493 :   morphing\n",
      "1494 :  3DS: Where did all the te\n",
      "1495 :   PARAMETRICVARIATIONAL DESIGN\n",
      "1496 :   Need gififf file format\n",
      "1497 :  POV 286  Where\n",
      "1498 :  GeoSphere Image\n",
      "1499 :  help colour display restrictionlimitation\n"
     ]
    },
    {
     "name": "stderr",
     "output_type": "stream",
     "text": [
      "\r",
      "  8%|██████                                                                      | 1500/18828 [00:09<01:42, 168.24it/s]"
     ]
    },
    {
     "name": "stdout",
     "output_type": "stream",
     "text": [
      "1500 :   TIFF  Anything\n",
      "1501 :   3D widget wish list\n",
      "1502 :  RGBHLSHSV conversion routines wanted\n",
      "1503 :   3DS: Where did all the texture rules go\n",
      "1504 :  SW convert plot to ASCII file\n",
      "1505 :  Best FTP Viewer please.\n",
      "1506 :  RGB to HVS, and back\n",
      "1507 :   WANTED: 24 bit viewer\n",
      "1508 :  comp.graphics.research\n",
      "1509 :  Polaroid Palette system\n",
      "1510 :   TIFF  Anything\n",
      "1511 :  Monthly LightWave mailing list FAQ\n",
      "1512 :  Your one stop GRAPHICS shop\n",
      "1513 :   DXF to PCX,GIF,TIF or TGA\n",
      "1514 :  NTSC data to RGB   For Video Capture.\n",
      "1515 :   Best FTP Viewer please.\n",
      "1516 :   Turning photographic images into thermal print andor negatives\n",
      "1517 :  Interesting conversion Problem\n"
     ]
    },
    {
     "name": "stderr",
     "output_type": "stream",
     "text": [
      "\r",
      "  8%|██████▏                                                                     | 1518/18828 [00:09<01:50, 157.13it/s]"
     ]
    },
    {
     "name": "stdout",
     "output_type": "stream",
     "text": [
      "1518 :   Human head modeling software\n",
      "1519 :  looking for hot Mac 3D anim software\n",
      "1520 :   TIFF: philosophical significance of 42 \n",
      "1521 :  re: GeoSphere Image\n",
      "1522 :   I donwloaded a .bin file from a unix machine  now what\n",
      "1523 :   HPGL viewer and utilities\n",
      "1524 :  GIF to Targa\n",
      "1525 :   Viewing JPEG files\n",
      "1526 :  Corel Draw or Harvard Draw\n",
      "1527 :  Real Time Visualization\n",
      "1528 :   GeoSphere Image\n",
      "1529 :   Kubota KenaiDenali specs\n",
      "1530 :   HELP: Need 24 bits viewer\n",
      "1531 :   WANTED: 24 bit viewer\n",
      "1532 :  CGA help wanted\n",
      "1533 :  What has happened to DKBL \n",
      "1534 :  Tangent vectors of KochanekBartels splines\n",
      "1535 :   Need help: Zbuffering lines & areas together\n",
      "1536 :  virtual sound\n"
     ]
    },
    {
     "name": "stderr",
     "output_type": "stream",
     "text": [
      "\r",
      "  8%|██████▏                                                                     | 1537/18828 [00:09<01:44, 164.68it/s]"
     ]
    },
    {
     "name": "stdout",
     "output_type": "stream",
     "text": [
      "1537 :   Turning photographic images into thermal print andor negatives\n",
      "1538 :   Kubota KenaiDenali specs\n",
      "1539 :  .gif to .wpg or .tiff converter\n",
      "1540 :   TIFF: philosophical significance of 42 \n",
      "1541 :  Genoa is WindowsVGA24 true color board\n",
      "1542 :  Looking for patches to xv to better support TIFF output\n",
      "1543 :  PC paint program Help\n",
      "1544 :  re: SIGKids Research Showcase Call\n",
      "1545 :  3D widget wish list\n",
      "1546 :   Kubota KenaiDenali specs\n",
      "1547 :  PHIGS User Group Conference\n",
      "1548 :  PARAMETRICVARIATIONAL DESIGN\n",
      "1549 :  An very broad question\n",
      "1550 :   RGB to HVS, and back\n",
      "1551 :  GIF viewer source code for PC\n",
      "1552 :  Final call for papers\n",
      "1553 :  ACM SIGGRAPH Registration Problem\n",
      "1554 :   NTSC data to RGB   For Video Capture.\n"
     ]
    },
    {
     "name": "stderr",
     "output_type": "stream",
     "text": [
      "\r",
      "  8%|██████▎                                                                     | 1555/18828 [00:09<01:42, 168.83it/s]"
     ]
    },
    {
     "name": "stdout",
     "output_type": "stream",
     "text": [
      "1555 :   Fast polygon routine needed\n",
      "1556 :  Digital Terrain Data for Visualization Needed\n",
      "1557 :  Ftp Site with GIFS\n",
      "1558 :  Kubota vs. E&S Freedome\n",
      "1559 :   XV problems\n",
      "1560 :  convertion program to gremlin\n",
      "1561 :   Human head modeling software\n",
      "1562 :  Colour Transform for RedGreen Colour Blindness\n",
      "1563 :   RGBHLSHSV conversion routines wanted\n",
      "1564 :   RGB to HVS, and back\n",
      "1565 :   Why does Illustrator AutoTrace so poorly\n",
      "1566 :   RGB to HVS, and back\n",
      "1567 :  A graphic design newsgroup\n",
      "1568 :  screen capture\n",
      "1569 :  Arts&Letters Graphics Editor\n",
      "1570 :   Ftp Site with GIFS\n",
      "1571 :   Colour Transform for RedGreen Colour Blindness\n",
      "1572 :  gif viewer\n"
     ]
    },
    {
     "name": "stderr",
     "output_type": "stream",
     "text": [
      "\r",
      "  8%|██████▎                                                                     | 1573/18828 [00:09<01:46, 162.75it/s]"
     ]
    },
    {
     "name": "stdout",
     "output_type": "stream",
     "text": [
      "1573 :   Turning photographic images into thermal print andor negatives\n",
      "1574 :  Viewing JPEG files\n",
      "1575 :  libraries for text+math+graphics display\n",
      "1576 :   RGB to HVS, and back\n",
      "1577 :   XV problems\n",
      "1578 :  PC Question  256 modes\n",
      "1579 :  raw2gif \n",
      "1580 :  PBM+ 10dec91 when is'the'new haversion\n",
      "1581 :     ASCII OR ANSI PICS..WHERE   \n",
      "1582 :  digital cameras\n",
      "1583 :  Windows BMP  something wanted\n",
      "1584 :  IBM: Writing to screen memory \n",
      "1585 :  SYNERGY: Revolt  an OTIS colaberation project\n",
      "1586 :   RGB to HVS, and back\n",
      "1587 :  Help needed: DXF  IFF\n",
      "1588 :  Looking for polygon convexifier\n",
      "1589 :  Looking for a job as a Software Engineer\n",
      "1590 :  Intel is PCI standard\n",
      "1591 :  POVRay for VAX computer\n"
     ]
    },
    {
     "name": "stderr",
     "output_type": "stream",
     "text": [
      "\r",
      "  8%|██████▍                                                                     | 1592/18828 [00:10<01:42, 168.06it/s]"
     ]
    },
    {
     "name": "stdout",
     "output_type": "stream",
     "text": [
      "1592 :  GWS\n",
      "1593 :   XV problems\n",
      "1594 :   raw2gif \n",
      "1595 :   Help needed: DXF  IFF\n",
      "1596 :  XV for DOS: what is the problem\n",
      "1597 :  Alpha Kubota Graphic vs. SGI\n",
      "1598 :   TIFF complexity\n",
      "1599 :   HELP: Need 24 bits viewer\n",
      "1600 :  Looking for Brain in CAD\n",
      "1601 :  .SCI files and .SCO files\n",
      "1602 :   REAL3D\n",
      "1603 :   Tom Gaskins Pexlib vs Phigs Programming Manuals \n",
      "1604 :   Intel is PCI standard\n",
      "1605 :  Wanted: Shareware graphics display program for DOS.\n",
      "1606 :  8th SCIA\n",
      "1607 :   POVRay for VAX computer\n",
      "1608 :   XV problems\n",
      "1609 :  Picture  Ascii Conversion\n"
     ]
    },
    {
     "name": "stderr",
     "output_type": "stream",
     "text": [
      "\r",
      "  9%|██████▍                                                                     | 1610/18828 [00:10<01:45, 162.92it/s]"
     ]
    },
    {
     "name": "stdout",
     "output_type": "stream",
     "text": [
      "1610 :   Arts&Letters Graphics Editor\n",
      "1611 :  Software Development Libs for Old TARGA16 Boards\n",
      "1612 :   SGI sales practices \n",
      "1613 :  LCD VGA display\n",
      "1614 :   SGI sales practices \n",
      "1615 :  fractel trees\n",
      "1616 :  Oh make up your mind \n",
      "1617 :  Drivers for Diamond Viper Card\n",
      "1618 :   LCD VGA display\n",
      "1619 :  surfacecontour plot\n",
      "1620 :  Full Color Image Editor for SGI Workstations\n",
      "1621 :  STOP THIS ARGUMENT XV3.00 is 24bit \n",
      "1622 :  GIANT SOFTWARE YARDSALE\n",
      "1623 :   Oh make up your mind \n",
      "1624 :   Anyone know use rayshade out there\n",
      "1625 :  2D spline fit\n",
      "1626 :  What is 3dO\n"
     ]
    },
    {
     "name": "stderr",
     "output_type": "stream",
     "text": [
      "\r",
      "  9%|██████▌                                                                     | 1627/18828 [00:10<01:46, 160.89it/s]"
     ]
    },
    {
     "name": "stdout",
     "output_type": "stream",
     "text": [
      "1627 :   .SCI files and .SCO files \n",
      "1628 :   TIFF: philosophical significance of 42 \n",
      "1629 :  Looking for Info on Quadratic Spline to Bezier Conversion ...\n",
      "1630 :  mode 13h\n",
      "1631 :   Viewing JPEG files\n",
      "1632 :   looking for hot Mac 3D anim software\n",
      "1633 :   ACM SIGGRAPH \n",
      "1634 :   Corel Draw or Harvard Draw\n",
      "1635 :  Company info for graphics software\n",
      "1636 :  GIF TO TARGA\n",
      "1637 :  Universal VESA Driver\n",
      "1638 :   MESSAGE: for cgcad \n",
      "1639 :   REAL3D\n",
      "1640 :  Source to create FLI or FLC \n",
      "1641 :  VIDEO SPEED\n",
      "1642 :   What has happened to DKBL \n",
      "1643 :  Help Quicktime 1.5System 7.1 Problem\n"
     ]
    },
    {
     "name": "stderr",
     "output_type": "stream",
     "text": [
      "\r",
      "  9%|██████▋                                                                     | 1644/18828 [00:10<01:48, 159.01it/s]"
     ]
    },
    {
     "name": "stdout",
     "output_type": "stream",
     "text": [
      "1644 :  Fractal terrain generator\n",
      "1645 :  Where did the hacker ethic go\n",
      "1646 :   LCD VGA display\n",
      "1647 :   LCD VGA display\n",
      "1648 :  Creating FLIFLC Animation Files\n",
      "1649 :   Where did the hacker ethic go\n",
      "1650 :   Where did the hacker ethic go\n",
      "1651 :  AVS presentation\n",
      "1652 :   Adobe Photo Shop type software for UnixXMotif platforms\n",
      "1653 :   Oh make up your mind \n",
      "1654 :   Fractal terrain generator\n",
      "1655 :  Direct Acess to Video memory\n",
      "1656 :   Is there an FTP achive for USGS terrain data\n",
      "1657 :   Universal VESA Driver\n",
      "1658 :  3d graphics software company info\n",
      "1659 :   3d graphics software company info\n",
      "1660 :   Adobe Photo Shop type software for UnixXMotif platforms\n"
     ]
    },
    {
     "name": "stderr",
     "output_type": "stream",
     "text": [
      "\r",
      "  9%|██████▋                                                                     | 1661/18828 [00:10<01:48, 158.13it/s]"
     ]
    },
    {
     "name": "stdout",
     "output_type": "stream",
     "text": [
      "1661 :  Need recommendations on imaging workstations\n",
      "1662 :   Looking for polygon convexifier\n",
      "1663 :  WANNA SCAN 24BIT COLR PICTURE\n",
      "1664 :  Need specs for MPEG  file format\n",
      "1665 :   Easy to translate JPEG code...\n",
      "1666 :  FTP site for .pov files\n",
      "1667 :   Where did the hacker ethic go\n",
      "1668 :  jpeg fif specification\n",
      "1669 :  Fractint on a Speedstar 24X\n",
      "1670 :   Where did the hacker ethic go\n",
      "1671 :   Is there an FTP achive for USGS terrain data\n",
      "1672 :   Looking for polygon convexifier\n",
      "1673 :   LCD VGA display\n",
      "1674 :   Where did the hacker ethic go\n",
      "1675 :  How Can I Download FilesGraphics\n",
      "1676 :  Where can I find someone who can digitize Currier & Ives\n"
     ]
    },
    {
     "name": "stderr",
     "output_type": "stream",
     "text": [
      "\r",
      "  9%|██████▊                                                                     | 1677/18828 [00:10<01:55, 148.45it/s]"
     ]
    },
    {
     "name": "stdout",
     "output_type": "stream",
     "text": [
      "1677 :   Help needed: DXF  IFF\n",
      "1678 :   Where did the hacker ethic go\n",
      "1679 :   Help needed: DXF  IFF\n",
      "1680 :  Tel.# for 3D scanners needed\n",
      "1681 :   Oh make up your mind \n",
      "1682 :  3D modelers for UNIX\n",
      "1683 :   Where did the hacker ethic go\n",
      "1684 :  What is Smithsonian Institution ftp address \n",
      "1685 :  Companies involved with Scientific Visualization...\n",
      "1686 :   Help needed: DXF  IFF\n",
      "1687 :  Definition of Occlusion\n",
      "1688 :   What is 3dO\n",
      "1689 :   OAK VGA 1Mb. Please, I needd VESA TSR 8^)\n",
      "1690 :  JPEG image compression: Frequently Asked Questions\n",
      "1691 :   Where did the hacker ethic go\n",
      "1692 :   Adobe Photo Shop type software for UnixXMotif platforms\n"
     ]
    },
    {
     "name": "stderr",
     "output_type": "stream",
     "text": [
      "\r",
      "  9%|██████▊                                                                     | 1693/18828 [00:10<02:00, 142.06it/s]"
     ]
    },
    {
     "name": "stdout",
     "output_type": "stream",
     "text": [
      "1693 :   Adobe Photo Shop type software for UnixXMotif platforms\n",
      "1694 :   Where did the hacker ethic go\n",
      "1695 :   Where did the hacker ethic go\n",
      "1696 :  Wanted: 3d rendering lib for PC\n",
      "1697 :  VESA driver for XGA2\n",
      "1698 :  Help with Worldtoscreen 4x4 transfomation matrix\n",
      "1699 :  ACCESS.bus \n",
      "1700 :  ``Call for Papers for INFORMATIKA'' Vol. 17 No. 2\n",
      "1701 :   Antialiasing & Raytracing Question:\n",
      "1702 :  Need Calgorithm, which decide whether a 3Dpoint is inside a space, defined by 6 planes\n",
      "1703 :   Help with Worldtoscreen 4x4 transfomation matrix\n",
      "1704 :  Graphics Library  for HP and Sun\n",
      "1705 :   SVGA  Hicolor\n",
      "1706 :  3d IMages\n",
      "1707 :  Compositing pictures on PC\n",
      "1708 :   Compositing pictures on PC\n",
      "1709 :  TGA Viewer for ATI Ultra +\n"
     ]
    },
    {
     "name": "stderr",
     "output_type": "stream",
     "text": [
      "\r",
      "  9%|██████▉                                                                     | 1710/18828 [00:10<01:54, 149.09it/s]"
     ]
    },
    {
     "name": "stdout",
     "output_type": "stream",
     "text": [
      "1710 :  gamma correction\n",
      "1711 :   Where did the hacker ethic go\n",
      "1712 :   VGA Graphics Library\n",
      "1713 :  Autodesk BBS \n",
      "1714 :   SIGGRAPH online experimental publication available\n",
      "1715 :  POV animating\n",
      "1716 :  .GIFs on a Tek401x \n",
      "1717 :   Products to handle HDTV moving pircture \n",
      "1718 :  Wanted:MPEG description or sources:encoders+decoders.\n",
      "1719 :  re: Gif to 3dstudio\n",
      "1720 :   Where did the hacker ethic go\n",
      "1721 :  POVTGA\n",
      "1722 :  Tex texture map format\n",
      "1723 :   gamma correction\n",
      "1724 :  HELP: A rectangle and parallelogram\n",
      "1725 :   PICT, EPSF, etc map of Italy\n",
      "1726 :  comp.graphics FAQ\n",
      "1727 :  Help : animation for pcx, gif files\n",
      "1728 :   Information on BMP files \n"
     ]
    },
    {
     "name": "stderr",
     "output_type": "stream",
     "text": [
      "\r",
      "  9%|██████▉                                                                     | 1729/18828 [00:10<01:48, 157.03it/s]"
     ]
    },
    {
     "name": "stdout",
     "output_type": "stream",
     "text": [
      "1729 :  JPEG image compression: Frequently Asked Questions\n",
      "1730 :   Optimizing projections\n",
      "1731 :  Parametric Drafting\n",
      "1732 :  3D Shark\n",
      "1733 :  disp140 \n",
      "1734 :   Calculating regular polyhedra vertices\n",
      "1735 :   SIGGRAPH online experimental publication available\n",
      "1736 :  CGM garphics viewer wanted\n",
      "1737 :   PoV Ray Related Group NEEDED\n",
      "1738 :  Bit Planes\n",
      "1739 :   HELP  3DS\n",
      "1740 :  3D input devices\n",
      "1741 :  CFP: 8th Int'l Symp. on Computer and Information Sciences\n",
      "1742 :  Help 3Dreconstruction\n",
      "1743 :  TIFF 6.0\n",
      "1744 :  Image format conversion tool \n",
      "1745 :   What is this .GL file\n",
      "1746 :   VGA Graphics Library\n",
      "1747 :  Lookin Form 3D model of Loom\n"
     ]
    },
    {
     "name": "stderr",
     "output_type": "stream",
     "text": [
      "\r",
      "  9%|███████                                                                     | 1748/18828 [00:11<01:44, 163.65it/s]"
     ]
    },
    {
     "name": "stdout",
     "output_type": "stream",
     "text": [
      "1748 :   3D input devices\n",
      "1749 :  Oriented bounding box generation\n",
      "1750 :  RayBezier Intersection Problem\n",
      "1751 :  anonymous ftp sites for graphics\n",
      "1752 :   Point in Polygon routine needed\n",
      "1753 :   PoV Ray Related Group NEEDED\n",
      "1754 :  Raw byte grayscale  GIF\n",
      "1755 :  Graphics software needed\n",
      "1756 :   PoV Ray Related Group NEEDED\n",
      "1757 :  Adobe Type Manager  what good is it\n",
      "1758 :   Products to handle HDTV moving pircture \n",
      "1759 :  video memory\n",
      "1760 :   Products to handle HDTV moving pircture \n",
      "1761 :   Where did the hacker ethic go\n",
      "1762 :  IGES and e00 formats\n",
      "1763 :   Adobe Type Manager  what good is it\n",
      "1764 :  How to print out NCAR3.0 is cgm file\n"
     ]
    },
    {
     "name": "stderr",
     "output_type": "stream",
     "text": [
      "\r",
      "  9%|███████                                                                     | 1765/18828 [00:11<01:54, 148.76it/s]"
     ]
    },
    {
     "name": "stdout",
     "output_type": "stream",
     "text": [
      "1765 :  NEEDED: noninteractive GIF cropper for PC\n",
      "1766 :  DEC or PC Graphics Tools\n",
      "1767 :   Email address of ITHACA \n",
      "1768 :   3d Head model ... \n",
      "1769 :  PICLAB processing half a GIF\n",
      "1770 :   CGM Files\n",
      "1771 :  help\n",
      "1772 :   Is Kermit available for Windows 3.03.1\n",
      "1773 :  WIN STORM PC\n",
      "1774 :   Win31 & doublespace\n",
      "1775 :   Why is my mouse so JUMPY \n",
      "1776 :   Dos window macros\n",
      "1777 :  Program Manager problem\n",
      "1778 :   Actix video card drivers for windows\n",
      "1779 :  MS Mouse Driver 8.2\n",
      "1780 :  WIn 3.0 ICON HELP PLEASE\n",
      "1781 :  Postscript at 600 dpi\n",
      "1782 :   Workspace Managers for Win 3.1  Locations\n",
      "1783 :  Setting up a SLIP client under DOS and Windows \n",
      "1784 :   Please Refresh On Internet Access To CompuServe\n"
     ]
    },
    {
     "name": "stderr",
     "output_type": "stream",
     "text": [
      "\r",
      "  9%|███████▏                                                                    | 1785/18828 [00:11<01:46, 159.49it/s]"
     ]
    },
    {
     "name": "stdout",
     "output_type": "stream",
     "text": [
      "1785 :  msdos prompt problem\n",
      "1786 :   What does the .bmp format mean\n",
      "1787 :  Newsgroup archive\n",
      "1788 :  Is SMARTDRV.EXE causing bad sectors on my hd\n",
      "1789 :   MSWindows access for the blind\n",
      "1790 :   Trouble with Sound Blaster Pro drivers\n",
      "1791 :  HiraganaKatakana TT fonts\n",
      "1792 :  Standard and Enhanced question\n",
      "1793 :  Replacement for Program Manager and File Manager\n",
      "1794 :  Why I am not using Dos 6 anymore\n",
      "1795 :   Video cards with BNC connectors\n",
      "1796 :  Help with changing Startup logo\n",
      "1797 :  True Type Font problem.  REPOST please help\n",
      "1798 :  Windows zipunzip\n",
      "1799 :  Bootup sometimes fails.\n",
      "1800 :   What does the .bmp format mean\n",
      "1801 :   Stealth 24 Video Drivers\n"
     ]
    },
    {
     "name": "stderr",
     "output_type": "stream",
     "text": [
      "\r",
      " 10%|███████▎                                                                    | 1802/18828 [00:11<01:58, 144.10it/s]"
     ]
    },
    {
     "name": "stdout",
     "output_type": "stream",
     "text": [
      "1802 :  Where to get ATI card video driversfonts\n",
      "1803 :  3852 Driver Wanted\n",
      "1804 :   What does the .bmp format mean\n",
      "1805 :  SUMMARY:  Canon BJ200 vs. HP DeskJet 500\n",
      "1806 :  Question on EISA video board performance\n",
      "1807 :   Need longer filenames\n",
      "1808 :   Standard and Enhanced question\n",
      "1809 :   Program manager  two questions\n",
      "1810 :  Screenreading programs for MS Windows:\n",
      "1811 :  Looking for text search engine\n",
      "1812 :  HELP Word4W Sucks  \n",
      "1813 :  Truetype OEM font with line drawing characters etc wanted\n",
      "1814 :   Windows zipunzip\n",
      "1815 :   How Redirect PRINT MANAGER To FILE\n",
      "1816 :  Autocheck boxes\n",
      "1817 :   Bootup sometimes fails.\n",
      "1818 :  Printer security\n",
      "1819 :   Why I am not using Dos 6 anymore\n",
      "1820 :   Need longer filenames\n"
     ]
    },
    {
     "name": "stderr",
     "output_type": "stream",
     "text": [
      "\r",
      " 10%|███████▎                                                                    | 1821/18828 [00:11<01:50, 154.52it/s]"
     ]
    },
    {
     "name": "stdout",
     "output_type": "stream",
     "text": [
      "1821 :  Windows NT: Help needed with IO error 0x0069\n",
      "1822 :  Terminal setup, How\n",
      "1823 :   More Cool BMP files\n",
      "1824 :   Why is my mouse so JUMPY \n",
      "1825 :  DOS 6 a 'loaded gun' \n",
      "1826 :   Why I am not using Dos 6 anymore\n",
      "1827 :  Windows enhanced mode: how to get 386 iconfunctionality\n",
      "1828 :   Help with changing Startup logo\n",
      "1829 :   Windows zipunzip\n",
      "1830 :   Bootup sometimes fails.\n",
      "1831 :  Mouse odometer\n",
      "1832 :  Internationalization of Applications and Muultibyte Characters\n",
      "1833 :   Help with changing Startup logo\n",
      "1834 :    What does the .bmp format mean\n",
      "1835 :    What does the .bmp format mean\n",
      "1836 :  win. Lock up at 16 Mil on Dia. Stelth24x HELP\n",
      "1837 :  leaking memory resources in 3.1\n",
      "1838 :  Help finding best Development Kit\n",
      "1839 :       Changing system font\n"
     ]
    },
    {
     "name": "stderr",
     "output_type": "stream",
     "text": [
      "\r",
      " 10%|███████▍                                                                    | 1840/18828 [00:11<01:45, 161.54it/s]"
     ]
    },
    {
     "name": "stdout",
     "output_type": "stream",
     "text": [
      "1840 :  ATI Ultra Pro & Windows\n",
      "1841 :   Where to get ATI card video driversfonts\n",
      "1842 :  PCX from W4W \n",
      "1843 :  Microsoft Printing System \n",
      "1844 :  Trouble with Sound Blaster Pro drivers\n",
      "1845 :  Local Windows .vs. Shared Windows \n",
      "1846 :   Help with changing Startup logo\n",
      "1847 :   Windows zipunzip\n",
      "1848 :  TCPIP through Windows 3.1\n",
      "1849 :  Codabar font\n",
      "1850 :   Windows zipunzip\n",
      "1851 :  Windows 3.1 and IMF Boards \n",
      "1852 :   Help with changing Startup logo\n",
      "1853 :  Observation:  Floppy copy works under PGM MGR, but not DOS shell.\n",
      "1854 :  Please HELP  \n",
      "1855 :  BJ10 and LBP4 pr.drivers needed\n",
      "1856 :   Windows zipunzip\n"
     ]
    },
    {
     "name": "stderr",
     "output_type": "stream",
     "text": [
      "\r",
      " 10%|███████▍                                                                    | 1857/18828 [00:11<01:48, 156.21it/s]"
     ]
    },
    {
     "name": "stdout",
     "output_type": "stream",
     "text": [
      "1857 :   Program Manager kills my Group files\n",
      "1858 :   Windows NT und XWindows\n",
      "1859 :   leaking memory resources in 3.1\n",
      "1860 :  HELP: how to allocate more memory for disk copying in file manager\n",
      "1861 :   Windows NT und XWindows\n",
      "1862 :   Canon BJ200  and HP DeskJet 500...\n",
      "1863 :  Quietwriter II driver\n",
      "1864 :  Replacement for Program M\n",
      "1865 :   Actix video card drivers for windows\n",
      "1866 :   The DOSMSW meltdown is progressing nicely\n",
      "1867 :  Please DO NOT post bitmaps\n",
      "1868 :  re: MS Mouse Driver 8.2\n",
      "1869 :   Why I am not using Dos 6 anymore\n",
      "1870 :  Printer driver wanted\n",
      "1871 :   Question on EISA video board performance\n",
      "1872 :   Windows NT und XWindows\n",
      "1873 :   Why I am not using Dos 6 anymore\n"
     ]
    },
    {
     "name": "stderr",
     "output_type": "stream",
     "text": [
      "\r",
      " 10%|███████▌                                                                    | 1874/18828 [00:11<01:47, 158.09it/s]"
     ]
    },
    {
     "name": "stdout",
     "output_type": "stream",
     "text": [
      "1874 :  Lockups in 386 enh mode wfloppy\n",
      "1875 :   leaking memory resources in 3.1\n",
      "1876 :  DOS6 & Novell Netware\n",
      "1877 :  Where to put my swap file \n",
      "1878 :  emm386 and windows\n",
      "1879 :    The DOSMSW meltdown is progressing nicely\n",
      "1880 :  re: Where to put my swap file \n",
      "1881 :  Why are our desktop fonts changing\n",
      "1882 :   Replacement for Program Manager and File Manager\n",
      "1883 :  Windows NT: Should I Upgrade\n",
      "1884 :  1028x1024 video board\n",
      "1885 :  VESA Driver for IBM XGA\n",
      "1886 :  Fast display adaptors for windows\n",
      "1887 :   emm386 and windows\n",
      "1888 :  Challenge to Microsoft supporters.\n",
      "1889 :  re: Challenge to Microsoft supporters.\n",
      "1890 :   DOS6 & Novell Netware\n"
     ]
    },
    {
     "name": "stderr",
     "output_type": "stream",
     "text": [
      "\r",
      " 10%|███████▋                                                                    | 1891/18828 [00:11<01:51, 151.86it/s]"
     ]
    },
    {
     "name": "stdout",
     "output_type": "stream",
     "text": [
      "1891 :  winlogo\n",
      "1892 :    The DOSMSW meltdown is progressing nicely\n",
      "1893 :   Challenge to Microsoft supporters.\n",
      "1894 :  Western Digital 90C31 Driver\n",
      "1895 :  How to change an icon for a program in windows\n",
      "1896 :   Required File format of WORD for MSWINDOW File \n",
      "1897 :  WANTED a TT font creator package free\n",
      "1898 :   Challenge to Microsoft supporters.\n",
      "1899 :   VESA Driver for IBM XGA\n",
      "1900 :  Windows OnLine Review uploaded\n",
      "1901 :   How Redirect PRINT MANAGER To FILE\n",
      "1902 :  Telnet Terminal for Windows \n",
      "1903 :   Challenge to Microsoft supporters.\n",
      "1904 :   Windows NT: Should I Upgrade\n",
      "1905 :   Windows NT und XWindows\n",
      "1906 :   Telnet Terminal for Windows \n",
      "1907 :   Windows zipunzip\n",
      "1908 :  RE: Help with changing Startup logo\n",
      "1909 :   More Cool BMP files\n"
     ]
    },
    {
     "name": "stderr",
     "output_type": "stream",
     "text": [
      "\r",
      " 10%|███████▋                                                                    | 1910/18828 [00:12<01:44, 161.40it/s]"
     ]
    },
    {
     "name": "stdout",
     "output_type": "stream",
     "text": [
      "1910 :    The DOSMSW meltdown is progressing nicely\n",
      "1911 :   Question on EISA video board performance\n",
      "1912 :   emm386 and windows\n",
      "1913 :   Why are our desktop fonts changing\n",
      "1914 :   Challenge to Microsoft supporters.\n",
      "1915 :   Challenge to Microsoft supporters.\n",
      "1916 :   Please DO NOT post bitmaps\n",
      "1917 :   leaking memory resources in 3.1\n",
      "1918 :   Help with changing Startup logo\n",
      "1919 :  Print to file: how do I print the file later\n",
      "1920 :   Challenge to Microsoft supporters.\n",
      "1921 :   emm386 and windows\n",
      "1922 :   leaking memory resources in 3.1\n",
      "1923 :  How to respond to WM_LBUTTONDBLCLK\n",
      "1924 :   How to change an icon for a program in windows\n",
      "1925 :   leaking memory resources in 3.1\n",
      "1926 :  LOOKING FOR ORGANIZER\n"
     ]
    },
    {
     "name": "stderr",
     "output_type": "stream",
     "text": [
      "\r",
      " 10%|███████▊                                                                    | 1927/18828 [00:12<01:50, 153.50it/s]"
     ]
    },
    {
     "name": "stdout",
     "output_type": "stream",
     "text": [
      "1927 :   leaking memory resources in 3.1\n",
      "1928 :  WfWorkgroups server goes deaf\n",
      "1929 :  Windows and ATI Ultra sizing question\n",
      "1930 :  HP Laser Jet 4L and Windows\n",
      "1931 :  roman.bmp \n",
      "1932 :         Help Needed w DOS Apps and Windows\n",
      "1933 :   Challenge to Microsoft supporters.\n",
      "1934 :   roman.bmp 0114In response to the requests for cool bitmaps I am posting one.\n",
      "1935 :  Need help with WordPerfect 5.2 for windows\n",
      "1936 :    The DOSMSW meltdown is progressing nicely\n",
      "1937 :   Challenge to Microsoft supporters.\n",
      "1938 :   Challenge to Microsoft supporters.\n",
      "1939 :   What does the .bmp format mean\n",
      "1940 :  Telemate + Windows 3.1 ....Help\n",
      "1941 :  Changing Windows fonts\n",
      "1942 :   Challenge to Microsoft supporters.\n",
      "1943 :  NeXTSTEPIntel sneak preview reminder\n",
      "1944 :  RE: Challenge to Microsoft supporters.\n",
      "1945 :    Required File format of WORD for MSWINDOW File \n",
      "1946 :   Challenge to Microsoft supporters.\n"
     ]
    },
    {
     "name": "stderr",
     "output_type": "stream",
     "text": [
      "\r",
      " 10%|███████▊                                                                    | 1947/18828 [00:12<01:42, 164.11it/s]"
     ]
    },
    {
     "name": "stdout",
     "output_type": "stream",
     "text": [
      "1947 :   Challenge to Microsoft supporters.\n",
      "1948 :    The DOSMSW meltdown is progressing nicely\n",
      "1949 :  Coda Music: Finale and Petrucci font problem\n",
      "1950 :  HOW Can I make MPEG Sound\n",
      "1951 :  Why I am not using Dos 6 anymore\n",
      "1952 :  Windows NT how to get the BETA\n",
      "1953 :  Novell and Windows 3.1\n",
      "1954 :   Drivers for Stealth 24\n",
      "1955 :  Video Benchmarks Wanted\n",
      "1956 :  I need HELP  recording of keymousestrokes in Windows\n",
      "1957 :  PostScript to BMP conversion\n",
      "1958 :  Need iconized printer utility.\n",
      "1959 :   Challenge to Microsoft supporters.\n",
      "1960 :   Need iconized printer utility.\n",
      "1961 :   Challenge to Microsoft supporters.\n",
      "1962 :   Replacement for Program M\n",
      "1963 :   Why is my mouse so JUMPY \n",
      "1964 :   Need iconized printer utility.\n",
      "1965 :  OffLine mail for netnews\n"
     ]
    },
    {
     "name": "stderr",
     "output_type": "stream",
     "text": [
      "\r",
      " 10%|███████▉                                                                    | 1966/18828 [00:12<01:40, 168.20it/s]"
     ]
    },
    {
     "name": "stdout",
     "output_type": "stream",
     "text": [
      "1966 :   Need iconized printer utility.\n",
      "1967 :  Problem on DOS box from Windows  this file is compressed...\n",
      "1968 :  WordBasic timedate variables\n",
      "1969 :   Changing Windows fonts\n",
      "1970 :  Which sound board to buy\n",
      "1971 :   Windows and ATI Ultra sizing question\n",
      "1972 :  When will NT be ready\n",
      "1973 :   Why is my mouse so JUMPY \n",
      "1974 :   emm386 and windows\n",
      "1975 :  WordBasic  Visual Basic  MacrosTemplate \n",
      "1976 :  Recommendation for screen capture program\n",
      "1977 :   Hercules Graphite  \n",
      "1978 :  Opinions wanted: Fastest Win Driver for T8900C...\n",
      "1979 :   RE: re: Challenge to Microsoft supporters.\n",
      "1980 :   Equation Editor\n",
      "1981 :   True Type or ATM\n",
      "1982 :  Where to find Diamond Speedstar 24X drivers \n",
      "1983 :  COntrol SYstems analysis PAcKageCOSY_PAK v0.9for Mathematica\n"
     ]
    },
    {
     "name": "stderr",
     "output_type": "stream",
     "text": [
      "\r",
      " 11%|████████                                                                    | 1984/18828 [00:12<01:49, 154.12it/s]"
     ]
    },
    {
     "name": "stdout",
     "output_type": "stream",
     "text": [
      "1984 :  Windows 3.1 Video Driver\n",
      "1985 :  text editor to handle large files\n",
      "1986 :   re: Challenge to Microsoft supporters.\n",
      "1987 :   Challenge to Microsoft supporters.\n",
      "1988 :  Using Mouse in Dos window\n",
      "1989 :  Driver for Chips & Technologies Video Board Needed\n",
      "1990 :  Any utility that let you remap the keyboard under MS Win\n",
      "1991 :   RE: re: Challenge to Microsoft supporters.\n",
      "1992 :   Challenge to Microsoft supporters.\n",
      "1993 :   re: Challenge to Microsoft supporters.\n",
      "1994 :  Problem: wallpaper display corrupt for bitmaps  512k\n",
      "1995 :   Challenge to Microsoft supporters.\n",
      "1996 :  Workgroups for Windows\n",
      "1997 :  WRK Installation Oddity\n",
      "1998 :  15 bit RGB\n",
      "1999 :  How can I change the Font and Size for the system\n",
      "2000 :  Driver for S3801 2MB Card\n",
      "2001 :  Can OS2 talk to Windows for Workgroups\n",
      "2002 :   Can OS2 talk to Windows for Workgroups\n"
     ]
    },
    {
     "name": "stderr",
     "output_type": "stream",
     "text": [
      "\r",
      " 11%|████████                                                                    | 2003/18828 [00:12<01:43, 161.97it/s]"
     ]
    },
    {
     "name": "stdout",
     "output_type": "stream",
     "text": [
      "2003 :  MS mouse newer as 8.6\n",
      "2004 :   good autoexec.bat and config.sys for windows 3.1\n",
      "2005 :   Challenge to Microsoft supporters.\n",
      "2006 :  Remapping in Procomm+4Windows\n",
      "2007 :  Teacher for Windows NT\n",
      "2008 :   Where to find Diamond Speedstar 24X drivers \n",
      "2009 :   Is there a version of UNIX is vi editor for Windoews 3.1\n",
      "2010 :   Creating a batch file from Windows NT\n",
      "2011 :  Deriving from class Object with OWL\n",
      "2012 :  QUESTIONS about DOS external JOIN command...\n",
      "2013 :   Deriving from class Object with OWL\n",
      "2014 :  DeltaPoints Animated Desktop\n",
      "2015 :  Strange messages when starting Windows\n",
      "2016 :   re: Challenge to Microsoft supporters.\n",
      "2017 :   HP DESKJET 500C\n",
      "2018 :   Challenge to Microsoft supporters.\n",
      "2019 :  Displaying stream output in a Window\n"
     ]
    },
    {
     "name": "stderr",
     "output_type": "stream",
     "text": [
      "\r",
      " 11%|████████▏                                                                   | 2020/18828 [00:12<01:47, 156.26it/s]"
     ]
    },
    {
     "name": "stdout",
     "output_type": "stream",
     "text": [
      "2020 :   re: Challenge to Microsoft supporters.\n",
      "2021 :   Challenge to Microsoft supporters.\n",
      "2022 :   Challenge to Microsoft supporters.\n",
      "2023 :  Hotkey for Screen Saver\n",
      "2024 :  RE: Challenge to Microsoft supporters.\n",
      "2025 :  help\n",
      "2026 :   Challenge to Microsoft supporters.\n",
      "2027 :  Suggestions for WinForWG COM redirection needed\n",
      "2028 :  Mouse Systems driver for mouse control in DOS Window\n",
      "2029 :  How to prevent ctlaltdel from windows.\n",
      "2030 :   Challenge to Microsoft supporters.\n",
      "2031 :   Challenge to Microsoft supporters.\n",
      "2032 :   Challenge to Microsoft supporters.\n",
      "2033 :  Disk Image Question\n",
      "2034 :  Upgrading to Windows NT\n",
      "2035 :   How to prevent ctlaltdel from windows.\n",
      "2036 :   Challenge to Microsoft supporters.\n",
      "2037 :   Why is my mouse so JUMPY  \n",
      "2038 :   good autoexec.bat and config.sys for windows 3.1\n"
     ]
    },
    {
     "name": "stderr",
     "output_type": "stream",
     "text": [
      "\r",
      " 11%|████████▏                                                                   | 2039/18828 [00:12<01:42, 164.15it/s]"
     ]
    },
    {
     "name": "stdout",
     "output_type": "stream",
     "text": [
      "2039 :  Why does My WIndow 3.1 restart my computer\n",
      "2040 :  How to make an RLE file\n",
      "2041 :  MicroCal Origin Working Model  new version uploaded to cica\n",
      "2042 :   Upgrading to Windows NT\n",
      "2043 :   Challenge to Microsoft supporters.\n",
      "2044 :  MS Test HelpQuestion. Is there a newsgroup for it\n",
      "2045 :   EPS CLIP ART  4Sale\n",
      "2046 :  re: Multiple printers through Print Manager\n",
      "2047 :   Diamond Stealth 24\n",
      "2048 :   2 MONITORS FOR WINDOWS\n",
      "2049 :   VBRUN100.dll\n",
      "2050 :  re: VBRUN100.dll\n",
      "2051 :   Adding Icons to Progman.exe\n",
      "2052 :   SOLUTION: Multisetups on standalone EASY\n",
      "2053 :   Challenge to Microsoft supporters.\n",
      "2054 :  32 bit Access\n",
      "2055 :   Floorplan layout program\n"
     ]
    },
    {
     "name": "stderr",
     "output_type": "stream",
     "text": [
      "\r",
      " 11%|████████▎                                                                   | 2056/18828 [00:12<01:48, 154.82it/s]"
     ]
    },
    {
     "name": "stdout",
     "output_type": "stream",
     "text": [
      "2056 :  headtohead win and os2\n",
      "2057 :  Odd mouse behavior\n",
      "2058 :   Hotkey for Screen Saver\n",
      "2059 :   QUESTIONS about DOS external JOIN command...\n",
      "2060 :  Playing MIDI music on ATI Stereo FXCD sound card\n",
      "2061 :  Hotkey for switching to the Program Manager\n",
      "2062 :   Challenge to Microsoft supporters.\n",
      "2063 :   Challenge to Microsoft supporters.\n",
      "2064 :   WinFax files in ASCII format\n",
      "2065 :   Windows 3.1 vs. Communication Proagrams\n",
      "2066 :   headtohead win and os2\n",
      "2067 :   re: Challenge to Microsoft supporters.\n",
      "2068 :  Microsoft BBS number\n",
      "2069 :   SOLUTION: Multisetups on standalone EASY\n",
      "2070 :  S3 Card Problems...\n",
      "2071 :   Hotkey for Screen Saver\n",
      "2072 :   Challenge to Microsoft supporters.\n"
     ]
    },
    {
     "name": "stderr",
     "output_type": "stream",
     "text": [
      "\r",
      " 11%|████████▎                                                                   | 2073/18828 [00:13<01:45, 158.89it/s]"
     ]
    },
    {
     "name": "stdout",
     "output_type": "stream",
     "text": [
      "2073 :   re: Challenge to Microsoft supporters.\n",
      "2074 :   headtohead win and os2\n",
      "2075 :   headtohead win and os2\n",
      "2076 :   headtohead win and os2\n",
      "2077 :  memory\n",
      "2078 :   Data segments and memory model usage\n",
      "2079 :   Challenge to Microsoft supporters.\n",
      "2080 :   Demonstration Creation Program Wanted\n",
      "2081 :   MAC DISKS IN WINDOWS\n",
      "2082 :  My OS is better than your OS, so there Was: Challenge to MS supporters.\n",
      "2083 :   MAC DISKS IN WINDOWS\n",
      "2084 :   Challenge to Microsoft supporters.\n",
      "2085 :   Creating a batch file from Windows NT\n",
      "2086 :  Do we need SDK as well as DDK\n",
      "2087 :   RE: re: Challenge to Microsoft supporters.\n",
      "2088 :  STOP Message Received Running Windows 3.1 Application Menu\n",
      "2089 :  Problem with WinQVTNet 2.81 and DOS 6.0\n"
     ]
    },
    {
     "name": "stderr",
     "output_type": "stream",
     "text": [
      "\r",
      " 11%|████████▍                                                                   | 2090/18828 [00:13<01:50, 151.93it/s]"
     ]
    },
    {
     "name": "stdout",
     "output_type": "stream",
     "text": [
      "2090 :  Anyone heard of _DELTREE_\n",
      "2091 :   Challenge to Microsoft supporters.\n",
      "2092 :   Hotkey for Screen Saver\n",
      "2093 :   MAC DISKS IN WINDOWS\n",
      "2094 :   RE: re: Challenge to Microsoft supporters.\n",
      "2095 :  W4W tables and HPLJ II printer\n",
      "2096 :  TIFF file viewer needed\n",
      "2097 :   TIFF file viewer needed\n",
      "2098 :   MAC DISKS IN WINDOWS\n",
      "2099 :  Chameleon NFS & NE2100 card\n",
      "2100 :   Challenge to Microsoft supporters.\n",
      "2101 :   Challenge to Microsoft supporters.\n",
      "2102 :   Hotkey for switching to the Program Manager\n",
      "2103 :   re: Challenge to Microsoft supporters.\n",
      "2104 :  Help with WScan 104\n",
      "2105 :  WINDOWS EXIT PROBLEM\n",
      "2106 :  Old IrishGaelic TrueType font  synopsis of replies\n",
      "2107 :  DIAMOND 24WINDOWS 3.1 CONFLICT\n",
      "2108 :  Best Sharewarerograms\n",
      "2109 :   Anyone heard of _DELTREE_\n"
     ]
    },
    {
     "name": "stderr",
     "output_type": "stream",
     "text": [
      "\r",
      " 11%|████████▌                                                                   | 2110/18828 [00:13<01:45, 158.94it/s]"
     ]
    },
    {
     "name": "stdout",
     "output_type": "stream",
     "text": [
      "2110 :  Wanted: Hypertext  for Win3.1\n",
      "2111 :   MAC DISKS IN WINDOWS\n",
      "2112 :   Challenge to Microsoft supporters.\n",
      "2113 :   re: Challenge to Microsoft supporters.\n",
      "2114 :  Word for Windows Problems\n",
      "2115 :   MAC DISKS IN WINDOWS\n",
      "2116 :   Challenge to Microsoft supporters.\n",
      "2117 :   Word for Windows Problems\n",
      "2118 :  logic of backup\n",
      "2119 :   Challenge to Microsoft supporters.\n",
      "2120 :   Challenge to Microsoft supporters.\n",
      "2121 :   headtohead win and\n",
      "2122 :   MAC DISKS IN WINDOWS\n",
      "2123 :   logic of backup\n",
      "2124 :   headtohead win and os2\n",
      "2125 :   MAC DISKS IN WINDOWS\n",
      "2126 :   headtohead win and os2\n"
     ]
    },
    {
     "name": "stderr",
     "output_type": "stream",
     "text": [
      "\r",
      " 11%|████████▌                                                                   | 2127/18828 [00:13<01:43, 160.68it/s]"
     ]
    },
    {
     "name": "stdout",
     "output_type": "stream",
     "text": [
      "2127 :   MAC DISKS IN WINDOWS\n",
      "2128 :  Strange Windows problem\n",
      "2129 :   logic of backup\n",
      "2130 :   Challenge to Microsoft supporters.\n",
      "2131 :   headtohead win and os2\n",
      "2132 :   Challenge to Microsoft supporters.\n",
      "2133 :   Challenge to Microsoft supporters.\n",
      "2134 :   MAC DISKS IN WINDOWS\n",
      "2135 :   re: Challenge to Microsoft supporters.\n",
      "2136 :   Challenge to Microsoft supporters.\n",
      "2137 :  More Info on Windows Help Files\n",
      "2138 :   Challenge to Microsoft supporters.\n",
      "2139 :    The DOSMSW meltdown is progressing nicely\n",
      "2140 :   Challenge to Microsoft supporters.\n",
      "2141 :  PANASONIC KPX  TrueType  What is going on\n",
      "2142 :  Please help an Amiga user find comfort in Windows\n",
      "2143 :   Old IrishGaelic TrueType font  synopsis of replies\n",
      "2144 :   Please help an Amiga user find comfort in Windows\n",
      "2145 :  Experiences with DOS 6\n"
     ]
    },
    {
     "name": "stderr",
     "output_type": "stream",
     "text": [
      "\r",
      " 11%|████████▋                                                                   | 2146/18828 [00:13<01:41, 164.89it/s]"
     ]
    },
    {
     "name": "stdout",
     "output_type": "stream",
     "text": [
      "2146 :   Please help an Amiga user find comfort in Windows\n",
      "2147 :  Biobliography program: INFO needed, please.\n",
      "2148 :   headtohead win and os2\n",
      "2149 :  how\n",
      "2150 :  How can I install the Printshop Deluxe in Windows with the Norton Desktop\n",
      "2151 :  Screen snapshot\n",
      "2152 :   Please help an Amiga user find comfort in Windows\n",
      "2153 :  Looking for Medical ClipArts\n",
      "2154 :   ATI AVI drivers\n",
      "2155 :  Font Size for DOS in a Window 800x600x256\n",
      "2156 :  WinPrinter 800  A real deal \n",
      "2157 :   re: Challenge to Microsoft supporters.\n",
      "2158 :   Challenge to Microsoft supporters.\n",
      "2159 :   WinFax files in ASCII format\n",
      "2160 :  EPSON STYLUS 800\n",
      "2161 :   Challenge to Microsoft supporters.\n",
      "2162 :   SMARTDRV AND DBLSPACE\n"
     ]
    },
    {
     "name": "stderr",
     "output_type": "stream",
     "text": [
      "\r",
      " 11%|████████▋                                                                   | 2163/18828 [00:13<01:46, 156.77it/s]"
     ]
    },
    {
     "name": "stdout",
     "output_type": "stream",
     "text": [
      "2163 :   Challenge to Microsoft supporters.\n",
      "2164 :   Challenge to Microsoft supporters.\n",
      "2165 :   SMARTDRV AND DBLSPACE\n",
      "2166 :  PCTools for Windows demo\n",
      "2167 :   AfterDark  out of memory\n",
      "2168 :   Challenge to Microsoft supporters.\n",
      "2169 :   'Info' menu choice in File Manager\n",
      "2170 :   PCTools for Windows demo\n",
      "2171 :   Capturing screen shots\n",
      "2172 :   headtohead win and os2\n",
      "2173 :  Terminal woes\n",
      "2174 :  ATI Graphics Ultra Pro problem\n",
      "2175 :   Challenge to Microsoft supporters.\n",
      "2176 :  Corrected MicroCal Origin package uploaded to CICA\n",
      "2177 :  386 Enchaced Mode with SCSI disk\n",
      "2178 :  CALL FOR PRESENTATIONS: Navy SciVizVR Seminar\n"
     ]
    },
    {
     "name": "stderr",
     "output_type": "stream",
     "text": [
      "\r",
      " 12%|████████▊                                                                   | 2179/18828 [00:13<01:54, 145.87it/s]"
     ]
    },
    {
     "name": "stdout",
     "output_type": "stream",
     "text": [
      "2179 :   document of .RTF\n",
      "2180 :  re: WINBENCH 3.11 help  graphics comparison\n",
      "2181 :   does dos6 defragment\n",
      "2182 :   Windows gripe...\n",
      "2183 :   WinBench\n",
      "2184 :   Norton Desktop for Windows 2.2\n",
      "2185 :   does dos6 defragment\n",
      "2186 :   PCGeos, Windows, OS2, and UnixX11\n",
      "2187 :  Comments on Xtree for Windows \n",
      "2188 :   Is Microsoft Windows really and Ope\n",
      "2189 :   Is Microsoft Windows really and Operating system\n",
      "2190 :  SOUND BLASTER ver 1.5 UNDER WINDOWS 3.1\n",
      "2191 :   Windows gripe...\n",
      "2192 :   ATM or Truetypewhich to choose\n",
      "2193 :   does dos6 defragment\n",
      "2194 :   PCGeos, Windows, OS2, and UnixX11\n",
      "2195 :   Windows On A RAMDRIVE Help...\n"
     ]
    },
    {
     "name": "stderr",
     "output_type": "stream",
     "text": [
      "\r",
      " 12%|████████▊                                                                   | 2196/18828 [00:13<01:49, 151.37it/s]"
     ]
    },
    {
     "name": "stdout",
     "output_type": "stream",
     "text": [
      "2196 :   PCGeos, Windows, OS2, and UnixX11\n",
      "2197 :   win nt\n",
      "2198 :  DOS 6  EMM386  Windows 3.1 PROB\n",
      "2199 :  Windows Shareware Monthly \n",
      "2200 :   ATM or Truetypewhich to choose\n",
      "2201 :  terminal software\n",
      "2202 :   PKUNZIP2.04g\n",
      "2203 :  OTTOMENU ... Where Can I Get it \n",
      "2204 :  RFD: comp.databases.access\n",
      "2205 :   ATM or Truetypewhich to choose \n",
      "2206 :  Mirosoft Office Package\n",
      "2207 :  DOS6  doublespace + stacker 3.0, is it okay\n",
      "2208 :   AmiProDeskjet 500 Printing Problem\n",
      "2209 :   WINBENCH 3.11 help  graphics comparison\n",
      "2210 :   WinBench\n",
      "2211 :   Is Microsoft Windows really and Ope\n"
     ]
    },
    {
     "name": "stderr",
     "output_type": "stream",
     "text": [
      "\r",
      " 12%|████████▉                                                                   | 2212/18828 [00:13<01:52, 147.17it/s]"
     ]
    },
    {
     "name": "stdout",
     "output_type": "stream",
     "text": [
      "2212 :   WinBench\n",
      "2213 :   Mouse on ComOM3 or COM4 in Windows\n",
      "2214 :   AMI Pro 3.0 and equation mode\n",
      "2215 :  Hercules Graphite\n",
      "2216 :   does dos6 defragment\n",
      "2217 :   Mouse on ComOM3 or COM4 in Windows\n",
      "2218 :  Version control for MAC and PC LAN\n",
      "2219 :  File downloading\n",
      "2220 :   Permanaent Swap File with DOS 6.0 dbldisk\n",
      "2221 :  re: Help with WinQVT\n",
      "2222 :   Hercules Graphite\n",
      "2223 :   Help with WinQVT\n",
      "2224 :   Windows 3.1 General Questions\n",
      "2225 :  Fall Comdex '93\n",
      "2226 :   Using Microsoft Foundation Classes with Borland C++ 3.1\n",
      "2227 :  How to fix Word subscript spacing\n"
     ]
    },
    {
     "name": "stderr",
     "output_type": "stream",
     "text": [
      "\r",
      " 12%|████████▉                                                                   | 2228/18828 [00:14<01:52, 148.21it/s]"
     ]
    },
    {
     "name": "stdout",
     "output_type": "stream",
     "text": [
      "2228 :  Character Codes Problems\n",
      "2229 :  Faster OAK VGA drivers\n",
      "2230 :  WORD 2.0 HELP\n",
      "2231 :  Is there any documentation for Microsoft Diagnostics\n",
      "2232 :   Postscript view for DOS or Windows\n",
      "2233 :   multiple desktops\n",
      "2234 :  2nd RFD: comp.databases.msaccess\n",
      "2235 :  Wanted  dialog box to select file for DOS apps\n",
      "2236 :  Win NT  what is it\n",
      "2237 :   copymove files in File Manager\n",
      "2238 :   Can I Change Licensed To Data in Windows 3.1\n",
      "2239 :   multiple desktops\n",
      "2240 :   Can I Change Licensed To Data in Windows 3.1\n",
      "2241 :   Ghostscript for win fonts\n",
      "2242 :  Diamond SS24X, Win 3.1, Mouse cursor\n",
      "2243 :  ATI ultra pro Drivers\n",
      "2244 :   Hercules Graphite\n",
      "2245 :  Procomm Plus for windows problems....\n",
      "2246 :  Quattro Pro File Format\n"
     ]
    },
    {
     "name": "stderr",
     "output_type": "stream",
     "text": [
      "\r",
      " 12%|█████████                                                                   | 2247/18828 [00:14<01:44, 158.42it/s]"
     ]
    },
    {
     "name": "stdout",
     "output_type": "stream",
     "text": [
      "2247 :  GUI Application Frameworks for Windows \n",
      "2248 :   Permanaent Swap File with DOS 6.0 dbldisk\n",
      "2249 :  RE: Win NT  what is it\n",
      "2250 :  RE: Can I Change Licensed To Data in Windows 3.1\n",
      "2251 :   Fall Comdex '93\n",
      "2252 :   Permanaent Swap File with DOS 6.0 dbldisk\n",
      "2253 :   ATI ultra pro Drivers\n",
      "2254 :  Help on bitmaps\n",
      "2255 :   GUI Application Frameworks for Windows \n",
      "2256 :    SpeedSTAR VGA Card Win. Drivers\n",
      "2257 :   Permanent Swap File\n",
      "2258 :   Procomm Plus for windows problems....\n",
      "2259 :  What is REGLOAD.EXE\n",
      "2260 :   page setup in Notepad\n",
      "2261 :  Panasonic KXP1091i Driver\n",
      "2262 :   Can I Change Licensed To Data in Windows 3.1\n",
      "2263 :  re: Help with WinQVT\n"
     ]
    },
    {
     "name": "stderr",
     "output_type": "stream",
     "text": [
      "\r",
      " 12%|█████████▏                                                                  | 2264/18828 [00:14<01:52, 147.49it/s]"
     ]
    },
    {
     "name": "stdout",
     "output_type": "stream",
     "text": [
      "2264 :   Is Anyone Using Video For Windows\n",
      "2265 :  Driver for Panasonic KXP4430\n",
      "2266 :   RE: Win NT  what is it\n",
      "2267 :   RE: Win NT  what is it\n",
      "2268 :   Win NT  what is it\n",
      "2269 :   Procomm Plus for windows problems....\n",
      "2270 :   WORD 2.0 HELP\n",
      "2271 :   Need Windowslogo\n",
      "2272 :  WANTED: Symantec address\n",
      "2273 :  WANTED: Address SYMANTEC\n",
      "2274 :  RE: Can I Change Licensed To Data in Windows 3.1\n",
      "2275 :   GUI Application Frameworks for Windows \n",
      "2276 :   Hercules Graphite\n",
      "2277 :   Diamond SS24X, Win 3.1, Mouse cursor\n",
      "2278 :   Win NT  what is it\n",
      "2279 :   Procomm Plus for windows problems....\n",
      "2280 :   Win NT  what is it\n",
      "2281 :  How do I make GhostScript work\n"
     ]
    },
    {
     "name": "stderr",
     "output_type": "stream",
     "text": [
      "\r",
      " 12%|█████████▏                                                                  | 2282/18828 [00:14<01:46, 155.50it/s]"
     ]
    },
    {
     "name": "stdout",
     "output_type": "stream",
     "text": [
      "2282 :  Windows 3.1 keeps crashing: Please HELP\n",
      "2283 :   Permanaent Swap File with DOS 6.0 dbldisk\n",
      "2284 :   Permanent Swap File\n",
      "2285 :   WANTED: Address SYMANTEC\n",
      "2286 :  How do I make GhostScript work\n",
      "2287 :  Cirrus Logic 5426 Graph Card\n",
      "2288 :   Procomm Plus for windows problems....\n",
      "2289 :  Any updated Canon BJ200 driver\n",
      "2290 :  Windows for WorkGroups and LAN Workplace\n",
      "2291 :   WORD 2.0 HELP\n",
      "2292 :  RE: Can I Change Licensed To Data in Windows 3.1\n",
      "2293 :  RE: page setup in Notepad\n",
      "2294 :  RE: Need Windowslogo\n",
      "2295 :  Any updated Canon BJ200 driver\n",
      "2296 :   Any good sound formats conversion program out there\n",
      "2297 :   Can I Change Licensed To Data in Windows 3.1\n"
     ]
    },
    {
     "name": "stderr",
     "output_type": "stream",
     "text": [
      "\r",
      " 12%|█████████▎                                                                  | 2298/18828 [00:14<02:05, 131.25it/s]"
     ]
    },
    {
     "name": "stdout",
     "output_type": "stream",
     "text": [
      "2298 :   Procomm Plus for windows problems....\n",
      "2299 :  Gatewaying Microsoft MailWorkgroups via 9600 modem\n",
      "2300 :   Win NT  what is it\n",
      "2301 :   Windows 3.1 keeps crashing: Please HELP\n",
      "2302 :   Diamond SS24X, Win 3.1, Mouse cursor\n",
      "2303 :   Win NT  what is it\n",
      "2304 :  .GIF to .BMP\n",
      "2305 :   Diamond SS24X, Win 3.1, Mouse cursor\n",
      "2306 :   Windows for WorkGroups and LAN Workplace\n",
      "2307 :  Dataproducts LZR1260 not printing correctly\n",
      "2308 :  Dataproducts LZR1260 not printing correctly\n",
      "2309 :  Dataproducts LZR1260 not printing correctly\n",
      "2310 :  Dataproducts LZR1260 not printing correctly\n",
      "2311 :   ATM...  ==  Now HPLJ 4 Pricing\n",
      "2312 :   Procomm Plus for windows problems....\n",
      "2313 :  More Cool BMP files\n",
      "2314 :   Panasonic KXP1091i Driver\n",
      "2315 :   .GIF to .BMP\n"
     ]
    },
    {
     "name": "stderr",
     "output_type": "stream",
     "text": [
      "\r",
      " 12%|█████████▎                                                                  | 2316/18828 [00:14<01:57, 140.37it/s]"
     ]
    },
    {
     "name": "stdout",
     "output_type": "stream",
     "text": [
      "2316 :   Can I Change Licensed To Data in Windows 3.1\n",
      "2317 :   Diamond SS24X, Win 3.1, Mouse cursor\n",
      "2318 :  NDW Norton Desktop for Windows\n",
      "2319 :  TrueType fonts that display but do not print.\n",
      "2320 :   NDW Norton Desktop for Windows\n",
      "2321 :   Cirrus Logic 5426 Graph Card\n",
      "2322 :   Can I Change Licensed To Data in Windows 3.1\n",
      "2323 :  W4W: printing envelops on DJ550C \n",
      "2324 :   NDW Norton Desktop for Windows\n",
      "2325 :  Cool background patterns\n",
      "2326 :   NDW Norton Desktop for Windows\n",
      "2327 :   TrueType fonts that display but do not print.\n",
      "2328 :   Hercules Graphite\n",
      "2329 :   Can I Change Licensed To Data in Windows 3.1\n",
      "2330 :  What about SMARTDRV DOUBLE_BUFFER\n",
      "2331 :  WINHELP.EXE virus\n",
      "2332 :  Qestion about amipro demo files on cica\n",
      "2333 :   Postscript view for DOS or Windows\n",
      "2334 :   Xemulator\n"
     ]
    },
    {
     "name": "stderr",
     "output_type": "stream",
     "text": [
      "\r",
      " 12%|█████████▍                                                                  | 2335/18828 [00:14<01:48, 151.88it/s]"
     ]
    },
    {
     "name": "stdout",
     "output_type": "stream",
     "text": [
      "2335 :  last\n",
      "2336 :   DOS font size in windows\n",
      "2337 :  Need help with WordPerfect for Windows...\n",
      "2338 :  Canon BJ200  and HP DeskJet 500...\n",
      "2339 :  Anyone use Number 9 GXE video card\n",
      "2340 :  keyboard specifications\n",
      "2341 :  Page numbering problem with WFW & Canon BJ10e\n",
      "2342 :   GUI Application Frameworks for Windows \n",
      "2343 :  Is mswindows a mature OS\n",
      "2344 :   How do I make GhostScript work\n",
      "2345 :    DOS font size in windows\n",
      "2346 :   Is mswindows a mature OS\n",
      "2347 :   WPPCF, Linux, RISC\n",
      "2348 :  Need video drivers for Tseng Truecolor \n",
      "2349 :  Can I only insert 16 color pics in WfW2.0\n",
      "2350 :  Internal Speaker Driver\n",
      "2351 :   Is mswindows a mature OS\n"
     ]
    },
    {
     "name": "stderr",
     "output_type": "stream",
     "text": [
      "\r",
      " 12%|█████████▍                                                                  | 2352/18828 [00:14<01:52, 146.34it/s]"
     ]
    },
    {
     "name": "stdout",
     "output_type": "stream",
     "text": [
      "2352 :  MIDI files on MSWin3.1 and SoundBlaster 1.0\n",
      "2353 :  Any video gurus feel like attacking this quirk...\n",
      "2354 :   Win NT  what is it\n",
      "2355 :   Need help with WP for Windows\n",
      "2356 :   Need video drivers for Tseng Truecolor \n",
      "2357 :  FTP tool for Windows\n",
      "2358 :  Fahrenheit 1280+ problems, help\n",
      "2359 :  48633 WIN3.1 HANG\n",
      "2360 :  Win3.1 Config.Sys query\n",
      "2361 :  WANTED: Info on AsymetrixToolbook\n",
      "2362 :    DOS font size in windows\n",
      "2363 :  WANTED: Xterm emulator for windows 3.1\n",
      "2364 :   Diamond SS24X, Win 3.1, Mouse cursor\n",
      "2365 :  EMM386.EXE and Windows and Dos6\n",
      "2366 :   48633 WIN3.1 HANG\n",
      "2367 :   RE: Win NT  what is it\n",
      "2368 :  FTPsite for .WAVfiles\n",
      "2369 :  moving icons\n",
      "2370 :  Pixel font\n"
     ]
    },
    {
     "name": "stderr",
     "output_type": "stream",
     "text": [
      "\r",
      " 13%|█████████▌                                                                  | 2371/18828 [00:15<01:45, 156.01it/s]"
     ]
    },
    {
     "name": "stdout",
     "output_type": "stream",
     "text": [
      "2371 :   Anyone use Number 9 GXE video card\n",
      "2372 :  Need help setting PIF for games\n",
      "2373 :   WPPCF, Linux, RISC\n",
      "2374 :  Window start up position for app, how\n",
      "2375 :   WANTED: Info on AsymetrixToolbook\n",
      "2376 :   Borland is Paradox Offer\n",
      "2377 :  WINWORD and QUATTROPROProblems on a notebook\n",
      "2378 :  How do I quickly switch between Windows screen resolutions\n",
      "2379 :  How to Transfer to Video Tape\n",
      "2380 :  Okidata 2410 printer driver\n",
      "2381 :  Diamond Speedstar Driver for v3.1\n",
      "2382 :   Win NT  what is it\n",
      "2383 :    DOS font size in windows\n",
      "2384 :   Windows NT FAQ\n",
      "2385 :   Questions about Windows NT.  Help\n",
      "2386 :   Windows 3.1 keeps crashing: Please HELP\n",
      "2387 :   WPPCF, Linux, RISC\n"
     ]
    },
    {
     "name": "stderr",
     "output_type": "stream",
     "text": [
      "\r",
      " 13%|█████████▋                                                                  | 2388/18828 [00:15<01:49, 150.30it/s]"
     ]
    },
    {
     "name": "stdout",
     "output_type": "stream",
     "text": [
      "2388 :  Fax software for windows\n",
      "2389 :  More Cool BMP files\n",
      "2390 :   Using Microsoft Foundation Classes with Borland C++ 3.1\n",
      "2391 :   Anyone know stacker is email address\n",
      "2392 :   Need help writing MS EXCEL macro\n",
      "2393 :  Win 3.1 startup screen downgraded to win 3.0 startup screen \n",
      "2394 :   Borland is Paradox Offer\n",
      "2395 :   How do I quickly switch between Windows screen resolutions\n",
      "2396 :   Diamond Speedstar Driver for v3.1\n",
      "2397 :   More Cool BMP files\n",
      "2398 :   Using Microsoft Foundation Classes with Borland C++ 3.1\n",
      "2399 :   Windows 3.1 keeps crashing: Please HELP\n",
      "2400 :   Questions about Windows NT.  Help\n",
      "2401 :   moving icons\n",
      "2402 :   WPPCF, Linux, RISC\n",
      "2403 :  Windows Speaker Sound Driver\n",
      "2404 :   Window start up position for app, how\n",
      "2405 :  Windows 3.1 slower using DOS 6 \n",
      "2406 :   Windows Speaker Sound Driver\n"
     ]
    },
    {
     "name": "stderr",
     "output_type": "stream",
     "text": [
      "\r",
      " 13%|█████████▋                                                                  | 2407/18828 [00:15<01:43, 158.49it/s]"
     ]
    },
    {
     "name": "stdout",
     "output_type": "stream",
     "text": [
      "2407 :  Save my hard disk  \n",
      "2408 :  FORTRAN library for MSWindows\n",
      "2409 :  Wallpaper in Windows 3.1\n",
      "2410 :  Wincmd  trouble with string variables\n",
      "2411 :  Quicken 6 vs. Tobias' Managing Your Money\n",
      "2412 :  format a:s under Win. & DOS6 \n",
      "2413 :  exit codes (dossorry for wrong group : (\n",
      "2414 :   Diamond SS24X, Win 3.1, Mouse cursor\n",
      "2415 :  Setting up threeuser accounting system with WFWG\n",
      "2416 :   WPPCF, Linux, RISC\n",
      "2417 :   Help: Importing .EPS files into Word 2.0\n",
      "2418 :   Windows Help\n",
      "2419 :   More Cool BMP files\n",
      "2420 :   Wallpaper in Windows 3.1\n",
      "2421 :   Windows hangs on 486DX33\n",
      "2422 :  Speedstar 24X & Windows Enhanced Mode\n",
      "2423 :   Windows for WorkGroups and LAN Workplace\n"
     ]
    },
    {
     "name": "stderr",
     "output_type": "stream",
     "text": [
      "\r",
      " 13%|█████████▊                                                                  | 2424/18828 [00:15<01:48, 151.12it/s]"
     ]
    },
    {
     "name": "stdout",
     "output_type": "stream",
     "text": [
      "2424 :   Windows for WorkGroups and LAN Workplace\n",
      "2425 :   Wallpaper in Windows 3.1\n",
      "2426 :  Utility for updating Win.ini and system.ini\n",
      "2427 :   moving icons\n",
      "2428 :   Windows Help\n",
      "2429 :  TrueType font mixup Times=Cyrillic\n",
      "2430 :   TOP30 WINDOWS applications \n",
      "2431 :   Quicken 6 vs. Tobias' Managing Your Money\n",
      "2432 :  VideoBlaster & PC SPEAKER\n",
      "2433 :  C7 linksegment problem \n",
      "2434 :   Utility for updating Win.ini and system.ini\n",
      "2435 :  MathCad 4.0 vs NDW 2.2\n",
      "2436 :  Diamond Speedstar 24X Driver Bug\n",
      "2437 :  Trident 8900 CL 1280x1024 driver\n",
      "2438 :  Q: Change icons forever\n",
      "2439 :   Utility for updating Win.ini and system.ini\n",
      "2440 :  color or Monochrome\n",
      "2441 :  ATI Ultra Pro Confirmation\n",
      "2442 :  Workgroup Questions \n",
      "2443 :  Serial Printing\n"
     ]
    },
    {
     "name": "stderr",
     "output_type": "stream",
     "text": [
      "\r",
      " 13%|█████████▊                                                                  | 2444/18828 [00:15<01:41, 161.78it/s]"
     ]
    },
    {
     "name": "stdout",
     "output_type": "stream",
     "text": [
      "2444 :   Quicken 6 vs. Tobias' Managing Your Money\n",
      "2445 :  MathCad 4.0 swap file\n",
      "2446 :   Is mswindows a mature OS\n",
      "2447 :   Utility for updating Win.ini and system.ini\n",
      "2448 :   ATI Ultra Pro Confirmation\n",
      "2449 :   MathCad 4.0 swap file\n",
      "2450 :   Gatewaying Microsoft MailWorkgroups via 96\n",
      "2451 :   Is mswindows a mature OS\n",
      "2452 :  PCTCP onpredir with Windows\n",
      "2453 :  ATM\n",
      "2454 :  More Diamond SS 24X\n",
      "2455 :  More Diamond SS 24X\n",
      "2456 :  X Windows for windows\n",
      "2457 :   WPPCF, Linux, RISC\n",
      "2458 :   Utility for updating Win.ini and system.ini\n",
      "2459 :   How do I quickly switch between Windows screen resolutions\n",
      "2460 :   ATI ultra pro Drivers \n"
     ]
    },
    {
     "name": "stderr",
     "output_type": "stream",
     "text": [
      "\r",
      " 13%|█████████▉                                                                  | 2461/18828 [00:15<01:50, 147.45it/s]"
     ]
    },
    {
     "name": "stdout",
     "output_type": "stream",
     "text": [
      "2461 :  Running C++ EXE under Windows 3.1\n",
      "2462 :  Win3.1 font with MACRONS\n",
      "2463 :   Borland is Paradox Offer\n",
      "2464 :   More Cool BMP files\n",
      "2465 :   WPPCF, Linux, RISC\n",
      "2466 :     Norton Desktop Smartcan vs. Norton Util is EP\n",
      "2467 :  Character missing in TTF\n",
      "2468 :   Windows Help\n",
      "2469 :  Losing dark colors of my icons\n",
      "2470 :   Utility for updating Win.ini and system.ini\n",
      "2471 :   Is mswindows a mature OS\n",
      "2472 :   MathCad 4.0 swap file\n",
      "2473 :   Windows 3.1 slower using DOS 6 \n",
      "2474 :   icons gone\n",
      "2475 :   ATM\n",
      "2476 :  RE Diamond SS 24X\n",
      "2477 :  WINQVTNET with NDIS on Token Ring \n",
      "2478 :  Trumpet for Windows & other news readers\n",
      "2479 :  Diamond Viper\n",
      "2480 :  Proteced Mode\n"
     ]
    },
    {
     "name": "stderr",
     "output_type": "stream",
     "text": [
      "\r",
      " 13%|██████████                                                                  | 2481/18828 [00:15<01:43, 158.18it/s]"
     ]
    },
    {
     "name": "stdout",
     "output_type": "stream",
     "text": [
      "2481 :   Utility for updating Win.ini and system.ini\n",
      "2482 :   Trumpet for Windows & other news readers\n",
      "2483 :  Telix Problem\n",
      "2484 :  Black Screen of Death, Windows, Novell\n",
      "2485 :  Telix problem\n",
      "2486 :  serial printing in Windows\n",
      "2487 :   Windows Speaker Sound Driver\n",
      "2488 :  Mathcad 4.0 swap file\n",
      "2489 :   Win NT  what is it\n",
      "2490 :   ATM\n",
      "2491 :   Windows 3.1 slower using DOS 6 \n",
      "2492 :  BOCA XGA3 woes\n",
      "2493 :  Help w Greenleaf CommLib 4.0\n",
      "2494 :  FileManager: strange sizes in summary line\n",
      "2495 :   Save my hard disk  \n",
      "2496 :   Diamond Speedstar Driver for v3.1\n",
      "2497 :   Cirrus Logic 5426 Graph Card\n",
      "2498 :   TrueType fonts that display but do not print.\n",
      "2499 :  Summary: ATI Graphics Ultra Questions etc\n"
     ]
    },
    {
     "name": "stderr",
     "output_type": "stream",
     "text": [
      "\r",
      " 13%|██████████                                                                  | 2500/18828 [00:15<01:38, 166.48it/s]"
     ]
    },
    {
     "name": "stdout",
     "output_type": "stream",
     "text": [
      "2500 :   YOWZA: SLOOOOWWWW printing from dos\n",
      "2501 :  Windows Errors and a bad memory\n",
      "2502 :  Bar code fonts\n",
      "2503 :  DOS 6 vfintd.386 and Windows sys.ini\n",
      "2504 :  Books for writing thesis in WfW\n",
      "2505 :   Trumpet for Windows & other news readers\n",
      "2506 :   X Windows for windows\n",
      "2507 :  cica mirror\n",
      "2508 :   WINQVTNET with NDIS on Token Ring \n",
      "2509 :   Utility for updating Win.ini and system.ini\n",
      "2510 :  speeding up windows\n",
      "2511 :  Windows and multiple monitors 10m apart\n",
      "2512 :  Order of files written when exitting windows\n",
      "2513 :   How do I quickly switch between Windows screen resolutions\n",
      "2514 :   Windows Speaker Sound Driver\n",
      "2515 :   Trumpet for Windows & other news readers\n",
      "2516 :   EMM386.EXE and Windows and Dos6\n",
      "2517 :  Does Win3.1 use a math coprocessor\n"
     ]
    },
    {
     "name": "stderr",
     "output_type": "stream",
     "text": [
      "\r",
      " 13%|██████████▏                                                                 | 2518/18828 [00:15<01:45, 153.93it/s]"
     ]
    },
    {
     "name": "stdout",
     "output_type": "stream",
     "text": [
      "2518 :   How can I use the mouse in NONWindows applications under MSWINDOWS \n",
      "2519 :   Workgroup Questions \n",
      "2520 :   speeding up windows\n",
      "2521 :  comm.drv replacement\n",
      "2522 :   FileManager: strange sizes in summary line\n",
      "2523 :   Quicken 6 vs. Tobias' Managing Your Money\n",
      "2524 :  Cornerstone DualPage driver wanted\n",
      "2525 :  Printer security\n",
      "2526 :   cica mirror\n",
      "2527 :   mouse on COM3 under Windows 3.1 \n",
      "2528 :   ATM\n",
      "2529 :  Many people on one machine\n",
      "2530 :  Trnasfering binary files from Terminal to UNIX\n",
      "2531 :   Order of files written when exitting windows\n",
      "2532 :   Diamond SS 24X\n",
      "2533 :  Searching for a phonetic font\n"
     ]
    },
    {
     "name": "stderr",
     "output_type": "stream",
     "text": [
      "\r",
      " 13%|██████████▏                                                                 | 2534/18828 [00:16<01:46, 153.38it/s]"
     ]
    },
    {
     "name": "stdout",
     "output_type": "stream",
     "text": [
      "2534 :  Workspace Manager for Win 3.1 \n",
      "2535 :   Searching for a phonetic font\n",
      "2536 :   Windows for WorkGroups and LAN Workplace\n",
      "2537 :  VB Decompiler\n",
      "2538 :   Windows Speaker Sound Driver\n",
      "2539 :   Need longer filenames\n",
      "2540 :   How can I use the mouse in NONWindows applications under MSWINDOWS \n",
      "2541 :   More Cool BMP files\n",
      "2542 :  Hard drive compression ie, stacker.superstor etc.\n",
      "2543 :   How can I use the mouse in NONWindows applications under MSWINDOWS \n",
      "2544 :  Why is my mouse so JUMPY  \n",
      "2545 :  MSWindows access for the blind\n",
      "2546 :   MSWindows access for the blind\n",
      "2547 :  Postscript File Viewer\n",
      "2548 :  Looking for printer driver\n",
      "2549 :   Looking for printer driver\n"
     ]
    },
    {
     "name": "stderr",
     "output_type": "stream",
     "text": [
      "\r",
      " 14%|██████████▎                                                                 | 2550/18828 [00:16<01:51, 145.45it/s]"
     ]
    },
    {
     "name": "stdout",
     "output_type": "stream",
     "text": [
      "2550 :   Diamond SS 24X\n",
      "2551 :   How can I use the mouse in NONWindows applications under MSWINDOWS \n",
      "2552 :  How to hold the control to a window object\n",
      "2553 :   Telix problem\n",
      "2554 :   MIDI files on MSWin3.1 and SoundBlaster 1.0\n",
      "2555 :   Trumpet for Windows & other news readers\n",
      "2556 :  Wanted sample source for editing controls\n",
      "2557 :   speeding up windows\n",
      "2558 :  Windows Disk Drive Test availabel\n",
      "2559 :  re: Canon BJ200  and HP DeskJet 500...\n",
      "2560 :   moving icons\n",
      "2561 :   Workspace Manager for Win 3.1 \n",
      "2562 :   Canon BJ200  and HP DeskJet 500...\n",
      "2563 :  Out of environment space running BAT files from Windows\n",
      "2564 :   Many people on one machine\n",
      "2565 :  In need of help....\n"
     ]
    },
    {
     "name": "stderr",
     "output_type": "stream",
     "text": [
      "\r",
      " 14%|██████████▎                                                                 | 2566/18828 [00:16<01:49, 148.91it/s]"
     ]
    },
    {
     "name": "stdout",
     "output_type": "stream",
     "text": [
      "2566 :   Trident 8900 CL 1280x1024 driver\n",
      "2567 :   ATM\n",
      "2568 :  WinQVTNet V3.4\n",
      "2569 :  New Windows drivers for Cirrus GD5426 graphic cards\n",
      "2570 :   Adaptec SCSI Device Driver for Win3.1\n",
      "2571 :   Canon BJ200  and HP DeskJet 500...\n",
      "2572 :   Utility for updating Win.ini and system.ini\n",
      "2573 :  Data corruption\n",
      "2574 :   WinQVTNet V3.4\n",
      "2575 :   More Cool BMP files\n",
      "2576 :  DOS Quick C 2.5 crashes Windows 3.1\n",
      "2577 :  Turbo C++ Visual Edition adn request was  absolute newbie questions...\n",
      "2578 :   MSWindows access for the blind\n",
      "2579 :  Is it possible \n",
      "2580 :  Help  Disappearing Groups\n",
      "2581 :  Bungee After Dark module uploaded\n",
      "2582 :   DOS 6 vfintd.386 and Windows sys.ini\n"
     ]
    },
    {
     "name": "stderr",
     "output_type": "stream",
     "text": [
      "\r",
      " 14%|██████████▍                                                                 | 2583/18828 [00:16<01:52, 144.57it/s]"
     ]
    },
    {
     "name": "stdout",
     "output_type": "stream",
     "text": [
      "2583 :   How can I use the mouse in NONWindows\n",
      "2584 :   Grey Scale while in windows\n",
      "2585 :  Workspace Managers for Win 3.1  a small review\n",
      "2586 :   WPPCF, Linux, RISC\n",
      "2587 :  DMQS files for XGA2 \n",
      "2588 :  Utility to expand DOS file descriptions in directory listing\n",
      "2589 :  Info on Books on BIOS, 286 etc.\n",
      "2590 :  SIGMA Designs VideoSound card\n",
      "2591 :  Program manager  two questions\n",
      "2592 :  SS 24X Questions\n",
      "2593 :   Canon BJ200  and HP DeskJet 500...\n",
      "2594 :   Program manager  two questions\n",
      "2595 :  Trident VGA Drivers\n",
      "2596 :   More Diamond SS 24X\n",
      "2597 :  Tidying up after removing an OLE server\n",
      "2598 :  File Manager problem\n"
     ]
    },
    {
     "name": "stderr",
     "output_type": "stream",
     "text": [
      "\r",
      " 14%|██████████▍                                                                 | 2599/18828 [00:16<01:49, 147.69it/s]"
     ]
    },
    {
     "name": "stdout",
     "output_type": "stream",
     "text": [
      "2599 :   Help  Disappearing Groups\n",
      "2600 :  List of Favorite Windows Goodies\n",
      "2601 :  Hhy won't my DOS apps run in a window\n",
      "2602 :   Win NT  what is it\n",
      "2603 :   More Diamond SS 24X\n",
      "2604 :  MEWIN Latex Help\n",
      "2605 :   Why is my mouse so JUMPY \n",
      "2606 :  TWAIN drivers for Logitech Scanman\n",
      "2607 :  == MS Windows Sound System, Text to Speach\n",
      "2608 :  Simple Windows question\n",
      "2609 :   WINQVTNET with NDIS on Token Ring \n",
      "2610 :  === EPS display software\n",
      "2611 :   Out of environment space running BAT files from Windows\n",
      "2612 :  Windows Backgrounds\n",
      "2613 :   WPPCF, Linux, RISC\n"
     ]
    },
    {
     "name": "stderr",
     "output_type": "stream",
     "text": [
      "\r",
      " 14%|██████████▌                                                                 | 2614/18828 [00:16<01:51, 145.98it/s]"
     ]
    },
    {
     "name": "stdout",
     "output_type": "stream",
     "text": [
      "2614 :   More Cool BMP files\n",
      "2615 :  Beta testers required for winsock version of Windows Trumpet\n",
      "2616 :   Canon BJ200  and HP DeskJet 500...\n",
      "2617 :  Actix video card drivers for windows\n",
      "2618 :   NT Questions\n",
      "2619 :   Trident VGA Drivers\n",
      "2620 :  Help with a Windows drum machine\n",
      "2621 :  How Redirect PRINT MANAGER To FILE\n",
      "2622 :   Workgroup Questions \n",
      "2623 :   Simple Windows question\n",
      "2624 :  overlapped window without a title bar\n",
      "2625 :  WIN 3.1 comm drivers replacements \n",
      "2626 :   File Manager problem\n",
      "2627 :   Canon BJ200  and HP DeskJet 500...\n",
      "2628 :   Trumpet for Windows & other news readers\n"
     ]
    },
    {
     "name": "stderr",
     "output_type": "stream",
     "text": [
      "\r",
      " 14%|██████████▌                                                                 | 2629/18828 [00:16<01:53, 142.66it/s]"
     ]
    },
    {
     "name": "stdout",
     "output_type": "stream",
     "text": [
      "2629 :  Changing system fonts\n",
      "2630 :   Tidying up after removing an OLE server\n",
      "2631 :   Hhy won't my DOS apps run in a window\n",
      "2632 :  Approach for Windows\n",
      "2633 :   mouse on COM3 under Windows 3.1 \n",
      "2634 :  WORD = BYTE \n",
      "2635 :  WINNLS.DLL\n",
      "2636 :  Canon buble jet printer\n",
      "2637 :  For Sale: Harvard Graphics for Windows\n",
      "2638 :  768x1024 Trident Driver Wanted\n",
      "2639 :   WinQVTNet V3.4\n",
      "2640 :   exit codes (dossorry for wrong group : (\n",
      "2641 :   More Cool BMP files\n",
      "2642 :  Program Manager kills my Group files\n",
      "2643 :  How to hold the control to a window object\n"
     ]
    },
    {
     "name": "stderr",
     "output_type": "stream",
     "text": [
      "\r",
      " 14%|██████████▋                                                                 | 2644/18828 [00:16<01:55, 139.78it/s]"
     ]
    },
    {
     "name": "stdout",
     "output_type": "stream",
     "text": [
      "2644 :   overlapped window without a title bar\n",
      "2645 :   Need longer filenames\n",
      "2646 :  Re^2: ATM\n",
      "2647 :   Beta testers required for winsock version of Windows Trumpet\n",
      "2648 :  Please Refresh On Internet Access To CompuServe\n",
      "2649 :  I hate to make a decision \n",
      "2650 :  FAST DOS'VGA and 1024x768x256 windows video card info needed.\n",
      "2651 :   cica mirror\n",
      "2652 :  re: I hate to make a decision \n",
      "2653 :   Bernoulli DrivesDisks...\n",
      "2654 :   More Cool BMP files\n",
      "2655 :  Bigger window headings\n",
      "2656 :  Soundblaster v2.0 drivers for Win 3.1\n",
      "2657 :  Question about LocalTalkAppleShare on MSDOS system\n",
      "2658 :  VB to MSACCESS DDE communications\n",
      "2659 :  Video cards with BNC connectors\n",
      "2660 :  help: object appears thrice\n",
      "2661 :  realizing colourswin.ini setting changes to y automatically:\n",
      "2662 :   Program manager  two questions\n"
     ]
    },
    {
     "name": "stderr",
     "output_type": "stream",
     "text": [
      "\r",
      " 14%|██████████▋                                                                 | 2663/18828 [00:16<01:46, 151.25it/s]"
     ]
    },
    {
     "name": "stdout",
     "output_type": "stream",
     "text": [
      "2663 :  WinWord  Spelling Dictionaries for nonUS English \n",
      "2664 :   Why is my mouse so JUMPY \n",
      "2665 :   More Diamond SS 24X\n",
      "2666 :  Winword grammer checker saved my liff\n",
      "2667 :   Visual c++\n",
      "2668 :  Help with changing Startup logo\n",
      "2669 :  protection fault\n",
      "2670 :   Why is my mouse so JUMPY \n",
      "2671 :  ZModem up and download with WinQVT\n",
      "2672 :   exit codes (dossorry for wrong group : (\n",
      "2673 :  W4WG & Novell\n",
      "2674 :  Drivers for Stealth 24\n",
      "2675 :  Windows Locks up with green lines down the Screen\n",
      "2676 :   Please Refresh On Internet Access To CompuServe\n",
      "2677 :   Help with changing Startup logo\n",
      "2678 :   How Redirect PRINT MANAGER To FILE\n",
      "2679 :   protection fault\n",
      "2680 :   Help with changing Startup logo\n",
      "2681 :  CTRLALT DEL locks the computer fafter Windows\n"
     ]
    },
    {
     "name": "stderr",
     "output_type": "stream",
     "text": [
      "\r",
      " 14%|██████████▊                                                                 | 2682/18828 [00:17<01:40, 160.63it/s]"
     ]
    },
    {
     "name": "stdout",
     "output_type": "stream",
     "text": [
      "2682 :  Windows NT und XWindows\n",
      "2683 :  Windows NT, HELP PLEASE HELP\n",
      "2684 :  Embedded TrueType Fonts\n",
      "2685 :  workaround for Citizen drivers\n",
      "2686 :  Windows 3.1 or DOS 5.0 or SMARTDRV or \n",
      "2687 :   Please Refresh On Internet Access To CompuServe\n",
      "2688 :   workaround for Citizen drivers\n",
      "2689 :   workaround for Citizen drivers\n",
      "2690 :  LOOKING FOR THE LATEST ACTIX DRIVERS FOR WINDOWS\n",
      "2691 :   Workspace Managers for Win 3.1  a small review\n",
      "2692 :   Visual c++\n",
      "2693 :   Why is my mouse so JUMPY \n",
      "2694 :   Bernoulli DrivesDisks...\n",
      "2695 :  Looking for Tom Haapanen\n",
      "2696 :   W4WG & Novell\n",
      "2697 :   FAST DOS'VGA and 1024x768x256 windows video card info needed.\n",
      "2698 :   Program manager  two questions\n",
      "2699 :   Canon BJ200  and HP DeskJet 500...\n"
     ]
    },
    {
     "name": "stderr",
     "output_type": "stream",
     "text": [
      "\r",
      " 14%|██████████▉                                                                 | 2700/18828 [00:17<01:38, 164.13it/s]"
     ]
    },
    {
     "name": "stdout",
     "output_type": "stream",
     "text": [
      "2700 :  MONOUMB.386\n",
      "2701 :   Visual c++\n",
      "2702 :  Off Line Mail\n",
      "2703 :  WordBasic SDK\n",
      "2704 :  Viewsonic 17 experience sought\n",
      "2705 :   Bernoulli DrivesDisks...\n",
      "2706 :  80 col. mail messages in MS Windows editors\n",
      "2707 :   Canon BJ200  and HP DeskJet 500...\n",
      "2708 :  Ami Pro 3.0 and PCTools compress Doesn't like being moved\n",
      "2709 :   W4WG & Novell\n",
      "2710 :  DOS 6.)\n",
      "2711 :   Canon BJ200  and HP DeskJet 500...\n",
      "2712 :  Reboot when I start windows.\n",
      "2713 :  SUMMARY: BorlandMicrosoft Database C Libraries\n",
      "2714 :   Telephone # of Cirrus Logic\n",
      "2715 :   Program manager  two questions\n",
      "2716 :   Drivers for Stealth 24\n"
     ]
    },
    {
     "name": "stderr",
     "output_type": "stream",
     "text": [
      "\r",
      " 14%|██████████▉                                                                 | 2717/18828 [00:17<01:41, 159.40it/s]"
     ]
    },
    {
     "name": "stdout",
     "output_type": "stream",
     "text": [
      "2717 :  Mouse Jumpiness Solved\n",
      "2718 :  Is Kermit available for Windows 3.03.1\n",
      "2719 :   SUMMARY: BorlandMicrosoft Database C Libraries\n",
      "2720 :  winNT file systems\n",
      "2721 :  Mail_Order Sales, Billing, Receivables program\n",
      "2722 :   Ami Pro 3.0 and PCTools compress Doesn't like being moved\n",
      "2723 :   Workspace Managers for Win 3.1  a small review\n",
      "2724 :  DOS6W4WG Problem\n",
      "2725 :   Canon BJ200  and HP DeskJet 500...\n",
      "2726 :  For Sale: Borland C++ w Application Frameworks 3.1\n",
      "2727 :  Strange 386 enhanced behavior...\n",
      "2728 :   Why is my mouse so JUMPY \n",
      "2729 :   WINQVTNET with NDIS on Token Ring \n",
      "2730 :   More Diamond SS 24X\n",
      "2731 :  What does the .bmp format mean\n",
      "2732 :  DLL is and RegisterClassCreateWindow\n",
      "2733 :  roman.bmp 0114In response to the requests for cool bitmaps I am posting one.\n"
     ]
    },
    {
     "name": "stderr",
     "output_type": "stream",
     "text": [
      "\r",
      " 15%|███████████                                                                 | 2734/18828 [00:17<01:41, 158.58it/s]"
     ]
    },
    {
     "name": "stdout",
     "output_type": "stream",
     "text": [
      "2734 :  roman 0214 \n",
      "2735 :  roman 0314\n",
      "2736 :  roman.bmp 0414\n",
      "2737 :  roman.bmp 0514\n",
      "2738 :  roman.bmp 0714\n",
      "2739 :  roman.bmp 0614\n",
      "2740 :  roman.bmp 0814\n",
      "2741 :  roman.bmp 1014\n",
      "2742 :  roman.bmp 0914 Part 9 of 14 \n",
      "2743 :  roman.bmp 1114 \n",
      "2744 :  roman.bmp 1314\n",
      "2745 :  roman.bmp 1214 \n",
      "2746 :  Stealth 24 Video Drivers\n",
      "2747 :  roman.bmp 1414\n",
      "2748 :  Netware 3.11 & win 3.1 fileman\n",
      "2749 :  re: BBBBIG problem with W4W print file. Help\n",
      "2750 :   Tidying up after removing an OLE server\n"
     ]
    },
    {
     "name": "stderr",
     "output_type": "stream",
     "text": [
      "\r",
      " 15%|███████████                                                                 | 2751/18828 [00:17<01:54, 140.48it/s]"
     ]
    },
    {
     "name": "stdout",
     "output_type": "stream",
     "text": [
      "2751 :   winNT file systems\n",
      "2752 :   Viewsonic 17 experience sought  \n",
      "2753 :  RFD: comp.os.mswindows.nt.{misc,setup}\n",
      "2754 :  DDE frustrations  Can you help\n",
      "2755 :  Dos window macros\n",
      "2756 :  adobe 3.0 and adobe 2.0\n",
      "2757 :  WANTED: bus card for Logitech Mouse\n",
      "2758 :  Flame Therapy\n",
      "2759 :   Warning on Copy II PC Board + Help on Copying\n",
      "2760 :   PC keyboard\n",
      "2761 :  Please help identify video hardware\n",
      "2762 :  How long do monitors last\n",
      "2763 :  ATTN: Ken Smith\n",
      "2764 :   Share your optimization tips\n",
      "2765 :  Gateway 2000 and ATI LB problem.\n",
      "2766 :   GW2000 and SIMMS\n",
      "2767 :   Intel, the Pentium and Linux\n"
     ]
    },
    {
     "name": "stderr",
     "output_type": "stream",
     "text": [
      "\r",
      " 15%|███████████▏                                                                | 2768/18828 [00:17<01:49, 146.50it/s]"
     ]
    },
    {
     "name": "stdout",
     "output_type": "stream",
     "text": [
      "2768 :   warranty extension by credit company: applies to the phurchase of computer\n",
      "2769 :  Another happy Gateway owner\n",
      "2770 :  WinMarks  Where can I get it\n",
      "2771 :   Gateway 2000 and ATI LB problem.\n",
      "2772 :  SIMM for Sale\n",
      "2773 :   The infamous Gateway 2000 videomonitor problem: info requested\n",
      "2774 :   What is a Shadow Mask\n",
      "2775 :   DriveController Compatibility\n",
      "2776 :  COM3 COM4 is there a hardware standard \n",
      "2777 :   Null modem: 25 pin serial\n",
      "2778 :  Wanted: Slot card with VGA + HDDContr.\n",
      "2779 :  How to program a PC Keyboard itself\n",
      "2780 :   DCC and MiniDisc: next DATDDS like st\n",
      "2781 :  Problem: Maxtor LXT340S spins down with no reason\n",
      "2782 :  ati GUP and Vpic\n",
      "2783 :  Thanks \n",
      "2784 :  IRQ Limits  Help\n",
      "2785 :  Is 9801MBsec. HD transfer slow for 486DX50 EISA with UltraStor24F\n",
      "2786 :  486DX50 vs. 486DX250 \n"
     ]
    },
    {
     "name": "stderr",
     "output_type": "stream",
     "text": [
      "\r",
      " 15%|███████████▏                                                                | 2787/18828 [00:17<01:43, 155.59it/s]"
     ]
    },
    {
     "name": "stdout",
     "output_type": "stream",
     "text": [
      "2787 :   I don't understand SI\n",
      "2788 :  DX399\n",
      "2789 :  SIMM Speed\n",
      "2790 :  VESA local bus\n",
      "2791 :  COMPAQ and standard SIMM RAM \n",
      "2792 :  Appletalk hookup\n",
      "2793 :   CMOS memory loss..Any idea why\n",
      "2794 :  RE: 80486DX50 vs 80586DX250\n",
      "2795 :  VGA on atari monoitor \n",
      "2796 :   DX399\n",
      "2797 :  Quantum ProDrive 80AT drive parameters needed\n",
      "2798 :   Diamond Stealth 24 & Windows problems\n",
      "2799 :  8 cards on a 6 card motherboard\n",
      "2800 :  Tape Drive Problems\n",
      "2801 :   Gateway 2000 486DX33 too noisy\n",
      "2802 :   Is 9801MBsec. HD transfer slow for 486DX50 EISA with UltraStor24F\n",
      "2803 :   Share your optimization tips\n"
     ]
    },
    {
     "name": "stderr",
     "output_type": "stream",
     "text": [
      "\r",
      " 15%|███████████▎                                                                | 2804/18828 [00:17<01:49, 146.50it/s]"
     ]
    },
    {
     "name": "stdout",
     "output_type": "stream",
     "text": [
      "2804 :  Help needed\n",
      "2805 :   GW2000 and SIMMS\n",
      "2806 :   warranty extension by credit company: applies to the phurchase of computer\n",
      "2807 :  EPS Technologies; experience anyone\n",
      "2808 :  LOOKING for AD PCBoard\n",
      "2809 :  ZEOS VESA Video Changes & Specs\n",
      "2810 :  Please help \n",
      "2811 :  Looking for books\n",
      "2812 :   Motherboard and BIOs\n",
      "2813 :  NEEDED: ProDesigner IIs drivers\n",
      "2814 :  Modem for Sale\n",
      "2815 :   IBM valuepoint\n",
      "2816 :  NetBIOS and BIOS\n",
      "2817 :   ZEOS VESA Video Changes & Specs\n",
      "2818 :  WEN 20 monitor help\n",
      "2819 :   How much memory for WP for Windows\n",
      "2820 :  SCSI help\n",
      "2821 :  Upgrade 386SX25 to 386DX40 \n",
      "2822 :  BOOT PROBLEM with IDE controller\n"
     ]
    },
    {
     "name": "stderr",
     "output_type": "stream",
     "text": [
      "\r",
      " 15%|███████████▍                                                                | 2823/18828 [00:17<01:42, 155.95it/s]"
     ]
    },
    {
     "name": "stdout",
     "output_type": "stream",
     "text": [
      "2823 :  Floppy file copying\n",
      "2824 :  Needed, large, fast backup utility\n",
      "2825 :   DOS 6.0 Interlink\n",
      "2826 :   DX399\n",
      "2827 :  Local Dealer Service \n",
      "2828 :   Gateway UART chip\n",
      "2829 :  Genius Mouse driver\n",
      "2830 :  Application Errors on WIN31\n",
      "2831 :   SUMMARY: Information on PC is LOCAL BUS specification\n",
      "2832 :  RE: 80486DX50 vs 80586DX250\n",
      "2833 :  Tangent Computer \n",
      "2834 :   SIMM Speed\n",
      "2835 :   Tape Drive Problems\n",
      "2836 :  What is a Rapid Tech SQUEEZE card\n",
      "2837 :   DX399\n",
      "2838 :   Problem with Maxtor 340Mb IDE drive\n",
      "2839 :  DOS Board with 16 ports.\n"
     ]
    },
    {
     "name": "stderr",
     "output_type": "stream",
     "text": [
      "\r",
      " 15%|███████████▍                                                                | 2840/18828 [00:18<01:47, 148.66it/s]"
     ]
    },
    {
     "name": "stdout",
     "output_type": "stream",
     "text": [
      "2840 :   16Mb ISA limit\n",
      "2841 :  Hard disk question\n",
      "2842 :   pcX\n",
      "2843 :  Ram boards on a 486\n",
      "2844 :   HELP MY HARD DRIVE ID MESSED\n",
      "2845 :  LaserJet IV upgrades to 1200dpi opinions\n",
      "2846 :   Why VESA LocalBus \n",
      "2847 :   Another happy Gateway owner\n",
      "2848 :   DOS 6.0\n",
      "2849 :   IDE vs SCSI\n",
      "2850 :   Memory Slot Problem\n",
      "2851 :  Please Help with Purchasing a 486\n",
      "2852 :   Why VESA LocalBus \n",
      "2853 :   ISA to EISA\n",
      "2854 :   Original IBM PC specs\n",
      "2855 :   FD controller question\n",
      "2856 :   Adding hard drive to Original IBM PC\n",
      "2857 :  Western Digital HD info needed\n",
      "2858 :   80486DX50 vs 80486DX250\n",
      "2859 :   Do I need intelligent serial IO\n"
     ]
    },
    {
     "name": "stderr",
     "output_type": "stream",
     "text": [
      "\r",
      " 15%|███████████▌                                                                | 2860/18828 [00:18<01:39, 160.64it/s]"
     ]
    },
    {
     "name": "stdout",
     "output_type": "stream",
     "text": [
      "2860 :  What is the difference between ~30pin and 72pin SIMMS\n",
      "2861 :   Sun CDROM on PCs\n",
      "2862 :  Sorry, another Gateway posting\n",
      "2863 :  Adaptec 1542A problem\n",
      "2864 :  Tape Backup Question\n",
      "2865 :   NEW CDROM for Gateways', and misc. info\n",
      "2866 :  Recommendations for a Local BUS  IDE Controller\n",
      "2867 :  tape backup for windows\n",
      "2868 :  Refresh rates of NEC 5fgx\n",
      "2869 :  FTP Problem on Gateway 486DX50\n",
      "2870 :   Soundblaster IRQ and Port settings\n",
      "2871 :  References needed on Memory Management\n",
      "2872 :   pcX\n",
      "2873 :   Another happy Gateway owner\n",
      "2874 :  WANTED: chipset info\n",
      "2875 :  Wanted: Opinions on MAG 17S and NANAO 560i monitor\n",
      "2876 :   Monitor for XGA\n"
     ]
    },
    {
     "name": "stderr",
     "output_type": "stream",
     "text": [
      "\r",
      " 15%|███████████▌                                                                | 2877/18828 [00:18<01:45, 151.22it/s]"
     ]
    },
    {
     "name": "stdout",
     "output_type": "stream",
     "text": [
      "2877 :   80486DX50 vs 80486DX250\n",
      "2878 :  3rd CFV and VOTE ACK: comp.os.os2.{programmer.porting,setup,multimedia,bugs}\n",
      "2879 :  NCR 1204 external floppy drive\n",
      "2880 :  Help with fixedfrequency  VGA monitor\n",
      "2881 :  Request info on a mystery PC card\n",
      "2882 :  Joystick suggestions\n",
      "2883 :  Info wanted on Tseng Labs ET4000 VLB\n",
      "2884 :   IDE vs SCSI\n",
      "2885 :  Help KA9QEthernet\n",
      "2886 :  Date is stuck\n",
      "2887 :  S3 86c805 w2MB = 1024x768x32k colors = Orchid Pipe Dream\n",
      "2888 :   What is AT BUS CLK Speed\n",
      "2889 :   Soundblaster IRQ and Port settings\n",
      "2890 :  AST Hot Shot 286\n",
      "2891 :  Diamond Speedstar HiColor card\n",
      "2892 :  conner 120mb problem\n",
      "2893 :  Need phone number for Western Digital \n",
      "2894 :  CACHE or Micronics EISAVLB Motherboard\n",
      "2895 :  int15h for joysticks is slow....\n",
      "2896 :   Colorado Jumbo 250 for Gateway 2000\n"
     ]
    },
    {
     "name": "stderr",
     "output_type": "stream",
     "text": [
      "\r",
      " 15%|███████████▋                                                                | 2897/18828 [00:18<01:37, 162.70it/s]"
     ]
    },
    {
     "name": "stdout",
     "output_type": "stream",
     "text": [
      "2897 :   Help  Phar lap\n",
      "2898 :   Help with SIMMs\n",
      "2899 :   com ports modem mouse conflict REALLY\n",
      "2900 :   17 Monitors\n",
      "2901 :   IDE vs SCSI\n",
      "2902 :   IDE vs SCSI\n",
      "2903 :   ESDI with IDE\n",
      "2904 :  FLOPPY DRIVE PROBLEMHELP\n",
      "2905 :  Help with 24bit mode for ATI\n",
      "2906 :   IDE vs SCSI\n",
      "2907 :  Toshiba 3401B CDROM:  Any problems\n",
      "2908 :  Problem with Adaptec 1542B SCSI and Jumbo Tape Drive\n",
      "2909 :   Joystick suggestions\n",
      "2910 :   17 Monitors\n",
      "2911 :   BusLogic 542B questions\n",
      "2912 :   Problem with Adaptec 1542B SCSI and Jumbo Tape Drive\n",
      "2913 :   Western Digital HD info needed\n"
     ]
    },
    {
     "name": "stderr",
     "output_type": "stream",
     "text": [
      "\r",
      " 15%|███████████▊                                                                | 2914/18828 [00:18<01:45, 150.79it/s]"
     ]
    },
    {
     "name": "stdout",
     "output_type": "stream",
     "text": [
      "2914 :   Zeos Computers\n",
      "2915 :   DOS6  no boot disk required if you don't want EMM386 to load\n",
      "2916 :  18008324778 Western Digital  NO REPLY\n",
      "2917 :  Micron Computer, Inc. \n",
      "2918 :  DAC Circuit\n",
      "2919 :   Heatsink needed\n",
      "2920 :  Which highperformance VLB video card\n",
      "2921 :  Booting from B drive\n",
      "2922 :  Info about Fast Centronics, ECP, EPP\n",
      "2923 :   Monitor for XGA\n",
      "2924 :  S3\n",
      "2925 :   Recommendations for a Local BUS  IDE Controller\n",
      "2926 :  An 8051 simulator  is example code available\n",
      "2927 :    WANNA SEX   \n",
      "2928 :  Connection Machine\n",
      "2929 :  ide &scsi controller\n",
      "2930 :  Apple hard disk drive\n",
      "2931 :   Hard disk question\n",
      "2932 :  What video board for my system\n"
     ]
    },
    {
     "name": "stderr",
     "output_type": "stream",
     "text": [
      "\r",
      " 16%|███████████▊                                                                | 2933/18828 [00:18<01:40, 158.81it/s]"
     ]
    },
    {
     "name": "stdout",
     "output_type": "stream",
     "text": [
      "2933 :  48666DX2 \n",
      "2934 :  Mountain Tape Backup\n",
      "2935 :   CTX\n",
      "2936 :   48666DX2 \n",
      "2937 :   IDE vs SCSI\n",
      "2938 :   difference between VLB and ISAEISA\n",
      "2939 :  orchid fahrenheit sparkel...the answers......\n",
      "2940 :  two questions\n",
      "2941 :  EISA tape controllers\n",
      "2942 :   Choosing an appropriate Power SupplyPLEASE HELP\n",
      "2943 :   Why VESA LocalBus \n",
      "2944 :  Q: which of these CDROM players would you choose for OS2\n",
      "2945 :  Perfect MAG MX15F Monitors\n",
      "2946 :  Connecting Apple Laserwriter II to IBM PC\n",
      "2947 :   Shopping for a new  monitor\n",
      "2948 :   Wanted: Opinions on MAG 17S and NANAO 560i monitor\n",
      "2949 :  Hard Disk Utilities\n",
      "2950 :   Recommendations for a Local BUS  IDE Controller\n"
     ]
    },
    {
     "name": "stderr",
     "output_type": "stream",
     "text": [
      "\r",
      " 16%|███████████▉                                                                | 2951/18828 [00:18<01:36, 164.08it/s]"
     ]
    },
    {
     "name": "stdout",
     "output_type": "stream",
     "text": [
      "2951 :  IBM PC Convertible Parts 4Sale\n",
      "2952 :   IDE vs SCSI\n",
      "2953 :   Help with 24bit mode for ATI\n",
      "2954 :   IDE vs SCSI\n",
      "2955 :   Booting from B drive\n",
      "2956 :  PC sound on a SB\n",
      "2957 :  No 32bit box on Gateway\n",
      "2958 :  QUESTION: How to get serial mouse working on IBM notebook L40\n",
      "2959 :   LaserJet IV upgrades to 1200dpi opinions\n",
      "2960 :  Tandberg 3600 + Future Domain TMC1660 + Seagate ST21M problem\n",
      "2961 :  Logitech 2button mouse & BIOS routines availability \n",
      "2962 :   Booting from B drive\n",
      "2963 :   Soundblaster IRQ and Port settings\n",
      "2964 :  Bye\n",
      "2965 :  Help  Installing old HD on older Compaq XT\n",
      "2966 :   Zeos Computers\n",
      "2967 :  What SVGA \n"
     ]
    },
    {
     "name": "stderr",
     "output_type": "stream",
     "text": [
      "\r",
      " 16%|███████████▉                                                                | 2968/18828 [00:18<01:41, 156.44it/s]"
     ]
    },
    {
     "name": "stdout",
     "output_type": "stream",
     "text": [
      "2968 :  AMD CPU\n",
      "2969 :  LEADING TECH QUESTION\n",
      "2970 :  Need Info on high quality video card\n",
      "2971 :  Comments on an accelerated Video Card for ISA bus\n",
      "2972 :  17 monitor with RGBsync to VGA \n",
      "2973 :  FOR SALE DECpc325sxLP\n",
      "2974 :   17 Monitors\n",
      "2975 :   Soundblaster IRQ and Port settings\n",
      "2976 :   IDE vs SCSI\n",
      "2977 :  Orchid P9000 vs Fahrenheit \n",
      "2978 :  Question: Can I connect two harddisk to one controller\n",
      "2979 :  S3 video card at different address\n",
      "2980 :  SWITCH 3.5 TO A:\n",
      "2981 :   Help me select a Backup Solution\n",
      "2982 :  Help Video problems.\n",
      "2983 :   COMMENTS == VIDEO BLASTER \n",
      "2984 :   int15h for joysticks is slow....\n",
      "2985 :  Fujitsu and Seagate IDE Drive Compatibility\n",
      "2986 :  Memory Access Time \n",
      "2987 :   ASUS Motherboards\n"
     ]
    },
    {
     "name": "stderr",
     "output_type": "stream",
     "text": [
      "\r",
      " 16%|████████████                                                                | 2988/18828 [00:19<01:35, 165.09it/s]"
     ]
    },
    {
     "name": "stdout",
     "output_type": "stream",
     "text": [
      "2988 :  Specs for a WD drive...\n",
      "2989 :  I need a definition of the SPEC and Dhrystone benchmarks\n",
      "2990 :   Toshiba 3401B CDROM:  Any problems\n",
      "2991 :  Adaptec ASW410 and Sony CDU641\n",
      "2992 :   DO NOT ROTATE INTERRUPTER  WOOPS  HELP\n",
      "2993 :  A: DRIVE WON'T BOOT\n",
      "2994 :   Date is stuck\n",
      "2995 :  HELP Installing second IDE drive\n",
      "2996 :   IDE vs SCSI\n",
      "2997 :   Need phone number for Western Digital \n",
      "2998 :  HELP: is my monitor dying\n",
      "2999 :   IDE vs SCSI \n",
      "3000 :  16MB ISA limit\n",
      "3001 :   17 Monitors\n",
      "3002 :   Please help identify this old 3Com Ethernet card\n",
      "3003 :   Changing Motherboards  Messing With Connectors\n",
      "3004 :   Soundblaster IRQ and Port settings\n"
     ]
    },
    {
     "name": "stderr",
     "output_type": "stream",
     "text": [
      "\r",
      " 16%|████████████▏                                                               | 3005/18828 [00:19<01:39, 158.98it/s]"
     ]
    },
    {
     "name": "stdout",
     "output_type": "stream",
     "text": [
      "3005 :  Info. on Genoa 8500 vlb card or other lowend vlb\n",
      "3006 :   Splitting drives into two  does it make them faster\n",
      "3007 :   MORE Western Digital HD info needed\n",
      "3008 :   HELP: is my monitor dying\n",
      "3009 :   17 Monitors\n",
      "3010 :  CAN'T WRITE TO 720 FLOPPY\n",
      "3011 :   difference between VLB and ISAEISA\n",
      "3012 :  how to number prongs of a chip\n",
      "3013 :  help with no docs for motherboard\n",
      "3014 :  PC Scanners\n",
      "3015 :   Original IBM PC specs\n",
      "3016 :   Possible FAQ question about a UART\n",
      "3017 :   IDE vs SCSI\n",
      "3018 :   IDE vs SCSI\n",
      "3019 :  IDE & MFM in same machine  HOW\n",
      "3020 :  Maxtor drive geometryjumpers\n",
      "3021 :  Help My Gateway freezes up\n"
     ]
    },
    {
     "name": "stderr",
     "output_type": "stream",
     "text": [
      "\r",
      " 16%|████████████▏                                                               | 3022/18828 [00:19<01:46, 147.84it/s]"
     ]
    },
    {
     "name": "stdout",
     "output_type": "stream",
     "text": [
      "3022 :  Conner CP30061G info, please\n",
      "3023 :  Looking for replacement for a JVCdisk\n",
      "3024 :   S3 video card at different address\n",
      "3025 :  Turbomodem+  question\n",
      "3026 :   FAQ on Cyrix 486DLC\n",
      "3027 :   IDE vs SCSI\n",
      "3028 :  Jumper settings for OMTI 8610 ESDI controller\n",
      "3029 :  IDEESDI coexistence\n",
      "3030 :   Toshiba 3401B CDROM:  Any problems\n",
      "3031 :   Please help identify this old 3Com Ethernet card\n",
      "3032 :   IDE vs SCSI\n",
      "3033 :   Toshiba 3401B CDROM:  Any problems\n",
      "3034 :   IDE vs SCSI\n",
      "3035 :  HELP with Olivetti floppy\n",
      "3036 :   IDE vs SCSI\n",
      "3037 :  pcjunior usable\n"
     ]
    },
    {
     "name": "stderr",
     "output_type": "stream",
     "text": [
      "\r",
      " 16%|████████████▎                                                               | 3038/18828 [00:19<01:47, 147.55it/s]"
     ]
    },
    {
     "name": "stdout",
     "output_type": "stream",
     "text": [
      "3038 :  28800BAUD SPIRIT II MODEM\n",
      "3039 :   Where to buy Pentium motherboard\n",
      "3040 :  Help with 48666 Decision.\n",
      "3041 :   IDE vs SCSI\n",
      "3042 :   pcjunior usable\n",
      "3043 :   IDE vs SCSI\n",
      "3044 :  $25.00 Network \n",
      "3045 :   BusLogic 542B questions\n",
      "3046 :  Data path width from 16 to 32 bits but speed less then double\n",
      "3047 :  Address interliving\n",
      "3048 :   how to search for bad memory chips.\n",
      "3049 :   BusLogic 542B questions\n",
      "3050 :  Seagate 125MB IDE Jumper question\n",
      "3051 :  100 simms and 100 sipps  1MB needed\n",
      "3052 :   IDE vs SCSI\n",
      "3053 :   HELP: my pc freezes\n"
     ]
    },
    {
     "name": "stderr",
     "output_type": "stream",
     "text": [
      "\r",
      " 16%|████████████▎                                                               | 3054/18828 [00:19<01:46, 147.92it/s]"
     ]
    },
    {
     "name": "stdout",
     "output_type": "stream",
     "text": [
      "3054 :   Western Digital HD info needed\n",
      "3055 :   com ports modem mouse conflict REALLY\n",
      "3056 :  ISA bus pin question; re: Diamond Speedstar 24X\n",
      "3057 :   int15h for joysticks is slow....\n",
      "3058 :  Looking for Large MONOCOLOR VGA Monitor.\n",
      "3059 :  Mitsumi CD ROM drivers fix for QEMM\n",
      "3060 :  CD SPEEDWAY  any good\n",
      "3061 :  Leading Edge ComputerBuy\n",
      "3062 :  More Adaptec 1542B problems\n",
      "3063 :   Booting from B drive\n",
      "3064 :  Jumper Settings for MicroScience HD\n",
      "3065 :   Leading Edge ComputerBuy\n",
      "3066 :   ESDI with IDE  Yes it should be Possible,\n",
      "3067 :   More Adaptec 1542B problems\n",
      "3068 :   20 or 21 grayscale displays\n",
      "3069 :  Tseng Labs Video Card Problem\n",
      "3070 :  Parallel port\n",
      "3071 :  IBM PS1 vs TEAC FD\n"
     ]
    },
    {
     "name": "stderr",
     "output_type": "stream",
     "text": [
      "\r",
      " 16%|████████████▍                                                               | 3072/18828 [00:19<01:40, 156.14it/s]"
     ]
    },
    {
     "name": "stdout",
     "output_type": "stream",
     "text": [
      "3072 :  Wanted ISA mouse port with high interrupt\n",
      "3073 :   CAN'T WRITE TO 720 FLOPPY\n",
      "3074 :   COMPAQ configuration. HELP\n",
      "3075 :  ALR ProVeisa\n",
      "3076 :   Wanted ISA mouse port with high interrupt\n",
      "3077 :   16Mb ISA limit\n",
      "3078 :  1.44Mb FD WANTED\n",
      "3079 :  Swap boot drive on 486\n",
      "3080 :  Wanted: Advicecomments on building a PC\n",
      "3081 :   CONNER HD specs\n",
      "3082 :  HINT 486 VLBISAEISA motherboard\n",
      "3083 :  How to detect mouse at hardware level\n",
      "3084 :   IDE vs SCSI\n",
      "3085 :   IDE vs SCSI\n",
      "3086 :   IDE vs SCSI\n",
      "3087 :   IDE vs SCSI\n",
      "3088 :  NEC P5200 Printer question\n",
      "3089 :   Booting from B drive\n",
      "3090 :  Conner 120 MB Question\n"
     ]
    },
    {
     "name": "stderr",
     "output_type": "stream",
     "text": [
      "\r",
      " 16%|████████████▍                                                               | 3091/18828 [00:19<01:35, 164.06it/s]"
     ]
    },
    {
     "name": "stdout",
     "output_type": "stream",
     "text": [
      "3091 :   Perfect MAG MX15F Monitors\n",
      "3092 :  Upgrading a modem ...\n",
      "3093 :   IDE vs SCSI\n",
      "3094 :  Conner CP3204F info please\n",
      "3095 :   PENTIUM\n",
      "3096 :  Beyond 640K, Trident 8900, and lots more 8)\n",
      "3097 :  Help on hand scanners wanted\n",
      "3098 :   Booting from B drive\n",
      "3099 :   Mitsubishi MR535 Hard Drive Help \n",
      "3100 :   17 Monitors\n",
      "3101 :   17 monitor with RGBsync to VGA \n",
      "3102 :   Tape Backup Question\n",
      "3103 :   17 Monitors\n",
      "3104 :    CONNER HD specs\n",
      "3105 :  AT is need what kinda battery\n",
      "3106 :   Booting from B drive\n",
      "3107 :  Rockwell Chipset for 14.4 is ... Any good\n",
      "3108 :   Shopping for a new  monitor\n",
      "3109 :   IDE vs SCSI\n"
     ]
    },
    {
     "name": "stderr",
     "output_type": "stream",
     "text": [
      "\r",
      " 17%|████████████▌                                                               | 3110/18828 [00:19<01:32, 170.10it/s]"
     ]
    },
    {
     "name": "stdout",
     "output_type": "stream",
     "text": [
      "3110 :   Which highperformance VLB video card\n",
      "3111 :   Adaptec ACB2322: what is it\n",
      "3112 :  Gateway Telepath Modem  getting v.32bis\n",
      "3113 :   Which highperformance VLB video card\n",
      "3114 :  Some more info. about P9000 board\n",
      "3115 :  Need info on PS2 mouse port\n",
      "3116 :   17 Monitors\n",
      "3117 :  Quantum 240AT: is my cache working\n",
      "3118 :  Custom Keys\n",
      "3119 :   17 Monitors\n",
      "3120 :   Rockwell Chipset for 14.4 is ... Any good\n",
      "3121 :   17 Monitors\n",
      "3122 :   CACHE or Micronics EISAVLB Motherboard\n",
      "3123 :  Know anything about EISA2\n",
      "3124 :   IDE vs SCSI\n",
      "3125 :   IDE vs SCSI\n",
      "3126 :   where to find comm ports with IRQs other than 3 and 4.\n",
      "3127 :  Scan Rate vs. Font Size\n"
     ]
    },
    {
     "name": "stderr",
     "output_type": "stream",
     "text": [
      "\r",
      " 17%|████████████▋                                                               | 3128/18828 [00:19<01:36, 162.82it/s]"
     ]
    },
    {
     "name": "stdout",
     "output_type": "stream",
     "text": [
      "3128 :   Know anything about EISA2\n",
      "3129 :  Upgrade from 286 to 486 help needed\n",
      "3130 :   Date is stuck\n",
      "3131 :  Netware Server 286A and SFT Netware 286 Level II V2.0a serialisation\n",
      "3132 :  PROBLEM WITH PRINTER AND EMM386.EXE\n",
      "3133 :   IDE vs SCSI\n",
      "3134 :   Soundblaster IRQ and Port settings\n",
      "3135 :  modems and noisy lines.\n",
      "3136 :   Date is stuck\n",
      "3137 :   HELP TONIGHT Determine this 38725MHz chip\n",
      "3138 :   17 Monitors\n",
      "3139 :   Perfect MAG MX15F Monitors\n",
      "3140 :  Multiport COM boardsinfo needed\n",
      "3141 :   ISA bus pin question; re: Diamond Speedstar 24X\n",
      "3142 :  Philips 17 monitor\n",
      "3143 :  WANGTEK Tape Controller Card Revision E  address & IRQ wanted\n",
      "3144 :  2 Sound Blasters in 1 machine\n",
      "3145 :   Date is stuck\n",
      "3146 :  Trident 8900 switch settings \n",
      "3147 :  Possible FAQ question about a UART\n"
     ]
    },
    {
     "name": "stderr",
     "output_type": "stream",
     "text": [
      "\r",
      " 17%|████████████▋                                                               | 3148/18828 [00:20<01:31, 170.48it/s]"
     ]
    },
    {
     "name": "stdout",
     "output_type": "stream",
     "text": [
      "3148 :  W32TSENG card & other VLB cards... \n",
      "3149 :  help with internet\n",
      "3150 :   Date is stuck\n",
      "3151 :   Digitizing tablet questions\n",
      "3152 :  My computer gets locked HELP\n",
      "3153 :  SCSI on dos\n",
      "3154 :   IDE vs SCSI \n",
      "3155 :   CRROM Drive Recommendation \n",
      "3156 :   FAQ on Cyrix 486DLC\n",
      "3157 :  Atari Mono and VGA\n",
      "3158 :   Western Digital HD info needed\n",
      "3159 :   Weitek P9000 Future Plans\n",
      "3160 :   8 cards on a 6 card motherboard\n",
      "3161 :  Partition table disappeared Help\n",
      "3162 :  Small PC\n",
      "3163 :   Possible FAQ question about a UART\n",
      "3164 :  Nonturbo speed\n",
      "3165 :  Need Info on font cartridge for HP LaserJet II\n"
     ]
    },
    {
     "name": "stderr",
     "output_type": "stream",
     "text": [
      "\r",
      " 17%|████████████▊                                                               | 3166/18828 [00:20<01:39, 157.00it/s]"
     ]
    },
    {
     "name": "stdout",
     "output_type": "stream",
     "text": [
      "3166 :  80386 and 80486: What is the difference\n",
      "3167 :   Booting from B drive\n",
      "3168 :   Recommendations for a Local BUS  IDE Controller\n",
      "3169 :   SCSI on dos\n",
      "3170 :  VESA LOCAL BUS\n",
      "3171 :  TRIDENT 8800CS DRIVERS FOR WIN 3.1\n",
      "3172 :   80386 and 80486: What is the difference\n",
      "3173 :   Rockwell Chipset for 14.4 is ... Any good\n",
      "3174 :  help\n",
      "3175 :   IDE vs SCSI \n",
      "3176 :  Can't get 1280x1024 to work w2M ATI Ultra Pro\n",
      "3177 :  Dos 6.0 question\n",
      "3178 :   Can't get 1280x1024 to work w2M ATI Ultra Pro\n",
      "3179 :  Question about FastMicro\n",
      "3180 :  What disk drives are out there\n",
      "3181 :  Help with Magitronic 8 bit memory card needed\n",
      "3182 :  16 bit MFM HD controller wanted.\n",
      "3183 :  CGA cardmonitor wanted\n",
      "3184 :  Serial multiport card for sale.\n",
      "3185 :   SCSI on dos\n"
     ]
    },
    {
     "name": "stderr",
     "output_type": "stream",
     "text": [
      "\r",
      " 17%|████████████▊                                                               | 3186/18828 [00:20<01:33, 167.07it/s]"
     ]
    },
    {
     "name": "stdout",
     "output_type": "stream",
     "text": [
      "3186 :   Date is stuck\n",
      "3187 :  Help with DTK IO Plus II card needed\n",
      "3188 :   17 Monitors\n",
      "3189 :  What is the diff.between mouse.syscom\n",
      "3190 :  FASTMicro out of business\n",
      "3191 :   80386 and 80486: What is the difference\n",
      "3192 :  How is a Loopback connector made\n",
      "3193 :   HELP: Need DIAGNOSTIC DISK for my COMPAQ DESKPRO 286.\n",
      "3194 :   17 Monitors\n",
      "3195 :  US Robotics info wanted\n",
      "3196 :   CYRIX 486DLC40 CPU\n",
      "3197 :  NEW SVGA card\n",
      "3198 :  G2KJumbo 250 Backup Problems\n",
      "3199 :  Need Info of Maxtor 340SY SCSI jumper ID setting.\n",
      "3200 :  Mitsumi and SB Pro\n",
      "3201 :  VESA LB  what is bus mastering\n",
      "3202 :  Winjet accelerator card\n",
      "3203 :  Diamond Stealth 24 giving 9.4 Winmarks\n"
     ]
    },
    {
     "name": "stderr",
     "output_type": "stream",
     "text": [
      "\r",
      " 17%|████████████▉                                                               | 3204/18828 [00:20<01:42, 153.09it/s]"
     ]
    },
    {
     "name": "stdout",
     "output_type": "stream",
     "text": [
      "3204 :  CDROM drives\n",
      "3205 :  Motherboards & Hard Drives\n",
      "3206 :   umbdr522.zip : Any later version \n",
      "3207 :  DEC MT 486, Adaptec SCSI, 3COMM conflict\n",
      "3208 :   Diamond Stealth 24 giving 9.4 Winmarks\n",
      "3209 :   Recommendations for a Local BUS (Cache\n",
      "3210 :   Winjet accelerator card\n",
      "3211 :   HELP Installing second IDE drive\n",
      "3212 :  HELP  My ESDI is posessed by demons\n",
      "3213 :  Help Ten beeps with 38640 \n",
      "3214 :  Help with motherboard wno docs\n",
      "3215 :  Help with 3C503 and NCSA Telnet\n",
      "3216 :   Diamond Stealth 24 giving 9.4 Winmarks\n",
      "3217 :   Connor PC 30204 jumper settings\n",
      "3218 :  Help needed in setting up NCSA Telnet w AppleTalk or Phonenet...\n",
      "3219 :  \n",
      "3220 :   Recommendations for a Local BUS (Cache\n",
      "3221 :  Will somebody create a Messie DOS 6.0 FAQ, please \n",
      "3222 :   IDE vs SCSI \n"
     ]
    },
    {
     "name": "stderr",
     "output_type": "stream",
     "text": [
      "\r",
      " 17%|█████████████                                                               | 3223/18828 [00:20<01:36, 162.48it/s]"
     ]
    },
    {
     "name": "stdout",
     "output_type": "stream",
     "text": [
      "3223 :   Winjet accelerator card\n",
      "3224 :  pentium clock counts\n",
      "3225 :  AMD i486 clones: Now legal in US\n",
      "3226 :  Need pinouts for ext db25 floppy connectors, please\n",
      "3227 :   Diamond Stealth 24 giving 9.4 Winmarks\n",
      "3228 :   16550 UARTs \n",
      "3229 :   Can't get 1280x1024 to work w2M ATI Ultra Pro\n",
      "3230 :   17 Monitors\n",
      "3231 :   How much should I pay for a SCSI cable \n",
      "3232 :  Can I have 2 printers on a PC LAN \n",
      "3233 :  AVI file format\n",
      "3234 :  Utility to switch cap locksctrl keys\n",
      "3235 :  Can't set COM4\n",
      "3236 :  Run box wo cover \n",
      "3237 :   umbdr522.zip : Any later version \n",
      "3238 :  DOS 6.0\n",
      "3239 :  Hayes 9600 external AC pins\n"
     ]
    },
    {
     "name": "stderr",
     "output_type": "stream",
     "text": [
      "\r",
      " 17%|█████████████                                                               | 3240/18828 [00:20<01:46, 146.79it/s]"
     ]
    },
    {
     "name": "stdout",
     "output_type": "stream",
     "text": [
      "3240 :   AMD i486 clones: Now legal in US\n",
      "3241 :  486sx For Sale\n",
      "3242 :  CDROM Audio cable...\n",
      "3243 :   IDE vs SCSI\n",
      "3244 :   Date is stuck\n",
      "3245 :   17 Monitors\n",
      "3246 :  Gateway 2000 & booting from floppy\n",
      "3247 :  VLbus HDDFDD controller or IDE HDDFDD controller\n",
      "3248 :   Debugging possible hardware problems\n",
      "3249 :   What is the diff.between mouse.syscom\n",
      "3250 :   Help Ten beeps with 38640 \n",
      "3251 :   Weitek P9000 Future Plans\n",
      "3252 :  Reboot problem\n",
      "3253 :  Sound Blaster MIDI\n",
      "3254 :  Sending a Null character across Ethernet\n",
      "3255 :   Can't set COM4\n",
      "3256 :  Need advice to select sound card \n",
      "3257 :   FUNET.FI\n",
      "3258 :   ATI build 59 drivers good\n",
      "3259 :  Gamecards\n"
     ]
    },
    {
     "name": "stderr",
     "output_type": "stream",
     "text": [
      "\r",
      " 17%|█████████████▏                                                              | 3260/18828 [00:20<01:38, 158.65it/s]"
     ]
    },
    {
     "name": "stdout",
     "output_type": "stream",
     "text": [
      "3260 :   No 32bit box on Gateway\n",
      "3261 :  Eric Bosco where are you\n",
      "3262 :  PCs from Gateway  opinions sought\n",
      "3263 :  Summary: DoubleDisk Gold v 6.0\n",
      "3264 :  VLB bus master problem\n",
      "3265 :   No 32bit box on Gateway\n",
      "3266 :   1280x1024 on ATI Ultra w Nanao 550i\n",
      "3267 :   DOS 6.0\n",
      "3268 :  HOW is a Null Modem Cable\n",
      "3269 :  Kentucky Fried CMOS beats Hardees\n",
      "3270 :  WANTED: Your opinions on the Insight Talon TA1000 or TA2000 Multimedia kits\n",
      "3271 :  How hot should the cpu be\n",
      "3272 :   17 Monitors\n",
      "3273 :  Mounting CPU Cooler in vertical case\n",
      "3274 :   HINT 486 VLBISAEISA motherboard\n",
      "3275 :   Soundblaster IRQ and Port settings\n",
      "3276 :   Zeos Computers\n",
      "3277 :  IBM link to Imagewriter  HELP \n",
      "3278 :   How hot should the cpu be\n"
     ]
    },
    {
     "name": "stderr",
     "output_type": "stream",
     "text": [
      "\r",
      " 17%|█████████████▏                                                              | 3279/18828 [00:20<01:33, 165.43it/s]"
     ]
    },
    {
     "name": "stdout",
     "output_type": "stream",
     "text": [
      "3279 :   Orchid P9000 vs Fahrenheit \n",
      "3280 :  Do the 2MB ATI Ultra Pro 16 and 24 bit Windows Drivers Work\n",
      "3281 :   Problems with Toshiba 3401 CDROM\n",
      "3282 :  Volante Warp 10 board\n",
      "3283 :  should I get VESA controller card\n",
      "3284 :  What DMA is are my system using\n",
      "3285 :   Need Info on Diamond Viper Video Card\n",
      "3286 :  How do I put an HD on an XT\n",
      "3287 :  The P24T\n",
      "3288 :  Where can I buy a BIOS\n",
      "3289 :   Nonturbo speed\n",
      "3290 :  COM ports 58.\n",
      "3291 :   How is a Loopback connector made\n",
      "3292 :   HINT 486 VLBISAEISA motherboard\n",
      "3293 :   3.5 floppy only reads what IT wrote\n",
      "3294 :  Gateway ethernet card drivers needed\n",
      "3295 :  Otronics Attache luggable info needed\n",
      "3296 :   Help with hooking Irwin tape drive to PC\n"
     ]
    },
    {
     "name": "stderr",
     "output_type": "stream",
     "text": [
      "\r",
      " 18%|█████████████▎                                                              | 3297/18828 [00:20<01:39, 155.89it/s]"
     ]
    },
    {
     "name": "stdout",
     "output_type": "stream",
     "text": [
      "3297 :  For Sale: Sound Blaster Card...Hurry\n",
      "3298 :   Do the 2MB ATI Ultra Pro 16 and 24 bit Windows Drivers Work\n",
      "3299 :   VLbus HDDFDD controller or IDE HDDFDD controller\n",
      "3300 :  Need help identifying Serial board\n",
      "3301 :  Actix GRAPHICSengine 32plus\n",
      "3302 :   A: DRIVE WON'T BOOT\n",
      "3303 :   100 simms and 100 sipps 1MB needed\n",
      "3304 :  Disk data compression and Interleave\n",
      "3305 :  Chaining IDE drives\n",
      "3306 :   IDE Cable\n",
      "3307 :   IDE vs SCSI\n",
      "3308 :   Date is stuck\n",
      "3309 :  What do you know about Cornell Systems\n",
      "3310 :  DFI Handy Scanner, How to talk to it\n",
      "3311 :   AMD i486 clones: Now legal in US\n",
      "3312 :   Diamond Stealth 24 giving 9.4 Winmarks\n",
      "3313 :   Atari Mono and VGA\n",
      "3314 :  Multi IO card with 16550 UART is\n",
      "3315 :   Problems with Toshiba 3401 CDROM\n",
      "3316 :  CPU Temperature vs CPU Activity \n"
     ]
    },
    {
     "name": "stderr",
     "output_type": "stream",
     "text": [
      "\r",
      " 18%|█████████████▍                                                              | 3317/18828 [00:21<01:33, 165.25it/s]"
     ]
    },
    {
     "name": "stdout",
     "output_type": "stream",
     "text": [
      "3317 :  test don't read\n",
      "3318 :  256 Color Drivers\n",
      "3319 :   G2KJumbo 250 Backup Problems\n",
      "3320 :   Diamond Stealth 24 giving 9.4 Winmarks\n",
      "3321 :   How is a Loopback connector made\n",
      "3322 :  Any Comments on EISA bus Book\n",
      "3323 :  2 SMC 270E ARCNET cars for sale $50ea.\n",
      "3324 :  Hayes JT FAX card for sale $125\n",
      "3325 :  List of IDE Harddisk specs \n",
      "3326 :  Protected Mode \n",
      "3327 :  Parity Error  System Halted anyone have any ideas\n",
      "3328 :   IP numbers on Ethernet Cards\n",
      "3329 :  2theMAX VGA 4000S  Opinions\n",
      "3330 :   S3 video card at different address\n",
      "3331 :  Any info on Cyrix 486DRu2 chip\n",
      "3332 :  4Sale: Always IN2000 SCSI card\n",
      "3333 :   What is AT BUS CLK Speed\n",
      "3334 :   IDE Low Level Format\n"
     ]
    },
    {
     "name": "stderr",
     "output_type": "stream",
     "text": [
      "\r",
      " 18%|█████████████▍                                                              | 3335/18828 [00:21<01:37, 159.44it/s]"
     ]
    },
    {
     "name": "stdout",
     "output_type": "stream",
     "text": [
      "3335 :   Mitsumi and SB Pro\n",
      "3336 :  Old keyboards never die\n",
      "3337 :   IDE vs SCSI, DMA and detach\n",
      "3338 :  Monitors close to AC power source  is this ok\n",
      "3339 :  DataSave Videostreamer\n",
      "3340 :   Mitsumi and SB Pro\n",
      "3341 :  Considering the Orchid VLB, seeking comments\n",
      "3342 :  HELP: Promplem with Panasonic kx1124 printer\n",
      "3343 :  16bit DMA Failure  System halted.\n",
      "3344 :  Help: Blowing the stack\n",
      "3345 :   Parity Error  System Halted anyone have any ideas\n",
      "3346 :  Can anyone give me WD100227X jumper settings\n",
      "3347 :  HELP 808880286 ADVICE\n",
      "3348 :   TRIDENT 8800CS DRIVERS FOR WIN 3.1\n",
      "3349 :   ATI build 59 drivers good\n",
      "3350 :   CPU Temperature vs CPU Activity \n",
      "3351 :  micro solutions backpack not working properly\n",
      "3352 :  BBS \n",
      "3353 :   AMD i486 clones: Now legal in US\n",
      "3354 :   modems and noisy lines.\n",
      "3355 :  BIOS Fix for Diamond SS24X\n"
     ]
    },
    {
     "name": "stderr",
     "output_type": "stream",
     "text": [
      "\r",
      " 18%|█████████████▌                                                              | 3356/18828 [00:21<01:30, 170.69it/s]"
     ]
    },
    {
     "name": "stdout",
     "output_type": "stream",
     "text": [
      "3356 :   2 IDEHDs\n",
      "3357 :   CPU Temperature vs CPU Activity \n",
      "3358 :   \n",
      "3359 :   Debugging possible hardware problems\n",
      "3360 :   HELP Installing second IDE drive\n",
      "3361 :  386 Motherboard advice needed\n",
      "3362 :   Modems and UARTs\n",
      "3363 :   Can I have 2 printers on a PC LAN \n",
      "3364 :   CMOS Checksum error\n",
      "3365 :   Gateway Flash BIOS Upgrade\n",
      "3366 :   HELP 808880286 ADVICE\n",
      "3367 :  QUESTION: How to setup a video projector for VGA\n",
      "3368 :  Diamond Stealth: HELP\n",
      "3369 :   Do the 2MB ATI Ultra Pro 16 and 24 bit Windows Drivers Work\n",
      "3370 :   Soundblaster IRQ and Port settings\n",
      "3371 :   \n",
      "3372 :   The P24T\n",
      "3373 :   ModemWindows problems\n"
     ]
    },
    {
     "name": "stderr",
     "output_type": "stream",
     "text": [
      "\r",
      " 18%|█████████████▌                                                              | 3374/18828 [00:21<01:34, 163.75it/s]"
     ]
    },
    {
     "name": "stdout",
     "output_type": "stream",
     "text": [
      "3374 :   G2KJumbo 250 Backup Problems\n",
      "3375 :  Plus Hardcard owners help\n",
      "3376 :   66DX2 Math CoPro vs. 50DX\n",
      "3377 :   Gateway Flash BIOS Upgrade\n",
      "3378 :  Hardware for image processing\n",
      "3379 :  CONFLICT CONTROLLERGRAFIC CARD\n",
      "3380 :  Experience buying from TC computers\n",
      "3381 :   DOS 6.0\n",
      "3382 :  achieve multi io card jumpers needed.\n",
      "3383 :  WANTED: Floppy controller that can handle multiple floppies\n",
      "3384 :  IDE Cable\n",
      "3385 :  IBM PCXT Switches\n",
      "3386 :   Mitsumi and SB Pro\n",
      "3387 :  Internet servers for university[D\n",
      "3388 :   CRYIX 486DLC CPU\n",
      "3389 :   ATI build 59 drivers good\n",
      "3390 :  IP numbers on Ethernet Cards\n",
      "3391 :  SCSI and IDE: What is the difference\n",
      "3392 :  Feature Connector on VGA cards\n",
      "3393 :  I have lost COM4...   Help\n",
      "3394 :   Can't set COM4\n"
     ]
    },
    {
     "name": "stderr",
     "output_type": "stream",
     "text": [
      "\r",
      " 18%|█████████████▋                                                              | 3395/18828 [00:21<01:29, 173.33it/s]"
     ]
    },
    {
     "name": "stdout",
     "output_type": "stream",
     "text": [
      "3395 :  Jumper settings for UngermannBass PCNIC Ethernet card\n",
      "3396 :  CMOS Checksum error\n",
      "3397 :  My Power supply fan makes an awful din  what to do\n",
      "3398 :  66DX2 Math CoPro vs. 50DX\n",
      "3399 :  MODEM PROBLEM:  No Dialtone\n",
      "3400 :  Need spec of miniscribe hard drive\n",
      "3401 :   HOW is a Null Modem Cable\n",
      "3402 :  Netware server 286a and s\n",
      "3403 :  Date is stuck\n",
      "3404 :  Ibm link to imagewriter \n",
      "3405 :  Date is stuck\n",
      "3406 :  How do i put an hd on an\n",
      "3407 :  Where can i buy a bios\n",
      "3408 :  modems and noisy lines.\n",
      "3409 :  Gateway 2000 & booting fr\n",
      "3410 :  Com ports 58.\n",
      "3411 :  Need helpinfo on Hard Drive terms\n",
      "3412 :  More than 1 type of controller\n"
     ]
    },
    {
     "name": "stderr",
     "output_type": "stream",
     "text": [
      "\r",
      " 18%|█████████████▊                                                              | 3413/18828 [00:21<01:32, 166.97it/s]"
     ]
    },
    {
     "name": "stdout",
     "output_type": "stream",
     "text": [
      "3413 :  66DX2 ISA,VLB xor 50DX EISA   Advice wanted...\n",
      "3414 :  Western Digital 3.5 IDE HD is \n",
      "3415 :  Can you put an ISA card into an EISA slot\n",
      "3416 :   3.5 floppy only reads what IT wrote\n",
      "3417 :  identify this HD\n",
      "3418 :  Seagate HD jumper schematics\n",
      "3419 :   How hot should the cpu be\n",
      "3420 :   386 Motherboard advice needed\n",
      "3421 :   IDE vs SCSI\n",
      "3422 :   How do I put an HD on an XT\n",
      "3423 :  Question about IRQ2 and IRQ9\n",
      "3424 :   Where can I buy a BIOS\n",
      "3425 :   How do I put an HD on an XT\n",
      "3426 :  CDROM drive help\n",
      "3427 :   VLbus HDDFDD controller or IDE HDDFDD controller\n",
      "3428 :  Upgrading the processor on 386486 machines\n",
      "3429 :  Need info on WD7000\n",
      "3430 :  Help adding a SCSI Drive\n",
      "3431 :  help:second hd install\n",
      "3432 :  Perstor System Disk Controller information needed\n",
      "3433 :  CFV: comp.publish.cdrom.{hardware,multimedia,software}\n"
     ]
    },
    {
     "name": "stderr",
     "output_type": "stream",
     "text": [
      "\r",
      " 18%|█████████████▊                                                              | 3434/18828 [00:21<01:27, 175.16it/s]"
     ]
    },
    {
     "name": "stdout",
     "output_type": "stream",
     "text": [
      "3434 :  Help choosing SCSI controler\n",
      "3435 :  HELP: dip switch settings on an AST Hot Shot 286\n",
      "3436 :  Any body have more than 4 Meg RAM on a Leading Edge\n",
      "3437 :   WinCIM at 9600 baud\n",
      "3438 :  help with et4000 hicolor modes\n",
      "3439 :  Programming the Beeper\n",
      "3440 :   17 Monitors\n",
      "3441 :  speed LED is for a gateway motherboard\n",
      "3442 :   Archive controler\n",
      "3443 :   modems and noisy lines.\n",
      "3444 :  CPU Fans33\n",
      "3445 :   Laplink serial & parallel cables\n",
      "3446 :   Problems with Toshiba 3401 CDROM\n",
      "3447 :   66DX2 ISA,VLB xor 50DX EISA   Advice wanted...\n",
      "3448 :   IDE vs SCSI\n",
      "3449 :   CONSUMER WARNING   MidWest Micro \n",
      "3450 :  cents keystroke  where is it\n",
      "3451 :   IDE vs SCSI\n"
     ]
    },
    {
     "name": "stderr",
     "output_type": "stream",
     "text": [
      "\r",
      " 18%|█████████████▉                                                              | 3452/18828 [00:21<01:31, 168.63it/s]"
     ]
    },
    {
     "name": "stdout",
     "output_type": "stream",
     "text": [
      "3452 :   Run box wo cover \n",
      "3453 :   how to search for bad memory chips.\n",
      "3454 :   SCSI and IDE: What is the difference\n",
      "3455 :   Courier vs Sportster\n",
      "3456 :   Modems and UARTs\n",
      "3457 :   How is a Loopback connector made\n",
      "3458 :   Diamond Stealth: HELP\n",
      "3459 :   Any info on Cyrix 486DRu2 chip\n",
      "3460 :   How hot should the cpu be\n",
      "3461 :  Q: PCIP  How to get info and how to install\n",
      "3462 :   Upgrading the processor on 386486 machines\n",
      "3463 :  HELP: LED connectors for motherboard\n",
      "3464 :   Diamond Stealth: HELP\n",
      "3465 :  VCPI memory standard\n",
      "3466 :    CONSUMER WARNING   MidWest Micro \n",
      "3467 :   No 32bit box on Gateway\n",
      "3468 :   Date is stuck\n",
      "3469 :    CONSUMER WARNING   MidWest Micro \n",
      "3470 :  Needed: Videotaped pc output\n",
      "3471 :  HELP  EISA board configuration problems\n"
     ]
    },
    {
     "name": "stderr",
     "output_type": "stream",
     "text": [
      "\r",
      " 18%|██████████████                                                              | 3472/18828 [00:21<01:27, 175.38it/s]"
     ]
    },
    {
     "name": "stdout",
     "output_type": "stream",
     "text": [
      "3472 :  Info on IO port 376h requested\n",
      "3473 :   Can't set COM4\n",
      "3474 :  Monitors  Nanao\n",
      "3475 :  H E L P    how can I get my COM3 port working\n",
      "3476 :   UNIX and DOS talking on QIC150 tapes.\n",
      "3477 :   Soundblaster IRQ and Port settings\n",
      "3478 :  Kaypro 286 jumper settings\n",
      "3479 :   CPU Temperature vs CPU Activity \n",
      "3480 :  switch settings for Bondwell 38 \n",
      "3481 :  Always IN2000 decent\n",
      "3482 :  fooling check for existance of keyboard with resistor\n",
      "3483 :   Help adding a SCSI Drive\n",
      "3484 :   IDE vs SCSI\n",
      "3485 :  dont have harddisk type 47 ....\n",
      "3486 :  16550 v. 16550A \n",
      "3487 :  V.fast : What is taking SO long\n",
      "3488 :  VGA card for fixedfrequency monitor\n",
      "3489 :  TEAC SD 3105 harddisk jumper setting, please \n"
     ]
    },
    {
     "name": "stderr",
     "output_type": "stream",
     "text": [
      "\r",
      " 19%|██████████████                                                              | 3490/18828 [00:22<01:31, 166.83it/s]"
     ]
    },
    {
     "name": "stdout",
     "output_type": "stream",
     "text": [
      "3490 :  DRDOS vs. MSDOS 6.0\n",
      "3491 :  QIC250 Streamer Software Prolem\n",
      "3492 :  PC DIY and 486DX PCs\n",
      "3493 :  trakker backup\n",
      "3494 :  Windows Virtual Memory\n",
      "3495 :  DelayedWriteCaches\n",
      "3496 :  DON'T BUY FROM T.C. COMPUTERS  \n",
      "3497 :  hp lj i fonts\n",
      "3498 :   386 Motherboard advice needed\n",
      "3499 :   help:second hd install\n",
      "3500 :   WinCIM at 9600 baud\n",
      "3501 :  Info. on the POWER PC by IBM, Apple, & Motorola\n",
      "3502 :   IDE vs SCSI\n",
      "3503 :   CPU Fans\n",
      "3504 :   SCSI and IDE: What is the difference\n",
      "3505 :   Monitors  Nanao\n",
      "3506 :   Modems and UARTs\n",
      "3507 :  Help Wanted Loading Logitech Scanman Driver in High memory\n",
      "3508 :  Any STBPOWERGRAPH users out there that know about it\n"
     ]
    },
    {
     "name": "stderr",
     "output_type": "stream",
     "text": [
      "\r",
      " 19%|██████████████▏                                                             | 3509/18828 [00:22<01:29, 171.09it/s]"
     ]
    },
    {
     "name": "stdout",
     "output_type": "stream",
     "text": [
      "3509 :   modems and noisy lines.\n",
      "3510 :   IDE Low Level Format\n",
      "3511 :   DelayedWriteCaches\n",
      "3512 :   Help adding a SCSI Drive \n",
      "3513 :  HELP:IDE Drive installation problems\n",
      "3514 :   V.fast : What is taking SO long\n",
      "3515 :  AT&T DataPort 14.4K FaxModem Special\n",
      "3516 :   Atari Mono and VGA\n",
      "3517 :  Trying to find a PC email network\n",
      "3518 :  Gateway 4DX33V  too high a price\n",
      "3519 :  Gateway Monitor ProblemAgain Help\n",
      "3520 :   HELP:IDE Drive installation problems\n",
      "3521 :  How to add another IDE HD with Stacker 3.0\n",
      "3522 :  Everex Cubes\n",
      "3523 :   HINT 486 VLBISAEISA motherboard\n",
      "3524 :  LL format utilities in Maxitor BBS What is the BBS number\n",
      "3525 :  16550 v. 16550A \n",
      "3526 :   TRIDENT 8800CS DRIVERS FOR WIN 3.1\n"
     ]
    },
    {
     "name": "stderr",
     "output_type": "stream",
     "text": [
      "\r",
      " 19%|██████████████▏                                                             | 3527/18828 [00:22<01:28, 173.09it/s]"
     ]
    },
    {
     "name": "stdout",
     "output_type": "stream",
     "text": [
      "3527 :  486 Comparisons \n",
      "3528 :  Upgrading an XT\n",
      "3529 :   66DX2 ISA,VLB xor 50DX EISA   Advice wanted...\n",
      "3530 :  BIOS timer interrupts\n",
      "3531 :   Help adding a SCSI Drive \n",
      "3532 :  Any comments on Gateway is Nomad\n",
      "3533 :  dos 4.0  dos 5.0  need new mouse driver\n",
      "3534 :   Soundblaster IRQ and Port settings\n",
      "3535 :   Monitors  Nanao\n",
      "3536 :  Problem with speed\n",
      "3537 :  SCSI vs. IDE\n",
      "3538 :    CONSUMER WARNING   MidWest Micro \n",
      "3539 :   Jumper settings for UngermannBass PCNIC Ethernet card\n",
      "3540 :    CONSUMER WARNING   MidWest Micro \n",
      "3541 :  Pinout for standard VGA monitor\n",
      "3542 :  Check switches on IBM XT\n",
      "3543 :  Error beeps on boot\n",
      "3544 :   VLB bus master problem\n"
     ]
    },
    {
     "name": "stderr",
     "output_type": "stream",
     "text": [
      "\r",
      " 19%|██████████████▎                                                             | 3545/18828 [00:22<01:32, 164.78it/s]"
     ]
    },
    {
     "name": "stdout",
     "output_type": "stream",
     "text": [
      "3545 :  Atari 1040  Sell or Trade for PC\n",
      "3546 :  Comtrade\n",
      "3547 :   386 Motherboard advice needed\n",
      "3548 :  Questions on installing PAS16 in GW2K DX266V\n",
      "3549 :   CPU Fans33\n",
      "3550 :  Has anyone heard of Syntrex\n",
      "3551 :  DX50 vs DX266\n",
      "3552 :   MODEM PROBLEM: No Dialtone\n",
      "3553 :  Comments on TEXEL 5024 CDROM drive sought\n",
      "3554 :  How well do the voicemail modems work\n",
      "3555 :   Help adding a SCSI Drive\n",
      "3556 :   Help adding a SCSI Drive \n",
      "3557 :  Hercules VLB\n",
      "3558 :   VLB bus master problem\n",
      "3559 :  Anybody heard of an 'ASUS' brand 486DX23366 motherboard\n",
      "3560 :  RE: Adding a second IDE drive\n",
      "3561 :   Gateway Flash BIOS Upgrade\n"
     ]
    },
    {
     "name": "stderr",
     "output_type": "stream",
     "text": [
      "\r",
      " 19%|██████████████▍                                                             | 3562/18828 [00:22<01:42, 148.79it/s]"
     ]
    },
    {
     "name": "stdout",
     "output_type": "stream",
     "text": [
      "3562 :  SCSIDOSadding a 3rd drive..@#$\n",
      "3563 :   Monitors  Nanao\n",
      "3564 :   IDE vs SCSI\n",
      "3565 :  Cardinal 9000 VLBus Graphics Card \n",
      "3566 :  IBM 5272 ColorDisplay for 3270PC \n",
      "3567 :  Gateway 2000 & Zeos compare\n",
      "3568 :  Magitronic BBS\n",
      "3569 :  ET4000 linear mode \n",
      "3570 :   Gateway Flash BIOS Upgrade\n",
      "3571 :   17 Monitors\n",
      "3572 :  ISA bus:  SCSI or IDE\n",
      "3573 :   17 monitor with RGBsync to VGA \n",
      "3574 :  Request For Input: MultiSpin CDROM Drives\n",
      "3575 :   How hot should the cpu be\n",
      "3576 :   Date is stuck\n",
      "3577 :   Hercules VLB\n",
      "3578 :   Promise Techhnology Caching IDE Controller\n"
     ]
    },
    {
     "name": "stderr",
     "output_type": "stream",
     "text": [
      "\r",
      " 19%|██████████████▍                                                             | 3579/18828 [00:22<01:38, 154.07it/s]"
     ]
    },
    {
     "name": "stdout",
     "output_type": "stream",
     "text": [
      "3579 :  Phone number for Mitsumi\n",
      "3580 :  Ultrastor UltraSCSI\n",
      "3581 :  info on Motherboard Warehouse\n",
      "3582 :   Help adding a SCSI Drive   \n",
      "3583 :  Help, I need a Mac SE modem port to PC 25 way serial port cable\n",
      "3584 :  cpu fans\n",
      "3585 :  Problems with parallel IO.\n",
      "3586 :  Canon Canada\n",
      "3587 :  Motherboard manufacturer & What is this slot for\n",
      "3588 :  New Windows drivers for Cirrus GD5426 graphic cards\n",
      "3589 :  Micron computer owners, please read\n",
      "3590 :   Monitors  Nanao\n",
      "3591 :  COM4 card shows up as COM3 with COM4 is address and IRQ\n",
      "3592 :  new 1 gig SCSI2 3.5 5400 rpm drives  Ratings\n",
      "3593 :   DOS 6.0\n",
      "3594 :  Help needed on installing 2nd IDE HD..\n",
      "3595 :  SCSI or IDE: The Bottom Line\n",
      "3596 :  Floptical drives anyone\n",
      "3597 :   HELP: Promplem with Panasonic kx1124 printer\n",
      "3598 :  EZ SCAN II Model 35\n"
     ]
    },
    {
     "name": "stderr",
     "output_type": "stream",
     "text": [
      "\r",
      " 19%|██████████████▌                                                             | 3599/18828 [00:22<01:32, 163.90it/s]"
     ]
    },
    {
     "name": "stdout",
     "output_type": "stream",
     "text": [
      "3599 :  WANTED: hard drive.  buytrade \n",
      "3600 :  Wanted : 386DX33 motherboard\n",
      "3601 :   66DX2 ISA,VLB xor 50DX EISA   Advice wanted...\n",
      "3602 :  IP numbers on Ethernet Cards \n",
      "3603 :  What about DELL ARIEL DESIGN AUSTIN INSIGHT ROYAL HD COMPUTERS\n",
      "3604 :  Help 808880286 advic\n",
      "3605 :  How is a null modem c\n",
      "3606 :   Questions on installing PAS16 in GW2K DX266V\n",
      "3607 :  Will my 386 RAM work in a 486\n",
      "3608 :   Which highperformance VLB video card\n",
      "3609 :  Diamond Products Boycot\n",
      "3610 :   Diamond Products Boycot\n",
      "3611 :   SCSIDOSadding a 3rd drive..@#$\n",
      "3612 :   Chaining IDE drives\n",
      "3613 :   Gateway Flash BIOS Upgrade\n",
      "3614 :   FUNET.FI\n",
      "3615 :  Where is the best place to find used PC is \n",
      "3616 :   Gateway Monitor ProblemAgain Help\n",
      "3617 :   Gateway 4DX33V  too high a price\n",
      "3618 :  Motherboard Manufacturer\n"
     ]
    },
    {
     "name": "stderr",
     "output_type": "stream",
     "text": [
      "\r",
      " 19%|██████████████▌                                                             | 3619/18828 [00:22<01:28, 171.03it/s]"
     ]
    },
    {
     "name": "stdout",
     "output_type": "stream",
     "text": [
      "3619 :  Phillips Monitor Conversion\n",
      "3620 :   MODEM PROBLEM:  No Dialtone\n",
      "3621 :   Internal modems without uart \n",
      "3622 :   Need rules for 2 floppy and twisted cable installation\n",
      "3623 :  How to change the cluster size\n",
      "3624 :   SCSI vs. IDE\n",
      "3625 :  philips pro 3cm9809 monitor\n",
      "3626 :   Diamond Stealth 24 giving 9.4 Winmarks\n",
      "3627 :   Monitors  Nanao\n",
      "3628 :  L.B. vs VESA L.B. and ....\n",
      "3629 :   66DX2 ISA,VLB xor 50DX EISA   Advice wanted...\n",
      "3630 :  Archive VP402 and QIC02\n",
      "3631 :  Using XT Pwr Spply\n",
      "3632 :  Help needed\n",
      "3633 :   SCSIDOSadding a 3rd drive..@#$\n",
      "3634 :   Address for Zoom\n",
      "3635 :   Courier vs Sportster\n",
      "3636 :   Soundblaster IRQ and Port settings\n",
      "3637 :   Monitors  Nanao\n",
      "3638 :  vlb scsi card suggest\n"
     ]
    },
    {
     "name": "stderr",
     "output_type": "stream",
     "text": [
      "\r",
      " 19%|██████████████▋                                                             | 3639/18828 [00:22<01:25, 177.55it/s]"
     ]
    },
    {
     "name": "stdout",
     "output_type": "stream",
     "text": [
      "3639 :   DOS 6.0\n",
      "3640 :   DX50 vs DX266\n",
      "3641 :   Diamond Products Boycot\n",
      "3642 :   Floptical drives anyone\n",
      "3643 :  Cached Hardrives\n",
      "3644 :  Looking for comments on COMPAQ DESKPRO is...\n",
      "3645 :   HELP: LED connectors for motherboard\n",
      "3646 :   HELP:IDE Drive installation problems\n",
      "3647 :  re: Gateway 2000 & Zeos compare\n",
      "3648 :   Gateway Monitor ProblemAgain Help\n",
      "3649 :  Bios passwords\n",
      "3650 :   Diamond Products Boycot\n",
      "3651 :    CONSUMER WARNING   MidWest Micro \n",
      "3652 :   Monitors  Nanao\n",
      "3653 :   Bios passwords\n",
      "3654 :   DX50 vs DX266\n",
      "3655 :  ISA GRAPHIC CARD INFO SOURCE\n",
      "3656 :   DOS 6.0\n",
      "3657 :   COMMENTS == VIDEO BLASTER \n"
     ]
    },
    {
     "name": "stderr",
     "output_type": "stream",
     "text": [
      "\r",
      " 19%|██████████████▊                                                             | 3658/18828 [00:23<01:33, 161.41it/s]"
     ]
    },
    {
     "name": "stdout",
     "output_type": "stream",
     "text": [
      "3658 :    16550 v. 16550A \n",
      "3659 :   Gateway Monitor ProblemAgain Help\n",
      "3660 :   Gateway 4DX33V  too high a price\n",
      "3661 :   DX50 vs DX266\n",
      "3662 :   CPU Fans\n",
      "3663 :   HELP Installing second IDE drive\n",
      "3664 :  HELP How To Have a QUIET PC\n",
      "3665 :  ADLIB .WAV driver\n",
      "3666 :  Notebooks\n",
      "3667 :  ISA can not use over 16 megs ram\n",
      "3668 :  Maxtor 7080AT jumper settings \n",
      "3669 :   CPU Fans\n",
      "3670 :  BIOS replacement\n",
      "3671 :  HELP: COM Port problems and MOUSE\n",
      "3672 :   Adding a second IDE drive\n",
      "3673 :   HELP  Floppy Problem\n",
      "3674 :  Can't set COM4  G2Ks answer\n",
      "3675 :   Diamond Products Boycot\n",
      "3676 :   VLbus HDDFDD controller or IDE HDDFDD controller\n",
      "3677 :   Comtrade\n"
     ]
    },
    {
     "name": "stderr",
     "output_type": "stream",
     "text": [
      "\r",
      " 20%|██████████████▊                                                             | 3678/18828 [00:23<01:28, 171.24it/s]"
     ]
    },
    {
     "name": "stdout",
     "output_type": "stream",
     "text": [
      "3678 :   Gateway Monitor ProblemAgain Help\n",
      "3679 :   Ibm link to imagewriter \n",
      "3680 :   HOW is a Null Modem Cable\n",
      "3681 :  Low Emission Monitors:  Who besides NEC\n",
      "3682 :   Plus Hardcard owners help\n",
      "3683 :  Joystick again\n",
      "3684 :   CPU Fans\n",
      "3685 :  CPU Temperature vs CPU Activity \n",
      "3686 :  Disk caching\n",
      "3687 :  ReadOnly HardDrive\n",
      "3688 :  HELP: BIOS upgrade on Compaq 286 Deskpro\n",
      "3689 :  Floppy problems\n",
      "3690 :  Diamond Stealth Pro  2 MB VRAM\n",
      "3691 :   Gateway Monitor ProblemAgain Help\n",
      "3692 :     Need specs for a Western Digital IDE HD\n",
      "3693 :   20 or 21 grayscale displays\n",
      "3694 :   CPU Temperature vs CPU Activity \n",
      "3695 :   SCSI or IDE: The Bottom Line\n"
     ]
    },
    {
     "name": "stderr",
     "output_type": "stream",
     "text": [
      "\r",
      " 20%|██████████████▉                                                             | 3696/18828 [00:23<01:37, 155.78it/s]"
     ]
    },
    {
     "name": "stdout",
     "output_type": "stream",
     "text": [
      "3696 :   DX50 vs DX266\n",
      "3697 :   ISA bus:  SCSI or IDE\n",
      "3698 :   Courier vs Sportster\n",
      "3699 :  Artec monitor\n",
      "3700 :   Will my 386 RAM work in a 486\n",
      "3701 :   Diamond Products Boycot\n",
      "3702 :   Cached Hardrives\n",
      "3703 :  HP LaserJet FAX  opinions needed\n",
      "3704 :   Soundblaster IRQ and Port settings\n",
      "3705 :   Need specs for a Western Digital IDE HD\n",
      "3706 :  Epson Action Printer  $100, NEW for sale\n",
      "3707 :  Quantum LPS240A hard disk phantom seeks\n",
      "3708 :  modem\n",
      "3709 :   SCSI vs. IDE\n",
      "3710 :  Help Is a Samtron SC431 interlaced or non\n",
      "3711 :   Quantum LPS240A hard disk phantom seeks\n",
      "3712 :  Writing EMM driver\n",
      "3713 :  ET4000W32 chip graphics accelerator.\n",
      "3714 :   DX50 vs DX266\n",
      "3715 :    CONSUMER WARNING   MidWest Micro \n"
     ]
    },
    {
     "name": "stderr",
     "output_type": "stream",
     "text": [
      "\r",
      " 20%|██████████████▉                                                             | 3716/18828 [00:23<01:30, 166.58it/s]"
     ]
    },
    {
     "name": "stdout",
     "output_type": "stream",
     "text": [
      "3716 :   Monitors  Nanao\n",
      "3717 :   Monitors  Nanao\n",
      "3718 :  66MHZ Standard PC won't run Windows in Turbo mode\n",
      "3719 :  Headland Video7 VRAMII 512K ver upgrade info needed\n",
      "3720 :   DX50 vs DX266\n",
      "3721 :  Need an ESDI HDD .\n",
      "3722 :  Hawk motherboard\n",
      "3723 :   Gateway 4DX33V  too high a price\n",
      "3724 :   Low Emission Monitors:  Who besides NEC\n",
      "3725 :  Gateway 4DX266V update\n",
      "3726 :   Low Emission Monitors:  Who besides NEC\n",
      "3727 :  ET4000W32 3dbench\n",
      "3728 :   Monitors  Nanao\n",
      "3729 :   Date is stuck\n",
      "3730 :   COM4 card shows up as COM3 with COM4 is address and IRQ\n",
      "3731 :  IDE in Zenith 38616, okay\n",
      "3732 :   What exactly is the IBM made 486SLC or SLC2 Processor \n",
      "3733 :  HELP WANTED: Faults on IDE drives\n"
     ]
    },
    {
     "name": "stderr",
     "output_type": "stream",
     "text": [
      "\r",
      " 20%|███████████████                                                             | 3734/18828 [00:23<01:41, 149.33it/s]"
     ]
    },
    {
     "name": "stdout",
     "output_type": "stream",
     "text": [
      "3734 :   CPU Fans33\n",
      "3735 :  COMDEX  INFO WANTED\n",
      "3736 :  48633 Tower Without a Fan\n",
      "3737 :  STRANGE DISK BEHAVIOUR\n",
      "3738 :  DX Chips\n",
      "3739 :   NUTEK FACES APPLE'S WRATH  READ\n",
      "3740 :   your opinion of the LaserWriter Select 310\n",
      "3741 :  Floptical Question\n",
      "3742 :   Centris Cache & Bernoulli Box\n",
      "3743 :  Please help find video hardware\n",
      "3744 :  ftp site for Radius software\n",
      "3745 :  your opinion of the LaserWriter Select 310\n",
      "3746 :  how do you like the Apple Color OneScanner\n",
      "3747 :  File Server Mac\n",
      "3748 :   Powerbook & Duo Batteries\n",
      "3749 :  FOR SALE  MACINTOSH SE30\n",
      "3750 :  Sound input in SE30\n",
      "3751 :   HELP INSTALL RAM ON CENTRIS 610\n",
      "3752 :   Q800 Video RAM Questions\n",
      "3753 :   14 monitors\n",
      "3754 :  NuTek Email\n"
     ]
    },
    {
     "name": "stderr",
     "output_type": "stream",
     "text": [
      "\r",
      " 20%|███████████████▏                                                            | 3755/18828 [00:23<01:33, 161.97it/s]"
     ]
    },
    {
     "name": "stdout",
     "output_type": "stream",
     "text": [
      "3755 :   14 monitors\n",
      "3756 :   CDROM multisession\n",
      "3757 :  Disappointed by La Cie\n",
      "3758 :  Wyse 60 Terminal Emulator\n",
      "3759 :   NUTEK FACES APPLE'S WRATH  READ\n",
      "3760 :  Quadra 700 memory upgrade\n",
      "3761 :  built in video\n",
      "3762 :  LCIII vs. Centris 610\n",
      "3763 :  RESULTS of Mathematica Speed Tests\n",
      "3764 :   Caps Lock vs. control \n",
      "3765 :  MAC to LaserJet IIIp\n",
      "3766 :   HELP INSTALL RAM ON CENTRIS 610\n",
      "3767 :  Laser Writer IINTX upgrade kit\n",
      "3768 :  FOR SALE: Ethernet board  24 bit Supermac Combo\n",
      "3769 :   SE Serial Port Speed\n",
      "3770 :  Cheap video card for LC  wfpu\n",
      "3771 :   LCIII vs. Centris 610\n",
      "3772 :   IINTX Upgrade\n",
      "3773 :   Powerbook & Duo Batteries\n"
     ]
    },
    {
     "name": "stderr",
     "output_type": "stream",
     "text": [
      "\r",
      " 20%|███████████████▏                                                            | 3774/18828 [00:23<01:29, 168.62it/s]"
     ]
    },
    {
     "name": "stdout",
     "output_type": "stream",
     "text": [
      "3774 :  ADB and graphics tablet help\n",
      "3775 :   HELP INSTALL RAM ON CENTRIS 610\n",
      "3776 :   Centris Cache & Bernoulli Box\n",
      "3777 :  Centris 610 Impression\n",
      "3778 :   wise to remove fan in Classic\n",
      "3779 :  comparative SCSI performance\n",
      "3780 :   your opinion of the LaserWriter Select 310\n",
      "3781 :   info on apple 824GC requested.\n",
      "3782 :   Mac OS on a 486 \n",
      "3783 :   MacPlus freezes after ~1 hour use, fails to boot\n",
      "3784 :   CD300 & 300i\n",
      "3785 :   what do y'all think of the IIvx\n",
      "3786 :  Adapter Cable for VGA Monitors\n",
      "3787 :  Macintosh Lisa Dot Matrix Parallel Printer\n",
      "3788 :   New Duo Dock info.\n",
      "3789 :   PowerBook Batteries\n",
      "3790 :  Quadra 800 configurations\n",
      "3791 :  Memory in Plus&SE\n"
     ]
    },
    {
     "name": "stderr",
     "output_type": "stream",
     "text": [
      "\r",
      " 20%|███████████████▎                                                            | 3792/18828 [00:23<01:35, 156.65it/s]"
     ]
    },
    {
     "name": "stdout",
     "output_type": "stream",
     "text": [
      "3792 :  FORSALE: RADIUS Precision Color 24x Video Card\n",
      "3793 :  Position of 'b' on Erg. Keyboard\n",
      "3794 :  LaserWriter Pro 600 memory upgrade \n",
      "3795 :   what do y'all think of the IIvx\n",
      "3796 :  TechWorks  What You Say\n",
      "3797 :  Ethernet to LocalTalk On a Quadra\n",
      "3798 :   DCC and MiniDisc: next DATDDS like story\n",
      "3799 :  Thanks Apple: Free Ethernet on my C610\n",
      "3800 :   New Apple ErgoMouse\n",
      "3801 :   File Server Mac\n",
      "3802 :   QUESTION: 1024 x 768 on Quadra 800\n",
      "3803 :   Installing RAM in a Quadra 800\n",
      "3804 :  Sigma Designs Double up\n",
      "3805 :   New Duo Dock info.\n",
      "3806 :   Position of 'b' on Erg. Keyboard\n",
      "3807 :   CD300 & 300i\n",
      "3808 :  using 1.4 Mb disks with Mac II\n",
      "3809 :   Whats this Thermal Recalibration on Quantum Drives \n",
      "3810 :  Ext. Hard Drives for my SE30\n",
      "3811 :  Price drop on C650 within 2 months\n"
     ]
    },
    {
     "name": "stderr",
     "output_type": "stream",
     "text": [
      "\r",
      " 20%|███████████████▍                                                            | 3812/18828 [00:24<01:29, 167.26it/s]"
     ]
    },
    {
     "name": "stdout",
     "output_type": "stream",
     "text": [
      "3812 :   Thanks Apple: Free Ethernet on my C610\n",
      "3813 :   TechWorks  What You Say\n",
      "3814 :  CYCLONE AND TEMPEST\n",
      "3815 :  LCIII & MIDI\n",
      "3816 :   Sigma Designs Double up\n",
      "3817 :   Price drop on C650 within 2 months\n",
      "3818 :  LCIII to VGA Monitor Adapters\n",
      "3819 :   WARNING Don't break Powerbook screen\n",
      "3820 :   Need Advice  \n",
      "3821 :  Duo Dock problems\n",
      "3822 :  Quantum Q250 hard disk\n",
      "3823 :  HELP: PowerBook 160 and Caere Typist Plus Graphics Hand Scanner\n",
      "3824 :   Disappointed by La Cie\n",
      "3825 :   The C650 fan is NOISY  Any solutions\n",
      "3826 :  RE: Price drop on C650 within 2 months\n",
      "3827 :   comparative SCSI performance\n",
      "3828 :  Apple Tape backup 40SC under System 7.x\n",
      "3829 :  Axion Serial port switcher: Good or bad\n"
     ]
    },
    {
     "name": "stderr",
     "output_type": "stream",
     "text": [
      "\r",
      " 20%|███████████████▍                                                            | 3830/18828 [00:24<01:33, 159.60it/s]"
     ]
    },
    {
     "name": "stdout",
     "output_type": "stream",
     "text": [
      "3830 :  PLEEZE HELP ME BUY A MAC\n",
      "3831 :   IIsi at 33MHz success story\n",
      "3832 :   ADB woes\n",
      "3833 :   CD300 & 300i\n",
      "3834 :   Apple Tape backup 40SC under System 7.x\n",
      "3835 :  HELP PLEASE  Hand Scanner Problem\n",
      "3836 :  Cannot move data fast enough\n",
      "3837 :  New Duo Dock With Processor: Here is Why\n",
      "3838 :  2 PowerBook Questions\n",
      "3839 :   QUESTION: 1024 x 768 on Quadra 800\n",
      "3840 :   New Apple ErgoMouse\n",
      "3841 :   Cheapest mike for Centris\n",
      "3842 :   New Duo Dock With Processor: Here is Why\n",
      "3843 :   Apple Tape backup 40SC under System 7.x\n",
      "3844 :   Duo Dock problems\n",
      "3845 :   Internal SCSI installation, How\n",
      "3846 :   CD300 & 300i\n",
      "3847 :   New Apple ErgoMouse\n",
      "3848 :   Disappointed by La Cie\n",
      "3849 :  Quadra 800 problem & question\n"
     ]
    },
    {
     "name": "stderr",
     "output_type": "stream",
     "text": [
      "\r",
      " 20%|███████████████▌                                                            | 3850/18828 [00:24<01:28, 169.41it/s]"
     ]
    },
    {
     "name": "stdout",
     "output_type": "stream",
     "text": [
      "3850 :   Sales of PowerBook slowing down...\n",
      "3851 :  Cache Card and Optimum Memory Settings\n",
      "3852 :  Monitors and Video cards for SE30\n",
      "3853 :   New Apple ErgoMouse\n",
      "3854 :   14 monitors\n",
      "3855 :   14 monitors\n",
      "3856 :   how do you like the Apple Color OneScanner\n",
      "3857 :    Need Advice  \n",
      "3858 :  68LC040 vs. 68RC040 in Centris 650\n",
      "3859 :   68LC040 vs. 68RC040 in Centris 650\n",
      "3860 :   New Apple ErgoMouse\n",
      "3861 :   IIsi clock upgrade\n",
      "3862 :  Racet Optical\n",
      "3863 :  PowerBook 170 440\n",
      "3864 :  Problems with AROSE\n",
      "3865 :   Floptical Question\n",
      "3866 :  Centris 610 Video ProblemHELP\n",
      "3867 :  Noisy SE: What can I do\n"
     ]
    },
    {
     "name": "stderr",
     "output_type": "stream",
     "text": [
      "\r",
      " 21%|███████████████▌                                                            | 3868/18828 [00:24<01:32, 161.28it/s]"
     ]
    },
    {
     "name": "stdout",
     "output_type": "stream",
     "text": [
      "3868 :  Tempest and Cyclone info. NEEDED\n",
      "3869 :   Rumours about New Duos \n",
      "3870 :  PS2 Appletalk card question\n",
      "3871 :  Removable Storage\n",
      "3872 :  A+ mouse\n",
      "3873 :      RE: 1024 x 768 video on Q800  adaptor pinouts\n",
      "3874 :   Quadra Acceleration\n",
      "3875 :   Mac Plus is constantly rebooting\n",
      "3876 :  A StyleWriter II question\n",
      "3877 :  CDROM for a quadra...\n",
      "3878 :   Interesting ADB behaviour on C650\n",
      "3879 :  iisi clock upgrades\n",
      "3880 :  What is  ROM accelerated video\n",
      "3881 :   Quadra 900950\n",
      "3882 :   Quadra 900950 differences\n",
      "3883 :   What to put in Centris 650 Internal Bay\n",
      "3884 :   IIci  Q700 upgrade\n",
      "3885 :   Sampling CD audio \n"
     ]
    },
    {
     "name": "stderr",
     "output_type": "stream",
     "text": [
      "\r",
      " 21%|███████████████▋                                                            | 3886/18828 [00:24<01:30, 164.63it/s]"
     ]
    },
    {
     "name": "stdout",
     "output_type": "stream",
     "text": [
      "3886 :   Recommendations for removable storage media wanted\n",
      "3887 :  LCD Overhead Projectors\n",
      "3888 :   AD conversion\n",
      "3889 :  Powerbook 140180 Batteries\n",
      "3890 :   What happens if you completely flatten your PB is battery\n",
      "3891 :  Memory upgrades\n",
      "3892 :  Trying to find a reliable Power Center for MACS\n",
      "3893 :  Centris 610tms 120 drive\n",
      "3894 :  modem question\n",
      "3895 :   Educational Pricing\n",
      "3896 :   Accelerator for SE\n",
      "3897 :  Where can I get the cheapest price\n",
      "3898 :  $$$ to fix TRACKBALL\n",
      "3899 :   Monitor turning off on its own\n",
      "3900 :  HP LaserJet III, printing with Duo\n",
      "3901 :  Dead mouse \n",
      "3902 :  General questions on software and hardware...\n"
     ]
    },
    {
     "name": "stderr",
     "output_type": "stream",
     "text": [
      "\r",
      " 21%|███████████████▊                                                            | 3903/18828 [00:24<01:32, 161.80it/s]"
     ]
    },
    {
     "name": "stdout",
     "output_type": "stream",
     "text": [
      "3903 :  Performa 450 internal modem\n",
      "3904 :   Interesting ADB behaviour on C650\n",
      "3905 :   Quadra SCSI Problems\n",
      "3906 :  LC III NuBus Capable\n",
      "3907 :   Asante ENSC PB adaptor won't work with duo 230\n",
      "3908 :   Interesting ADB behaviour on C650\n",
      "3909 :  Best frontplate for SyQuest in IIviIIvxC650\n",
      "3910 :  Spigot on LC III\n",
      "3911 :   What is  ROM accelerated video\n",
      "3912 :  Monitor Shutdown on 13 HiRes\n",
      "3913 :  re: Dead mouse \n",
      "3914 :  800x600 video on a IIci\n",
      "3915 :   Computer Engr vs.  Computer Science\n",
      "3916 :  Mac II SCSI & PMMU socket question\n",
      "3917 :   Monitor Shutdown on 13 HiRes\n",
      "3918 :  More General Questions...\n",
      "3919 :   OK to set 54 lbs on top of Centris 610\n"
     ]
    },
    {
     "name": "stderr",
     "output_type": "stream",
     "text": [
      "\r",
      " 21%|███████████████▊                                                            | 3920/18828 [00:24<01:38, 150.81it/s]"
     ]
    },
    {
     "name": "stdout",
     "output_type": "stream",
     "text": [
      "3920 :  68040 Specs.\n",
      "3921 :  Q900 FP Errors (was: Quadra 900950 differences\n",
      "3922 :   Desktop rebuild and Datadesk keyboard\n",
      "3923 :   Desktop rebuild and Datadesk keyboard\n",
      "3924 :   Educational Pricing\n",
      "3925 :   $$$ to fix TRACKBALL\n",
      "3926 :   Jump Starting a Mac II\n",
      "3927 :   $$$ to fix TRACKBALL\n",
      "3928 :  LCIIIPowerPC\n",
      "3929 :   printer, blp elite\n",
      "3930 :   DayStar again ...\n",
      "3931 :   68LC040 vs. 68RC040 in Centris 650\n",
      "3932 :   iisi clock upgrades\n",
      "3933 :   AD conversion\n",
      "3934 :   A StyleWriter II question\n",
      "3935 :   $$$ to fix TRACKBALL\n",
      "3936 :   Duo 230 crashes aftersleep \n",
      "3937 :   LCIII problems\n",
      "3938 :   Duo 230 crashes aftersleep \n"
     ]
    },
    {
     "name": "stderr",
     "output_type": "stream",
     "text": [
      "\r",
      " 21%|███████████████▉                                                            | 3939/18828 [00:24<01:33, 159.31it/s]"
     ]
    },
    {
     "name": "stdout",
     "output_type": "stream",
     "text": [
      "3939 :   A StyleWriter II question\n",
      "3940 :  PowerVision for PB is\n",
      "3941 :   Interesting ADB behaviour on C650\n",
      "3942 :  New Duo Dock With Process\n",
      "3943 :  Powerbook 170 freezes after 18 seconds; Help\n",
      "3944 :  Daystar Turbo 040 Opinions\n",
      "3945 :   Interesting ADB behaviour on C650\n",
      "3946 :  Seeking FAX For Network Access\n",
      "3947 :  I want use DeskJet on System7\n",
      "3948 :  HELP  My Macintosh luggable has lines on its screen\n",
      "3949 :  Performa Plus monitor\n",
      "3950 :  RACK MOUNT 2CI, 650 Prices.\n",
      "3951 :  What is the current Rom Version shipping in Syquest drives\n",
      "3952 :   Duo 230 crashes aftersleep \n",
      "3953 :   Centris 650 to Decstation Enet adapter\n",
      "3954 :  VGA monitors and the mac LC series of computers\n",
      "3955 :   LCD Overhead Projectors\n",
      "3956 :  Toshiba 3401 E and P CDROM\n",
      "3957 :  converting keyboard for mac plus\n"
     ]
    },
    {
     "name": "stderr",
     "output_type": "stream",
     "text": [
      "\r",
      " 21%|███████████████▉                                                            | 3958/18828 [00:24<01:29, 166.42it/s]"
     ]
    },
    {
     "name": "stdout",
     "output_type": "stream",
     "text": [
      "3958 :  mac portable internal fax modems\n",
      "3959 :  mac portable ram problems; coprocessor not installed\n",
      "3960 :  Driver for DataFrame XP60+B\n",
      "3961 :  2 questions about the Centris 650 is RAM\n",
      "3962 :  Replacing internal FDHD w floptical\n",
      "3963 :  Colour card for the LC\n",
      "3964 :   LC Ram Upgrade will be SLOW\n",
      "3965 :   Interesting ADB behaviour on C650\n",
      "3966 :   What is ROM accelerated video\n",
      "3967 :  Adding int. hard disk drive to IIcx\n",
      "3968 :  WANTED: 120M Hard Drive\n",
      "3969 :  Mac IIsi Power Limitations\n",
      "3970 :   Quadra SCSI Problems\n",
      "3971 :   Can I get more than 640 x 480 on 13 monitor\n",
      "3972 :  Looking for freeshare wares\n",
      "3973 :   2 questions about the Centris 650 is RAM\n",
      "3974 :  Disappearing hard drive in LC\n",
      "3975 :  disabling all power management interrupts\n",
      "3976 :   Apple announce 3 new performas \n",
      "3977 :   Desktop rebuild and Datadesk keyboard\n"
     ]
    },
    {
     "name": "stderr",
     "output_type": "stream",
     "text": [
      "\r",
      " 21%|████████████████                                                            | 3978/18828 [00:25<01:25, 174.36it/s]"
     ]
    },
    {
     "name": "stdout",
     "output_type": "stream",
     "text": [
      "3978 :   Memory upgrades\n",
      "3979 :   OK to set 54 lbs on top of Centris 610\n",
      "3980 :   ThunderScan  got a spare ImageWriter cover\n",
      "3981 :   LCIII problems\n",
      "3982 :   LCIII problems \n",
      "3983 :   I want use DeskJet on System7\n",
      "3984 :   LCIIIPowerPC\n",
      "3985 :   Quadra SCSI Problems\n",
      "3986 :   Quadra SCSI Problems\n",
      "3987 :   Quadra SCSI Problems\n",
      "3988 :   Mac II SCSI & PMMU socket question\n",
      "3989 :   LCIII problems\n",
      "3990 :   Noisy SE: What can I do\n",
      "3991 :   LC III NuBus Capable\n",
      "3992 :   Desktop rebuild and Datadesk keyboard\n",
      "3993 :  $G4qxF,fekVH6\n",
      "3994 :  FPU in an SE \n",
      "3995 :   LCIIIPowerPC\n",
      "3996 :   2 questions about the Centris 650 is RAM\n"
     ]
    },
    {
     "name": "stderr",
     "output_type": "stream",
     "text": [
      "\r",
      " 21%|████████████████▏                                                           | 3997/18828 [00:25<01:23, 178.35it/s]"
     ]
    },
    {
     "name": "stdout",
     "output_type": "stream",
     "text": [
      "3997 :   HD Setup Partition (Was: OK to set 54 lbs on top of Centris 610\n",
      "3998 :   Performa 450 internal modem\n",
      "3999 :   Can I get more than 640 x 480 on 13 monitor\n",
      "4000 :   pb100 memory upgrade\n",
      "4001 :   LC Ram Upgrade will be SLOW\n",
      "4002 :  LCIII Cache Card\n",
      "4003 :  HELP: Need modem info for Duo 210\n",
      "4004 :   How long do RAM SIMM is last\n",
      "4005 :   Quadra SCSI Problems\n",
      "4006 :   LC III NuBus Capable\n",
      "4007 :   What to put in Centris 650 Internal Bay\n",
      "4008 :  x86 ~= 680x0   \n",
      "4009 :   HP DeskWriter 550C...Opinions Feedback\n",
      "4010 :   How long do RAM SIMM is last\n",
      "4011 :   Floptical Question\n",
      "4012 :  ### 68040 25Mz FOR SALE : ABSOLUTELY NEVER USED ###\n",
      "4013 :  updated keyboard question for the plus\n",
      "4014 :   iisi clock upgrades\n",
      "4015 :   Which fax modem is the best\n",
      "4016 :  Accelaratores\n",
      "4017 :  Photo shop scanner\n"
     ]
    },
    {
     "name": "stderr",
     "output_type": "stream",
     "text": [
      "\r",
      " 21%|████████████████▏                                                           | 4018/18828 [00:25<01:20, 184.98it/s]"
     ]
    },
    {
     "name": "stdout",
     "output_type": "stream",
     "text": [
      "4018 :   Mac Plus is constantly rebooting\n",
      "4019 :  Request info on floptical drives.\n",
      "4020 :  FOR SALE: TelePort ADB 2400bps Modem wSend Fax\n",
      "4021 :  FOR SALE: 2 4MB 80ns SIMMs\n",
      "4022 :  Put ex. syquest in Centris 610\n",
      "4023 :   IIci  Q700 upgrade\n",
      "4024 :  Quadras VRAM Question\n",
      "4025 :  Monitor for LCIII\n",
      "4026 :  Fax modem for the Mac\n",
      "4027 :   Macs suck Buy a PC\n",
      "4028 :  SE30 acc & graphics card\n",
      "4029 :  ADB Mouse II   when\n",
      "4030 :  HELP  SCSI Woes on Mac IIfx\n",
      "4031 :   DSP or other cards for FFT is, anyone\n",
      "4032 :   High Resolution ADC for Mac II\n",
      "4033 :  IIvx  C650 Upgrade Question\n",
      "4034 :  PDS vs. Nubus \n",
      "4035 :  Power Supplies for Mac 512 is\n",
      "4036 :   HELP Duo 230 problems\n"
     ]
    },
    {
     "name": "stderr",
     "output_type": "stream",
     "text": [
      "\r",
      " 21%|████████████████▎                                                           | 4037/18828 [00:25<01:30, 164.03it/s]"
     ]
    },
    {
     "name": "stdout",
     "output_type": "stream",
     "text": [
      "4037 :   LCIII problems\n",
      "4038 :  Video cable options\n",
      "4039 :   Duo 230 crashes aftersleep \n",
      "4040 :  PowerPC ruminations; was  LCIIIPowerPC\n",
      "4041 :  Don't repair that sticky mouse buttonCALL APPLE\n",
      "4042 :  HELP WANTED Monitor problems  \n",
      "4043 :  ANother Res QUestion\n",
      "4044 :   Adding int. hard disk drive to IIcx\n",
      "4045 :   iisi clock upgrades\n",
      "4046 :  5.25 MO sectorstrack\n",
      "4047 :  Help with SIMM configuration\n",
      "4048 :   Recommendations for removable storage media wanted\n",
      "4049 :  re: Centris 610 Video Problem  I am having it also\n",
      "4050 :   Duo 230 crashes aftersleep \n",
      "4051 :   Apple 14 monitor\n",
      "4052 :   Looking for freeshare wares\n",
      "4053 :  For the poor owner of IIsi\n",
      "4054 :  Performa 450 bundle here is what is in it.\n",
      "4055 :   Quadra SCSI Problems\n",
      "4056 :  Help How to test SIMMs\n"
     ]
    },
    {
     "name": "stderr",
     "output_type": "stream",
     "text": [
      "\r",
      " 22%|████████████████▍                                                           | 4057/18828 [00:25<01:25, 173.35it/s]"
     ]
    },
    {
     "name": "stdout",
     "output_type": "stream",
     "text": [
      "4057 :   HELP: Need modem info for Duo 210\n",
      "4058 :   2 questions about the Centris 650 is RAM\n",
      "4059 :  Great deal\n",
      "4060 :  SE pricing\n",
      "4061 :  sony 1304 & Rasterops 24sx for SALE  UPDATE\n",
      "4062 :  Trade Mac SE system for Color Mac\n",
      "4063 :   Why HP printers rated so low\n",
      "4064 :   Accelerator for SE\n",
      "4065 :  Pin map for 8pinDIN cable\n",
      "4066 :  SI clock reports\n",
      "4067 :   ADB Mouse II   when\n",
      "4068 :  Duo parking HD heads when iddle\n",
      "4069 :  Snooper..any opinions\n",
      "4070 :   HELP  SCSI Woes on Mac IIfx\n",
      "4071 :   What is the difference between a Mac Portable and Powerbook 100\n",
      "4072 :   PDS vs. Nubus \n",
      "4073 :   Put ex. syquest in Centris 610\n",
      "4074 :   HELP: Need modem info for Duo 210\n"
     ]
    },
    {
     "name": "stderr",
     "output_type": "stream",
     "text": [
      "\r",
      " 22%|████████████████▍                                                           | 4075/18828 [00:25<01:35, 154.42it/s]"
     ]
    },
    {
     "name": "stdout",
     "output_type": "stream",
     "text": [
      "4075 :  32 Bit System Zone\n",
      "4076 :   HONGKONG\n",
      "4077 :   68040 Specs.\n",
      "4078 :   x86 ~= 680x0   \n",
      "4079 :   PDS vs. Nubus \n",
      "4080 :  Accelerators for SE\n",
      "4081 :  mac IIsi power limitations\n",
      "4082 :  Screen Death: Mac Plus512\n",
      "4083 :  HELP  E_Mail Address of Caere Corporation\n",
      "4084 :  Reseting LW IIg to factory defaults\n",
      "4085 :  NonApple MiniDocks available\n",
      "4086 :  My IIcx won't turn on...\n",
      "4087 :  Upgrading PB170 Memory\n",
      "4088 :   Help How to test SIMMs\n",
      "4089 :  Centris 650 Math CoProcessor option\n",
      "4090 :   Can I put a 1.44 floppy in an SE\n",
      "4091 :   68040 Specs.\n",
      "4092 :   My IIcx won't turn on...\n",
      "4093 :  SUMMARY: ZyXEL Strings\n",
      "4094 :  How often are SIMMs bad \n",
      "4095 :  TCPIP routing LocalTalkEthernet.\n"
     ]
    },
    {
     "name": "stderr",
     "output_type": "stream",
     "text": [
      "\r",
      " 22%|████████████████▌                                                           | 4096/18828 [00:25<01:28, 165.93it/s]"
     ]
    },
    {
     "name": "stdout",
     "output_type": "stream",
     "text": [
      "4096 :  how to boot from ext HD on power on \n",
      "4097 :  SIMM Reuse NuBus board... Anyone seen one\n",
      "4098 :  Mac IIsi Cache options\n",
      "4099 :   IIvx  C650 Upgrade Question\n",
      "4100 :  Color inks for Stylewriter\n",
      "4101 :  Why does Apple give us a confusing message\n",
      "4102 :  Sony 1304S problems Info please\n",
      "4103 :   Fax modem for the Mac\n",
      "4104 :   Centris 610 Video Problem  I am having it also\n",
      "4105 :  x86 ~= 680x0   \n",
      "4106 :  Need help installing a simms in 700, quick\n",
      "4107 :   Upgrading PB170 Memory\n",
      "4108 :   Computer Engr vs. Computer Science\n",
      "4109 :   Centris 610 Video Problem  I am having it also\n",
      "4110 :   High Resolution ADC for Mac II\n",
      "4111 :  wrong RAM in Duo\n",
      "4112 :  Can you share one monitor w 2 cpus\n",
      "4113 :   Centris 610 Video Problem  I am having it also\n"
     ]
    },
    {
     "name": "stderr",
     "output_type": "stream",
     "text": [
      "\r",
      " 22%|████████████████▌                                                           | 4114/18828 [00:25<01:38, 148.87it/s]"
     ]
    },
    {
     "name": "stdout",
     "output_type": "stream",
     "text": [
      "4114 :   x86 ~= 680x0   \n",
      "4115 :   x86 ~= 680x0  \n",
      "4116 :   x86 ~= 680x0  \n",
      "4117 :   x86 ~= 680x0  \n",
      "4118 :   Computer Engr vs. Computer Science\n",
      "4119 :  Quadra 700 Memory Install FAQ\n",
      "4120 :   HELP Duo 230 problems\n",
      "4121 :  Pixel disappear on Powerbook 140 screen\n",
      "4122 :   x86 ~= 680x0  \n",
      "4123 :  ATTN: 160,165c,180 and DUO owners\n",
      "4124 :  Increasing the number of Serial ports\n",
      "4125 :  Sound Recording for Mac Portable\n",
      "4126 :  Asante ENSC hangs SCSI devices\n",
      "4127 :   Increasing the number of Serial ports\n",
      "4128 :   Educational Pricinggray market\n",
      "4129 :   How often are SIMMs bad \n",
      "4130 :   x86 ~= 680x0  \n",
      "4131 :   Macs suck Buy a PC\n",
      "4132 :  Has anyone had problems with IBM drives in their machines\n",
      "4133 :   x86 ~= 680x0  \n"
     ]
    },
    {
     "name": "stderr",
     "output_type": "stream",
     "text": [
      "\r",
      " 22%|████████████████▋                                                           | 4134/18828 [00:25<01:31, 161.23it/s]"
     ]
    },
    {
     "name": "stdout",
     "output_type": "stream",
     "text": [
      "4134 :   Why does Apple give us a confusing message\n",
      "4135 :  DIY  PhoneNET, MIDI adapt & MacRecorder\n",
      "4136 :   Ghost on Apple 12 Color  user=insane\n",
      "4137 :   Increasing the number of Serial ports\n",
      "4138 :  Any Nanao 750i compatible Mac video cards\n",
      "4139 :   Reseting LW IIg to factory defaults\n",
      "4140 :   Why does Apple give us a confusing message\n",
      "4141 :  Video Display\n",
      "4142 :  Stereo sound problem  on mac games\n",
      "4143 :   Screen Death: Mac Plus512\n",
      "4144 :   wrong RAM in Duo\n",
      "4145 :   Stereo sound problem  on mac games\n",
      "4146 :  Duo 230 slowdown problems\n",
      "4147 :  PC Syquest on a Mac\n",
      "4148 :   NonApple MiniDocks available\n",
      "4149 :  SE rom\n",
      "4150 :   Why does Apple give us a confusing message\n",
      "4151 :  MO driver compatibility\n"
     ]
    },
    {
     "name": "stderr",
     "output_type": "stream",
     "text": [
      "\r",
      " 22%|████████████████▊                                                           | 4152/18828 [00:26<01:38, 149.57it/s]"
     ]
    },
    {
     "name": "stdout",
     "output_type": "stream",
     "text": [
      "4152 :   SE rom\n",
      "4153 :  Mac oriented BBSs in Chicago\n",
      "4154 :   PDS vs. Nubus \n",
      "4155 :   SE rom\n",
      "4156 :   serial port problem\n",
      "4157 :   PowerPC ruminations; was  LCIIIPowerPC\n",
      "4158 :   How to get 10 Ma\n",
      "4159 :   SE30 acc & graphics card\n",
      "4160 :  Accelerator for Classic II\n",
      "4161 :   PC Syquest on a Mac\n",
      "4162 :   Video Resolution Switching\n",
      "4163 :  re: mac portable vs. powerbook 100 answers \n",
      "4164 :  Monitor recommendation Needed\n",
      "4165 :  what size vram simm is this\n",
      "4166 :  Ghost on Apple 12 Color  user=insane\n",
      "4167 :    How to get 10 Ma\n",
      "4168 :  US SIMM prices please\n",
      "4169 :   Quadra SCSI Problems\n",
      "4170 :   Why does Apple give us a confusing message\n"
     ]
    },
    {
     "name": "stderr",
     "output_type": "stream",
     "text": [
      "\r",
      " 22%|████████████████▊                                                           | 4171/18828 [00:26<01:31, 159.64it/s]"
     ]
    },
    {
     "name": "stdout",
     "output_type": "stream",
     "text": [
      "4171 :  changing port buffer size in ZTerm\n",
      "4172 :  Using SetWUTime with a PB170\n",
      "4173 :  Serial Line connection between Duo 210 and PC\n",
      "4174 :   Quadra SCSI Problems\n",
      "4175 :  Token Ring Cards for Macs\n",
      "4176 :   Photo shop scanner\n",
      "4177 :   Position of 'b' on Erg. Keyboard\n",
      "4178 :   My IIcx won't turn on...\n",
      "4179 :   2 questions about the Centris 650 is RAM\n",
      "4180 :   changing port buffer size in ZTerm\n",
      "4181 :  824 card questions\n",
      "4182 :   Increasing the number of Serial ports\n",
      "4183 :   Quadras VRAM Question\n",
      "4184 :  Cache card for IIsi\n",
      "4185 :   Macs suck Buy a PC\n",
      "4186 :   Centris 610 Video Problem  I am having it also\n",
      "4187 :   Help with SIMM configuration\n"
     ]
    },
    {
     "name": "stderr",
     "output_type": "stream",
     "text": [
      "\r",
      " 22%|████████████████▉                                                           | 4188/18828 [00:26<01:39, 147.15it/s]"
     ]
    },
    {
     "name": "stdout",
     "output_type": "stream",
     "text": [
      "4188 :   Why does Apple give us a confusing message\n",
      "4189 :   Centris 650 Math CoProcessor option\n",
      "4190 :   TCPIP routing LocalTalkEthernet.\n",
      "4191 :  Full page PB screen\n",
      "4192 :  builtin video problems on Mac IIsi \n",
      "4193 :  72pin SIMMS, where\n",
      "4194 :  When is Apple going to ship CD300i is\n",
      "4195 :  Whither QuickDraw Performance \n",
      "4196 :   Cache card for IIsi\n",
      "4197 :   Position of 'b' on Erg. Keyboard\n",
      "4198 :   builtin video problems on Mac IIsi \n",
      "4199 :   Quadra SCSI Problems\n",
      "4200 :   PDS vs. Nubus \n",
      "4201 :  ImageWriter II at 50 Hz\n",
      "4202 :   When is Apple going to ship CD300i is\n",
      "4203 :  Accelerating the MacPlus...;)\n",
      "4204 :  Quadra 900 startup wout monitor...ya right.\n"
     ]
    },
    {
     "name": "stderr",
     "output_type": "stream",
     "text": [
      "\r",
      " 22%|████████████████▉                                                           | 4205/18828 [00:26<01:35, 152.62it/s]"
     ]
    },
    {
     "name": "stdout",
     "output_type": "stream",
     "text": [
      "4205 :  NTSC and th\n",
      "4206 :  NTSC and the Mac\n",
      "4207 :  SCSI Ethernet Converter For Sale\n",
      "4208 :  Apple CD300 CDROM freebies.\n",
      "4209 :  SE30 Hard Drive Problem\n",
      "4210 :   buying Advice\n",
      "4211 :  Recommend me a PS printer\n",
      "4212 :   Stereo sound problem  on mac games\n",
      "4213 :  Powerbook with a math coprocessor\n",
      "4214 :   Cache card for IIsi\n",
      "4215 :  PDS cards for the LCIII\n",
      "4216 :  I need modem selection help \n",
      "4217 :   PC Syquest on a Mac\n",
      "4218 :  Trouble w VGA displays\n",
      "4219 :   When is Apple going to ship CD300i is\n",
      "4220 :   Full page PB screen\n",
      "4221 :  Centris610 problem.\n",
      "4222 :   SE rom\n",
      "4223 :  Quadra 950900 case source wanted\n",
      "4224 :   Accelerating the MacPlus...;)\n"
     ]
    },
    {
     "name": "stderr",
     "output_type": "stream",
     "text": [
      "\r",
      " 22%|█████████████████                                                           | 4225/18828 [00:26<01:29, 162.57it/s]"
     ]
    },
    {
     "name": "stdout",
     "output_type": "stream",
     "text": [
      "4225 :  SIMM vs DRAM\n",
      "4226 :  voice messaging\n",
      "4227 :  SI Clock Poll  Final Call\n",
      "4228 :  Buying a high speed v.everything modem\n",
      "4229 :   Stereo sound problem  on mac games\n",
      "4230 :   Jump Starting a Mac II\n",
      "4231 :   Whither QuickDraw Performance \n",
      "4232 :  eight 4mb 70ns simms $105ea., o.b.o.\n",
      "4233 :   Monitor for LCIII\n",
      "4234 :  512K VRAM for Sale LC or LCII\n",
      "4235 :   x86 ~= 680x0   \n",
      "4236 :  Mac 800 numbers\n",
      "4237 :  How to reach Micron\n",
      "4238 :  Can I remove the 68000 under my daughterboard upgrade\n",
      "4239 :  Syquest 150 \n",
      "4240 :  Word Printing to IIg\n",
      "4241 :   Quadra 700 Sound\n"
     ]
    },
    {
     "name": "stderr",
     "output_type": "stream",
     "text": [
      "\r",
      " 23%|█████████████████                                                           | 4242/18828 [00:26<01:36, 151.16it/s]"
     ]
    },
    {
     "name": "stdout",
     "output_type": "stream",
     "text": [
      "4242 :   When is Apple going to ship CD300i is\n",
      "4243 :  Adding VRAM to Quadra 800 \n",
      "4244 :  HELP:  0300FF error at powerup a Mac Plus\n",
      "4245 :  PB questions...\n",
      "4246 :   Quadra SCSI Problems\n",
      "4247 :  MacPlus Home brew Acceler question\n",
      "4248 :  driver \n",
      "4249 :  Calling all Mac gurus\n",
      "4250 :   NonApple MiniDocks available\n",
      "4251 :   Syquest 150 \n",
      "4252 :   When is Apple going to ship CD300i is\n",
      "4253 :   Spigot on LC III\n",
      "4254 :   NTSC and the Mac\n",
      "4255 :  Mac & IBM InfoVersion 1.7.7\n",
      "4256 :  hi:could I join\n",
      "4257 :  RE Quadra SCSI Problems\n",
      "4258 :   x86 ~= 680x0  \n",
      "4259 :   x86 ~= 680x0  \n",
      "4260 :   Can you share one monitor w 2 cpus\n"
     ]
    },
    {
     "name": "stderr",
     "output_type": "stream",
     "text": [
      "\r",
      " 23%|█████████████████▏                                                          | 4261/18828 [00:26<01:30, 160.69it/s]"
     ]
    },
    {
     "name": "stdout",
     "output_type": "stream",
     "text": [
      "4261 :  sound recording on mac portable answer \n",
      "4262 :   Calling all Mac gurus\n",
      "4263 :   Q700 at 34.5MHz, it is fine...\n",
      "4264 :   HELP Newly installed Falcon 2.21 bombs my SE \n",
      "4265 :  Serial Line connection between Duo 210 and PC\n",
      "4266 :   Using SetWUTime with a PB170\n",
      "4267 :   Quadra SCSI Problems\n",
      "4268 :   SIMM vs DRAM\n",
      "4269 :   Q700 at 34.5MHz, it is fine...\n",
      "4270 :  Halfpage hand scanners\n",
      "4271 :  DeskWriter Drivers 3.1  How to install \n",
      "4272 :  asynch to synch on the mac\n",
      "4273 :  Why the drive speeds differ\n",
      "4274 :   Halfpage hand scanners\n",
      "4275 :   Monitor Shutdown on 13 HiRes\n",
      "4276 :   Q700 at 34.5MHz, it is fine...\n",
      "4277 :  Hard disk error\n"
     ]
    },
    {
     "name": "stderr",
     "output_type": "stream",
     "text": [
      "\r",
      " 23%|█████████████████▎                                                          | 4278/18828 [00:26<01:34, 153.79it/s]"
     ]
    },
    {
     "name": "stdout",
     "output_type": "stream",
     "text": [
      "4278 :   When is Apple going to ship CD300i is\n",
      "4279 :   x86 ~= 680x0  \n",
      "4280 :   SE rom\n",
      "4281 :   Ethernet card that uses ARose\n",
      "4282 :   Torx T15 Screwdriver\n",
      "4283 :  Quadra Clock Chipping Works\n",
      "4284 :  Versatec plotter PPD\n",
      "4285 :   Quadra 900 startup wout monitor...ya right.\n",
      "4286 :   SIMM vs DRAM\n",
      "4287 :   72pin SIMMS, where\n",
      "4288 :   Buying a high speed v.everything modem\n",
      "4289 :  Apple 13 giong brighter\n",
      "4290 :   SetWUTime Works on a PB 230\n",
      "4291 :   Halfpage hand scanners\n",
      "4292 :   Cache card for IIsi\n",
      "4293 :   Drivers for CDROM\n",
      "4294 :  512 kb VRAM SIMMs\n",
      "4295 :   How long do RAM SIMM is last\n",
      "4296 :   IIsi question\n",
      "4297 :  DESI PB upgrade\n"
     ]
    },
    {
     "name": "stderr",
     "output_type": "stream",
     "text": [
      "\r",
      " 23%|█████████████████▎                                                          | 4298/18828 [00:27<01:28, 163.69it/s]"
     ]
    },
    {
     "name": "stdout",
     "output_type": "stream",
     "text": [
      "4298 :  Good display card for 14 multisync\n",
      "4299 :  Good HardDisk driver for nonApple drives \n",
      "4300 :   Adding VRAM to Quadra 800 \n",
      "4301 :  Powerbooksleepinitrequest\n",
      "4302 :  PSI Comstation 5\n",
      "4303 :  Need a card for SONY 1320\n",
      "4304 :   Why the drive speeds differ\n",
      "4305 :  Powerbook Serial Ports\n",
      "4306 :   Adding VRAM to Quadra 800 \n",
      "4307 :   Buying a high speed v.everything modem\n",
      "4308 :  IIci ROM Offers 32bit Clean ROM for IIx\n",
      "4309 :   Cache card for IIsi\n",
      "4310 :   Ethernet card that uses ARose\n",
      "4311 :   IIci ROM Offers 32bit Clean ROM for IIx\n",
      "4312 :  Centris 610 Font Problems\n",
      "4313 :  Performa or LC\n",
      "4314 :   When is Apple going to ship CD300i is\n"
     ]
    },
    {
     "name": "stderr",
     "output_type": "stream",
     "text": [
      "\r",
      " 23%|█████████████████▍                                                          | 4315/18828 [00:27<01:34, 153.77it/s]"
     ]
    },
    {
     "name": "stdout",
     "output_type": "stream",
     "text": [
      "4315 :   New Duo Dock info.\n",
      "4316 :  Source for Deskwriter Ink Carts.\n",
      "4317 :  Looking for MagnetoOptical drive advice\n",
      "4318 :  Personal LW NTR serial hookup\n",
      "4319 :   x86 ~= 680x0   \n",
      "4320 :   Stereo sound problem  on mac games\n",
      "4321 :  Duo price reduction\n",
      "4322 :  Need Modem & Software Recommendation\n",
      "4323 :  Selling of PowerBook 100s\n",
      "4324 :   x86 ~= 680x0   \n",
      "4325 :  Networking Macs and a PC\n",
      "4326 :   Buying a high speed v.everything modem\n",
      "4327 :   Mac Plus is constantly rebooting\n",
      "4328 :   x86 ~= 680x0   \n",
      "4329 :   Good HardDisk driver for nonApple drives \n",
      "4330 :   When is Apple going to ship CD300i is\n",
      "4331 :   Calling all Mac gurus\n",
      "4332 :   Quadra 900 startup wout monitor...ya right.\n",
      "4333 :   Mac oriented BBSs in Chicago\n",
      "4334 :   Mac oriented BBSs\n",
      "4335 :  Computer Component Source Inc..Phone number\n"
     ]
    },
    {
     "name": "stderr",
     "output_type": "stream",
     "text": [
      "\r",
      " 23%|█████████████████▌                                                          | 4336/18828 [00:27<01:26, 167.04it/s]"
     ]
    },
    {
     "name": "stdout",
     "output_type": "stream",
     "text": [
      "4336 :  Asante Ethernet Adapter for LCIII Math Chip\n",
      "4337 :  Pin out of ImageWriter II serial port\n",
      "4338 :  harddrive\n",
      "4339 :   Quadra 900 startup wout monitor...ya right.\n",
      "4340 :  serial pinout to connect to PC\n",
      "4341 :  How do I expand RAM on a Plus\n",
      "4342 :   Mac Plus is constantly rebooting\n",
      "4343 :  PC Logitec hand scan on Mac\n",
      "4344 :   Duo price reduction\n",
      "4345 :   Asante Ethernet Adapter for LCIII Math Chip\n",
      "4346 :   Duo price reduction\n",
      "4347 :  24bit on LCII\n",
      "4348 :   Jump Starting a Mac II\n",
      "4349 :  How do you use DAT tape backup\n",
      "4350 :   Selling of PowerBook 100s\n",
      "4351 :   When is Apple going to ship CD300i is\n",
      "4352 :   DAT drives.\n",
      "4353 :  MAC LC FOR SALE\n"
     ]
    },
    {
     "name": "stderr",
     "output_type": "stream",
     "text": [
      "\r",
      " 23%|█████████████████▌                                                          | 4354/18828 [00:27<01:30, 160.52it/s]"
     ]
    },
    {
     "name": "stdout",
     "output_type": "stream",
     "text": [
      "4354 :  LCIII Logic Board Rework\n",
      "4355 :  Is this a SWIM or a IWM \n",
      "4356 :  Imagewriter II problem\n",
      "4357 :   Centris 610 Video Problem  I am having it also\n",
      "4358 :   Making an internal hard disk into an external\n",
      "4359 :  LC II Slowdowns\n",
      "4360 :  System 6.0.8L\n",
      "4361 :  Check your purchase  .\n",
      "4362 :   System 6.0.8L\n",
      "4363 :  Computer repairs\n",
      "4364 :   Cache card for IIsi\n",
      "4365 :  System 6.0.7 on a Macintosh IIfx cannot run Multifinder \n",
      "4366 :  Introductory Macintosh frequently asked questions \n",
      "4367 :  File Sharing Magneto Opticals\n",
      "4368 :  Mac SCSI spec\n",
      "4369 :  Apple Monitor Woes\n",
      "4370 :   Cache card for IIsi\n",
      "4371 :  Virus Centris 610 wierdness..\n",
      "4372 :  13 monitor jitter\n",
      "4373 :   New Duo Dock info.\n"
     ]
    },
    {
     "name": "stderr",
     "output_type": "stream",
     "text": [
      "\r",
      " 23%|█████████████████▋                                                          | 4374/18828 [00:27<01:25, 168.52it/s]"
     ]
    },
    {
     "name": "stdout",
     "output_type": "stream",
     "text": [
      "4374 :   Sony reliability \n",
      "4375 :  Price cuts\n",
      "4376 :  Price drops\n",
      "4377 :   Selling of PowerBook 100s\n",
      "4378 :  Ouadra Cache Problems\n",
      "4379 :  How fast is M6775 LLA \n",
      "4380 :  What is needed for CD ROM on a mac\n",
      "4381 :  Video Cards for DuoDock\n",
      "4382 :  x86 & 680x0, How do they compare .\n",
      "4383 :  Radius Pivot LE card with 32bit adressing\n",
      "4384 :  Mac LC 3\n",
      "4385 :  Accelerator for LC II \n",
      "4386 :     Mac II vi to be discontinued. Good buy\n",
      "4387 :   The 25MHz IIsi\n",
      "4388 :  IMPORTANT SE30 users only\n",
      "4389 :   Cache card for IIsi\n",
      "4390 :   Stereo sound problem  on mac games\n",
      "4391 :  Running Mathematica on a PB160\n"
     ]
    },
    {
     "name": "stderr",
     "output_type": "stream",
     "text": [
      "\r",
      " 23%|█████████████████▋                                                          | 4392/18828 [00:27<01:27, 165.13it/s]"
     ]
    },
    {
     "name": "stdout",
     "output_type": "stream",
     "text": [
      "4392 :  Centris 610 to 25MHz or 33MHz \n",
      "4393 :   Ehman monitor service\n",
      "4394 :  PhoneNet questions\n",
      "4395 :  Monitors  should they be kept on 24 hours a day\n",
      "4396 :  Carrying case for Centris 610 \n",
      "4397 :   Monitors  should they be kept on 24 hours a day\n",
      "4398 :  Datadesk keyboard+Centris fix.\n",
      "4399 :   Duo price reduction\n",
      "4400 :  re: Tempest and Cyclone info NEEDED\n",
      "4401 :  HELP: FDHD failure in IIcx\n",
      "4402 :  Number for Applied Engineering\n",
      "4403 :  How to change default paper cassette on LW Pro 630\n",
      "4404 :   The 25MHz IIsi\n",
      "4405 :  Fast Modems & Slow Macs\n",
      "4406 :  WANTED: Audiomedia card\n",
      "4407 :   Monitors  should they be kept on 24 hours a day\n",
      "4408 :  extra monitors\n",
      "4409 :  Thanks for UnlockFolder\n",
      "4410 :   Price drop on C650 within\n",
      "4411 :  Quicktime resolution\n"
     ]
    },
    {
     "name": "stderr",
     "output_type": "stream",
     "text": [
      "\r",
      " 23%|█████████████████▊                                                          | 4412/18828 [00:27<01:22, 174.01it/s]"
     ]
    },
    {
     "name": "stdout",
     "output_type": "stream",
     "text": [
      "4412 :  I want MacWeek\n",
      "4413 :  C610 ugradable to Tempest\n",
      "4414 :  AppleOne Scanner and Printing Quality\n",
      "4415 :   Cache card for IIsi\n",
      "4416 :   Monitors  should they be kept on 24 hours a day\n",
      "4417 :   Using SetWUTime with a PB170\n",
      "4418 :   DESI PB upgrade\n",
      "4419 :   Rumours about New Duos \n",
      "4420 :  What was the ....\n",
      "4421 :   LC II Slowdowns\n",
      "4422 :  Stylewriter I vs. II\n",
      "4423 :   Monitors  should they be kept on 24 hours a day\n",
      "4424 :   What was the APPLE LI\n",
      "4425 :  SE30 8bit card does not work with 20mb..\n",
      "4426 :   Monitors  should they be kept on 24 hours a day\n",
      "4427 :  The 25MHz IIsi\n",
      "4428 :   inexpensive _frame grabbers_ for 68000 Macs\n",
      "4429 :  SAD MAC CODE 0F0064 \n",
      "4430 :   Monitors  should they be kept on 24 hours a day\n",
      "4431 :  PB 160 and Extended Keyboard\n"
     ]
    },
    {
     "name": "stderr",
     "output_type": "stream",
     "text": [
      "\r",
      " 24%|█████████████████▉                                                          | 4432/18828 [00:27<01:20, 178.77it/s]"
     ]
    },
    {
     "name": "stdout",
     "output_type": "stream",
     "text": [
      "4432 :  re: Tempest and Cyclone info NEEDED\n",
      "4433 :  SE accelerator\n",
      "4434 :   extra monitors\n",
      "4435 :  Help with Duo 230 480 \n",
      "4436 :  Apple 824 GC Video Card\n",
      "4437 :   HP Deskwriter & Mathematica\n",
      "4438 :  vx  centris upgrade price\n",
      "4439 :   SAD MAC CODE 0F0064 \n",
      "4440 :   I want MacWeek\n",
      "4441 :  phonenet PC...\n",
      "4442 :  SCSI info needed\n",
      "4443 :  Mac OS\n",
      "4444 :   Duo 230 crashes aftersleep \n",
      "4445 :   Tempest and Cyclone info NEEDED\n",
      "4446 :  nonApple Mon for Duo is\n",
      "4447 :  LW Select 310 doesn't work out of box\n",
      "4448 :  Quadra Clock Modification  Long\n",
      "4449 :  CycloneTempest Price\n",
      "4450 :  help on GCC PLP II laser printer\n"
     ]
    },
    {
     "name": "stderr",
     "output_type": "stream",
     "text": [
      "\r",
      " 24%|█████████████████▉                                                          | 4451/18828 [00:27<01:21, 175.46it/s]"
     ]
    },
    {
     "name": "stdout",
     "output_type": "stream",
     "text": [
      "4451 :  Looking for Mac II Batteries\n",
      "4452 :  Trade an SE for a color Mac\n",
      "4453 :  IIsi clock Poll Results  Long\n",
      "4454 :   Number for Applied Engineering\n",
      "4455 :   When is Apple going to ship CD300i is\n",
      "4456 :   Wanted:  Macintosh PowerBook 100 \n",
      "4457 :  Mac SCSI spec\n",
      "4458 :  Quadra clock chip  followup\n",
      "4459 :  Supercard 1.6 & CDROM\n",
      "4460 :   Duo price reduction\n",
      "4461 :  Quicktime jpeg expansion source needed\n",
      "4462 :   I want MacWeek\n",
      "4463 :   Monitors  should they be kept on 24 hours a day\n",
      "4464 :  Sony DAT  Retrospect 1.3Ci Problems\n",
      "4465 :   Quadra SCSI Problems\n",
      "4466 :  Upgrading PB100\n",
      "4467 :   help on GCC PLP II laser printer\n",
      "4468 :   Quadra clock chip  followup\n",
      "4469 :   Quadra 900950\n",
      "4470 :  Problems with Laserwriter print driver and Printmonitor\n"
     ]
    },
    {
     "name": "stderr",
     "output_type": "stream",
     "text": [
      "\r",
      " 24%|██████████████████                                                          | 4471/18828 [00:28<01:19, 180.31it/s]"
     ]
    },
    {
     "name": "stdout",
     "output_type": "stream",
     "text": [
      "4471 :  NEC 5FGe vs NEC 5FG\n",
      "4472 :   72pin SIMMS, where\n",
      "4473 :   NonApple MiniDocks available\n",
      "4474 :   Driver for DataFrame XP60+B\n",
      "4475 :   Mac Plus is constantly rebooting\n",
      "4476 :   Price drop on C650 within\n",
      "4477 :   Educational Pricing\n",
      "4478 :  PowerPC NuBUS rumors\n",
      "4479 :  Internalizing Removable Drive...\n",
      "4480 :  SVGA Monitors and Centris \n",
      "4481 :   Monitors  should they be kept on 24 hours a day\n",
      "4482 :   Monitors  should they be kept on 24 hours a day\n",
      "4483 :   Duo price reduction\n",
      "4484 :  Disk mount problems\n",
      "4485 :  AppleTalk ImageWriter LQ compatible needed.\n",
      "4486 :  re: mac portable vs. powerbook 100 answers \n",
      "4487 :  RE: Good HardDisk driver for nonApple drives \n",
      "4488 :   Quadra clock chip  followup\n",
      "4489 :  72pin SIMMS for Q800, be careful before buying\n"
     ]
    },
    {
     "name": "stderr",
     "output_type": "stream",
     "text": [
      "\r",
      " 24%|██████████████████                                                          | 4490/18828 [00:28<01:22, 173.95it/s]"
     ]
    },
    {
     "name": "stdout",
     "output_type": "stream",
     "text": [
      "4490 :  laserwriter ls driver\n",
      "4491 :   Monitors  should they be kept on 24 hours a day\n",
      "4492 :   C610 ugradable to Tempest\n",
      "4493 :   Centris 610 to 25MHz or 33MHz \n",
      "4494 :  Third party monitor on IIsi\n",
      "4495 :   Duo price reduction\n",
      "4496 :   Monitors  should they be kept on 24 hours a day\n",
      "4497 :  QuickDraw GX \n",
      "4498 :   SVGA Monitors and Centris \n",
      "4499 :   Price drop on C650 within\n",
      "4500 :  Question about Laser Printers\n",
      "4501 :  upgrading a Mac Plus or SE to use a superdrive\n",
      "4502 :   Monitors  should they be kept on 24 hours a day\n",
      "4503 :   vx  centris upgrade price\n",
      "4504 :  Moniterm VCX on mac Which card to use\n",
      "4505 :   Monitors  should they be kept on 24 hours a day\n",
      "4506 :   IIci ROM Offers 32bit Clean ROM for IIx\n",
      "4507 :  Hook Mac Modem to PS2 70\n",
      "4508 :   Way to connect PB 145, IIsi, P LW LS\n",
      "4509 :  Need latest model developer notes \n"
     ]
    },
    {
     "name": "stderr",
     "output_type": "stream",
     "text": [
      "\r",
      " 24%|██████████████████▏                                                         | 4510/18828 [00:28<01:20, 178.66it/s]"
     ]
    },
    {
     "name": "stdout",
     "output_type": "stream",
     "text": [
      "4510 :   72pin SIMMS for Q800, be careful before buying\n",
      "4511 :   Monitors  should they be kept on 24 hours a day\n",
      "4512 :   PB 160 and Extended Keyboardy\n",
      "4513 :   Performa or LC\n",
      "4514 :   Monitors  should they be kept on 24 hours a day\n",
      "4515 :  MACINTOSH WEENIES SUCK SCSI DISKS\n",
      "4516 :  Really stupid monitor question\n",
      "4517 :   SVGA Monitors and Centris \n",
      "4518 :   LCIII problems \n",
      "4519 :   Why the drive speeds differ\n",
      "4520 :   DeskWriter Drivers 3.1  How to install \n",
      "4521 :  Problems with HP Backgrounder Help\n",
      "4522 :   Quadra 900950\n",
      "4523 :  MacWatch\n",
      "4524 :   SE30 8bit card does not work with 20mb..\n",
      "4525 :   Quadra 900950\n",
      "4526 :  Good APS experience\n",
      "4527 :   Monitors  should they be kept on 24 hours a day\n",
      "4528 :   LC II Slowdowns\n"
     ]
    },
    {
     "name": "stderr",
     "output_type": "stream",
     "text": [
      "\r",
      " 24%|██████████████████▎                                                         | 4529/18828 [00:28<01:24, 169.81it/s]"
     ]
    },
    {
     "name": "stdout",
     "output_type": "stream",
     "text": [
      "4529 :   Monitors  should they be kept on 24 hours a day \n",
      "4530 :   Monitors  kept on 24 hrsday \n",
      "4531 :   Monitors  should they be kept on 24 hours a day\n",
      "4532 :  re: SVGA Monitors and Centris \n",
      "4533 :  IIf & IIg slot\n",
      "4534 :  Active Matrix Clr PB\n",
      "4535 :   Monitors  should they be kept on 24 hours a day\n",
      "4536 :  What is that chime\n",
      "4537 :  Centris 610 clock adjustment\n",
      "4538 :   Centris 610 clock adjustment\n",
      "4539 :  14 RGB owners: What kind of power cable came with your monitor\n",
      "4540 :   MACINTOSH WEENIES SUCK SCSI DISKS\n",
      "4541 :  Where to get power cord to plug NonApple monitor into Quadra power supply\n",
      "4542 :   Monitors  should they be kept on 24 hours a day\n",
      "4543 :   SVGA Monitors and Centris \n",
      "4544 :   Monitors  should they be kept on 24 hours a day\n",
      "4545 :  Powerbook Duo Memory system  SLOW\n",
      "4546 :  Quadra 950 marginal video\n"
     ]
    },
    {
     "name": "stderr",
     "output_type": "stream",
     "text": [
      "\r",
      " 24%|██████████████████▎                                                         | 4547/18828 [00:28<01:28, 160.95it/s]"
     ]
    },
    {
     "name": "stdout",
     "output_type": "stream",
     "text": [
      "4547 :   14 RGB owners: What kind of power cable came with your monitor\n",
      "4548 :   Asante Ethernet Adapter for LCIII Math Chip\n",
      "4549 :   Where to get power cord to plug NonApple monitor into Quadra power supply\n",
      "4550 :  Hardware that Fits mail order\n",
      "4551 :  Radius VideoVision\n",
      "4552 :   Rumours about New Duos \n",
      "4553 :  CLOCK SPEED\n",
      "4554 :  re: mac portable vs. powerbook 100 answers \n",
      "4555 :  OUTBOUND Laptops: Questions looking for answers\n",
      "4556 :   Stereo sound problem  on mac games\n",
      "4557 :   Duo price reduction\n",
      "4558 :  Help identifying this card\n",
      "4559 :   MACINTOSH WEENIES SUCK SCSI DISKS\n",
      "4560 :  SIMMs prices\n",
      "4561 :   x86 ~= 680x0  \n",
      "4562 :   Quadra 950 marginal video\n",
      "4563 :   Apple 824 GC Video Card\n"
     ]
    },
    {
     "name": "stderr",
     "output_type": "stream",
     "text": [
      "\r",
      " 24%|██████████████████▍                                                         | 4564/18828 [00:28<01:34, 151.46it/s]"
     ]
    },
    {
     "name": "stdout",
     "output_type": "stream",
     "text": [
      "4564 :   Hardware that Fits mail order\n",
      "4565 :   AppleTalk ImageWriter LQ compatible needed.\n",
      "4566 :  recommendation for laser printer\n",
      "4567 :   Monitors  should they be kept on 24 hours a day\n",
      "4568 :   Performa or LC\n",
      "4569 :   Apple 824 GC Video Card\n",
      "4570 :   Rumours about New Duos \n",
      "4571 :  wanted: adb mouse, keybd\n",
      "4572 :  PB 100 to Non Apple Printer\n",
      "4573 :   IIf & IIg slot\n",
      "4574 :  apple is new keybd\n",
      "4575 :  Monitor Pinouts needed\n",
      "4576 :   Monitors  should they be kept on 24 hours a day\n",
      "4577 :   Monitors  should they be kept on 24 hours a day\n",
      "4578 :   Why the drive speeds differ\n",
      "4579 :   DeskWriter driver v3.1 problems\n",
      "4580 :  cd300 question\n",
      "4581 :   Help identifying this card\n",
      "4582 :   What is that chime\n",
      "4583 :  SWII on SE:  System 6.0.8 or 7.1\n"
     ]
    },
    {
     "name": "stderr",
     "output_type": "stream",
     "text": [
      "\r",
      " 24%|██████████████████▌                                                         | 4584/18828 [00:28<01:28, 161.59it/s]"
     ]
    },
    {
     "name": "stdout",
     "output_type": "stream",
     "text": [
      "4584 :   QuickDraw GX \n",
      "4585 :  HP DeskJet 500C. Will it work\n",
      "4586 :   upgrading a Mac Plus or SE to use a superdrive\n",
      "4587 :   cd300 question\n",
      "4588 :   cd300 question\n",
      "4589 :   Mac oriented BBSs\n",
      "4590 :   QuickDraw GX \n",
      "4591 :  First Tech\n",
      "4592 :  Centris 610 flaky\n",
      "4593 :   cd300 question\n",
      "4594 :   Centris 610 flaky\n",
      "4595 :  Unknown Mac board NATIONAL INSTRUMENTS NBDMA8\n",
      "4596 :   apple is new keybd\n",
      "4597 :  Apple 40MB HD in PowerDrive ext. case\n",
      "4598 :   cd300 question\n",
      "4599 :   Centris 610 flaky\n",
      "4600 :   Radius VideoVision\n",
      "4601 :  None\n",
      "4602 :   Datadesk keyboard+Centris fix.\n",
      "4603 :  66.6+ mhz clock oscillator, Where\n"
     ]
    },
    {
     "name": "stderr",
     "output_type": "stream",
     "text": [
      "\r",
      " 24%|██████████████████▌                                                         | 4604/18828 [00:28<01:23, 171.06it/s]"
     ]
    },
    {
     "name": "stdout",
     "output_type": "stream",
     "text": [
      "4604 :   Monitors  should they be kept on 24 hours a day\n",
      "4605 :   Powerbook Duo Memory system  SLOW\n",
      "4606 :   Mac oriented BBSs\n",
      "4607 :  Scsi cable for sale\n",
      "4608 :   Need Device NTSC Video SCSI Bus\n",
      "4609 :   PC Logitec hand scan on Mac\n",
      "4610 :  Floptical Kills Superdrive\n",
      "4611 :   Monitors  should they be kept on 24 hours a day\n",
      "4612 :  StyleWriter II Dying\n",
      "4613 :   Price drop on C650 within\n",
      "4614 :   The 25MHz IIsi\n",
      "4615 :   SAD MAC CODE 0F0064 \n",
      "4616 :   Monitors  should they be kept on 24 hours a day\n",
      "4617 :   72pin SIMMS for Q800, be careful before buying\n",
      "4618 :   Unknown Mac board NATIONAL INSTRUMENTS NBDMA8\n",
      "4619 :   Centris 610 flaky\n",
      "4620 :   Unknown Mac board NATIONAL INSTRUMENTS NBDMA8\n",
      "4621 :  In defense of Performas \n",
      "4622 :   Monitors  should they be kept on 24 hours a day\n",
      "4623 :   Centris 610 flaky\n"
     ]
    },
    {
     "name": "stderr",
     "output_type": "stream",
     "text": [
      "\r",
      " 25%|██████████████████▋                                                         | 4624/18828 [00:28<01:19, 178.69it/s]"
     ]
    },
    {
     "name": "stdout",
     "output_type": "stream",
     "text": [
      "4624 :   Centris 610 flaky\n",
      "4625 :  SVGA and PowerBook 160\n",
      "4626 :   DESI PB upgrade\n",
      "4627 :  PSI modem problem II\n",
      "4628 :   help on GCC PLP II laser printer\n",
      "4629 :   Torx T15 Screwdriver\n",
      "4630 :   Monitors  but when i am not using it, i am using it\n",
      "4631 :  WHICH POWERBOOK TO BUY\n",
      "4632 :  Can Mac Superdrives read Unix disks\n",
      "4633 :   The 25MHz IIsi\n",
      "4634 :   Centris 610 flaky\n",
      "4635 :  Info wanted: Upgrading SE30 power supply\n",
      "4636 :   Centris 610 flaky\n",
      "4637 :  Building a Simple Appletalk Repeater\n",
      "4638 :  Tones o' death \n",
      "4639 :   StyleWriter II Dying\n",
      "4640 :   What is that chime\n",
      "4641 :  MACINTOSH LAB HELP\n",
      "4642 :  Flaky Large Memory SIMMS on 160 is\n"
     ]
    },
    {
     "name": "stderr",
     "output_type": "stream",
     "text": [
      "\r",
      " 25%|██████████████████▋                                                         | 4643/18828 [00:29<01:28, 160.49it/s]"
     ]
    },
    {
     "name": "stdout",
     "output_type": "stream",
     "text": [
      "4643 :  Recs on  Mac Video System Cards Software\n",
      "4644 :  LCIII or used IIci  which should I get\n",
      "4645 :   LCIII or used IIci  which should I get\n",
      "4646 :   LCIII or used IIci  which should I get\n",
      "4647 :   Chosser gives BLANK screen \n",
      "4648 :  Newlife 25 and hard drives\n",
      "4649 :  OOps, probably should of been more specific on the Newlife\n",
      "4650 :   LCIII or used IIci  which should I get\n",
      "4651 :  Need a 3 Button mouse. Help\n",
      "4652 :  Mac IIfx For Sale\n",
      "4653 :   SVGA Monitors and Centris \n",
      "4654 :  Can the IIsi DoItYourself Acceleration be done on a IIci\n",
      "4655 :  \u0010Where I can buy a New LCII\n",
      "4656 :  CD300 Audio CD SCSI commands\n",
      "4657 :   x86 ~= 680x0  \n",
      "4658 :  Modems: Simple Question\n",
      "4659 :   Can Mac Superdrives read Unix disks\n",
      "4660 :   Powerbook Duo Memory system  SLOW\n",
      "4661 :   DeskWriter driver v3.1 problems\n"
     ]
    },
    {
     "name": "stderr",
     "output_type": "stream",
     "text": [
      "\r",
      " 25%|██████████████████▊                                                         | 4662/18828 [00:29<01:24, 168.17it/s]"
     ]
    },
    {
     "name": "stdout",
     "output_type": "stream",
     "text": [
      "4662 :   Monitors  should they be kept on 24 hours a day\n",
      "4663 :   Centris 610 flaky\n",
      "4664 :   Adapter for IIsi and a vga monitor\n",
      "4665 :   LCIII or used IIci  which should I get\n",
      "4666 :   Sound Recording for Mac Portable\n",
      "4667 :   Syquest 150 \n",
      "4668 :  Two internal disks\n",
      "4669 :   Help identifying this card\n",
      "4670 :   Good APS experience\n",
      "4671 :   Help How to test SIMMs\n",
      "4672 :   HELP  SCSI Woes on Mac IIfx\n",
      "4673 :   PDS vs. Nubus \n",
      "4674 :   Computer Engr vs. Computer Science\n",
      "4675 :  SoftPC Question\n",
      "4676 :  PB MEMORY FOR SALE\n",
      "4677 :  accelerated Mac Plus problems\n",
      "4678 :   Can Mac Superdrives read Unix disks\n",
      "4679 :   What is that chime\n"
     ]
    },
    {
     "name": "stderr",
     "output_type": "stream",
     "text": [
      "\r",
      " 25%|██████████████████▉                                                         | 4680/18828 [00:29<01:32, 152.42it/s]"
     ]
    },
    {
     "name": "stdout",
     "output_type": "stream",
     "text": [
      "4680 :   MACINTOSH WEENIES SUCK SCSI DISKS\n",
      "4681 :  PowerPC and old Macs: what happens then\n",
      "4682 :   File Sharing Magneto Opticals\n",
      "4683 :   LCIII or used IIci  which should I get\n",
      "4684 :  Hosed HD\n",
      "4685 :  Apple RGB Monitor vs Apple 12 Color Monitor\n",
      "4686 :   Microphone\n",
      "4687 :   Hardware that Fits mail order\n",
      "4688 :  New PowerBooks\n",
      "4689 :  Clock speed of a Centris 610\n",
      "4690 :  Formatting more than 1440K  Possible\n",
      "4691 :  Sad Mac  question\n",
      "4692 :   Formatting more than 1440K  Possible\n",
      "4693 :  Datatransferrate of the new 2100 series FS2 Micropolis hd is\n",
      "4694 :  Problem printing Quark on a SWII\n",
      "4695 :  Quadra PDS Video Cards\n",
      "4696 :   Centris 610 flaky\n",
      "4697 :  Disabling the Eject on a Mac SE\n",
      "4698 :  HELP formatting NT disk array\n",
      "4699 :   Monitors  should they be kept on 24 hours a day\n"
     ]
    },
    {
     "name": "stderr",
     "output_type": "stream",
     "text": [
      "\r",
      " 25%|██████████████████▉                                                         | 4700/18828 [00:29<01:26, 163.80it/s]"
     ]
    },
    {
     "name": "stdout",
     "output_type": "stream",
     "text": [
      "4700 :  10th International Obfuscated C Code Contest Opening \n",
      "4701 :  10th International Obfuscated C Code Contest Opening \n",
      "4702 :  comp.windows.x.intrinsics Frequently Asked Questions \n",
      "4703 :   TeleUse, UIMX, and C++\n",
      "4704 :  xv root with vue \n",
      "4705 :  Strange exposure problem\n",
      "4706 :  X for PC\n",
      "4707 :  Q: How to avoid XOpenDisplay hang\n",
      "4708 :  Widget source code needed\n",
      "4709 :  converting color gif to X pixmap\n",
      "4710 :   Honors Degrees: Do they mean anything\n",
      "4711 :  Help building X11R5 with gcc\n",
      "4712 :  Reposting: 10th International Obfuscated C Code Contest rules \n",
      "4713 :  Reposting: 10th International Obfuscated C Code Contest rules \n",
      "4714 :   problem with xvertext package\n",
      "4715 :   gadgets vs widgets\n",
      "4716 :   Trouble compiling X11R5 on SunOS_4.1.3\n",
      "4717 :   Help building X11R5 with gcc\n",
      "4718 :  Getting Pseudo TTY in XMotif\n",
      "4719 :  Experiences of DESQviewX \n",
      "4720 :   TeleUse, UIMX, and C++\n"
     ]
    },
    {
     "name": "stderr",
     "output_type": "stream",
     "text": [
      "\r",
      " 25%|███████████████████                                                         | 4721/18828 [00:29<01:31, 154.72it/s]"
     ]
    },
    {
     "name": "stdout",
     "output_type": "stream",
     "text": [
      "4721 :   Private Colormaps & Widget creation\n",
      "4722 :  XtShellStrings,XtStrings\n",
      "4723 :   XtShellStrings,XtStrings\n",
      "4724 :  XBell\n",
      "4725 :   Honors Degrees: Do they mean anything\n",
      "4726 :  comp.windows.x Frequently Asked Questions  45\n",
      "4727 :  whole win on screen\n",
      "4728 :  comp.windows.x Frequently Asked Questions  55\n",
      "4729 :    MOUSE BUTTONS 1,2 & 3  urgent \n",
      "4730 :   X protocol packet type\n",
      "4731 :   Drawing colour pixmaps  not rectangular\n",
      "4732 :   Pixmaps, Masks, & Icons  Clues\n",
      "4733 :  comp.windows.x Frequently Asked Questions  15\n",
      "4734 :  comp.windows.x Frequently Asked Questions  25\n",
      "4735 :  PointerCursor\n",
      "4736 :  lost in  space\n",
      "4737 :  comp.windows.x Frequently Asked Questions  35\n",
      "4738 :   Honors Degrees: Do they mean anything\n",
      "4739 :   Cute X clients\n",
      "4740 :   Trouble compiling X11R5 on SunOS_4.1.3\n",
      "4741 :  Fwd: PROGRESSIVES HAPPY HOUR\n",
      "4742 :  Problems with Open Windows\n"
     ]
    },
    {
     "name": "stderr",
     "output_type": "stream",
     "text": [
      "\r",
      " 25%|███████████████████▏                                                        | 4743/18828 [00:29<01:23, 168.85it/s]"
     ]
    },
    {
     "name": "stdout",
     "output_type": "stream",
     "text": [
      "4743 :  Problems with OpenWindows\n",
      "4744 :   xv root with vue \n",
      "4745 :  How can I rotate text \n",
      "4746 :   Trouble compiling X11R5 on SunOS_4.1.3\n",
      "4747 :  problem with Tek xterminal\n",
      "4748 :  Remapping return key in a dialog\n",
      "4749 :  Joining the X Consortium \n",
      "4750 :   Honors Degrees: Do they mean anything\n",
      "4751 :  Large Color Monitors\n",
      "4752 :   Converting contents of Xwindow to color postscript\n",
      "4753 :  Xremote into X11R6\n",
      "4754 :  Any recent information on Frescoe\n",
      "4755 :  Pointer..Xlib\n",
      "4756 :  xterm and default text cursor color\n",
      "4757 :  String to Widget Resource Converter\n",
      "4758 :   Q: How to avoid XOpenDisplay hang\n",
      "4759 :  Problem with MITSHM\n",
      "4760 :   Q: How to avoid XOpenDisplay hang\n",
      "4761 :   GUI Study\n"
     ]
    },
    {
     "name": "stderr",
     "output_type": "stream",
     "text": [
      "\r",
      " 25%|███████████████████▏                                                        | 4762/18828 [00:29<01:28, 158.15it/s]"
     ]
    },
    {
     "name": "stdout",
     "output_type": "stream",
     "text": [
      "4762 :  Motif++ and Interviews\n",
      "4763 :   lost in  space\n",
      "4764 :  Books on I.C.C other than I.C.C.M.\n",
      "4765 :  How to disable reverse video on xtermman\n",
      "4766 :   TeleUse, UIMX, and C++\n",
      "4767 :   GUI toolkit for the Sun Sparc.\n",
      "4768 :  X for PC\n",
      "4769 :  widgets vs. gadgets\n",
      "4770 :  Help: SunView on olwmxview3X11R5\n",
      "4771 :   I need source for splines\n",
      "4772 :   Honors Degrees: Do they mean anything\n",
      "4773 :   Converting contents of Xwindow to color postscript\n",
      "4774 :  comp.windows.x: Getting more performance out of X.  FAQ\n",
      "4775 :   appdefaults files\n",
      "4776 :   XCopyPlane Question\n",
      "4777 :   MS Windows VS Motif , was  Future of Unix\n",
      "4778 :  X version of whois\n",
      "4779 :  GUI Study  do users want to build solutions\n",
      "4780 :   Is Xlib thread safe\n",
      "4781 :  System file in tmp\n",
      "4782 :  How do I change the Text cursor in xterm\n",
      "4783 :  xwd\n",
      "4784 :  window manager\n"
     ]
    },
    {
     "name": "stderr",
     "output_type": "stream",
     "text": [
      "\r",
      " 25%|███████████████████▎                                                        | 4785/18828 [00:29<01:20, 174.06it/s]"
     ]
    },
    {
     "name": "stdout",
     "output_type": "stream",
     "text": [
      "4785 :   X11R5 and Open Look\n",
      "4786 :  Problems using Graphic Context with Athena widgets\n",
      "4787 :   C++ toolkit directions \n",
      "4788 : 5954 :  Apology \n"
     ]
    },
    {
     "name": "stderr",
     "output_type": "stream",
     "text": [
      "\r",
      " 32%|████████████████████████                                                    | 5955/18828 [00:36<01:22, 156.92it/s]"
     ]
    },
    {
     "name": "stdout",
     "output_type": "stream",
     "text": [
      "5955 :  JFK autograph for sale \n",
      "5956 :  2400 baud External modem $25 \n",
      "5957 :  Dbase IV for sale \n",
      "5958 :   EMS Freq. Shifter\n",
      "5959 :  Various COMPUTERAUDIOVIDEO items wanted as of 416\n",
      "5960 :  VIDEO CAMERA, AMIGA 3000 For Sale as of 416\n",
      "5961 :   Cellular Phone  for sale\n",
      "5962 :  Bware of JayHayesDeleware\n",
      "5963 :  Toolwork: MPC Encyclopedia on CDROM\n",
      "5964 :  Portable Color Television For Sale\n",
      "5965 :  Quantum SCSI 40mb Hard Drive For Sale\n",
      "5966 :  FOR SALE: Airline ticket for 48 States + Canada\n",
      "5967 :  24pin Printer\n",
      "5968 :  286 Laptop\n",
      "5969 :   DRIVE\n",
      "5970 :  For Sale: IBM Wheelwriter 6\n",
      "5971 :   Pioneer DEHM980 car CD Reciever for SALE\n",
      "5972 :  McCartney concert tickets for sale\n",
      "5973 :  AKG 340 ElectrostaticDynamic Headphones For Sale\n",
      "5974 :  Ampex 456 2 Recording Tape For Sale\n"
     ]
    },
    {
     "name": "stderr",
     "output_type": "stream",
     "text": [
      "\r",
      " 32%|████████████████████████                                                    | 5975/18828 [00:36<01:17, 166.25it/s]"
     ]
    },
    {
     "name": "stdout",
     "output_type": "stream",
     "text": [
      "5975 :  Wizard OZ9600 penbased organizer & PC link for sale\n",
      "5976 :  TCDD3 DAT Walkman For Sale\n",
      "5977 :  Hallicrafters S120 \n",
      "5978 :  son of genuine VINYL records 4SALE\n",
      "5979 :  Fortegraph Emulator Card, what is this\n",
      "5980 :   Wanted: Trombone for a beginner\n",
      "5981 :  Golf shoes size 9 12\n",
      "5982 :   Games for saletrade\n",
      "5983 :  DARKROOM SUPPLIESENLARGER\n",
      "5984 :  Telepath 9696 FAXMODEM FOR GATEWAY\n",
      "5985 :   Microsoft DOS 6.0 Upgrade for sale\n",
      "5986 :  Piano, free to charity\n",
      "5987 :   NEW STEREO SYSTEM FOR SALE \n",
      "5988 :  For Sale:  1990 Pontiac Grand Prix SE\n",
      "5989 :  2 5V 200A Power Supplies f$350 obo\n",
      "5990 :  Sony CarDiscman ForSale\n",
      "5991 :  Scanning radio:Realistic PRO2024was $200, sell for $150\n",
      "5992 :  == NEW STEREO SYSTEMCOMPONENTS FOR SALE ==\n",
      "5993 :  A1000 Memory Needed\n",
      "5994 :  Amplifiers and Speakers\n"
     ]
    },
    {
     "name": "stderr",
     "output_type": "stream",
     "text": [
      "\r",
      " 32%|████████████████████████▏                                                   | 5995/18828 [00:36<01:13, 173.94it/s]"
     ]
    },
    {
     "name": "stdout",
     "output_type": "stream",
     "text": [
      "5995 :  Olivetti XT\n",
      "5996 :  VHS movie for sale\n",
      "5997 :   VHS movie for sale\n",
      "5998 :  C=64 SYSTEM FOR SALE  MAKE OFFER...\n",
      "5999 :   VHS movie for sale\n",
      "6000 :  =WANTED= HP 48s or HP 48sx\n",
      "6001 :  RADAR DETECTOR: Whistler: X,K,Ka\n",
      "6002 :  CAMERA: Olympus Stylus, super small\n",
      "6003 :   486DX33 CPU chip for sale, \n",
      "6004 :   VHS movie for sale\n",
      "6005 :   486DX33 CPU chip for sale, $250\n",
      "6006 :  MAC SE FORSALE\n",
      "6007 :  Canon camera system for sale\n",
      "6008 :  2gig Fujitsu 5.25 disk drive for sale\n",
      "6009 :  Hard Drive for sale\n",
      "6010 :  Sega CD \n",
      "6011 :  Bare 4mb 38625 Micronics system  $450$350 reduced\n",
      "6012 :  VideoAudioComputer equipment for sale..\n",
      "6013 :   VideoAudioComputer equipment for sale..\n",
      "6014 :  Dragon is Lair II & Space Ace ARCADE games for sale\n"
     ]
    },
    {
     "name": "stderr",
     "output_type": "stream",
     "text": [
      "\r",
      " 32%|████████████████████████▎                                                   | 6015/18828 [00:37<01:11, 179.16it/s]"
     ]
    },
    {
     "name": "stdout",
     "output_type": "stream",
     "text": [
      "6015 :   UNIX PC Software for sale\n",
      "6016 :  AMIGA Software For Sale\n",
      "6017 :  24pin Printer For Sale\n",
      "6018 :  CASIO B.O.S.S. For Sale\n",
      "6019 :  Borland Software for sale  CHEAP\n",
      "6020 :   Maxtor 2190 info needed \n",
      "6021 :  Foot switches for sale\n",
      "6022 :  Icom 02AT for sale\n",
      "6023 :  items for sale \n",
      "6024 :  CDs for sale \n",
      "6025 :  OS2 2.0 & Extended Services For SALE CHEAP\n",
      "6026 :  Books for sale\n",
      "6027 :  1.2MB external FD for PS2\n",
      "6028 :  LD ext. floppy drive for MAC\n",
      "6029 :  unix sale\n",
      "6030 :   JAZZ CD 4 saletrade\n",
      "6031 :   Classic CDs 4 sale\n",
      "6032 :   Lots of CDs For Sale \n",
      "6033 :  Klipsch Forte 2 SPKRS 4 Sale\n",
      "6034 :  Squirrel Hill Studio\n"
     ]
    },
    {
     "name": "stderr",
     "output_type": "stream",
     "text": [
      "\r",
      " 32%|████████████████████████▎                                                   | 6035/18828 [00:37<01:09, 184.20it/s]"
     ]
    },
    {
     "name": "stdout",
     "output_type": "stream",
     "text": [
      "6035 :  SyQuest internal 44 drive with 8 cartridges: sale or trade\n",
      "6036 :  RasterOps 8XL\n",
      "6037 :  Sci Fi books for sale Best Offer\n",
      "6038 :  Klipsch KG1 speakers Like New  $200 + shipping\n",
      "6039 :   TurboGrafx System For SALE \n",
      "6040 :  Eric Bosco where are you\n",
      "6041 :  Typewriter wcomputer interface\n",
      "6042 :  WANTEDSummer HousingSeattle\n",
      "6043 :  CASIO CZ101 49 key synth $125BO\n",
      "6044 :  Windows 3.1 for sale $35\n",
      "6045 :  Slide projectors trade for photo equipments\n",
      "6046 :   Oscilloscope for sale $99 + probes $25 ea.  \n",
      "6047 :  camcorder sony 8 mm forsale $350\n",
      "6048 :   486DX33 CPU chip for sale, $250\n",
      "6049 :  COMPLETE 386 SYSTEM FOR SALE\n",
      "6050 :  24pin Printer For Sale as well\n",
      "6051 :  Raichle ski boots for sale, size 1111.5\n",
      "6052 :  ROLAND JUNO60 SYNTHESIZERUNIDEN RADAR DETECTOR 4 SALE\n",
      "6053 :  WINDOS Misc. Software\n"
     ]
    },
    {
     "name": "stderr",
     "output_type": "stream",
     "text": [
      "\r",
      " 32%|████████████████████████▍                                                   | 6054/18828 [00:37<01:20, 159.53it/s]"
     ]
    },
    {
     "name": "stdout",
     "output_type": "stream",
     "text": [
      "6054 :  CD'S FOR SALE\n",
      "6055 :  Computers for sale \n",
      "6056 :   Maxtor 2190 info needed \n",
      "6057 :  For Sale: Misc. Computer Parts & a radar detector\n",
      "6058 :   Maxtor 2190 info needed \n",
      "6059 :  Sell Chemical Condensers\n",
      "6060 :  Cheap harddisk for your PCXT\n",
      "6061 :   More GAMES FOR SALE \n",
      "6062 :   UNIX PC Software for sale\n",
      "6063 :  Quantum LPS 240AT  forsale $300.\n",
      "6064 :  Bus Tix For Sale:  LehighPhilly\n",
      "6065 :  IRWIN tapes  for sale \n",
      "6066 :  C64 COMPUTER, DISK DRIVES, MOUSE AND SOFTWARE FOR SALE\n",
      "6067 :  Mives 4 Sale \n",
      "6068 :  NuBus NTSC Genlock card fsale\n",
      "6069 :  Thule roof rack with bike accessories: $100 take it all.\n",
      "6070 :  UPDATE: Hard Drive, VGA, etc.\n",
      "6071 :  SMARTCAM VERSION 7 FOR SALE AND 486 33DX\n",
      "6072 :   HP calculator for $13 \n",
      "6073 :  House for Sale in Mercerville, NJ\n",
      "6074 :  RE:  === MOVING SALE ===\n"
     ]
    },
    {
     "name": "stderr",
     "output_type": "stream",
     "text": [
      "\r",
      " 32%|████████████████████████▌                                                   | 6075/18828 [00:37<01:14, 170.66it/s]"
     ]
    },
    {
     "name": "stdout",
     "output_type": "stream",
     "text": [
      "6075 :  Mac Classic II\n",
      "6076 :   WANTED: TG16 Games  2 Player or More \n",
      "6077 :  RE:  == MOVING SALE ===\n",
      "6078 :  IN CASE A DEAL IS A LEMON ....\n",
      "6079 :  2 1000W Power Supplies\n",
      "6080 :   eXpEn$iVe MOTOROLA Handheld Radio For Peanuts\n",
      "6081 :  Books for sale cheap\n",
      "6082 :   Is itproper net etiquette to advertise a company is junk mail list\n",
      "6083 :  FOR SALE: Sega Genesis system\n",
      "6084 :  84 Mazda Pickup, \n",
      "6085 :  Game Boy games wanted\n",
      "6086 :  Moving Sale\n",
      "6087 :  WARRIORS TICKETS FOR SALE\n",
      "6088 :  Sony Receiver and Ten Disc changer for sale\n",
      "6089 :  INDIANA JONES HINT BOOK WANTED\n",
      "6090 :   Car Stereo Stolen\n",
      "6091 :  Looking for a person \n",
      "6092 :  Home base and Car CB units, Motorola Beeper for sale\n"
     ]
    },
    {
     "name": "stderr",
     "output_type": "stream",
     "text": [
      "\r",
      " 32%|████████████████████████▌                                                   | 6093/18828 [00:37<01:22, 153.85it/s]"
     ]
    },
    {
     "name": "stdout",
     "output_type": "stream",
     "text": [
      "6093 :  The Abyss on LaserDisc\n",
      "6094 :  BUING: Accelerator 4 50010002000\n",
      "6095 :  Photo Stuff Forsale\n",
      "6096 :   Software forsale  \n",
      "6097 :  Okidata printer for sale\n",
      "6098 :  AUCTION: Marvel, DC, Valiant, Image, Dark Horse, etc...\n",
      "6099 :  a few CDs for sale  \n",
      "6100 :  Not all deals are bad...\n",
      "6101 :   Car Stereo Stolen\n",
      "6102 :   Is itproper net etiquette to advertise a company is junk mail list\n",
      "6103 :  Aviation Headset D.C. H1040 For Sale\n",
      "6104 :  VAX PRICING\n",
      "6105 :   IBM Games For Sale \n",
      "6106 :  NEW Hard Drive SALE\n",
      "6107 :   Technical Books for sale  REPOST \n",
      "6108 :  Nikon FM2 and lens forsale\n",
      "6109 :  Nitendo game wanted\n",
      "6110 :  CDs for $6\n",
      "6111 :  PaintBall Gun ForSale\n",
      "6112 :  Victoria, B.C. Hotel Room $402 nights\n"
     ]
    },
    {
     "name": "stderr",
     "output_type": "stream",
     "text": [
      "\r",
      " 32%|████████████████████████▋                                                   | 6113/18828 [00:37<01:17, 164.80it/s]"
     ]
    },
    {
     "name": "stdout",
     "output_type": "stream",
     "text": [
      "6113 :   Ami Pro v3.0 for sale\n",
      "6114 :  \tTOWNHOME for sale in WHEATON\n",
      "6115 :   Kiev 88 Medium format camera,  Cheaper Prices \n",
      "6116 :  Labtec speaker for SALE\n",
      "6117 :  commodoree\n",
      "6118 :  FOR SALE  KENWOOD Receiver\n",
      "6119 :  For Sale: Zenith 38625 Motherboard\n",
      "6120 :  STAR TREK ORNAMENT\n",
      "6121 :  Nash Metropolitan Forsale\n",
      "6122 :  Sharp Wizard OZ8000 for sale\n",
      "6123 :  Wanted: TB Samplevision driver for SMDIPeavey DPMSP&SX\n",
      "6124 :  REPOST: Tape Drives  for sale.\n",
      "6125 :  Commodore Amiga for sale\n",
      "6126 :  SONY MHC3600 BOOKSHELF STEREO SYSTEM\n",
      "6127 :    Bally isHoliday Health Club \\\\\\ LIFETIME  MEMERSHIP \n",
      "6128 :  For Sale:  Cannondale 3.0 Road Bike wDura Ace 56 cm\n",
      "6129 :  Jeff Mason is Auction=Marvel, DC, Image, Valiant, etc..\n",
      "6130 :  COMIC BOOK Set Sale \n"
     ]
    },
    {
     "name": "stderr",
     "output_type": "stream",
     "text": [
      "\r",
      " 33%|████████████████████████▋                                                   | 6131/18828 [00:37<01:24, 151.09it/s]"
     ]
    },
    {
     "name": "stdout",
     "output_type": "stream",
     "text": [
      "6131 :  Electronic Components etc\n",
      "6132 :  REDUCED Sony CD Players 4 Sale\n",
      "6133 :  Klipsch Forte 2 SPKRS 4 Sale\n",
      "6134 :  PC GAMES FOR SALE \n",
      "6135 :  Looking For A Teacher in Miami\n",
      "6136 :  1990 Mazda 626 high mileslow price\n",
      "6137 :  WANTED: beach rental, NC\n",
      "6138 :  Sweet Macintosh NuBus card forsale\n",
      "6139 :  new  Seagate 3144 130MB Hard Drive\n",
      "6140 :  Mac Software For Sale\n",
      "6141 :  FOR SALE: Apple IIgs\n",
      "6142 :  Laptop Cards\n",
      "6143 :  Sams Comics for sale  \n",
      "6144 :  US Robotics 14.4 modem\n",
      "6145 :  Airline Tickets  O'HareTuscon\n",
      "6146 :   Printing\n",
      "6147 :  FOR SALE: Laptop PC, Bernoulli Drive, Scanner, Desktop PC\n",
      "6148 :  Sams comic sale Low prices READ\n",
      "6149 :  Stuff for sale music\n",
      "6150 :  hp48sx with 128k\n"
     ]
    },
    {
     "name": "stderr",
     "output_type": "stream",
     "text": [
      "\r",
      " 33%|████████████████████████▊                                                   | 6151/18828 [00:37<01:18, 162.16it/s]"
     ]
    },
    {
     "name": "stdout",
     "output_type": "stream",
     "text": [
      "6151 :  GRE software, cheap \n",
      "6152 :  OAKLEYS for sale \n",
      "6153 :   Catalog of HardtoFind PC Enhancements \n",
      "6154 :   Is itproper net etiquette to advertise a company is junk mail list\n",
      "6155 :  Onkyo 55wch integrated amp forsale:\n",
      "6156 :  Contax camera system for sale\n",
      "6157 :   Apartment in Moscow for Rent\n",
      "6158 :  '87 Buick Century Estate Wagon\n",
      "6159 :  Pocono Vacation House Rental\n",
      "6160 :   Text Books for sale \n",
      "6161 :  Wanted Ultima 5 for IBM\n",
      "6162 :  stereo gear for sale\n",
      "6163 :  FOR SALE:  1990 Pontiac Grand Prix SE\n",
      "6164 :  850 MB SCSI  $800\n",
      "6165 :  WANTED  BOOKS\n",
      "6166 :  HP LaserJet III for Sale\n",
      "6167 :  2 5V 200A Power Supplies f$150.00 each + shipping\n"
     ]
    },
    {
     "name": "stderr",
     "output_type": "stream",
     "text": [
      "\r",
      " 33%|████████████████████████▉                                                   | 6168/18828 [00:38<01:25, 148.29it/s]"
     ]
    },
    {
     "name": "stdout",
     "output_type": "stream",
     "text": [
      "6168 :  Computer For Sale\n",
      "6169 :  FURNITURE SALE\n",
      "6170 :  DEC LK250AA PC keyboard for sale\n",
      "6171 :  paintball gun 4sale\n",
      "6172 :  Arcade Video Games For Sale in Northern Virginia\n",
      "6173 :  For sale:  760 meg ESDI drive, and 2 meg 256x4 DRAM\n",
      "6174 :  FOR SALE: C128 SYSTEM: $95\n",
      "6175 :  WANTED:  WWF Album\n",
      "6176 :   Borland C++ 3.1 wApp Frmwrks  FORSALE \n",
      "6177 :  Color 19'' Zenith TV for sale\n",
      "6178 :  Digital Voice Processor For Sale\n",
      "6179 :  ROCK AND ROLL CHEAP\n",
      "6180 :  Anybody remember a few weeks back...\n",
      "6181 :  Printer for Sale\n",
      "6182 :  Wanted: fax machine\n",
      "6183 :  4SALE, BALLY is JACK LALLANE MEMBERSHIP\n",
      "6184 :  Computer Stuff for sale\n",
      "6185 :  1981 Volkswagon Scirocco For Sale\n",
      "6186 :   88 Toyota Camry super deluxe $9.9k\n",
      "6187 :  Metallica CD \n"
     ]
    },
    {
     "name": "stderr",
     "output_type": "stream",
     "text": [
      "\r",
      " 33%|████████████████████████▉                                                   | 6188/18828 [00:38<01:19, 159.94it/s]"
     ]
    },
    {
     "name": "stdout",
     "output_type": "stream",
     "text": [
      "6188 :  HOUSE FOR SALE BY OWNER\n",
      "6189 :  Vouchers for sale \n",
      "6190 :   Us Robotics Dual Standard modem 4 sale\n",
      "6191 :  Car for Sale: '91 VW Corrado\n",
      "6192 :  VHS Video for sale\n",
      "6193 :  FSDrum acc., AnAlog Synth, COmputer things.. CHEAP\n",
      "6194 :  Voice Processing for IBM PCs\n",
      "6195 :  IBM PS2 33MHz Adaptec 1640 SCSI systm\n",
      "6196 :  items 4sale, received from a award giving company\n",
      "6197 :  Toshiba 3300SL '386SL notebook for sale\n",
      "6198 :  Wanted:  286 motherboard, VGA card\n",
      "6199 :  For Sale:  Game Boy\n",
      "6200 :  Tapes for Sale\n",
      "6201 :  '91 Toyota Camry $9800\n",
      "6202 :   VHS Movies \n",
      "6203 :  TEST\n",
      "6204 :  transformer wanted for my dead compacq vga monitor\n"
     ]
    },
    {
     "name": "stderr",
     "output_type": "stream",
     "text": [
      "\r",
      " 33%|█████████████████████████                                                   | 6205/18828 [00:38<01:28, 142.72it/s]"
     ]
    },
    {
     "name": "stdout",
     "output_type": "stream",
     "text": [
      "6205 :  CD is For Sale\n",
      "6206 :  Sony Amplifier and Crossover for sale\n",
      "6207 :  WANTED: Sharp EL5200\n",
      "6208 :  Sega Genesis plus 9 sports games for sale\n",
      "6209 :  LOOKING\n",
      "6210 :  Spring Cleaning Sale\n",
      "6211 :  Pink Floyd 45 rpm singles for sale\n",
      "6212 :  Rolling Stones 45 rpm singles for sale\n",
      "6213 :  Northwest Air tix  SAVE $30 ANY FLIGHT\n",
      "6214 :  SAM Virus Clinic  Software for Sale\n",
      "6215 :  45 rpm Singles for Sale \n",
      "6216 :  C64128 GAme: XMen for sale...\n",
      "6217 :    TurboGrafx System For SALE \n",
      "6218 :  MIDI Keyboard $225\n",
      "6219 :  WANTED: The NineMile Walk\n",
      "6220 :  Forsale  Steyr 9mm Parabellum\n",
      "6221 :  Wanted IDE hard drive 40\n",
      "6222 :  WYSIWYG word processor for DOS\n",
      "6223 :  VCR, Cassette, Generator, tube tester, lawn spreader\n",
      "6224 :  Printer and game for sale\n"
     ]
    },
    {
     "name": "stderr",
     "output_type": "stream",
     "text": [
      "\r",
      " 33%|█████████████████████████▏                                                  | 6225/18828 [00:38<01:21, 154.62it/s]"
     ]
    },
    {
     "name": "stdout",
     "output_type": "stream",
     "text": [
      "6225 :  moving sale\n",
      "6226 :  Polk S4  is forsale\n",
      "6227 :  Apartment for Rent in Russia\n",
      "6228 :  Items For Sale\n",
      "6229 :  For Sale: Hayes 2400 External Modem  for Mac\n",
      "6230 :  For Sale: CASIOBOSS SF8000 Personal Business Organizer\n",
      "6231 :  For sale: 030 Direct Slot Adapter Card for the Mac IIsi\n",
      "6232 :  For Sale: 4 x 1MEG SIMMS  for the Macintosh\n",
      "6233 :  Wanted:Singer Featherweight 221\n",
      "6234 :  For Sale: Silverlining 5.42 Hard Disk Management Software\n",
      "6235 :  For Sale: 2 x 1MEG  SIMMS for the Macintosh\n",
      "6236 :  For Sale: Practical Peripherals 1200 external modem\n",
      "6237 :  Amiga 3000 and 14.4 HST For sale CHEAP\n",
      "6238 :  For Sale: CDROM SearchDisc  Phone Directory\n",
      "6239 :  Genesis + Sega CD + Games forsale\n",
      "6240 :  386sx for sale\n",
      "6241 :  Many Business Books for Sale.....good prices\n",
      "6242 :  Items for sale , less....\n"
     ]
    },
    {
     "name": "stderr",
     "output_type": "stream",
     "text": [
      "\r",
      " 33%|█████████████████████████▏                                                  | 6243/18828 [00:38<01:27, 144.33it/s]"
     ]
    },
    {
     "name": "stdout",
     "output_type": "stream",
     "text": [
      "6243 :  Baseball card FOR SALE\n",
      "6244 :  Nth Engine Graphics Cards\n",
      "6245 :  Novell 2.0a3.11\n",
      "6246 :   FOOT SWITCHES AND GUITAR \n",
      "6247 :   ROLAND JUNO60 SYNTHESIZERUNIDEN RADAR DETECTOR 4 SALE\n",
      "6248 :  Hard drive 40M IDE, only $90, 6 months old \n",
      "6249 :  Software for sale, MSWindow 3.1, MSworks, PCTOOL 7.1, DOS 6.0\n",
      "6250 :  WANTED: HP28 calculator\n",
      "6251 :  Forsale: 22' Searay\n",
      "6252 :  210M SCSI HD 3.5 For Sale\n",
      "6253 :  HONDA ACCORD  FOR SALE\n",
      "6254 :  SONY 8mm camcorder for sale\n",
      "6255 :  SONY 8mm camcorder for sale\n",
      "6256 :   HIGHEND CAR STEREO FOR SALE \n",
      "6257 :  For Sale:  Misc IBM stuff\n",
      "6258 :  MS CC++ BOOK    FORSALE \n",
      "6259 :   QuestionSuggestion for Everyone  Please Read\n",
      "6260 :  Claris Filemaker for Mac\n",
      "6261 :  Car for Sale\n",
      "6262 :  WANTED:   Pasadenas Cassette or CD\n",
      "6263 :  Transmitter tube\n"
     ]
    },
    {
     "name": "stderr",
     "output_type": "stream",
     "text": [
      "\r",
      " 33%|█████████████████████████▎                                                  | 6264/18828 [00:38<01:19, 157.86it/s]"
     ]
    },
    {
     "name": "stdout",
     "output_type": "stream",
     "text": [
      "6264 :   eXpEn$iVe MOTOROLA Handheld Radio For Peanuts\n",
      "6265 :  ATTENTION SUPER NINTENDO AND GENESIS PLAYERS READ THIS\n",
      "6266 :  DAK shorwave radio\n",
      "6267 :  Sherwood AMFM Stereo Reciever FOR SALE\n",
      "6268 :  MSDOS 6.0 FOR SALE\n",
      "6269 :  PC TOOLS 7.1 FOR SALE\n",
      "6270 :  FOR SALE: 1990 Mazda MX6\n",
      "6271 :  photographic stuff to sell\n",
      "6272 :  286 mother board 4 sale\n",
      "6273 :   FOR SALE  KENWOOD Receiver\n",
      "6274 :  Portable Color T.V. $160\n",
      "6275 :  White Toyota Camry LE 1988 MUST SELL\n",
      "6276 :  Oakleys' for sale; items wanted\n",
      "6277 :  BC200XLT Handheld Radio Scanner\n",
      "6278 :  PC TOOLS 8.0\n",
      "6279 :  877 mb 3.5 SCSI disk FOR SALE\n",
      "6280 :  Jeff Mason is Auction = Marvel, DC, Valiant, Image, etc...\n",
      "6281 :  Wanted original Shanghai for PC\n",
      "6282 :  Metallica for sale addition\n",
      "6283 :   VHS movie for sale\n"
     ]
    },
    {
     "name": "stderr",
     "output_type": "stream",
     "text": [
      "\r",
      " 33%|█████████████████████████▎                                                  | 6284/18828 [00:38<01:14, 168.25it/s]"
     ]
    },
    {
     "name": "stdout",
     "output_type": "stream",
     "text": [
      "6284 :  New 3M  8 floppy disks for sale\n",
      "6285 :  Cameras for sale\n",
      "6286 :  Nikkor 70210 AF for sale:$175\n",
      "6287 :  SLR camera,zoom for sale\n",
      "6288 :  SVHS broadcast tapes forsale\n",
      "6289 :  AN12 AIRCRAFT FOR SALE OR LEASING\n",
      "6290 :  one way Omaha  Seattle plane ticket 59 female\n",
      "6291 :  Supra Modem 2400 for scale\n",
      "6292 :  FTP PCTCP ver 2.04 FOR SALE cheap\n",
      "6293 :  Wanted: One way flight from Des Moines to Chicago\n",
      "6294 :  Car Audio \n",
      "6295 :  Car AMP \n",
      "6296 :  computer stuff for sale\n",
      "6297 :  USR 16.8k HST External Mo\n",
      "6298 :     For Sale: Window Shades   \n",
      "6299 :  Co Porcessor + CPU\n",
      "6300 :  1x180 36pcs $102\n",
      "6301 :  Nikon L35 camera: $50\n"
     ]
    },
    {
     "name": "stderr",
     "output_type": "stream",
     "text": [
      "\r",
      " 33%|█████████████████████████▍                                                  | 6302/18828 [00:38<01:22, 152.48it/s]"
     ]
    },
    {
     "name": "stdout",
     "output_type": "stream",
     "text": [
      "6302 :  Texas Instuments TI81 calculator\n",
      "6303 :   porsche 928\n",
      "6304 :  41M HD FORSALE OR TRADE\n",
      "6305 :  Brand new H.P. toner for sale, cheap\n",
      "6306 :  IBM software for sale, cheap\n",
      "6307 :  Genesis carts forsale\n",
      "6308 :  \\ CDs 4 Sale \\\n",
      "6309 :  WANTED: Tandem Bicycle\n",
      "6310 :  1.2GB DISK for SALE\n",
      "6311 :    More GAMES FOR SALE \n",
      "6312 :  Saturn For Sale\n",
      "6313 :  16' HobieCat Special\n",
      "6314 :  For Sale: Complete Communicator card for IBMvoicemail, modem, Fax\n",
      "6315 :  Books for sale cheap\n",
      "6316 :  Desert storm cards for sale\n",
      "6317 :    CS, Math, Physics, GRE books forsale  \n",
      "6318 :  Sams comics for sale cheap\n",
      "6319 :  4sale calculator\n",
      "6320 :  1945 BLONDIE CARD BOARD JIG SAW PUZZLE FOR SALE\n",
      "6321 :  CD is, games, books for sale\n"
     ]
    },
    {
     "name": "stderr",
     "output_type": "stream",
     "text": [
      "\r",
      " 34%|█████████████████████████▌                                                  | 6322/18828 [00:39<01:16, 162.44it/s]"
     ]
    },
    {
     "name": "stdout",
     "output_type": "stream",
     "text": [
      "6322 :  Lynx Games for SaleTrade\n",
      "6323 :  TG16 Games for saletrade\n",
      "6324 :  Game Gear Games for saletrade\n",
      "6325 :  Genesis Games for saletrade\n",
      "6326 :  LDs forsale\n",
      "6327 :  Marx Brother  forsale\n",
      "6328 :  Optonica tuner and Integrated amp forsale:\n",
      "6329 :  Onkyo Integra series Integrated amp for sale:\n",
      "6330 :  1989 Honda Accord LX\n",
      "6331 :  CDROMS 4Sale  \n",
      "6332 :  Minolta FD 50 mm forsale\n",
      "6333 :  Panasonic answering machine forsale\n",
      "6334 :  Mostly noncomputer items \n",
      "6335 :   210M SCSI HD 3.5 For Sale\n",
      "6336 :  Florida Vacation Package for Sale\n",
      "6337 :  4 4MB simms for sale\n",
      "6338 :  For Sale: 88 Toyota Supra\n",
      "6339 :  Camera: Olymypus Stylus, pocket camera\n"
     ]
    },
    {
     "name": "stderr",
     "output_type": "stream",
     "text": [
      "\r",
      " 34%|█████████████████████████▌                                                  | 6340/18828 [00:39<01:21, 152.91it/s]"
     ]
    },
    {
     "name": "stdout",
     "output_type": "stream",
     "text": [
      "6340 :  Classic 80 is Rock Tapes for Sale\n",
      "6341 :  Camera bags for sale\n",
      "6342 :  WANTED: GN'R pay per view from Paris\n",
      "6343 :  very Bare 38625 Micronics system  $495\n",
      "6344 :  Mountain View House for Sale\n",
      "6345 :  Machinist Tools Wanted\n",
      "6346 :   OS2 2.1 UNLEASHED\n",
      "6347 :  Probes and Plugs for OscilloscopeFunction Generator\n",
      "6348 :  RE: ProbesPlugs for OscilloscopeFunction Generator\n",
      "6349 :  FOR SALE  SCOOTER\n",
      "6350 :   C Language and other BOOKS FOR SALE \n",
      "6351 :  Used CDs for sale\n",
      "6352 :  Comics for Sale \n",
      "6353 :  SALE:bulk enviro Tshirts\n",
      "6354 :  Mac 512KEHD20 FOR SALE\n",
      "6355 :  FOR SALE  GRAPHIC EQUALIZER\n",
      "6356 :  9600BPS External Modem\n",
      "6357 :  Nintendo games forsale \n",
      "6358 :  For Sale: UREI 527A 27band Equalizer\n",
      "6359 :  looking\n"
     ]
    },
    {
     "name": "stderr",
     "output_type": "stream",
     "text": [
      "\r",
      " 34%|█████████████████████████▋                                                  | 6360/18828 [00:39<01:16, 162.74it/s]"
     ]
    },
    {
     "name": "stdout",
     "output_type": "stream",
     "text": [
      "6360 :   Marvel XComics For Sale \n",
      "6361 :  Self defense pepper spray for sale\n",
      "6362 :  Pioneer MulitPlay CD Player for sale\n",
      "6363 :  Pioneer Double Cassette Deck\n",
      "6364 :  Kenwood 150W Speakers\n",
      "6365 :  Pioneer AudioVideo Receiver\n",
      "6366 :  MFM Controller Wanted\n",
      "6367 :  Powerbook forsale\n",
      "6368 :  CD is For Sale\n",
      "6369 :  82 TOYOTA Tercel | 2Dr | 125K | Good Condition | Make me an offer\n",
      "6370 :  WANTED: AIRLINE CERTIFICATEVOUCHER\n",
      "6371 :  Stealth VRAM\n",
      "6372 :  Panasonic KXP2124 24pin Printer\n",
      "6373 :   AN12 AIRCRAFT FOR SALE OR LEASING\n",
      "6374 :   486DX33 CPU chip for sale, $250\n",
      "6375 :  Hawaii tickets forsale \n",
      "6376 :  cd for sale\n"
     ]
    },
    {
     "name": "stderr",
     "output_type": "stream",
     "text": [
      "\r",
      " 34%|█████████████████████████▋                                                  | 6377/18828 [00:39<01:19, 155.64it/s]"
     ]
    },
    {
     "name": "stdout",
     "output_type": "stream",
     "text": [
      "6377 :  88 Toyota Camry super deluxe $9.9k\n",
      "6378 :   FTP PCTCP ver 2.04 FOR SALE cheap\n",
      "6379 :  FORSALE : Microbotics Hardframe SCSI Controller.\n",
      "6380 :  RC Car for trade\n",
      "6381 :  WANTED: Xapshot digital camera\n",
      "6382 :  VGA card1 meg wanted\n",
      "6383 :    Bally isHoliday Health Club \\\\\\ LIFETIME  MEMERSHIP \n",
      "6384 :  WANTED: $10 for Polaroid Palette 7210 Manual\n",
      "6385 :  NIKKOR 70210 AF forsale\n",
      "6386 :  cheap harddisks for your faithful PCXT\n",
      "6387 :   Nikon FM2 and lens forsale\n",
      "6388 :  144mhz440mhz amps, 2mtr HT for sale\n",
      "6389 :  Sega Genesis For SaleTrade = Game Gear\n",
      "6390 :  For Sale:  Monochrome monitor, 8088 Motherboard, disk drive\n",
      "6391 :   CD is For Sale\n",
      "6392 :  FOR SALE:highguality conifer oil from Russia,$450ton,400 ton\n",
      "6393 :  FOR SALE:highguality conifer oil from Russia,$450ton;400 ton\n",
      "6394 :  Amiga is for sale\n",
      "6395 :  WANTED::SEGA GLASSES\n",
      "6396 :  WANTED: Video equipment \n",
      "6397 :  Looking for Mike Damico\n"
     ]
    },
    {
     "name": "stderr",
     "output_type": "stream",
     "text": [
      "\r",
      " 34%|█████████████████████████▊                                                  | 6398/18828 [00:39<01:14, 167.88it/s]"
     ]
    },
    {
     "name": "stdout",
     "output_type": "stream",
     "text": [
      "6398 :  PSYCHICS\n",
      "6399 :  Books for sale Just make offer\n",
      "6400 :  HONDA ACCORD FOR SALE\n",
      "6401 :  USRobotics Courier HST 14.4 for sale\n",
      "6402 :  PC, NETWORK and OFFICE EQUIPMENT  LONG \n",
      "6403 :  FOR SALE: C128 system wPrinter : $130 OBO\n",
      "6404 :  Marvel comics for sale \n",
      "6405 :  More comics for sale\n",
      "6406 :  Newtek Video Toaster Link For Sale\n",
      "6407 :  Time Line for Windows\n",
      "6408 :  101 Keyboard wanted.\n",
      "6409 :  WANTED: avionics equip.\n",
      "6410 :  Star Trek  novels: 3$8 package\n",
      "6411 :  FOR SALE: ULTRABOTS PC GAME\n",
      "6412 :  SYNOPTICS LAN HW\n",
      "6413 :  XT clone for sale\n",
      "6414 :  MACINTOSHPLUS FOR SALE\n",
      "6415 :  Sega Genesis + games for sale\n"
     ]
    },
    {
     "name": "stderr",
     "output_type": "stream",
     "text": [
      "\r",
      " 34%|█████████████████████████▉                                                  | 6416/18828 [00:39<01:17, 159.33it/s]"
     ]
    },
    {
     "name": "stdout",
     "output_type": "stream",
     "text": [
      "6416 :  Headphones for sale\n",
      "6417 :  ROKSTEADY keyboard stand FOR SALE  UPDATE\n",
      "6418 :  FOR SALE: Paradise SVGA accelerator card\n",
      "6419 :  Stereo system for sale\n",
      "6420 :  Looking for Technics SAGX910\n",
      "6421 :  FOR SALE: Altos 2000 Unix machine\n",
      "6422 :  Wanted: Ph# for seagate\n",
      "6423 :   Nikkor 70210Af forsale:$165\n",
      "6424 :  unix\n",
      "6425 :   Printing\n",
      "6426 :  PC Transporter FOR SALE\n",
      "6427 :  14.4k Modem ZOOM\n",
      "6428 :  Physically sound LP RECORDS 4 sale, trade or barter\n",
      "6429 :  WANTED: Playboy campus girls issues\n",
      "6430 :  14.4K Fax Modem for Sale  Repost\n",
      "6431 :  Panasonic Palmcorder\n",
      "6432 :  CD player, 3.5 1.44mg floppy, 360K floppy, RC10 RC car...D&D stuff  please read...immediate sale\n",
      "6433 :  Mac Modem Wanted\n",
      "6434 :  Intel i486DX33 CPU:  $300 + shipping\n",
      "6435 :   REPOST: Tape Drives  for sale.\n",
      "6436 :  NW Chicago suburbs CHEAP car for sale\n"
     ]
    },
    {
     "name": "stderr",
     "output_type": "stream",
     "text": [
      "\r",
      " 34%|█████████████████████████▉                                                  | 6437/18828 [00:39<01:12, 170.19it/s]"
     ]
    },
    {
     "name": "stdout",
     "output_type": "stream",
     "text": [
      "6437 :  FOR SALE: Hit Movies on VHS\n",
      "6438 :  LAST CHANCE   20 Playboy Magazines\n",
      "6439 :  :  WEDDING DRESS  SIZE 9\n",
      "6440 :  Misc. Items \n",
      "6441 :  WANTED 256K 60ns SIPS\n",
      "6442 :  INTEL CHMOS 80868088 DESIGN KIT\n",
      "6443 :  looking for DIFFRACTION GRATING GLASSES in quantity\n",
      "6444 :  HP plotters for sale\n",
      "6445 :  85 MB Western Digital Hard Drive For Sale\n",
      "6446 :  WANTED Portable Color TV\n",
      "6447 :  38625 for sale  COMPLETE SYSTEM\n",
      "6448 :  Sony Camcorder for $399\n",
      "6449 :  Sun SPARKstation  laptop $2500 bo\n",
      "6450 :   CD is For Sale\n",
      "6451 :  130 meg Seagate IDE hard drive \n",
      "6452 :  ForSale 286 and Harddrive\n",
      "6453 :  FOR SALE: 4TRACK RECORDER \n",
      "6454 :  FOR SALE: Drum Machine \n"
     ]
    },
    {
     "name": "stderr",
     "output_type": "stream",
     "text": [
      "\r",
      " 34%|██████████████████████████                                                  | 6455/18828 [00:39<01:15, 164.32it/s]"
     ]
    },
    {
     "name": "stdout",
     "output_type": "stream",
     "text": [
      "6455 :  Apple II+ Clone For Sale  $170\n",
      "6456 :  TRIUMPH SPITFIRECONVERTIBLE\n",
      "6457 :  1990 Mitsubishi Eclipse GSX For Sale\n",
      "6458 :  Riding Lawn Mower for Sale\n",
      "6459 :  Headphones  AKG 340s  For Sale\n",
      "6460 :  12 record singles for sale\n",
      "6461 :  WANTED: Summer Sublet in DC\n",
      "6462 :   Complete AIXPS2 Software and Manuals  \n",
      "6463 :   AT&T 6300+ UNIX SysV Software for sale  \n",
      "6464 :  WANTED: rollerblades\n",
      "6465 :  Items for sale \n",
      "6466 :  for sale\n",
      "6467 :   REPOST: Tape Drives  for sale.\n",
      "6468 :  Loaded Apple e System for Sale\n",
      "6469 :  Tandy WP2 Word Processor For Sale\n",
      "6470 :  Sony Watchman $60\n",
      "6471 :  Word Perfect 2.1 $100offer\n",
      "6472 :  WANTED  TRANSFORMERS \n",
      "6473 :  House for sale in Sandwich, Ma\n",
      "6474 :  TEst\n"
     ]
    },
    {
     "name": "stderr",
     "output_type": "stream",
     "text": [
      "\r",
      " 34%|██████████████████████████▏                                                 | 6475/18828 [00:39<01:11, 173.59it/s]"
     ]
    },
    {
     "name": "stdout",
     "output_type": "stream",
     "text": [
      "6475 :  Dayna Etherprint Adapters\n",
      "6476 :  Turbo Grafx16 w8 games FOR SALE\n",
      "6477 :  Coleco Unit wgames FOR SALE\n",
      "6478 :   Electronic Components etc\n",
      "6479 :  AIRLINE TICKET FOR SALE\n",
      "6480 :  Computer Equipment Garage Sale\n",
      "6481 :   VHS movie for sale\n",
      "6482 :  VHS Movies \n",
      "6483 :  Jeff Mason is Auction = Marvel, DC, Valiant, Image, etc...\n",
      "6484 :  Items Forsale\n",
      "6485 :  Adaptec 1640 SCSI MC controller $250\n",
      "6486 :   16 pgmin Talaris Laser printer SALE \n",
      "6487 :  CS and MISC books and Ultrix 4.2 Manual For Sale\n",
      "6488 :  UK ONLY  Wanted VECTREX game system  UK ONLY\n",
      "6489 :  WANTED: technics 1200 turntables\n",
      "6490 :  furniture\n",
      "6491 :  snowboard\n",
      "6492 :  1 meg SIMMS for sale ~_~_~_~_~_~_~_~_~_~_~_~_~_~_~_~\n"
     ]
    },
    {
     "name": "stderr",
     "output_type": "stream",
     "text": [
      "\r",
      " 34%|██████████████████████████▏                                                 | 6493/18828 [00:40<01:13, 167.49it/s]"
     ]
    },
    {
     "name": "stdout",
     "output_type": "stream",
     "text": [
      "6493 :   CD is For Sale\n",
      "6494 :  Nintendo system  $50 +shipping obo\n",
      "6495 :   Jet Ski Forsale \n",
      "6496 :  Tenor Saxophone\n",
      "6497 :  Harsh Environments \n",
      "6498 :  Video tapes for sale \n",
      "6499 :  Mac software for sale\n",
      "6500 :  Ski Supplies\n",
      "6501 :  New Mitsumi mice for sale $11\n",
      "6502 :  Turbo Graphx Games Forsale\n",
      "6503 :  UNITED NATIONS SOUVENIR FOLDERS  CHEAP\n",
      "6504 :  Snes Games Forsale\n",
      "6505 :  Laser Discs Forsale\n",
      "6506 :  Radar Detector forsale\n",
      "6507 :  Hot Shots '93  cards for sale\n",
      "6508 :  Sharp OS8000S for sale\n",
      "6509 :  IBM Hardware Forsale\n",
      "6510 :  Emu Sampler For Sale\n",
      "6511 :  Sample Cd is for sale\n",
      "6512 :  386dx 20mhz motherboard for sale\n",
      "6513 :  Lotus 123 Forsale\n"
     ]
    },
    {
     "name": "stderr",
     "output_type": "stream",
     "text": [
      "\r",
      " 35%|██████████████████████████▎                                                 | 6514/18828 [00:40<01:09, 177.13it/s]"
     ]
    },
    {
     "name": "stdout",
     "output_type": "stream",
     "text": [
      "6514 :   386dx 20mhz motherboard for sale\n",
      "6515 :  SALE Furniture\n",
      "6516 :  SyQuest Drive and Cartridges: Lower Price\n",
      "6517 :  PC Games Forsale\n",
      "6518 :  For Sale: 38625MHz motherboard  with 8 megabytes\n",
      "6519 :  Borland C++ 3.1 wApp Frmwrks  FORSALE \n",
      "6520 :  CD is for sale\n",
      "6521 :  Wanted:  Large dog cage\n",
      "6522 :  HUMAN ALPHAFETOPROTHEIN for sale\n",
      "6523 :  TI Electronic Organizer  Model PS6600\n",
      "6524 :  486 SLC notebook deal\n",
      "6525 :  For Sale:  Star Fox, Home Alone II\n",
      "6526 :  Camera bags for sale  new list, dimensions\n",
      "6527 :  Turbo Grafx, Turbo CD forsale\n",
      "6528 :  Tapes and serial cables\n",
      "6529 :  WANTEDOLD 70 is RECORD\n",
      "6530 :  Exchange your SegaCD for my software\n",
      "6531 :  \u0010More 35mm Slide Projectors For Sale\n",
      "6532 :  SyQuest 44M cartrifge FORSALE\n"
     ]
    },
    {
     "name": "stderr",
     "output_type": "stream",
     "text": [
      "\r",
      " 35%|██████████████████████████▎                                                 | 6533/18828 [00:40<01:12, 169.34it/s]"
     ]
    },
    {
     "name": "stdout",
     "output_type": "stream",
     "text": [
      "6533 :  DOS 5.0\n",
      "6534 :  Two America West Tickets for Sale\n",
      "6535 :  Nintendo system + power pad + light gun + games = $80\n",
      "6536 :  FORSALE: MAG Innovision MX15F 1280x1024\n",
      "6537 :  3 HighEnd Car Amplifiers FOR SALE\n",
      "6538 :  CD is for Sale\n",
      "6539 :  VESA\n",
      "6540 :  PUT ANY PRINTED BOOK ON DISK\n",
      "6541 :  Bronica SQA & more\n",
      "6542 :  Books for sale Cheap\n",
      "6543 :  Sams auctionless comic sale\n",
      "6544 :  very cheap 386 motherboard\n",
      "6545 :   MicrowaveConvection Oven Forsale\n",
      "6546 :  FORSALE: Fast Star LV2010 9PIN Printer with Extras $55\n",
      "6547 :  Cordless Phone\n",
      "6548 :  9600 v.32 internal modem\n",
      "6549 :  Wanted: IBM Clone 486 DX33 or better\n",
      "6550 :  WANTED: Super 8mm Projector with SOUNDS\n",
      "6551 :  Looking for Battletech Games on PC\n",
      "6552 :  Comics : The complete set of the ad. of Buck Rogers in the 25th century\n",
      "6553 :  $12$35 for NEWOPENED softwaresgames\n"
     ]
    },
    {
     "name": "stderr",
     "output_type": "stream",
     "text": [
      "\r",
      " 35%|██████████████████████████▍                                                 | 6554/18828 [00:40<01:08, 178.60it/s]"
     ]
    },
    {
     "name": "stdout",
     "output_type": "stream",
     "text": [
      "6554 :   DOS 4.01  for sale Cheap\n",
      "6555 :  \\\\ All kinds of computer items for sale \\\\\n",
      "6556 :  FORSALE=ThuleSilca pumpBlaupunktRadar\n",
      "6557 :  DATSUN car for sale\n",
      "6558 :  ] SEGA 3D GLASSES WANTED\n",
      "6559 :  Summer Sublet available in Baltimore\n",
      "6560 :  Summer Sublet Wanted in DC\n",
      "6561 :  stering silver necklace for sale\n",
      "6562 :  Ensoniq SQ80 CrossWave Synthesizer for sale\n",
      "6563 :   CD is for Sale\n",
      "6564 :  Exabyte EXB8500 8mm 5G Tape Drive For Sale\n",
      "6565 :  XTerminal  21 1280x1024 mono Forsale\n",
      "6566 :  Maxtor 660MB SCSI\n",
      "6567 :  CDTV, Acessories, 1084s Monitor.\n",
      "6568 :  Camera bag sale  two left\n",
      "6569 :  DANA WEICK he is still out there\n",
      "6570 :  Wanted: 9chip 1 megabyte SIMMS \n",
      "6571 :  SNES Ranma 12 pt 2\n",
      "6572 :  VHS Movies \n"
     ]
    },
    {
     "name": "stderr",
     "output_type": "stream",
     "text": [
      "\r",
      " 35%|██████████████████████████▌                                                 | 6573/18828 [00:40<01:11, 171.18it/s]"
     ]
    },
    {
     "name": "stdout",
     "output_type": "stream",
     "text": [
      "6573 :  Movie: Plan 9 From Outer Space WANTED\n",
      "6574 :  Unix Books\n",
      "6575 :  Wanted: Sim City for PC\n",
      "6576 :  CD singles for sale...\n",
      "6577 :  Wanted: Searching for music videos\n",
      "6578 :  Supra 14.4 fax 14.4 ext stand alone modem forsale $150\n",
      "6579 :  Tapes for Sale $2.50 each \n",
      "6580 :  IBM Hardware fosale\n",
      "6581 :  Genesis + Sega CD + Software forsale\n",
      "6582 :  Lotus 123 ver 3.4 forsale\n",
      "6583 :  for sale: lifecall system\n",
      "6584 :  For sale: Air Tix to Bahamas\n",
      "6585 :  For sale: Air tix to Orlando, Vegas and Reno\n",
      "6586 :  For sale: Air tix to Acapulco or Cancun\n",
      "6587 :  cheap harddisks for your IBM PCXT\n",
      "6588 :  composite monochrome monitor for sale\n",
      "6589 :  Stereo LP records for sale\n",
      "6590 :   Sony color watchman 4sale \n"
     ]
    },
    {
     "name": "stderr",
     "output_type": "stream",
     "text": [
      "\r",
      " 35%|██████████████████████████▌                                                 | 6591/18828 [00:40<01:10, 172.62it/s]"
     ]
    },
    {
     "name": "stdout",
     "output_type": "stream",
     "text": [
      "6591 :   Wanted 16Mhz MC68881 Floating Point CoProc \n",
      "6592 :   Speakers forsale \n",
      "6593 :   Kenwood Audiophile Cassette Tape Deck 4sale \n",
      "6594 :  4SALE: 486 Localbus MB wCPU, Weitek, ET4k video, IDE, etc.\n",
      "6595 :  Electronic typewriter needed\n",
      "6596 :   TEST\n",
      "6597 :   Misc. Car audio forsale \n",
      "6598 :  20 Playboy Magazines  1987  1992\n",
      "6599 :   Not all deals are bad...\n",
      "6600 :  FOR SALE: Pocket Ethernet Adapter\n",
      "6601 :  Stereo Equipment, Speakers for sale\n",
      "6602 :  MFM HD 10MB $25, 30MB $70\n",
      "6603 :  cheap hard drives for your PCXT\n",
      "6604 :  XT keyboard, $10 onlyïk\n",
      "6605 :  Deskjet 500 and Accessories Forsale\n",
      "6606 :  Counterpoint SA12 Tube power amp\n",
      "6607 :  Nice Telecope for sale\n",
      "6608 :  85 Mazda GLC for Sale\n",
      "6609 :  Mac LCII 480 for sale\n",
      "6610 :  WANTED:  4 channel multitrack recorder \n"
     ]
    },
    {
     "name": "stderr",
     "output_type": "stream",
     "text": [
      "\r",
      " 35%|██████████████████████████▋                                                 | 6611/18828 [00:40<01:08, 177.17it/s]"
     ]
    },
    {
     "name": "stdout",
     "output_type": "stream",
     "text": [
      "6611 :  200 meg Western Digital IDE Hard Drive for sale\n",
      "6612 :  Split A4000, scanner, RAM, ..., Toaster, TBC, SVHS VCR, scope, ...\n",
      "6613 :  FOR SALE:  custom couch and piano\n",
      "6614 :  JOHN M. BELL: Any luck catching him yet\n",
      "6615 :  WANTED: 3 tickets to cleveland phantom of the opera show\n",
      "6616 :  9600bps v.32 modem\n",
      "6617 :  Informix WingZ  For Sale\n",
      "6618 :  Sun SCSI2 Host Adapter for sale \n",
      "6619 :  COMIC BOOK SALE\n",
      "6620 :  Minolta Master SeriesC50 VHSC Camcorder Forsale\n",
      "6621 :   FOR SALE: Pocket Ethernet Adapter\n",
      "6622 :  Gateway 2000 Telepath Faxmodem for sale\n",
      "6623 :  Minivacation package for sale\n",
      "6624 :  GT BMX bike, $300 obo; Apple IIe computer+extras $400 obo.\n",
      "6625 :  Hard Drive for sale\n",
      "6626 :  DECservers for sale\n",
      "6627 :  Stereo LPs for sale: updated list 427\n",
      "6628 :  LPs for sale\n"
     ]
    },
    {
     "name": "stderr",
     "output_type": "stream",
     "text": [
      "\r",
      " 35%|██████████████████████████▊                                                 | 6629/18828 [00:40<01:11, 170.94it/s]"
     ]
    },
    {
     "name": "stdout",
     "output_type": "stream",
     "text": [
      "6629 :     Don't deal with this man DANA WEICK  \n",
      "6630 :  Cordless Telephone & Answering Machine FOR SALE\n",
      "6631 :   Pool table for sale\n",
      "6632 :   waterbed for sale\n",
      "6633 :  Receiveramp\n",
      "6634 :   HP LaserJet III for Sale\n",
      "6635 :     Don't deal with this man DANA WEICK  \n",
      "6636 :   Notebook computer wanted\n",
      "6637 :  Jeff Mason is Auction\n",
      "6638 :  Looking for AUDIOVIDEOCOMPUTERFURNITURE items\n",
      "6639 :  Zenith 386, 20MHZ, 40 MB Hard Disk, ZCM 1492\n",
      "6640 :  WANTED LCD OVERHEAD MON.\n",
      "6641 :  TRAILER for sale\n",
      "6642 :  BladeRunner InLine Skates For Sale\n",
      "6643 :  CD ROM\n",
      "6644 :  Electronic Music Software  WinSong for Windows  like NEW $70\n",
      "6645 :   WANTED:  4 channel multitrack recorder \n",
      "6646 :  Wanted center channel. Pref Infinity or Polk\n"
     ]
    },
    {
     "name": "stderr",
     "output_type": "stream",
     "text": [
      "\r",
      " 35%|██████████████████████████▊                                                 | 6647/18828 [00:40<01:11, 170.09it/s]"
     ]
    },
    {
     "name": "stdout",
     "output_type": "stream",
     "text": [
      "6647 :  PRICE SLASHED COMICS: 60% of Overstreet Price Guide\n",
      "6648 :  COMICS: Jeff is Strange Comics  Dozens of new titles\n",
      "6649 :  Radius 24X $800\n",
      "6650 :  Microcom MicroPorte Pocket modem For Sale\n",
      "6651 :   Brand new IDEFloppy2S2P1G card for sale\n",
      "6652 :   Saturn is Pricing Policy\n",
      "6653 :   Are BMW is worth the price                      \n",
      "6654 :  RE: headlights problem\n",
      "6655 :  left turn signal won't stop automaticaly\n",
      "6656 :   What is  Volvo  \n",
      "6657 :   saturn pricing blatherings\n",
      "6658 :  Radio for Toyota Tercel\n",
      "6659 :  1993 Infiniti G20\n",
      "6660 :   Basics about maintenance\n",
      "6661 :   Integra GSR \n",
      "6662 :   Integra GSR\n",
      "6663 :   Dumbest automotive concepts of all time\n",
      "6664 :   How hard to change springs on F350 truck\n",
      "6665 :   Jeep Grand vs. Toyota 4Runner\n"
     ]
    },
    {
     "name": "stderr",
     "output_type": "stream",
     "text": [
      "\r",
      " 35%|██████████████████████████▉                                                 | 6666/18828 [00:41<01:09, 174.48it/s]"
     ]
    },
    {
     "name": "stdout",
     "output_type": "stream",
     "text": [
      "6666 :   MGBs and the real world\n",
      "6667 :   Advice on BMWs and winter driving\n",
      "6668 :   WAX RESIDUE ON BLACK MOLDING\n",
      "6669 :   Who was   or   what is   MIATA, as used in the Mazda Miata\n",
      "6670 :   Jeep Grand vs. Toyota 4Runner\n",
      "6671 :   GEICO mechanical breakdown insurance\n",
      "6672 :  MGBs and the real world\n",
      "6673 :  malefemale mystery \n",
      "6674 :  Convertibles\n",
      "6675 :  Toyota wagons\n",
      "6676 :   Dumbest automotive concepts of all time\n",
      "6677 :  '93 Ford Probe GT  Engine problems\n",
      "6678 :   Integra GSR \n",
      "6679 :  Ford Explorer 4WD  do I need performance axle\n",
      "6680 :   Lo Jack\n",
      "6681 :   How hard to change springs on F350 truck\n",
      "6682 :   Are BMW is worth the price            \n",
      "6683 :   Dumbest automotive concepts of all tim\n"
     ]
    },
    {
     "name": "stderr",
     "output_type": "stream",
     "text": [
      "\r",
      " 36%|██████████████████████████▉                                                 | 6684/18828 [00:41<01:11, 170.80it/s]"
     ]
    },
    {
     "name": "stdout",
     "output_type": "stream",
     "text": [
      "6684 :   Did US drive on the left\n",
      "6685 :   Did US drive on the left\n",
      "6686 :   1993 Infiniti G20\n",
      "6687 :   LH car order delay\n",
      "6688 :   Dumbest automotive concepts of all time\n",
      "6689 :  Inflation in car prices\n",
      "6690 :  just testing\n",
      "6691 :  $ 80 SVX OIL CHANGE\n",
      "6692 :  SAAB Mailing list\n",
      "6693 :   Dumbest automotive concepts of all time\n",
      "6694 :  need info on Mazda 626\n",
      "6695 :   Integra GSR\n",
      "6696 :   MGBs and the real world\n",
      "6697 :  vw passat \n",
      "6698 :   Toyota wagons\n",
      "6699 :   Photo radar \n",
      "6700 :   Most bang for between $13,000 and $16,000\n",
      "6701 :  ALASKA CAR SHOW\n"
     ]
    },
    {
     "name": "stderr",
     "output_type": "stream",
     "text": [
      "\r",
      " 36%|███████████████████████████                                                 | 6702/18828 [00:41<01:17, 156.61it/s]"
     ]
    },
    {
     "name": "stdout",
     "output_type": "stream",
     "text": [
      "6702 :   Was  Safety: From how far can you see a car \n",
      "6703 :  Quick question\n",
      "6704 :  Clothing \n",
      "6705 :   Looking to buy Dodge Stealth, have questions\n",
      "6706 :   5W30, 10W40, or 20W50\n",
      "6707 :   Looking to buy Dodge Stealth, have questions\n",
      "6708 :  Storing a car long term\n",
      "6709 :   Did US drive on the left\n",
      "6710 :  Any Subaru Liberty owners out there\n",
      "6711 :   Difference between Lexus 300 series\n",
      "6712 :   Most bang for between $13,000 and $16,000\n",
      "6713 :   Saturn is Pricing Policy\n",
      "6714 :  Thinking About Buying Intrepid  Good or Bad Idea\n",
      "6715 :   Quick question\n",
      "6716 :   Spark Plug question\n",
      "6717 :   Did US drive on the left\n",
      "6718 :   Quick Question\n",
      "6719 :   saturn  puzzled by its pricing\n",
      "6720 :  1990 Integra LS for sale\n",
      "6721 :   Integra GSR\n",
      "6722 :  AWD BMW\n",
      "6723 :   Saturn performance(was  saturn  puzzled by its pricing\n"
     ]
    },
    {
     "name": "stderr",
     "output_type": "stream",
     "text": [
      "\r",
      " 36%|███████████████████████████▏                                                | 6724/18828 [00:41<01:10, 171.12it/s]"
     ]
    },
    {
     "name": "stdout",
     "output_type": "stream",
     "text": [
      "6724 :   AWD BMW\n",
      "6725 :   Did US drive on the left\n",
      "6726 :   What is  Volvo  \n",
      "6727 :   antitheft devices\n",
      "6728 :   bullet proof luxury sedans\n",
      "6729 :   top 10 reasons why i love CR \n",
      "6730 :   Most bang for between $13,000 and $16,000\n",
      "6731 :   5W30, 10W40, or 20W50\n",
      "6732 :   Dumbest automotive concepts of all time\n",
      "6733 :   What is  Volvo  \n",
      "6734 :   Photo radar (was  rec.autos: Frequently\n",
      "6735 :  Clifford Delta car alarm\n",
      "6736 :   Jeep Grand vs. Toyota 4Runner\n",
      "6737 :   Integra GSR\n",
      "6738 :   top 10 reasons why i love CR \n",
      "6739 :   Experienceopinions sought, diesel engines\n",
      "6740 :   Necessity of fuel injector cleaning by dealership\n",
      "6741 :  RFD: rec.autos.saab\n",
      "6742 :   AudiWatch Update  #11\n",
      "6743 :   Quick question\n",
      "6744 :   malefemale mystery \n"
     ]
    },
    {
     "name": "stderr",
     "output_type": "stream",
     "text": [
      "\r",
      " 36%|███████████████████████████▏                                                | 6745/18828 [00:41<01:07, 180.30it/s]"
     ]
    },
    {
     "name": "stdout",
     "output_type": "stream",
     "text": [
      "6745 :  Performance of new Mustangs \n",
      "6746 :  USMade MB SUV\n",
      "6747 :   USMade MB SUV\n",
      "6748 :   5W30, 10W40, or 20W50\n",
      "6749 :  1989 Honda CRX for sale\n",
      "6750 :   Necessity of fuel injector cleaning by dealership\n",
      "6751 :  used Taurus SHO purchase\n",
      "6752 :   Dumbest automotive concepts of all time\n",
      "6753 :   Dumbest automotive concepts of all time\n",
      "6754 :   Was  Safety: From how far can you see a car \n",
      "6755 :   top 10 reasons why i love CR \n",
      "6756 :   CAR INSURANCE  HELP\n",
      "6757 :   top 10 reasons why i love CR \n",
      "6758 :   LH car order delay\n",
      "6759 :   malefemale mystery \n",
      "6760 :  Illegal tint windows\n",
      "6761 :   top 10 reasons why i love CR \n",
      "6762 :   new saturn argument\n",
      "6763 :  '72 Chevelle SS forsale\n",
      "6764 :   top 10 reasons why i love CR \n",
      "6765 :  Impreza, Altima, or What\n"
     ]
    },
    {
     "name": "stderr",
     "output_type": "stream",
     "text": [
      "\r",
      " 36%|███████████████████████████▎                                                | 6766/18828 [00:41<01:04, 187.03it/s]"
     ]
    },
    {
     "name": "stdout",
     "output_type": "stream",
     "text": [
      "6766 :   Advise needed in buying Automobile\n",
      "6767 :   Integra GSR\n",
      "6768 :   Most bang for between $13,000 and $16,000\n",
      "6769 :   Necessity of fuel injector cleaning by dealership\n",
      "6770 :   $ 80 SVX OIL CHANGE\n",
      "6771 :   5W30, 10W40, or 20W50\n",
      "6772 :   malefemale mystery \n",
      "6773 :  BRAKE ROTORS...CROSS DRILLING...312 702 8323\n",
      "6774 :   Saturn is Pricing Policy\n",
      "6775 :   new saturn argument\n",
      "6776 :  apology \n",
      "6777 :   Most bang for between $13,000 and $16,000\n",
      "6778 :   Do it yourself frontend alignment possible\n",
      "6779 :   Dumbest automotive concepts of all time\n",
      "6780 :   Do trains have radar\n",
      "6781 :   BRAINDEAD Drivers Who Don't Look Ahead\n",
      "6782 :   Changing oil by self.\n",
      "6783 :   Aftermarket airconditioners\n",
      "6784 :   BRAINDEAD Drivers Who Don't Look Ahead\n",
      "6785 :  My day in court: RESULTS\n"
     ]
    },
    {
     "name": "stderr",
     "output_type": "stream",
     "text": [
      "\r",
      " 36%|███████████████████████████▍                                                | 6786/18828 [00:41<01:07, 178.02it/s]"
     ]
    },
    {
     "name": "stdout",
     "output_type": "stream",
     "text": [
      "6786 :   Saturn 9192 Manual Transmission Problem\n",
      "6787 :  Regal fiberglass parts \n",
      "6788 :   Do trains have radar\n",
      "6789 :   electronic odometers \n",
      "6790 :   Open letter to NISSAN\n",
      "6791 :  AfterMarket Cruise Controls: Specific Questions\n",
      "6792 :   Did US drive on the left\n",
      "6793 :   LICENSE PLATES NISSAN\n",
      "6794 :   Isuzu Amigo Opinions sought\n",
      "6795 :   LICENSE PLATES\n",
      "6796 :   Truck tailgatesmileage\n",
      "6797 :  86 chevy sprint\n",
      "6798 :   Old Corvettes  Low insurance\n",
      "6799 :   Changing oil by self.\n",
      "6800 :   Dumbest automotive concepts of all time\n",
      "6801 :   Do trainsbusses have radar\n",
      "6802 :   Sprayedon Bedliner Info Wanted\n",
      "6803 :  Car buying story, was: Christ, another dealer service scam...\n",
      "6804 :   Changing oil by self.\n",
      "6805 :   Changing oil by self.\n",
      "6806 :   Changing oil by self.\n"
     ]
    },
    {
     "name": "stderr",
     "output_type": "stream",
     "text": [
      "\r",
      " 36%|███████████████████████████▍                                                | 6807/18828 [00:41<01:05, 184.59it/s]"
     ]
    },
    {
     "name": "stdout",
     "output_type": "stream",
     "text": [
      "6807 :  1986 Mazda forsale\n",
      "6808 :   LICENSE PLATES\n",
      "6809 :   Changing oil by self.rist, another dealer service scam...\n",
      "6810 :  rec.autos: Welcome to to the new reader\n",
      "6811 :  rec.autos: Frequently Asked ConsumerAutomotive Questions\n",
      "6812 :   WARNING........\n",
      "6813 :  MILITECH\n",
      "6814 :   Ford SHO engine parts\n",
      "6815 :  rec.autos: Automotive Mailing Lists\n",
      "6816 :  rec.autos: the Rec.Autos Archive Server \n",
      "6817 :  rec.autos: Frequently Asked Questions\n",
      "6818 :  rec.autos: Automotive Mailing Lists: how to set up your own\n",
      "6819 :   Dumbest automotive concepts of all time\n",
      "6820 :   WARNING........\n",
      "6821 :   WARNING........\n",
      "6822 :   Changing oil by self.\n",
      "6823 :   Mazda RX7 parts  JC Whitney\n",
      "6824 :   Dumbest automotive concepts of all time\n",
      "6825 :  RE Aftermarket AC units\n"
     ]
    },
    {
     "name": "stderr",
     "output_type": "stream",
     "text": [
      "\r",
      " 36%|███████████████████████████▌                                                | 6826/18828 [00:41<01:08, 176.00it/s]"
     ]
    },
    {
     "name": "stdout",
     "output_type": "stream",
     "text": [
      "6826 :  Re Aftermarket AC units\n",
      "6827 :  Jeep Laredo experiences\n",
      "6828 :   Curious about the Porsche I drove\n",
      "6829 :   WARNING........\n",
      "6830 :   BRAINDEAD Drivers Who Don't Look Ahead\n",
      "6831 :  BMW is new plant in Greer, SC\n",
      "6832 :   WARNING........\n",
      "6833 :   Dumbest automotive concepts of all time\n",
      "6834 :   Lois Chevrolet\n",
      "6835 :   Thinking About Buying Intrepid  Good or Bad Idea\n",
      "6836 :   Changing oil by self.\n",
      "6837 :  Waxing a new car\n",
      "6838 :  83 tercel sunroof leaks  arrggh\n",
      "6839 :   Plymouth SundanceDodge Shadow experiences\n",
      "6840 :  Clear coat woes . . .\n",
      "6841 :   Chryslers Compact LH Sedans\n",
      "6842 :  I am getting a car, I need opinions.\n",
      "6843 :   RFI:Art of clutchless shifting\n",
      "6844 :   86 Acura Integra 5speed\n"
     ]
    },
    {
     "name": "stderr",
     "output_type": "stream",
     "text": [
      "\r",
      " 36%|███████████████████████████▋                                                | 6845/18828 [00:42<01:08, 175.83it/s]"
     ]
    },
    {
     "name": "stdout",
     "output_type": "stream",
     "text": [
      "6845 :   Most bang for $13k\n",
      "6846 :   Too fast\n",
      "6847 :   Too fast\n",
      "6848 :   New Alarm Proposal\n",
      "6849 :   I am getting a car, I need opinions.\n",
      "6850 :  curious about you\n",
      "6851 :  Toyota Land Cruiser worth it\n",
      "6852 :  NX2000 vs. Sentra SER\n",
      "6853 :   WARNING........\n",
      "6854 :   WARNING........\n",
      "6855 :   WARNING........\n",
      "6856 :   Manual Shift Bigots\n",
      "6857 :  Bimmer vs Beamer\n",
      "6858 :   WARNING........\n",
      "6859 :  Insurance Rates on Performance Cars SUMMARY\n",
      "6860 :  Header for 89' Honda Civic Si\n",
      "6861 :   Impala SS going into production\n",
      "6862 :   Chrysler New Yorker LHS :   So, do any XXXX, I mean police officers read this stuff\n",
      "8038 :   Route Suggestions\n",
      "8039 :   New to Motorcycles...\n",
      "8040 :   Help  Which bikes are short\n",
      "8041 :   bike for sale in MA, USA\n",
      "8042 :  MSF Program where\n",
      "8043 :   story \n",
      "8044 :   Traffic morons\n",
      "8045 :   BMW MOA members read this\n",
      "8046 :   Shaftdrives and Wheelies\n",
      "8047 :   Cobra Locks\n",
      "8048 :   A Point for Helmet Law is a Point for MC B\n",
      "8049 :   Cobra Locks\n",
      "8050 :  Countersteering sans Hands\n"
     ]
    },
    {
     "name": "stderr",
     "output_type": "stream",
     "text": [
      "\r",
      " 43%|████████████████████████████████▍                                           | 8051/18828 [00:48<00:56, 191.47it/s]"
     ]
    },
    {
     "name": "stdout",
     "output_type": "stream",
     "text": [
      "8051 :   Shaftdrives and Wheelies\n",
      "8052 :   Route Suggestions\n",
      "8053 :   Hellmets.\n",
      "8054 :   Countersteering_FAQ please post\n",
      "8055 :   Question about helmets\n",
      "8056 :   Ok, So I was a little hasty...\n",
      "8057 :   Wanted: Advice for New Cylist\n",
      "8058 :   Insurance and lotsa points...\n",
      "8059 :   dogs\n",
      "8060 :   Shaftdrives and Wheelies\n",
      "8061 :   Insurance and lotsa points...\n",
      "8062 :   New to Motorcycles...\n",
      "8063 :  Strange Experience\n",
      "8064 :   Good Reasons to Wave at each other\n",
      "8065 :  HarleyDavidson Mailing List  an Email taste sensation\n",
      "8066 :   dogs\n",
      "8067 :  Need partsinfo for 1963 Maicoletta scooter\n",
      "8068 :   New to Motorcycles...\n",
      "8069 :  Wrecked BMW\n",
      "8070 :  What is a squid \n"
     ]
    },
    {
     "name": "stderr",
     "output_type": "stream",
     "text": [
      "\r",
      " 43%|████████████████████████████████▌                                           | 8071/18828 [00:48<01:02, 171.45it/s]"
     ]
    },
    {
     "name": "stdout",
     "output_type": "stream",
     "text": [
      "8071 :  where to put your helmet\n",
      "8072 :  Spagthorpe Viking\n",
      "8073 :  Krypto cables \n",
      "8074 :   For JOHS    Last \n",
      "8075 :   BMW MOA members read this\n",
      "8076 :  Question\n",
      "8077 :   uh, der, whassa deltabox\n",
      "8078 :  Need advice for riding with someone on pillion\n",
      "8079 :  Yamaha vs Honda opinions\n",
      "8080 :   Your opinion and what it means to me.\n",
      "8081 :   Your opinion and what it means to me.\n",
      "8082 :  Racelist: WHO WHAT WHERE\n",
      "8083 :   KREME\n",
      "8084 :   Riceburner Respect\n",
      "8085 :   uh, der, whassa deltabox\n",
      "8086 :   MOTORCYCLE DETAILING TIP #18\n",
      "8087 :   Countersteering_FAQ please post\n",
      "8088 :   Observation re: helmets\n",
      "8089 :  Moving On\n",
      "8090 :   Aerostitch:  1 or 2piece\n"
     ]
    },
    {
     "name": "stderr",
     "output_type": "stream",
     "text": [
      "\r",
      " 43%|████████████████████████████████▋                                           | 8091/18828 [00:49<01:00, 177.99it/s]"
     ]
    },
    {
     "name": "stdout",
     "output_type": "stream",
     "text": [
      "8091 :   GGRRRrrr Cages doubleparking motorc\n",
      "8092 :   Tracing license plates of BDI cagers\n",
      "8093 :  Performance Bike Frenzy at Cadwell\n",
      "8094 :   Live Free, but Quietly, or Die\n",
      "8095 :  For Sale: Kawasaki EX500 \n",
      "8096 :   BDI Experience\n",
      "8097 :   Countersteering_FAQ please post\n",
      "8098 :   Boom Dog attack\n",
      "8099 :   GOT MY BIKE \n",
      "8100 :  Anti Freeze\n",
      "8101 :   Countersteering_FAQ please post\n",
      "8102 :   BMW battery\n",
      "8103 :  Power Arc II Ignition, Super E Carb\n",
      "8104 :   BMW MOA members read this\n",
      "8105 :   Countersteering_FAQ please post\n",
      "8106 :   Recommendation for a front tire.\n",
      "8107 :   Ducati 400 opinions wanted\n",
      "8108 :   Live Free, but Quietly, or Die\n",
      "8109 :   Changing sprocket ratios \n"
     ]
    },
    {
     "name": "stderr",
     "output_type": "stream",
     "text": [
      "\r",
      " 43%|████████████████████████████████▋                                           | 8110/18828 [00:49<01:08, 156.57it/s]"
     ]
    },
    {
     "name": "stdout",
     "output_type": "stream",
     "text": [
      "8110 :   Boom Dog attack\n",
      "8111 :   European MC Insurance\n",
      "8112 :  Route Suggestions\n",
      "8113 :   where to put your helmet\n",
      "8114 :   Wanted: Advice for New Cylist\n",
      "8115 :   Need advice for riding with someone on pillion\n",
      "8116 :   New to Motorcycles...\n",
      "8117 :   What is a squid \n",
      "8118 :   Ok, So I was a little hasty...\n",
      "8119 :  ST1100 ride\n",
      "8120 :   Your opinion and what it means to me.\n",
      "8121 :  Battery Charger\n",
      "8122 :   Question\n",
      "8123 :   Need advice for riding with someone on pillion\n",
      "8124 :   FJ11001200 Owners: Tankbag Suggestions Wanted\t  \n",
      "8125 :   OPINIONS WANTED  HELP\n",
      "8126 :   Maxima Chain wax\n",
      "8127 :    Shaftdrives and Wheelies\n",
      "8128 :   Shaftdrives and Wheelies\n",
      "8129 :    Inverted Fork needed\n"
     ]
    },
    {
     "name": "stderr",
     "output_type": "stream",
     "text": [
      "\r",
      " 43%|████████████████████████████████▊                                           | 8130/18828 [00:49<01:04, 166.75it/s]"
     ]
    },
    {
     "name": "stdout",
     "output_type": "stream",
     "text": [
      "8130 :  First bike: Honda Ascot\n",
      "8131 :   So, do any police ossifers read this stuff\n",
      "8132 :  GS1100E \n",
      "8133 :   Newbie\n",
      "8134 :   Need advice for riding with someone on pillion\n",
      "8135 :  DoD Confessional\n",
      "8136 :  Anybody tape Daytona\n",
      "8137 :   Women is Jackets \n",
      "8138 :   Wanted: Advice for New Cylist\n",
      "8139 :   Your opinion and what it means to me.\n",
      "8140 :   extraordinary footpeg engineering\n",
      "8141 :   FJ11001200 Owners: Tankbag Suggestions Wanted\n",
      "8142 :   Help  Which bikes are short\n",
      "8143 :  Need Maintenance tips\n",
      "8144 :  Wanted: Advice for New Cylist  \n",
      "8145 :   Countersteering_FAQ please post\n",
      "8146 :   Need advice for riding with someone on pillion\n",
      "8147 :   story \n"
     ]
    },
    {
     "name": "stderr",
     "output_type": "stream",
     "text": [
      "\r",
      " 43%|████████████████████████████████▉                                           | 8148/18828 [00:49<01:11, 149.93it/s]"
     ]
    },
    {
     "name": "stdout",
     "output_type": "stream",
     "text": [
      "8148 :   Mail order response time\n",
      "8149 :  exhaust coating\n",
      "8150 :   How to act in front of traffic jerks\n",
      "8151 :   Countersteering_FAQ please post\n",
      "8152 :  Insurance discount\n",
      "8153 :   Need advice for riding with someone on pillion\n",
      "8154 :   IT AIN'T FOR ME\n",
      "8155 :   Your opinion and what it means to me.\n",
      "8156 :   Comments on a 1984 Honda Interceptor 1000\n",
      "8157 :   Ok, So I was a little hasty...\n",
      "8158 :   Question\n",
      "8159 :   Countersteering sans Hands\n",
      "8160 :   Battery Charger\n",
      "8161 :  DualSport recomendations\n",
      "8162 :   Good Reasons to Wave at each other\n",
      "8163 :   Type spesifications \n",
      "8164 :   Krypto cables \n",
      "8165 :     Shaftdrives and Wheelies\n",
      "8166 :  WANTED  UK BMW &Insu Tips\n",
      "8167 :   Need advice for riding with someone on pillion\n"
     ]
    },
    {
     "name": "stderr",
     "output_type": "stream",
     "text": [
      "\r",
      " 43%|████████████████████████████████▉                                           | 8168/18828 [00:49<01:06, 160.95it/s]"
     ]
    },
    {
     "name": "stdout",
     "output_type": "stream",
     "text": [
      "8168 :   New to Motorcycles...\n",
      "8169 :   Need advice for riding with someone on pillion\n",
      "8170 :   Good Reasons to Wave at each other\n",
      "8171 :   Shaftdrives and Wheelies\n",
      "8172 :   Wanted: Advice for New Cylist\n",
      "8173 :   What is a squid \n",
      "8174 :   Paint jobs in the UK\n",
      "8175 :   Happy Easter\n",
      "8176 :   Insurance discount\n",
      "8177 :   Looking for MOVIES w BIKES\n",
      "8178 :   Vmax handling request\n",
      "8179 :   Need partsinfo for 1963 Maicoletta scooter\n",
      "8180 :   Shaftdrives and Wheelies\n",
      "8181 :   Need Maintenance tips\n",
      "8182 :   exhaust coating\n",
      "8183 :   dogs\n",
      "8184 :  A Kinder, Gentler BMW Mailing List\n"
     ]
    },
    {
     "name": "stderr",
     "output_type": "stream",
     "text": [
      "\r",
      " 43%|█████████████████████████████████                                           | 8185/18828 [00:49<01:11, 148.63it/s]"
     ]
    },
    {
     "name": "stdout",
     "output_type": "stream",
     "text": [
      "8185 :  PERSONAL: to Michael Moscoso\n",
      "8186 :  XS 850 never needs valve adjustments\n",
      "8187 :   Good Reasons to Wave at each other\n",
      "8188 :   Test ride on a GTS1000\n",
      "8189 :   Good Reasons to Wave at each other\n",
      "8190 :   WANTED  UK BMW &Insu Tips\n",
      "8191 :   First bike: Honda Ascot\n",
      "8192 :   Question about helmets\n",
      "8193 :   Women is Jackets \n",
      "8194 :   Vmax handling request\n",
      "8195 :   Solar battery chargers  any good\n",
      "8196 :   What is it with Cats and Dogs  \n",
      "8197 :   GGRRRrrr Cages doubleparking motorc\n",
      "8198 :   Boom Dog attack\n",
      "8199 :   neck reining was Countersteering_FAQ please post\n",
      "8200 :   Changing sprocket ratios \n",
      "8201 :   ++BIKE SOLD OVER NET 600 MILES AWAY++\n",
      "8202 :   Protective gear\n",
      "8203 :   Changing sprocket ratios \n",
      "8204 :   BMW MOA members read this\n"
     ]
    },
    {
     "name": "stderr",
     "output_type": "stream",
     "text": [
      "\r",
      " 44%|█████████████████████████████████                                           | 8205/18828 [00:49<01:06, 159.51it/s]"
     ]
    },
    {
     "name": "stdout",
     "output_type": "stream",
     "text": [
      "8205 :   Countersteering_FAQ please post\n",
      "8206 :  FOR SALE \n",
      "8207 :  Insurance and lotsa points...\n",
      "8208 :   Countersteering_FAQ please post\n",
      "8209 :   Observation re: helmets\n",
      "8210 :   How to act in front of traffic jerks\n",
      "8211 :   BMW MOA members read this\n",
      "8212 :  Looking for Women is Motorcycle Helmet\n",
      "8213 :   Vmax handling request\n",
      "8214 :  Ok, So I was a little hasty...\n",
      "8215 :  xs1100 timing\n",
      "8216 :  FOR SALE\n",
      "8217 :   Stolen  AARGHHHH.....\n",
      "8218 :   New to Motorcycles...\n",
      "8219 :   BMW heated grips\n",
      "8220 :   Death of a 2 stroke  why did it die\n",
      "8221 :   CB750 C with flames out the exhaust\n"
     ]
    },
    {
     "name": "stderr",
     "output_type": "stream",
     "text": [
      "\r",
      " 44%|█████████████████████████████████▏                                          | 8222/18828 [00:49<01:13, 144.47it/s]"
     ]
    },
    {
     "name": "stdout",
     "output_type": "stream",
     "text": [
      "8222 :   Posted Gif of BMW R100S\n",
      "8223 :   Drinking and Riding\n",
      "8224 :  Back Breaker, Near Hit\n",
      "8225 :   I NEED YOUR ADVICE \n",
      "8226 :   Please tell me they're not permenant scratches\n",
      "8227 :   How to buy a first bike, etc.\n",
      "8228 :  None\n",
      "8229 :   Well blow me down. yuk,yuk,yuk\n",
      "8230 :   Contemplating OttawaSan FranciscoOttawa trip\n",
      "8231 :   Well blow me down. yuk,yuk,yuk\n",
      "8232 :   So, do any XXXX, I mean police officers read this stuff\n",
      "8233 :   Starting trouble CBR600F2\n",
      "8234 :   bikes\n",
      "8235 :   Maxima Chain wax\n",
      "8236 :   XS 850 never needs valve adjustments\n",
      "8237 :   Dogs vs. Bikes\n",
      "8238 :   Its still cold, but...\n",
      "8239 :   Shaftdrives and Wheelies\n",
      "8240 :   Your opinion and what it means to me.\n",
      "8241 :   I NEED YOUR ADVICE \n"
     ]
    },
    {
     "name": "stderr",
     "output_type": "stream",
     "text": [
      "\r",
      " 44%|█████████████████████████████████▎                                          | 8242/18828 [00:50<01:07, 157.47it/s]"
     ]
    },
    {
     "name": "stdout",
     "output_type": "stream",
     "text": [
      "8242 :   I NEED YOUR ADVICE \n",
      "8243 :   dogs\n",
      "8244 :   Countersteering sans Hands\n",
      "8245 :   So, do any XXXX, I mean police officers read this stuff\n",
      "8246 :  Low powered bikesscooters...\n",
      "8247 :   Back Breaker, Near Hit\n",
      "8248 :   Boom Dog attack\n",
      "8249 :   Why I wanted police officers to answer my posting\n",
      "8250 :   Daytona\n",
      "8251 :   Its still cold, but...\n",
      "8252 :  Locks and security \n",
      "8253 :   Back Breaker, Near Hit\n",
      "8254 :   Good Reasons to Wave at each other\n",
      "8255 :   Boom Dog attack\n",
      "8256 :   Well blow me down. yuk,yuk,yuk\n",
      "8257 :   So, do any XXXX, I mean police officers read this stuff\n",
      "8258 :   Boom Dog attack\n",
      "8259 :  Kawi KZ 750 partial engine disassembly \n"
     ]
    },
    {
     "name": "stderr",
     "output_type": "stream",
     "text": [
      "\r",
      " 44%|█████████████████████████████████▎                                          | 8260/18828 [00:50<01:09, 152.70it/s]"
     ]
    },
    {
     "name": "stdout",
     "output_type": "stream",
     "text": [
      "8260 :  Passenger helmet sizing\n",
      "8261 :   BMW MOA members read this\n",
      "8262 :   Used Bikes, East vs. West Coasts\n",
      "8263 :  What do I do with OLD gasoline HELP\n",
      "8264 :   Need advice for riding with someone on pillion\n",
      "8265 :   Why I wanted police officers to answer my posting\n",
      "8266 :   DoD Confessional\n",
      "8267 :   Ok, So I was a little hasty...\n",
      "8268 :   So, do any XXXX, I mean police officers read this stuff\n",
      "8269 :   So, do any XXXX, I mean police officers read this stuff\n",
      "8270 :  Are other riders welcome to join group\n",
      "8271 :   dogs\n",
      "8272 :   Need advice for riding with someone on pillion\n",
      "8273 :  Paint jobs in the UK\n",
      "8274 :   Happy Easter\n",
      "8275 :   Observation re: helmets\n",
      "8276 :   Live Free, but Quietly, or Die\n",
      "8277 :   More MOA stuff  like the RA\n",
      "8278 :   Bikes And Contacts\n",
      "8279 :   Looking for MOVIES w BIKES\n",
      "8280 :   Wanted: Advice for New Cylist\n"
     ]
    },
    {
     "name": "stderr",
     "output_type": "stream",
     "text": [
      "\r",
      " 44%|█████████████████████████████████▍                                          | 8281/18828 [00:50<01:03, 164.81it/s]"
     ]
    },
    {
     "name": "stdout",
     "output_type": "stream",
     "text": [
      "8281 :   Countersteering, to know or not to know  what is the question\n",
      "8282 :   Looking for Women is Motorcycle Helmet\n",
      "8283 :   CB750 C with flames out the exhaust\n",
      "8284 :   Antifreezecoolant\n",
      "8285 :   First bike: Honda Ascot\n",
      "8286 :   Krypto cables \n",
      "8287 :   Paint jobs in the UK\n",
      "8288 :  Cager antics on the football field...\n",
      "8289 :   Your opinion and what it means to me.\n",
      "8290 :   Countersteering, to know or not to know  what is the question\n",
      "8291 :   For JOHS    Last \n",
      "8292 :   Fortuneguzzler barred from bars\n",
      "8293 :   Shaftdrives and Wheelies\n",
      "8294 :   Need advice for riding with someone on pillion\n",
      "8295 :   What is a squid \n",
      "8296 :   Need advice for riding with someone on pillion\n",
      "8297 :  Hawk GT new seat review\n",
      "8298 :   Maxima Chain wax\n",
      "8299 :   Good Reasons to Wave at each other\n",
      "8300 :    Shaftdrives and Wheelies\n"
     ]
    },
    {
     "name": "stderr",
     "output_type": "stream",
     "text": [
      "\r",
      " 44%|█████████████████████████████████▌                                          | 8301/18828 [00:50<01:06, 158.96it/s]"
     ]
    },
    {
     "name": "stdout",
     "output_type": "stream",
     "text": [
      "8301 :   dogs\n",
      "8302 :  DoD Pins...NOT\n",
      "8303 :   story \n",
      "8304 :   BMW heated grips\n",
      "8305 :   Good Reasons to Wave at each other\n",
      "8306 :   Tracing license plates of BDI cagers\n",
      "8307 :   FJ11001200 Owners: Tankbag Suggestions Wanted\n",
      "8308 :   dogs\n",
      "8309 :   So, do any XXXX, I mean police officers read this stuff\n",
      "8310 :   Hawk GT new seat review\n",
      "8311 :   Wanted: Advice for New Cylist\n",
      "8312 :   dogs\n",
      "8313 :   Newbie\n",
      "8314 :   Krypto cables \n",
      "8315 :   Riceburner Respect\n",
      "8316 :   Need advice for riding with someone on pillion\n",
      "8317 :   Well blow me down. yuk,yuk,yuk\n",
      "8318 :   How to act in front of traffic jerks\n",
      "8319 :   dogs\n",
      "8320 :   where to put your helmet\n",
      "8321 :   Paint jobs in the UK \n"
     ]
    },
    {
     "name": "stderr",
     "output_type": "stream",
     "text": [
      "\r",
      " 44%|█████████████████████████████████▌                                          | 8322/18828 [00:50<01:01, 169.58it/s]"
     ]
    },
    {
     "name": "stdout",
     "output_type": "stream",
     "text": [
      "8322 :   How to buy a first bike, etc.\n",
      "8323 :  Volvo Attack\n",
      "8324 :   Countersteering sans Hands\n",
      "8325 :   bike for sale in MA, USA\n",
      "8326 :  Two Beemer Questions \n",
      "8327 :   Shaftdrives and Wheelies\n",
      "8328 :   Shaftdrives and Wheelies\n",
      "8329 :   Shaftdrives and Wheelies\n",
      "8330 :   Boom Dog attack\n",
      "8331 :   dogs\n",
      "8332 :   Good Reasons to Wave at each other\n",
      "8333 :   So, do any XXXX, I mean police officers read this stuff\n",
      "8334 :   A Kinder, Gentler BMW Mailing List\n",
      "8335 :   uh, der, whassa deltabox\n",
      "8336 :   ST1100 ride\n",
      "8337 :  FOR SALE: 550 ZEPHYR\n",
      "8338 :   Boom Dog attack\n",
      "8339 :   So, do any XXXX, I mean police officers read this stuff\n",
      "8340 :   Countersteering sans Hands\n",
      "8341 :   A Kinder, Gentler BMW Mailing List\n"
     ]
    },
    {
     "name": "stderr",
     "output_type": "stream",
     "text": [
      "\r",
      " 44%|█████████████████████████████████▋                                          | 8342/18828 [00:50<01:04, 162.15it/s]"
     ]
    },
    {
     "name": "stdout",
     "output_type": "stream",
     "text": [
      "8342 :   SQUIDS and Dealers\n",
      "8343 :   Death of a 2 stroke  why did it die\n",
      "8344 :        Well blow me down. yuk,yuk,yuk\n",
      "8345 :   Ok, So I was a little hasty...\n",
      "8346 :   Traffic morons\n",
      "8347 :   Type spesifications \n",
      "8348 :  RE:windy days\n",
      "8349 :  MOA members, another letter to read\n",
      "8350 :  Insuring a 1992 CBR600F2\n",
      "8351 :   Maxima Chain wax \n",
      "8352 :   Your opinion and what it means to me.\n",
      "8353 :   Daytona\n",
      "8354 :   Need advice for riding with someone on pillion\n",
      "8355 :   Two Beemer Questions \n",
      "8356 :   Maxima Chain wax \n",
      "8357 :   Boom Dog attack\n",
      "8358 :   Why I wanted police officers to answer my posting\n",
      "8359 :   Are other riders welcome to join group\n",
      "8360 :   BMW heated grips\n",
      "8361 :   RE:windy days\n",
      "8362 :   IT AIN'T FOR ME\n"
     ]
    },
    {
     "name": "stderr",
     "output_type": "stream",
     "text": [
      "\r",
      " 44%|█████████████████████████████████▊                                          | 8363/18828 [00:50<01:00, 173.98it/s]"
     ]
    },
    {
     "name": "stdout",
     "output_type": "stream",
     "text": [
      "8363 :   Mail order response time\n",
      "8364 :  For Sale \n",
      "8365 :   Boom Dog attack\n",
      "8366 :   BMW heated grips\n",
      "8367 :        Well blow me down. yuk,yuk,yuk\n",
      "8368 :   The best of times, the worst of times\n",
      "8369 :   Help me adjust my tappits \n",
      "8370 :   FJ11001200 Owners: Tankbag Suggestions Wanted\n",
      "8371 :   Need advice for riding with someone on pillion\n",
      "8372 :   story & respect\n",
      "8373 :   dogs\n",
      "8374 :   Your opinion and what it means to me.\n",
      "8375 :   A Kinder, Gentler BMW Mailing List\n",
      "8376 :   Bonding with a Caged Cop\n",
      "8377 :   MOA members, another letter to read\n",
      "8378 :   A Kinder, Gentler BMW Mailing List\n",
      "8379 :   Dogs vs. Bikes\n",
      "8380 :   Looking for MOVIES w BIKES\n",
      "8381 :   Maxima Chain wax\n",
      "8382 :   What is a squid \n"
     ]
    },
    {
     "name": "stderr",
     "output_type": "stream",
     "text": [
      "\r",
      " 45%|█████████████████████████████████▊                                          | 8383/18828 [00:50<01:01, 168.87it/s]"
     ]
    },
    {
     "name": "stdout",
     "output_type": "stream",
     "text": [
      "8383 :   Shaftdrives and Wheelies\n",
      "8384 :   Cobra Locks\n",
      "8385 :   Shaftdrives and Wheelies\n",
      "8386 :   Back Breaker, Near Hit\n",
      "8387 :   Ok, So I was a little hasty...\n",
      "8388 :   Well blow me down. yuk,yuk,yuk\n",
      "8389 :   Back Breaker, Near Hit\n",
      "8390 :   BMW heated grips\n",
      "8391 :   where to put your helmet\n",
      "8392 :   A Point for Helmet Law is a Point for\n",
      "8393 :   Live Free, but Quietly, or Die\n",
      "8394 :   Countersteering_FAQ please post\n",
      "8395 :   Countersteering_FAQ please post\n",
      "8396 :   Countersteering sans Hands\n",
      "8397 :    Shaftdrives and Wheelies\n",
      "8398 :   Ok, So I was a little hasty...\n",
      "8399 :   Ok, So I was a little hasty...\n",
      "8400 :   Happy Easter\n",
      "8401 :  Bike advice\n",
      "8402 :   story\n",
      "8403 :   Need advice for riding with someone on pillion\n"
     ]
    },
    {
     "name": "stderr",
     "output_type": "stream",
     "text": [
      "\r",
      " 45%|█████████████████████████████████▉                                          | 8404/18828 [00:51<00:58, 177.56it/s]"
     ]
    },
    {
     "name": "stdout",
     "output_type": "stream",
     "text": [
      "8404 :   Type spesifications \n",
      "8405 :   BMWMOA Controversy\n",
      "8406 :  test\n",
      "8407 :   Bathelmet.\n",
      "8408 :  Boom Dog attack\n",
      "8409 :   What is it with Cats and Dogs \n",
      "8410 :   GOT MY BIKE \n",
      "8411 :   Flashing anyone\n",
      "8412 :  Guzzi 850T tires, plus fairing question\n",
      "8413 :   SQUIDS and Dealers \n",
      "8414 :   Good Reasons to Wave at each other\n",
      "8415 :   First bike: Honda Ascot\n",
      "8416 :   Need advice for riding with someone on pillion\n",
      "8417 :   Shaftdrives and Wheelies \n",
      "8418 :   Shaftdrives and Wheelies \n",
      "8419 :   Back Breaker, Near Hit \n",
      "8420 :   Back Breaker, Near Hit \n",
      "8421 :  Sabbatical \n",
      "8422 :   Boom Dog attack\n",
      "8423 :   Insurance and lotsa points...\n"
     ]
    },
    {
     "name": "stderr",
     "output_type": "stream",
     "text": [
      "\r",
      " 45%|██████████████████████████████████                                          | 8424/18828 [00:51<01:02, 166.76it/s]"
     ]
    },
    {
     "name": "stdout",
     "output_type": "stream",
     "text": [
      "8424 :   Ok, So I was a little hasty...\n",
      "8425 :   Bikes vs. Horses (was  insect impac\n",
      "8426 :  Do Splitfires Help Spagthorpe Diesels \n",
      "8427 :   Definition of two up\n",
      "8428 :   RIM NEEDED\n",
      "8429 :  Please tell me they're not permenant scratches\n",
      "8430 :   A Kinder, Gentler BMW Mailing List\n",
      "8431 :   Ok, So I was a little hasty...\n",
      "8432 :   Back Breaker, Near Hit\n",
      "8433 :   Looking for MOVIES w BIKES\n",
      "8434 :   Vmax handling request\n",
      "8435 :   Live Free, but Quietly, or Die\n",
      "8436 :   BMW Boxer TV ad\n",
      "8437 :  Yamaha Locks \n",
      "8438 :   Maxima Chain wax \n",
      "8439 :   Cobra Locks\n",
      "8440 :  Help me adjust my tappits\n",
      "8441 :   Why I wanted police officers to answer my posting\n",
      "8442 :   Aerostitch:  1 or 2piece\n",
      "8443 :   Touring the southwest\n",
      "8444 :   How to buy a first bike, etc.\n",
      "8445 :   A Kinder, Gentler BMW Mailing List\n"
     ]
    },
    {
     "name": "stderr",
     "output_type": "stream",
     "text": [
      "\r",
      " 45%|██████████████████████████████████                                          | 8446/18828 [00:51<00:58, 178.10it/s]"
     ]
    },
    {
     "name": "stdout",
     "output_type": "stream",
     "text": [
      "8446 :   Back Breaker, Near Hit \n",
      "8447 :   Maxima Chain wax \n",
      "8448 :   Ok, So I was a little hasty...\n",
      "8449 :   Touring the southwest\n",
      "8450 :   Shaftdrives and Wheelies \n",
      "8451 :   Changing sprocket ratios \n",
      "8452 :   Shaftdrives and Wheelies\n",
      "8453 :   Vmax handling request\n",
      "8454 :   Help me adjust my tappits\n",
      "8455 :   DoD Confessional\n",
      "8456 :   MOA members, another letter to read\n",
      "8457 :  Black Reflector Tape\n",
      "8458 :   Shaftdrives and Wheelies\n",
      "8459 :   Maxima Chain wax\n",
      "8460 :   Why I wanted police officers to answer my posting\n",
      "8461 :   Shaftdrives and Wheelies\n",
      "8462 :   Need advice for riding with someone on pillion\n",
      "8463 :   Yamaha Locks \n",
      "8464 :   Help me adjust my tappits\n"
     ]
    },
    {
     "name": "stderr",
     "output_type": "stream",
     "text": [
      "\r",
      " 45%|██████████████████████████████████▏                                         | 8465/18828 [00:51<01:01, 169.60it/s]"
     ]
    },
    {
     "name": "stdout",
     "output_type": "stream",
     "text": [
      "8465 :   Good Reasons to Wave at each other\n",
      "8466 :   Good Reasons to Wave at each other\n",
      "8467 :   Looking for MOVIES w BIKES\n",
      "8468 :   Female  looking for riding buddy\n",
      "8469 :   Maxima Chain wax\n",
      "8470 :   I NEED YOUR ADVICE \n",
      "8471 :   Your opinion and what it means to me.\n",
      "8472 :   Looking for MOVIES w BIKES\n",
      "8473 :   Yamaha Locks \n",
      "8474 :   Good Reasons to Wave at each other\n",
      "8475 :   dogs\n",
      "8476 :    Shaftdrives and Wheelies\n",
      "8477 :   Ok, So I was a little hasty...\n",
      "8478 :   Bike advice\n",
      "8479 :   A Point for Helmet Law is a Point for MC B\n",
      "8480 :   Cagers  who thunk of it\n",
      "8481 :  Assorted Ranting\n",
      "8482 :   Shaftdrives and Wheelies\n",
      "8483 :   where to put your helmet\n",
      "8484 :   Your opinion and what it means to me.\n",
      "8485 :   Riceburner Respect\n"
     ]
    },
    {
     "name": "stderr",
     "output_type": "stream",
     "text": [
      "\r",
      " 45%|██████████████████████████████████▎                                         | 8486/18828 [00:51<00:57, 178.71it/s]"
     ]
    },
    {
     "name": "stdout",
     "output_type": "stream",
     "text": [
      "8486 :   Riceburner Respect\n",
      "8487 :   Why I wanted police officers to answer my posting\n",
      "8488 :   Shaftdrives and Wheelies\n",
      "8489 :   Countersteering sans Hands\n",
      "8490 :   MOTORCYCLE DETAILING TIP #18\n",
      "8491 :   Need advice for riding with someone on pillion\n",
      "8492 :   Need advice for riding with someone on pillion\n",
      "8493 :   Cobra Locks\n",
      "8494 :  extraordinary footpeg engineering\n",
      "8495 :   Dogs vs. Bikes\n",
      "8496 :  Kawasaki ZX6 engine needed\n",
      "8497 :   Bonding with a Caged Cop\n",
      "8498 :   Looking for MOVIES w BIKES\n",
      "8499 :   Good Reasons to Wave at each other\n",
      "8500 :   What octane \n",
      "8501 :   Bra... bra... brazing  \n",
      "8502 :   FJ11001200 Owners: Tankbag Suggestions Wanted\n",
      "8503 :  1982 Yamaha XJ550H Maxim for sale \n",
      "8504 :   Type spesifications \n",
      "8505 :    First Bike and Wheelies\n",
      "8506 :  Power Loss under load of a Honda CB360T\n"
     ]
    },
    {
     "name": "stderr",
     "output_type": "stream",
     "text": [
      "\r",
      " 45%|██████████████████████████████████▎                                         | 8507/18828 [00:51<01:00, 170.12it/s]"
     ]
    },
    {
     "name": "stdout",
     "output_type": "stream",
     "text": [
      "8507 :   Help me adjust my tappits\n",
      "8508 :   So, do any XXXX, I mean police officers read this stuff\n",
      "8509 :   Traffic morons\n",
      "8510 :   Test Ignore \n",
      "8511 :   The best of times, the worst of times\n",
      "8512 :   Back Breaker, Near Hit\n",
      "8513 :   VFR + ST11 Owners get hidden feature\n",
      "8514 :   Zipper repairs \n",
      "8515 :   dogs\n",
      "8516 :   Countersteering, to know or not to know  what is the question\n",
      "8517 :   FJ11001200 Owners: Tankbag Suggestions Wanted\n",
      "8518 :   Fortuneguzzler barred from bars\n",
      "8519 :   Shaftdrives and Wheelies\n",
      "8520 :   story\n",
      "8521 :   Shaftdrives and Wheelies\n",
      "8522 :   Paint jobs in the UK\n",
      "8523 :   Please tell me they're not permenant scratches\n",
      "8524 :  BMW 2 frame setup for sale...\n",
      "8525 :   Buying a 1992 Suzuki GS500E  advice wanted\n",
      "8526 :   Touring the southwest\n",
      "8527 :   Countersteering, to know or not to know  what is the question\n",
      "8528 :   So, do any police ossifers read this stuff\n"
     ]
    },
    {
     "name": "stderr",
     "output_type": "stream",
     "text": [
      "\r",
      " 45%|██████████████████████████████████▍                                         | 8529/18828 [00:51<00:57, 180.33it/s]"
     ]
    },
    {
     "name": "stdout",
     "output_type": "stream",
     "text": [
      "8529 :   Black Reflector Tape\n",
      "8530 :  FORSALE:  1982 Yamaha Seca 650 Turbo\n",
      "8531 :   Daytona\n",
      "8532 :   Why I wanted police officers to answer my posting\n",
      "8533 :   DoD Pins...NOT\n",
      "8534 :   VFR + ST11 Owners get hidden feature\n",
      "8535 :   WANTED  UK BMW R80 & Insurance Tips\n",
      "8536 :   Maxima Chain wax\n",
      "8537 :  Changing oil on Virago \n",
      "8538 :   Back Breaker, Near Hit\n",
      "8539 :   Electricty\n",
      "8540 :   First Bike\n",
      "8541 :   For JOHS    Last \n",
      "8542 :   Good Reasons to Wave at each other\n",
      "8543 :   Maxima Chain wax\n",
      "8544 :   Please tell me they're not permenant scratches\n",
      "8545 :   Shaftdrives and Wheelies\n",
      "8546 :   Shaftdrives and Wheelies\n",
      "8547 :   Happy Easter\n"
     ]
    },
    {
     "name": "stderr",
     "output_type": "stream",
     "text": [
      "\r",
      " 45%|██████████████████████████████████▌                                         | 8548/18828 [00:51<01:00, 169.51it/s]"
     ]
    },
    {
     "name": "stdout",
     "output_type": "stream",
     "text": [
      "8548 :  Want to borrowrent a bike in Boston this summer.\n",
      "8549 :   Your opinion and what it means to me.\n",
      "8550 :  SQUIDS and Dealers \n",
      "8551 :  Bike Vacation in the States\n",
      "8552 :   Ok, So I was a little hasty...\n",
      "8553 :   '93 Wing Ding\n",
      "8554 :   Help me adjust my tappits\n",
      "8555 :  ZX11 jetting\n",
      "8556 :  Borderline\n",
      "8557 :  LAW & ORDER & DoD\n",
      "8558 :   Looking for MOVIES w BIKES\n",
      "8559 :   Good Reasons to Wave at each other\n",
      "8560 :  Kaw KZ650 Owners: tankbag stuff\n",
      "8561 :   Maxima Chain wax\n",
      "8562 :   Help me adjust my tappits\n",
      "8563 :   Maxima Chain wax\n",
      "8564 :   Countersteering_FAQ please post\n",
      "8565 :   VFR + ST11 Owners get hidden feature\n",
      "8566 :   Maxima Chain wax Wheelies\n",
      "8567 :   Posted Gif of BMW R100S\n",
      "8568 :  Help on UK law PLEASE\n",
      "8569 :  Personal Problems   \n"
     ]
    },
    {
     "name": "stderr",
     "output_type": "stream",
     "text": [
      "\r",
      " 46%|██████████████████████████████████▌                                         | 8570/18828 [00:51<00:56, 180.50it/s]"
     ]
    },
    {
     "name": "stdout",
     "output_type": "stream",
     "text": [
      "8570 :   Touring the southwest\n",
      "8571 :   Please tell me they're not permenant scratches\n",
      "8572 :         Well blow me down. yuk,yuk,yuk\n",
      "8573 :   Black Reflector Tape\n",
      "8574 :   Your opinion and what it means to me.\n",
      "8575 :   Ok, So I was a little hasty...\n",
      "8576 :   Why I wanted police officers to answer my posting\n",
      "8577 :    Shaftdrives and Wheelies\n",
      "8578 :   New to Motorcycles...\n",
      "8579 :   VFR + ST11 Owners get hidden feature\n",
      "8580 :   Shaftdrives and Wheelies\n",
      "8581 :   Shaftdrives and Wheelies\n",
      "8582 :   Yamaha vs Honda opinions\n",
      "8583 :   Help Which bikes are short\n",
      "8584 :   Maxima Chain wax Wheelies\n",
      "8585 :   Good Reasons to Wave at each other\n",
      "8586 :   Looking for MOVIES w BIKES\n",
      "8587 :   Volvo Attack\n",
      "8588 :   Looking for MOVIES w BIKES\n"
     ]
    },
    {
     "name": "stderr",
     "output_type": "stream",
     "text": [
      "\r",
      " 46%|██████████████████████████████████▋                                         | 8589/18828 [00:52<00:59, 171.36it/s]"
     ]
    },
    {
     "name": "stdout",
     "output_type": "stream",
     "text": [
      "8589 :   Magnetic tank bags\n",
      "8590 :  ++ANY USED GSXR 750s FOR SALE++\n",
      "8591 :  ZX11 Help\n",
      "8592 :   Your opinion and what it means to me.\n",
      "8593 :   Battery storage  why not charge and store dry\n",
      "8594 :   So, do any XXXX, I mean police officers read this stuff\n",
      "8595 :   DynaS vs. Crane\n",
      "8596 :   CB750 C with flames out the exhaust\n",
      "8597 :    Shaftdrives and Wheelies\n",
      "8598 :   Zeno is Countersteering Paradox Unveiled\n",
      "8599 :   Two Beemer Questions \n",
      "8600 :   Good Reasons to Wave at each other\n",
      "8601 :   A Point for Helmet Law is a Point for\n",
      "8602 :   Ok, So I was a little hasty...\n",
      "8603 :   Shaftdrives and Wheelies\n",
      "8604 :   Ignition problem \n",
      "8605 :  1st time Biker iso ADVICE\n",
      "8606 :   VFR + ST11 Owners get hidden feature\n",
      "8607 :  Suzuki GR650 for sale\n",
      "8608 :   What octane \n",
      "8609 :   Shaftdrives and Wheelies\n",
      "8610 :   Type spesifications \n"
     ]
    },
    {
     "name": "stderr",
     "output_type": "stream",
     "text": [
      "\r",
      " 46%|██████████████████████████████████▊                                         | 8611/18828 [00:52<00:56, 181.32it/s]"
     ]
    },
    {
     "name": "stdout",
     "output_type": "stream",
     "text": [
      "8611 :   Dogs vs. Bikes\n",
      "8612 :   DoD Confessional\n",
      "8613 :   where to put your helmet\n",
      "8614 :   CB750 C with flames out the exhaust\n",
      "8615 :   funny thing happened on the way to the hon\n",
      "8616 :   Riceburner Respect\n",
      "8617 :  which is the better bike\n",
      "8618 :   '93 Wing Ding\n",
      "8619 :   So, do any XXXX, I mean police officers read this stuff\n",
      "8620 :   Countersteering sans Hands\n",
      "8621 :  Bub Pipes Live Free, with Variable Loudness\n",
      "8622 :   Need advice for riding with someone on pillion\n",
      "8623 :   Yamaha vs Honda opinions\n",
      "8624 :   Battery storage  why not charge and store dry\n",
      "8625 :  1988 BMW K75S For Sale\n",
      "8626 :   dogs\n",
      "8627 :   Advantages of SlipOns\n",
      "8628 :   Advantages of SlipOns\n",
      "8629 :  funny thing happened at the DMV the other day....\n"
     ]
    },
    {
     "name": "stderr",
     "output_type": "stream",
     "text": [
      "\r",
      " 46%|██████████████████████████████████▊                                         | 8630/18828 [00:52<00:59, 171.49it/s]"
     ]
    },
    {
     "name": "stdout",
     "output_type": "stream",
     "text": [
      "8630 :   story & respect\n",
      "8631 :   Touring the southwest\n",
      "8632 :   Inner tube in tyre... Safe \n",
      "8633 :   Info on SportCruisers \n",
      "8634 :   Misc.buying info. needed\n",
      "8635 :   Accident report\n",
      "8636 :  spring records\n",
      "8637 :   Eck vs Rickey \n",
      "8638 :   NO JOKE: ROCKIES HAVE ATTENDANCE RECORD\n",
      "8639 :  Players Overpaid\n",
      "8640 :   Rickey Henderson\n",
      "8641 :  Giants Win The Pennant\n",
      "8642 :   Minnesota Pitching\n",
      "8643 :  Brewers injuries                                                  \n",
      "8644 :  Binaca Blast Deep Drive Derby  Returns\n",
      "8645 :   DESIGNATED HITTER RULE\n",
      "8646 :   N.L. games 8285 & standings of all\n",
      "8647 :  Bill James Player Rating Book 1993.\n",
      "8648 :  Dodgers newsletter\n",
      "8649 :  MARLINS WIN MARLINS WIN\n",
      "8650 :   NO JOKE: ROCKIES HAVE ATTENDANCE RECORD\n"
     ]
    },
    {
     "name": "stderr",
     "output_type": "stream",
     "text": [
      "\r",
      " 46%|██████████████████████████████████▉                                         | 8651/18828 [00:52<00:56, 179.80it/s]"
     ]
    },
    {
     "name": "stdout",
     "output_type": "stream",
     "text": [
      "8651 :   Tickets etc..\n",
      "8652 :   Scott Erickson\n",
      "8653 :   ESPNTBS GAMES\n",
      "8654 :   Finnally, the Phils have support\n",
      "8655 :  With a surge in the last two weeks...\n",
      "8656 :  quick way to tell if your local beat writer is dumb.\n",
      "8657 :   Mike Francesa is 1993 Predictions\n",
      "8658 :   Finnally, the Phils have support\n",
      "8659 :   Young Catchers\n",
      "8660 :   1993 NL East Champion PHILLIES\n",
      "8661 :   Mike Francesa is 1993 Predictions\n",
      "8662 :  A Move we won't see \n",
      "8663 :   My Belated Predictions \n",
      "8664 :   ESPN and Expansion\n",
      "8665 :  Rockies opening day cast\n",
      "8666 :  Rockies and Rangers fans, Please help me\n",
      "8667 :  Opening Day of 1990\n",
      "8668 :   Wohlers to minors\n",
      "8669 :   Minnesota Pitching\n",
      "8670 :   My Belated Predictions \n"
     ]
    },
    {
     "name": "stderr",
     "output_type": "stream",
     "text": [
      "\r",
      " 46%|███████████████████████████████████                                         | 8671/18828 [00:52<00:59, 170.52it/s]"
     ]
    },
    {
     "name": "stdout",
     "output_type": "stream",
     "text": [
      "8671 :   With a surge in the last two weeks...\n",
      "8672 :  Where can I find baseball statistics \n",
      "8673 :  Grateful Dead\n",
      "8674 :  G. Williams sent down; Yanks win AL East\n",
      "8675 :   Bo was a good player, you shorts \n",
      "8676 :   Young Catchers\n",
      "8677 :   quick way to tell if your local beat writer is dumb.\n",
      "8678 :   Young Catchers\n",
      "8679 :  Red Sox win 1st\n",
      "8680 :   quick way to tell if your local beat writer is dumb.\n",
      "8681 :   Young Catchers\n",
      "8682 :   Finnally, the Phils have support\n",
      "8683 :  New Uniforms\n",
      "8684 :   Players Overpaid\n",
      "8685 :  Vegas odds\n",
      "8686 :  rec.sport.baseball.fantasy\n",
      "8687 :  Jim Lefebvre is an idiot.\n",
      "8688 :   Best Second Baseman\n",
      "8689 :   Jim Lefebvre is an idiot.\n",
      "8690 :   Giants' GM Quinn is a genius\n",
      "8691 :   harry and candy\n"
     ]
    },
    {
     "name": "stderr",
     "output_type": "stream",
     "text": [
      "\r",
      " 46%|███████████████████████████████████                                         | 8692/18828 [00:52<00:56, 179.37it/s]"
     ]
    },
    {
     "name": "stdout",
     "output_type": "stream",
     "text": [
      "8692 :  A.L. East is best in baseball\n",
      "8693 :   My Belated Predictions \n",
      "8694 :   quick way to tell if your local beat writer is dumb.\n",
      "8695 :  Phils are still looking immaculate\n",
      "8696 :  Quick easy question\n",
      "8697 :   Finnally, the Phils have support\n",
      "8698 :   quick way to tell if your local beat writer is dumb.\n",
      "8699 :   Quick easy question\n",
      "8700 :  Trivia Question\n",
      "8701 :   Best Second Baseman\n",
      "8702 :   ESPN and Expansion\n",
      "8703 :   Bo was a good player, you shorts \n",
      "8704 :   My Belated Predictions \n",
      "8705 :   Jim Lefebvre is an idiot.\n",
      "8706 :   New Uniforms\n",
      "8707 :   Jim Lefebvre is an idiot.\n",
      "8708 :   Billy gets cheers in Baltimore\n",
      "8709 :   quick way to tell if your local beat writer is dumb.\n",
      "8710 :   DESIGNATED HITTER RULE\n",
      "8711 :   Rickey Henderson\n"
     ]
    },
    {
     "name": "stderr",
     "output_type": "stream",
     "text": [
      "\r",
      " 46%|███████████████████████████████████▏                                        | 8712/18828 [00:52<00:58, 172.31it/s]"
     ]
    },
    {
     "name": "stdout",
     "output_type": "stream",
     "text": [
      "8712 :   DESIGNATED HITTER RULE\n",
      "8713 :   Why The RedFlops Can win.....\n",
      "8714 :   David Wells\n",
      "8715 :   Cleveland tragedy\n",
      "8716 :   Pinch Hitters \n",
      "8717 :   MARLINS WIN MARLINS WIN\n",
      "8718 :   New Uniforms\n",
      "8719 :  O is lose openr at home to Rangers\n",
      "8720 :  MLB logos: Part 3\n",
      "8721 :  My 1993 Predictions\n",
      "8722 :  15day, 30day, 60day disabled list questions\n",
      "8723 :   Young Catchers\n",
      "8724 :   Young Catchers\n",
      "8725 :  MLB Standings and Scores for Tue, Apr 6th, 1993\n",
      "8726 :  Braves win opener\n",
      "8727 :   Rickey Henderson\n",
      "8728 :  White Sox Mailing List\n",
      "8729 :   New Uniforms\n",
      "8730 :  HELP:  looking for Cleveland Sports Mailing List Info\n",
      "8731 :   Brewer Notes\n",
      "8732 :   Grateful Dead\n"
     ]
    },
    {
     "name": "stderr",
     "output_type": "stream",
     "text": [
      "\r",
      " 46%|███████████████████████████████████▎                                        | 8733/18828 [00:52<00:56, 179.48it/s]"
     ]
    },
    {
     "name": "stdout",
     "output_type": "stream",
     "text": [
      "8733 :   15day, 30day, 60day disabled list questions\n",
      "8734 :  re: Mo Sanford\n",
      "8735 :   My Predictions For 1993\n",
      "8736 :   New Uniforms\n",
      "8737 :   Jim Lefebvre is an idiot.\n",
      "8738 :   MARLINS WIN MARLINS WIN\n",
      "8739 :   harry and candy\n",
      "8740 :   Young Catchers\n",
      "8741 :   Marlins first 3 RBI\n",
      "8742 :   My '93 picks \n",
      "8743 :   quick way to tell if your local beat writer is dumb.\n",
      "8744 :   YANKKES 1 GAME CLOSER\n",
      "8745 :   MARLINS WIN MARLINS WIN\n",
      "8746 :   Young Catchers\n",
      "8747 :  Call for Votes  DTBL MVP and CY.  Please vote\n",
      "8748 :   Young Catchers\n",
      "8749 :   Binaca Blast Deep Drive Derby  Returns\n",
      "8750 :  Cubs behind Marlins How\n",
      "8751 :   When did Dodgers move from NY to LA\n"
     ]
    },
    {
     "name": "stderr",
     "output_type": "stream",
     "text": [
      "\r",
      " 46%|███████████████████████████████████▎                                        | 8752/18828 [00:52<00:57, 176.36it/s]"
     ]
    },
    {
     "name": "stdout",
     "output_type": "stream",
     "text": [
      "8752 :   Best record ever in baseball\n",
      "8753 :   My 1993 Predictions\n",
      "8754 :  Reds Without Sleeves \n",
      "8755 :   Joe Robbie Stadium NOT FOR BASEBALL\n",
      "8756 :   Best Lifetime Record in Baseball History\n",
      "8757 :   YANKKES 1 GAME CLOSER\n",
      "8758 :  Yankee Meditations.\n",
      "8759 :   Joe Robbie Stadium NOT FOR BASEBALL\n",
      "8760 :  mile high runs\n",
      "8761 :   My '93 picks \n",
      "8762 :   MARLINS WIN MARLINS WIN\n",
      "8763 :  Mark Whiten\n",
      "8764 :   Info needed for Cleveland tickets\n",
      "8765 :   Yogiisms\n",
      "8766 :   Young Catchers\n",
      "8767 :  Sax\n",
      "8768 :   Young Catchers\n",
      "8769 :   Giants' GM Quinn is a genius\n"
     ]
    },
    {
     "name": "stderr",
     "output_type": "stream",
     "text": [
      "\r",
      " 47%|███████████████████████████████████▍                                        | 8770/18828 [00:53<01:02, 159.72it/s]"
     ]
    },
    {
     "name": "stdout",
     "output_type": "stream",
     "text": [
      "8770 :   Reds Without Sleeves \n",
      "8771 :   Yogiisms\n",
      "8772 :  My Predictions For 1993\n",
      "8773 :  Joe Robbie Stadium NOT FOR BASEBALL\n",
      "8774 :   Young Catchers\n",
      "8775 :   Cubs game of April 6th\n",
      "8776 :  Players Rushed to Majors\n",
      "8777 :   Rickey Henderson\n",
      "8778 :  Angels win\n",
      "8779 :   Young Catchers\n",
      "8780 :   My '93 picks \n",
      "8781 :   Jim Lefebvre is an idiot.\n",
      "8782 :   Jim Lefebvre is an idiot.\n",
      "8783 :   Young Catchers\n",
      "8784 :  Chris Webber chokes\n",
      "8785 :   DESIGNATED HITTER RULE\n",
      "8786 :  Camden Yards\n"
     ]
    },
    {
     "name": "stderr",
     "output_type": "stream",
     "text": [
      "\r",
      " 47%|███████████████████████████████████▍                                        | 8787/18828 [00:53<01:03, 158.82it/s]"
     ]
    },
    {
     "name": "stdout",
     "output_type": "stream",
     "text": [
      "8787 :   Rickey Henderson\n",
      "8788 :   David Wells\n",
      "8789 :  Seer Stephenson picks the A.L. East\n",
      "8790 :   Rockies \n",
      "8791 :   Cubs behind Marlins How\n",
      "8792 :   Giants' GM Quinn is a genius\n",
      "8793 :  Best record ever in baseball\n",
      "8794 :   Players Rushed to Majors\n",
      "8795 :  Marlin fans\n",
      "8796 :   Best Homeruns\n",
      "8797 :   FLORIDA SUCKS\n",
      "8798 :  The 1964 Phillies: deja vu\n",
      "8799 :   Notes on Jays vs. Indians Series\n",
      "8800 :  TIGER STADIUM GIF\n",
      "8801 :   The 1964 Phillies: deja vu\n",
      "8802 :   Braves Pitching UpdateDIR\n",
      "8803 :   TIGERS\n",
      "8804 :  Cards Mailing List\n",
      "8805 :   cubs & expos roster questions\n",
      "8806 :   TigersA is\n",
      "8807 :   PHILLIES SIGN MARK DAVIS\n"
     ]
    },
    {
     "name": "stderr",
     "output_type": "stream",
     "text": [
      "\r",
      " 47%|███████████████████████████████████▌                                        | 8808/18828 [00:53<01:00, 164.76it/s]"
     ]
    },
    {
     "name": "stdout",
     "output_type": "stream",
     "text": [
      "8808 :   FLORIDA SUCKS\n",
      "8809 :   Players Rushed to Majors\n",
      "8810 :  Sid Fernandez\n",
      "8811 :   YANKKES 1 GAME CLOSER\n",
      "8812 :  Let it be Known\n",
      "8813 :  MLB Standings and Scores for Thu., Apr. 15th, 1993\n",
      "8814 :   Boog Powell \n",
      "8815 :   NL vs. AL\n",
      "8816 :   ugliest swing\n",
      "8817 :   Aguilera Causes Cardiac Arrest\n",
      "8818 :   Kevin Rogers\n",
      "8819 :  Torre: The worst manager\n",
      "8820 :   Brien Taylor: Where is he\n",
      "8821 :  WFAN\n",
      "8822 :  Orioles Phillies Red Sox\n",
      "8823 :   Pleasant Yankee Surprises\n",
      "8824 :  Old Predictions to laugh at...\n",
      "8825 :  I have found the secret\n",
      "8826 :   Braves Pitching UpdateDIR\n",
      "8827 :   Notes on Jays vs. Indians Series\n",
      "8828 :   Spanky Released\n",
      "8829 :   Players Rushed to Majors\n",
      "8830 :   cubs & expos roster questions\n"
     ]
    },
    {
     "name": "stderr",
     "output_type": "stream",
     "text": [
      "\r",
      " 47%|███████████████████████████████████▋                                        | 8831/18828 [00:53<00:55, 178.93it/s]"
     ]
    },
    {
     "name": "stdout",
     "output_type": "stream",
     "text": [
      "8831 :   cubs & expos roster questions\n",
      "8832 :   Astros Are Back\n",
      "8833 :  DAVE KINGMAN FOR THE HALL OF FAME\n",
      "8834 :   Seeking Moe Berg referenceinfo\n",
      "8835 :  Texas Ranger Ticket Info\n",
      "8836 :   Torre: The worst manager\n",
      "8837 :   DAVE KINGMAN FOR THE HALL OF FAME\n",
      "8838 :   WFAN\n",
      "8839 :   Expanded NL Strike Zone \n",
      "8840 :  Fenway Gif\n",
      "8841 :   Harry Caray\n",
      "8842 :   Old Predictions to laugh at...\n",
      "8843 :   DAVE KINGMAN FOR THE HALL OF FAME\n",
      "8844 :   Players Rushed to Majors\n",
      "8845 :  Phillies Mailing List\n",
      "8846 :   Do people want stats\n",
      "8847 :   White Sox Update\n",
      "8848 :   cubs & expos roster questions\n",
      "8849 :   Seeking Moe Berg referenceinfo\n",
      "8850 :   The 1964 Phillies: deja vu\n",
      "8851 :   '61 Orioles Trivia\n",
      "8852 :  Dumb Fans \n",
      "8853 :   TIGERS\n"
     ]
    },
    {
     "name": "stderr",
     "output_type": "stream",
     "text": [
      "\r",
      " 47%|███████████████████████████████████▋                                        | 8854/18828 [00:53<00:52, 189.13it/s]"
     ]
    },
    {
     "name": "stdout",
     "output_type": "stream",
     "text": [
      "8854 :  Missing subject header\n",
      "8855 :   Dean Palmer Hurt\n",
      "8856 :  Scoring runs. Was  Notes on Jays vs. Indians Series\n",
      "8857 :   Pleasant Yankee Surprises\n",
      "8858 :   Torre: The worst manager\n",
      "8859 :   DAVE KINGMAN FOR THE HALL OF FAME\n",
      "8860 :   The 1964 Phillies: deja vu\n",
      "8861 :   Old Predictions to laugh at...\n",
      "8862 :   Jewish Baseball Players\n",
      "8863 :   I have found the secret  Goalie Mask Update\n",
      "10092 :  AHL Calder Cup Playoff schedule and results\n",
      "10093 :   Bridgman is out\n",
      "10094 :  Goalies\n",
      "10095 :   Stop predicting\n",
      "10096 :   Truly a sad day for hockey\n",
      "10097 :   Goalie Mask Update\n",
      "10098 :   AHL Season in review \n",
      "10099 :  Hot, Cold Streaks \n",
      "10100 :  AHL playoff results \n",
      "10101 :   plus minus stat\n",
      "10102 :   Goalie masks\n",
      "10103 :   Ulf and all...\n",
      "10104 :  NHL RESULTS FOR GAMES PLAYED 41593\n",
      "10105 :   Truly a sad day for hockey\n",
      "10106 :   Thumbs up to ESPN\n"
     ]
    },
    {
     "name": "stderr",
     "output_type": "stream",
     "text": [
      "\r",
      " 54%|████████████████████████████████████████▎                                  | 10107/18828 [01:00<00:50, 171.74it/s]"
     ]
    },
    {
     "name": "stdout",
     "output_type": "stream",
     "text": [
      "10107 :   1993 NHL Draft\n",
      "10108 :   Don Cherry  help me out, here\n",
      "10109 :   ESPN UP YOURS .........\n",
      "10110 :   LIST OF TEE TIMES AT METROPOLITAN TORONTO GOLF COURSES FOR MONDAY\n",
      "10111 :   NHLPA poll \n",
      "10112 :   NHL Team Captains\n",
      "10113 :   If You Were Pat Burns ...\n",
      "10114 :  Bruins  Klingon Connection\n",
      "10115 :   Sabres are playing well...\n",
      "10116 :  Thumbs WAY WAY WAY DOWN to ESPN\n",
      "10117 :  Red Wings Goespel...\n",
      "10118 :   Panther is President\n",
      "10119 :   #77 is\n",
      "10120 :   SHARKS REVIEW Part 5: Left Wings\n",
      "10121 :  They guy who badmouthed Ulf...\n",
      "10122 :  Did you really expect Toronto to go anywhere  REALLY\n",
      "10123 :  ESPN sucks: OT or Baseball  Guess which.\n",
      "10124 :  ESPN, the network with a heart...\n",
      "10125 :   Thumbs WAY WAY WAY DOWN to ESPN\n",
      "10126 :   The guy who badmouthed Ulf...\n"
     ]
    },
    {
     "name": "stderr",
     "output_type": "stream",
     "text": [
      "\r",
      " 54%|████████████████████████████████████████▎                                  | 10127/18828 [01:00<00:49, 176.39it/s]"
     ]
    },
    {
     "name": "stdout",
     "output_type": "stream",
     "text": [
      "10127 :   1993 NHL Draft\n",
      "10128 :  ESPN Thumbs Up your $%#@\n",
      "10129 :   German audience is lunatic\n",
      "10130 :   ESPN UP YOURS .........\n",
      "10131 :   FLYERS:with & without Eric\n",
      "10132 :  WC 93: Scores and standings, April 20\n",
      "10133 :  ABC: The Real Thing\n",
      "10134 :   1993 NHL Draft\n",
      "10135 :   Canada 3 Sweden 1 at the World Champioships\n",
      "10136 :   Goodbye, good riddance, get lost 'Stars\n",
      "10137 :  Trivia:  the Habs\n",
      "10138 :  199293 NHL Regular Season Final Attendance Report\n",
      "10139 :  Kings playoff notes: Stauber, TV ratings, etc.\n",
      "10140 :   Schedule...\n",
      "10141 :   #77 is\n",
      "10142 :   Red Wings Goespel...\n",
      "10143 :  WC 93: Results, April 20\n",
      "10144 :  BUFFALO 4, Boston 0: Defense\n",
      "10145 :   LA ON ABC IN CANADA\n",
      "10146 :   Bay area media \n"
     ]
    },
    {
     "name": "stderr",
     "output_type": "stream",
     "text": [
      "\r",
      " 54%|████████████████████████████████████████▍                                  | 10147/18828 [01:00<00:47, 181.35it/s]"
     ]
    },
    {
     "name": "stdout",
     "output_type": "stream",
     "text": [
      "10147 :   NHL Team Captains\n",
      "10148 :   Wings take game one\n",
      "10149 :   WC 93: Results, April 18\n",
      "10150 :  Hockey & The Hispanic community\n",
      "10151 :  ABC coverage\n",
      "10152 :   Goodbye, good riddance, get lost 'Stars\n",
      "10153 :  Selfish hockey fans..\n",
      "10154 :  Habs Late\n",
      "10155 :  NHL Summary parse results for games played Sun, April 18, 1993\n",
      "10156 :  College Hockey AllStar Roster\n",
      "10157 :   WC 93: Results, April 18\n",
      "10158 :  request for list of Boston Univ. players in NHL\n",
      "10159 :  SHARKS:  Kingston Fired\n",
      "10160 :  DetroitToronto\n",
      "10161 :   Goalie mask poll\n",
      "10162 :  Final season CHL stuff\n",
      "10163 :   Upcoming TV schedule\n",
      "10164 :   WC 93: Results, April 18\n",
      "10165 :   Red Wings Goespel...\n"
     ]
    },
    {
     "name": "stderr",
     "output_type": "stream",
     "text": [
      "\r",
      " 54%|████████████████████████████████████████▍                                  | 10166/18828 [01:00<00:49, 176.46it/s]"
     ]
    },
    {
     "name": "stdout",
     "output_type": "stream",
     "text": [
      "10166 :   NHL Team Captains\n",
      "10167 :   Habs Late\n",
      "10168 :  Bruins\n",
      "10169 :   BUFFALO 4, Boston 0: Defense\n",
      "10170 :  WHL: Playoff Results  041893\n",
      "10171 :  Final Regular Season Individual Goalie Stats\n",
      "10172 :  Final Regular Season Team Goalie Stats\n",
      "10173 :   Don Cherry  help me out, here\n",
      "10174 :   Grant Fuhr leads Sabres\n",
      "10175 :   Radio stations\n",
      "10176 :   #77 is\n",
      "10177 :   LET'S GO BUFFALO\n",
      "10178 :  Pwter Forsberg\n",
      "10179 :  Trivia question\n",
      "10180 :   Buffalo Sabres\n",
      "10181 :   Trivia question\n",
      "10182 :   Octopus in Detroit\n",
      "10183 :   LET'S GO BUFFALO\n",
      "10184 :  Stats\n",
      "10185 :  More TV Info\n",
      "10186 :  ESPN\n",
      "10187 :   Leafs Crushed Again; Blues Win; Flames Back.\n"
     ]
    },
    {
     "name": "stderr",
     "output_type": "stream",
     "text": [
      "\r",
      " 54%|████████████████████████████████████████▌                                  | 10188/18828 [01:00<00:46, 185.97it/s]"
     ]
    },
    {
     "name": "stdout",
     "output_type": "stream",
     "text": [
      "10188 :  Octopus in Detroit\n",
      "10189 :   Flyers \n",
      "10190 :   Goalie masks\n",
      "10191 :   Pens Info needed\n",
      "10192 :   Octopus in Detroit\n",
      "10193 :   TV Schedule for Next Week\n",
      "10194 :  RUMOUR  Keenan signs with Rangers\n",
      "10195 :   plus minus stat\n",
      "10196 :   Hockey and the Hispanic community\n",
      "10197 :   Octopus in Detroit\n",
      "10198 :   RUMOUR  Keenan signs with Rangers\n",
      "10199 :  Blackhawks win \n",
      "10200 :   Octopus in Detroit\n",
      "10201 :   Blackhawks win\n",
      "10202 :   plus minus stat\n",
      "10203 :   President Trophy winner missing playoffs \n",
      "10204 :   Octopus in Detroit\n",
      "10205 :  Keenan signs with the Rangers\n",
      "10206 :  AHL final standings\n"
     ]
    },
    {
     "name": "stderr",
     "output_type": "stream",
     "text": [
      "\r",
      " 54%|████████████████████████████████████████▋                                  | 10207/18828 [01:01<00:49, 174.40it/s]"
     ]
    },
    {
     "name": "stdout",
     "output_type": "stream",
     "text": [
      "10207 :  Devils and Islanders tiebreaker\n",
      "10208 :  NHL team in Milwaukee\n",
      "10209 :   How to beat Pittsburgh\n",
      "10210 :   RUMOUR  Keenan signs with Rangers\n",
      "10211 :   Patrick Playoffs Look Like This\n",
      "10212 :   FinlandSweden vs.NHL teams \n",
      "10213 :  ESPN2  Tell us about it \n",
      "10214 :   Trivia question\n",
      "10215 :  SabresBruins notes\n",
      "10216 :   Montreal versue Quebec\n",
      "10217 :   SHARKS: Jack Feirerra \n",
      "10218 :   Leafs v.s. Wings\n",
      "10219 :   POTVIN & HIS STICK\n",
      "10220 :   Buffalo Sabres\n",
      "10221 :   BUFFALO 4, Boston 0: Defense\n",
      "10222 :   Hockey guest spots...\n",
      "10223 :   WJR in Boston\n",
      "10224 :  Sabre fans \n",
      "10225 :   Wings News and Playoff Thoughts\n",
      "10226 :   Hockey guest spots...\n",
      "10227 :   Montreal versue Quebec\n"
     ]
    },
    {
     "name": "stderr",
     "output_type": "stream",
     "text": [
      "\r",
      " 54%|████████████████████████████████████████▋                                  | 10228/18828 [01:01<00:46, 182.99it/s]"
     ]
    },
    {
     "name": "stdout",
     "output_type": "stream",
     "text": [
      "10228 :  Bowman needs credit\n",
      "10229 :  Where is Roger\n",
      "10230 :  NHL PLAYOFF RESULTS FOR GAMES PLAYED 42293\n",
      "10231 :   POTVIN and HIS STICK\n",
      "10232 :   Trivia question\n",
      "10233 :  Oilers for sale\n",
      "10234 :   Trivia question\n",
      "10235 :  WAYTOGOFERRARO\n",
      "10236 :   Wings will win\n",
      "10237 :   HABS WIN, HABS WIN\n",
      "10238 :   Bowman needs credit\n",
      "10239 :   Where are all the Bruins fans\n",
      "10240 :   Leafs Crushed Again; Blues Win; Flames Back.\n",
      "10241 :   ESPN2  Tell us about it\n",
      "10242 :   Pens fans reactions\n",
      "10243 :   Lemieux is Getting the Hart... Jeez I hope not\n",
      "10244 :   Oilers for sale\n",
      "10245 :   NHL ALLTIME SCORING LEADERS\n",
      "10246 :   ESPN\n"
     ]
    },
    {
     "name": "stderr",
     "output_type": "stream",
     "text": [
      "\r",
      " 54%|████████████████████████████████████████▊                                  | 10247/18828 [01:01<00:50, 170.26it/s]"
     ]
    },
    {
     "name": "stdout",
     "output_type": "stream",
     "text": [
      "10247 :   Wings News and Playoff Thoughts\n",
      "10248 :   SabresBruins\n",
      "10249 :   Trivia question\n",
      "10250 :   Wings will win\n",
      "10251 :  Sports broadcasting on FM\n",
      "10252 :  TV Coverage  NHL to blame\n",
      "10253 :   div. and conf. names\n",
      "10254 :  Bleep Bruins lose 43 in O.T.\n",
      "10255 :   Oilers for sale\n",
      "10256 :   SHARKS: Kingston Fired\n",
      "10257 :   BUFFALO 4, Boston 0: Defense\n",
      "10258 :   Where are all the Bruins fans\n",
      "10259 :   ESPN\n",
      "10260 :  Ghost from Sweeney is past\n",
      "10261 :   Don CherryNew Pens Annoucer\n",
      "10262 :   Goalie masks\n",
      "10263 :   Trivia question\n",
      "10264 :   Hockey guest spots...\n",
      "10265 :   Where is Roger\n",
      "10266 :  RE: Don Cherry  Color Man for Pens Next year\n",
      "10267 :   Trivia question\n"
     ]
    },
    {
     "name": "stderr",
     "output_type": "stream",
     "text": [
      "\r",
      " 55%|████████████████████████████████████████▉                                  | 10268/18828 [01:01<00:47, 179.06it/s]"
     ]
    },
    {
     "name": "stdout",
     "output_type": "stream",
     "text": [
      "10268 :  Ulf crushes Valeri Zelepukin\n",
      "10269 :   ESPN is  coverage\n",
      "10270 :   POTVIN and HIS STICK\n",
      "10271 :  Where is the knowledgeable observer\n",
      "10272 :   Pens fans reactions\n",
      "10273 :   Bowman needs credit\n",
      "10274 :  Stats\n",
      "10275 :   Trivia question\n",
      "10276 :   Goalie mask poll update 42293\n",
      "10277 :  Hockey Equip. Recommendations\n",
      "10278 :   ESPN is  coverage\n",
      "10279 :   SHARKS:  Kingston Fired\n",
      "10280 :   Hockey guest spots...\n",
      "10281 :   Lemieux is Getting the Hart... Jeez I hope not\n",
      "10282 :   Ranger Fans\n",
      "10283 :   ESPN\n",
      "10284 :   Devils and Islanders tiebreaker\n",
      "10285 :   Octopus in Detroit\n",
      "10286 :   Devils and Islanders tiebreaker\n"
     ]
    },
    {
     "name": "stderr",
     "output_type": "stream",
     "text": [
      "\r",
      " 55%|████████████████████████████████████████▉                                  | 10287/18828 [01:01<00:50, 168.92it/s]"
     ]
    },
    {
     "name": "stdout",
     "output_type": "stream",
     "text": [
      "10287 :   plus minus stat\n",
      "10288 :   POTVIN and HIS STICK\n",
      "10289 :   Hockey guest spots...\n",
      "10290 :   Trivia question\n",
      "10291 :   Where is Roger\n",
      "10292 :   TV Coverage  NHL to blame\n",
      "10293 :   Ranger Fans\n",
      "10294 :   TV Coverage  NHL to blame\n",
      "10295 :   Where is the knowledgeable observer\n",
      "10296 :   Ulf and all...\n",
      "10297 :  Oiler is rumour  Team moving Press conference next week\n",
      "10298 :  NHL Summary parse results for games played Tue, April 20, 1993\n",
      "10299 :   WC 93: Results, April 20\n",
      "10300 :   ABC coverage\n",
      "10301 :   WC 93: Results, April 18\n",
      "10302 :  German audience is lunatic\n",
      "10303 :  A few words of advice to the Stars Hater....\n",
      "10304 :  Bruins\n",
      "10305 :  LET'S GO BUFFALO\n",
      "10306 :  RE: ESPN UP YOURS .........\n",
      "10307 :   #77 is\n",
      "10308 :   Wirtz is a weenie\n"
     ]
    },
    {
     "name": "stderr",
     "output_type": "stream",
     "text": [
      "\r",
      " 55%|█████████████████████████████████████████                                  | 10309/18828 [01:01<00:47, 180.55it/s]"
     ]
    },
    {
     "name": "stdout",
     "output_type": "stream",
     "text": [
      "10309 :  Don Cherry  help me out, here\n",
      "10310 :   ABC coverage\n",
      "10311 :   ESPN UP YOURS .........\n",
      "10312 :  Info  world hockey championships\n",
      "10313 :   ABC coverage\n",
      "10314 :   ESPN sucks: OT or Baseball  Guess which.\n",
      "10315 :   Trivia:  the Habs\n",
      "10316 :   Schedule...\n",
      "10317 :   Red Wings Goespel...\n",
      "10318 :   Wings will win\n",
      "10319 :  Bruins\n",
      "10320 :  Bruins\n",
      "10321 :  HABS WIN, HABS WIN\n",
      "10322 :  Hockeytipset 93 avgjort\n",
      "10323 :  New Div. 1 NCAA teams\n",
      "10324 :   BUFFALO 4, Boston 0: Defense\n",
      "10325 :   Bruins\n",
      "10326 :   SHARKS: Jack Feirerra \n",
      "10327 :   Don Cherry  help me out, here\n"
     ]
    },
    {
     "name": "stderr",
     "output_type": "stream",
     "text": [
      "\r",
      " 55%|█████████████████████████████████████████▏                                 | 10328/18828 [01:01<00:50, 169.27it/s]"
     ]
    },
    {
     "name": "stdout",
     "output_type": "stream",
     "text": [
      "10328 :   Oilers for sale\n",
      "10329 :  Atlanta is ABC affiliate SUCKS\n",
      "10330 :   Trivia question\n",
      "10331 :  Atlanta sportsbars\n",
      "10332 :   Don Cherry  help me out, here\n",
      "10333 :   Bowman needs credit\n",
      "10334 :   Nords 3  Habs 2 in O.T. We was robbed\n",
      "10335 :   Buffalo Sabres\n",
      "10336 :   Ulf and all...\n",
      "10337 :   Ulf crushes Valeri Zelepukin\n",
      "10338 :   TV Coverage  NHL to blame\n",
      "10339 :   WashIsl OT game\n",
      "10340 :   Trivia question\n",
      "10341 :  Bernie Nicholls  What a man\n",
      "10342 :   Truly a sad day for hockey\n",
      "10343 :   ESPN2  Tell us about it\n",
      "10344 :   LIST OF TEE TIMES AT METROPOLITAN TORONTO GOLF COURSES FOR MONDAY\n",
      "10345 :  ESPN cares less about hockey\n",
      "10346 :  stats for hockey pool\n",
      "10347 :   NHL Team Captains\n",
      "10348 :  Montreal Canadiens\n",
      "10349 :  WJR in Boston\n"
     ]
    },
    {
     "name": "stderr",
     "output_type": "stream",
     "text": [
      "\r",
      " 55%|█████████████████████████████████████████▏                                 | 10350/18828 [01:01<00:46, 180.52it/s]"
     ]
    },
    {
     "name": "stdout",
     "output_type": "stream",
     "text": [
      "10350 :   ESPN sucks: OT or Baseball  Guess which.\n",
      "10351 :   Goodbye, good riddance, get lost 'Stars\n",
      "10352 :   NHLPA poll \n",
      "10353 :  Detroit Playoff Tradition\n",
      "10354 :   Peter Forsberg\n",
      "10355 :   Octopus in Detroit\n",
      "10356 :  NHL PLAYOFFS RESULTS FOR GAMES PLAYED 42093\n",
      "10357 :   ESPN cares less about hockey\n",
      "10358 :   SHARKS: Kingston Fired\n",
      "10359 :   Areacode for Edmonton, Alberta, CANADA...\n",
      "10360 :  Buffalo Sabres\n",
      "10361 :   If You Were Pat Burns ...\n",
      "10362 :  Grant Fuhr leads Sabres\n",
      "10363 :  Roger Maynard\n",
      "10364 :   Goodbye, good riddance, get lost 'Stars\n",
      "10365 :   Don Cherry  help me out, here\n",
      "10366 :   Areacode for Edmonton, Alberta, CANADA...\n",
      "10367 :  CBC: Canadian for ESPN.\n",
      "10368 :  JetsCanucks  Jets hold on, win 54\n"
     ]
    },
    {
     "name": "stderr",
     "output_type": "stream",
     "text": [
      "\r",
      " 55%|█████████████████████████████████████████▎                                 | 10369/18828 [01:02<00:50, 168.99it/s]"
     ]
    },
    {
     "name": "stdout",
     "output_type": "stream",
     "text": [
      "10369 :   Devils and Islanders tiebreaker\n",
      "10370 :   SHARKS: Jack Feirerra \n",
      "10371 :   Don Cherry  help me out, here\n",
      "10372 :  Goalie mask poll update 42193\n",
      "10373 :   NHL Team Captains \n",
      "10374 :  ESPN really sucks big time\n",
      "10375 :   FinlandSweden vs.NHL teams \n",
      "10376 :   RUMOUR  Keenan signs with Rangers\n",
      "10377 :   Goodbye, good riddance, get lost 'Stars\n",
      "10378 :   Don Cherry  help me out, here\n",
      "10379 :  USENET Hockey Draft Final Standings\n",
      "10380 :  USENET Hockey Draft final point totals\n",
      "10381 :   German audience is lunatic\n",
      "10382 :   BUFFALO 4, Boston 0: Defense\n",
      "10383 :   Final Regular Season Individual Goalie Stats\n",
      "10384 :  Canucks score\n",
      "10385 :  Camera work on televised games\n",
      "10386 :   SHARKS REVIEW Part 5: Left Wings\n",
      "10387 :   1993 NHL Draft\n",
      "10388 :  ESPN fck up\n",
      "10389 :   plus minus stat\n",
      "10390 :   Detroit Playoff Tradition\n"
     ]
    },
    {
     "name": "stderr",
     "output_type": "stream",
     "text": [
      "\r",
      " 55%|█████████████████████████████████████████▍                                 | 10391/18828 [01:02<00:46, 180.28it/s]"
     ]
    },
    {
     "name": "stdout",
     "output_type": "stream",
     "text": [
      "10391 :   Goalie Mask Update\n",
      "10392 :  STOP MAYNARD BASHING \n",
      "10393 :   Flames Question\n",
      "10394 :   TV Schedule for Next Week\n",
      "10395 :   BruinsPens: the UlfNeeley fight\n",
      "10396 :  CUT Vukota and Pilon\n",
      "10397 :   Goalie mask poll\n",
      "10398 :   Ulf and all...\n",
      "10399 :   STOP MAYNARD BASHING \n",
      "10400 :   Bruins vs Canadiens:\n",
      "10401 :   plus minus stat\n",
      "10402 :   plus minus stat\n",
      "10403 :  RANGERS ARE AN EMBARRASSMENT\n",
      "10404 :   Oilers for sale\n",
      "10405 :   Ulf crushes Valeri Zelepukin\n",
      "10406 :  NHL PLAYOFF RESULTS FOR GAMES PLAYED 23 APRIL 1993\n",
      "10407 :   Thumbs up to ESPN\n",
      "10408 :  NHL Playoff leaders with + & Penalty mins as of April 22, 1993\n",
      "10409 :   SHARKS: Jack Feirerra \n"
     ]
    },
    {
     "name": "stderr",
     "output_type": "stream",
     "text": [
      "\r",
      " 55%|█████████████████████████████████████████▍                                 | 10410/18828 [01:02<00:49, 170.28it/s]"
     ]
    },
    {
     "name": "stdout",
     "output_type": "stream",
     "text": [
      "10410 :  Blues shutout Hawks again, lead series 30\n",
      "10411 :   ESPN2  Tell us about it\n",
      "10412 :  FLYERS notes 416\n",
      "10413 :   Ulf and all...\n",
      "10414 :   Goodbye, good riddance, get lost 'Stars\n",
      "10415 :   Goalie Mask Update\n",
      "10416 :  SHARKS REVIEW Part 3: Defensemen \n",
      "10417 :  Dear Montana    Hockey Pool\n",
      "10418 :   NHL Team Captains\n",
      "10419 :   ESPN2  Tell us about it\n",
      "10420 :  Leafs Revenge\n",
      "10421 :   NHL PLAYOFF RESULTS FOR GAMES PLAYED 23 APRIL 1993\n",
      "10422 :  College hockey allstar game roster\n",
      "10423 :  AHL Playoff results, ThursFri\n",
      "10424 :   Oiler is rumour  Team moving Press conference next week\n",
      "10425 :  Calder Cup schedule\n",
      "10426 :   POTVIN and HIS STICK\n",
      "10427 :  They're real and they're spectacular\n",
      "10428 :   Stan Fischler, 422\n",
      "10429 :  Don is nickname grapes \n",
      "10430 :  Stan Fischler, 416 \n"
     ]
    },
    {
     "name": "stderr",
     "output_type": "stream",
     "text": [
      "\r",
      " 55%|█████████████████████████████████████████▌                                 | 10431/18828 [01:02<00:46, 179.65it/s]"
     ]
    },
    {
     "name": "stdout",
     "output_type": "stream",
     "text": [
      "10431 :  Playoff pool rule revision\n",
      "10432 :  Leafs win \n",
      "10433 :  AHL Leafs Back Home\n",
      "10434 :  Interview guests\n",
      "10435 :  SabresBruins\n",
      "10436 :   BUFFALO 4, Boston 0: Defense\n",
      "10437 :  Upcoming TV schedule\n",
      "10438 :  Some Playoffs Thoughts\n",
      "10439 :   1993 NHL Draft\n",
      "10440 :   ESPN\n",
      "10441 :   Keenan signs with the Rangers\n",
      "10442 :   Devils and Islanders tiebreaker\n",
      "10443 :   Hockey Cards For Sale\n",
      "10444 :   ESPN cares less about hockey\n",
      "10445 :  What is up in Rochester\n",
      "10446 :   Grant Fuhr leads Sabres\n",
      "10447 :   Radio stations\n",
      "10448 :   ESPN Thumbs Up your $%#@\n",
      "10449 :   If You Were Pat Burns ...\n"
     ]
    },
    {
     "name": "stderr",
     "output_type": "stream",
     "text": [
      "\r",
      " 56%|█████████████████████████████████████████▋                                 | 10450/18828 [01:02<00:49, 169.77it/s]"
     ]
    },
    {
     "name": "stdout",
     "output_type": "stream",
     "text": [
      "10450 :   ESPN fck up\n",
      "10451 :  Don Cherry  Coach is Corner summary  April 21, 1993\n",
      "10452 :  Don Cherry  Coach is Corner summary  April 23, 1993\n",
      "10453 :   ESPN\n",
      "10454 :   SHARKS: Kingston Fired\n",
      "10455 :  NHL Draft\n",
      "10456 :  goalie stats\n",
      "10457 :  ESPN bashing\n",
      "10458 :   Schedule...\n",
      "10459 :   Ulf and all...\n",
      "10460 :   Ulf and all...\n",
      "10461 :   Selfish hockey fans..\n",
      "10462 :   Ulf and all...\n",
      "10463 :   ESPN Thumbs Up your $%#@\n",
      "10464 :   USENET Hockey Draft Final Standings\n",
      "10465 :    Octopus\n",
      "10466 :  Pilon BITES\n",
      "10467 :  TEAM POOL STANDINGS\n",
      "10468 :  HABS TIE SERIES AT 2 \n",
      "10469 :   JetsCanucks  Jets hold on, win 54\n",
      "10470 :  Sabres Sweep.\n"
     ]
    },
    {
     "name": "stderr",
     "output_type": "stream",
     "text": [
      "\r",
      " 56%|█████████████████████████████████████████▋                                 | 10471/18828 [01:02<00:46, 179.78it/s]"
     ]
    },
    {
     "name": "stdout",
     "output_type": "stream",
     "text": [
      "10471 :  And you think ESPN shafted you\n",
      "10472 :  Pierre Turgeon a stud\n",
      "10473 :  Great comeback for Sabres, despit changing goalie \n",
      "10474 :   Ranger Fans\n",
      "10475 :   Where are all the Bruins fans\n",
      "10476 :   ESPN UP YOURS .........\n",
      "10477 :   Radio stations\n",
      "10478 :   #77 is\n",
      "10479 :   ESPN broadcastsssss\n",
      "10480 :   Hey, What about teh C\n",
      "10481 :   Test...Please ignore\n",
      "10482 :   ESPN really sucks big time\n",
      "10483 :   SHARKS REVIEW Part 5: Left Wings\n",
      "10484 :  Islanders win Third in OT\n",
      "10485 :  WCFinland\n",
      "10486 :   WCFinland\n",
      "10487 :  Kings regular season scheduleresults\n",
      "10488 :  Possible Canadian WC Team\n",
      "10489 :   Stan Fischler, 424\n"
     ]
    },
    {
     "name": "stderr",
     "output_type": "stream",
     "text": [
      "\r",
      " 56%|█████████████████████████████████████████▊                                 | 10490/18828 [01:02<00:49, 168.22it/s]"
     ]
    },
    {
     "name": "stdout",
     "output_type": "stream",
     "text": [
      "10490 :  AHL Playoff results\n",
      "10491 :  NC CapsIsles Fans\n",
      "10492 :  Pens fans reactions\n",
      "10493 :  USENET Playoff Pool game 2 standings\n",
      "10494 :  Goalie mask poll update 42293\n",
      "10495 :  WC 93: Scores and standings, April 25\n",
      "10496 :   Lemieux is Getting the Hart... Jeez I hope not\n",
      "10497 :  PLAYOFFS STATS through Sunday 425\n",
      "10498 :  Minnesota Shame\n",
      "10499 :  BLUES: Playoff stats through first round\n",
      "10500 :  WC 93: Results, April 25\n",
      "10501 :  NHL PLAYOFF RESULTS FOR GAMES PLAYED 42193\n",
      "10502 :  questiongoalie is equipment\n",
      "10503 :   KINGS EVEN SERIES AT 2. STAUER SHINES\n",
      "10504 :   Ettans nya indelning\n",
      "10505 :   NHL LETTER \n",
      "10506 :   NHL LETTER & Roger is Response\n",
      "10507 :   Wings; Ogrodnick\n",
      "10508 :   SHARKS REVIEW Part 5: Left Wings\n",
      "10509 :   Don Cherry  help me out, here\n",
      "10510 :  Makarov\n",
      "10511 :  More Hart trophy stuff....\n"
     ]
    },
    {
     "name": "stderr",
     "output_type": "stream",
     "text": [
      "\r",
      " 56%|█████████████████████████████████████████▊                                 | 10512/18828 [01:02<00:46, 178.40it/s]"
     ]
    },
    {
     "name": "stdout",
     "output_type": "stream",
     "text": [
      "10512 :   Ranger Fans\n",
      "10513 :   SHARKS REVIEW Part 7: the Trades\n",
      "10514 :   And you think ESPN shafted you\n",
      "10515 :   ESPN fck up\n",
      "10516 :   ESPN\n",
      "10517 :   Habs Late\n",
      "10518 :   LET'S GO BUFFALO\n",
      "10519 :   BUFFALO 4, Boston 0: Defense\n",
      "10520 :   Pens fans reactions\n",
      "10521 :   Flames Final: Kings Destroyed\n",
      "10522 :  SHARKS: Jack Feirerra \n",
      "10523 :   Lemieux is Getting the Hart... Jeez I hope not\n",
      "10524 :   #77 is\n",
      "10525 :   Pens fans reactions\n",
      "10526 :  NHL ALLTIME SCORING LEADERS\n",
      "10527 :  Now if ESPN wanted to show a good game...\n",
      "10528 :   1993 NHL Draft\n",
      "10529 :   SHARKS: Kingston Fired\n",
      "10530 :   Bruins\n"
     ]
    },
    {
     "name": "stderr",
     "output_type": "stream",
     "text": [
      "\r",
      " 56%|█████████████████████████████████████████▉                                 | 10531/18828 [01:02<00:49, 168.30it/s]"
     ]
    },
    {
     "name": "stdout",
     "output_type": "stream",
     "text": [
      "10531 :   Camera work on televised games\n",
      "10532 :   Joseph and Blues Shut down WartHAwks Blues up 20\n",
      "10533 :  Playoff consecutive loss record\n",
      "10534 :   Lemieux is Getting the Hart... Jeez I hope not\n",
      "10535 :  Belfour and Roenick, playoff Houdinis\n",
      "10536 :   Ranger Fans\n",
      "10537 :  Binghampton Rangers Playoff Games\n",
      "10538 :   Pens Broadcasters\n",
      "10539 :   BUFFALO 4, Boston 0: Defense\n",
      "10540 :   Oilers for sale\n",
      "10541 :   Leafs now favoured\n",
      "10542 :   Pens Info needed\n",
      "10543 :   Devils and Islanders tiebreaker\n",
      "10544 :   Goodbye, good riddance, get lost 'Stars\n",
      "10545 :   Bernie Nicholls  What a man\n",
      "10546 :   Hawks\n",
      "10547 :  Fuhr Deserves Credit \n",
      "10548 :   Minnesota Shame\n",
      "10549 :   NHL LETTER \n",
      "10550 :  AHL playoff results \n",
      "10551 :  Calder Cup Playoff schedule\n",
      "10552 :  WC 93: Scores and standings, April 22\n"
     ]
    },
    {
     "name": "stderr",
     "output_type": "stream",
     "text": [
      "\r",
      " 56%|██████████████████████████████████████████                                 | 10553/18828 [01:03<00:46, 178.64it/s]"
     ]
    },
    {
     "name": "stdout",
     "output_type": "stream",
     "text": [
      "10553 :  WC 93: Results, April 22\n",
      "10554 :   If Oilers go to Hamilton\n",
      "10555 :   Minnesota Shame\n",
      "10556 :   Winnipeg vs. Vancouver\n",
      "10557 :  Caps postseason fortunes\n",
      "10558 :  FAQ for this group\n",
      "10559 :   Leafs vs Wings\n",
      "10560 :   Leafs vs Wings\n",
      "10561 :  switzerland at WC93\n",
      "10562 :   CBC: Canadian for ESPN.\n",
      "10563 :   Stewart homered the Wings\n",
      "10564 :  Canada 50 after preliminary round at World Champioships\n",
      "10565 :  Leafs: What happened\n",
      "10566 :   Caps moving \n",
      "10567 :  1992  1993 FINAL NHL PLAYER STATS\n",
      "10568 :  FinlandNorway in WC\n",
      "10569 :   NHL LETTER \n",
      "10570 :   Pens fans reactions\n",
      "10571 :  Flames Final Stats and Playoff News\n"
     ]
    },
    {
     "name": "stderr",
     "output_type": "stream",
     "text": [
      "\r",
      " 56%|██████████████████████████████████████████                                 | 10572/18828 [01:03<00:48, 170.70it/s]"
     ]
    },
    {
     "name": "stdout",
     "output_type": "stream",
     "text": [
      "10572 :   Oiler is rumour  Team moving Press conference next week\n",
      "10573 :  Another travesty at the Joe Louis\n",
      "10574 :   Nords 3  Habs 2 in O.T. We was robbed\n",
      "10575 :   WC 93: Results, April 18\n",
      "10576 :   NHL Team Captains\n",
      "10577 :   NHL LETTER & Roger is Response\n",
      "10578 :   Where is Roger\n",
      "10579 :   NHL LETTER & Roger is Response\n",
      "10580 :   Why Blues Pulverized Chicago WeenieHawks\n",
      "10581 :   Caps postseason fortunes\n",
      "10582 :   Winnipeg vs. Vancouver\n",
      "10583 :   Maybe next year Hawks\n",
      "10584 :  Regular season 9394 pool\n",
      "10585 :   Leafs: What happened\n",
      "10586 :   More Hart trophy stuff....\n",
      "10587 :   Blues sweep Hawks\n",
      "10588 :  TEAM POOL  Standings\n",
      "10589 :   WCFinland\n",
      "10590 :   Wings News and Playoff Thoughts\n",
      "10591 :  hawks lose \n",
      "10592 :  Montreal versue Quebec\n"
     ]
    },
    {
     "name": "stderr",
     "output_type": "stream",
     "text": [
      "\r",
      " 56%|██████████████████████████████████████████▏                                | 10593/18828 [01:03<00:45, 180.14it/s]"
     ]
    },
    {
     "name": "stdout",
     "output_type": "stream",
     "text": [
      "10593 :   Where are all the Bruins fans\n",
      "10594 :  USENET Hockey Draft winning team \n",
      "10595 :   BLUES SWEEP BLACKHAWKS\n",
      "10596 :   Caps postseason fortunes\n",
      "10597 :   Where are all the Bruins fans\n",
      "10598 :  Buffalo Sabres\n",
      "10599 :   CBC: Canadian for ESPN.\n",
      "10600 :  Real FAns\n",
      "10601 :   Winnipeg vs. Vancouver\n",
      "10602 :   NHL letter\n",
      "10603 :   Winnipeg vs. Vancouver\n",
      "10604 :   The Amazin' Isles\n",
      "10605 :   Don CherryNew Pens Annoucer\n",
      "10606 :   Wings will win\n",
      "10607 :   If Oilers go to Hamilton\n",
      "10608 :  Senators sign top draft picks\n",
      "10609 :   Stewart homered the Wings\n",
      "10610 :   Don CherryNew Pens Annoucer\n",
      "10611 :   NHL LETTER \n"
     ]
    },
    {
     "name": "stderr",
     "output_type": "stream",
     "text": [
      "\r",
      " 56%|██████████████████████████████████████████▎                                | 10612/18828 [01:03<00:48, 169.98it/s]"
     ]
    },
    {
     "name": "stdout",
     "output_type": "stream",
     "text": [
      "10612 :   NHL LETTER \n",
      "10613 :  Minnesota Shame\n",
      "10614 :  Springfield IndiansAHL office\n",
      "10615 :  WashIsl OT game\n",
      "10616 :  WC, pool A\n",
      "10617 :   NHL LETTER \n",
      "10618 :   switzerland at WC93\n",
      "10619 :   Caps moving \n",
      "10620 :   BUFFALO 4, Boston 0: Defense\n",
      "10621 :  RE: Regular season 9394 pool\n",
      "10622 :   Another travesty at the Joe Louis\n",
      "10623 :   Wings News and Playoff Thoughts\n",
      "10624 :   Wings News and Playoff Thoughts\n",
      "10625 :   Hey, What about teh Cannucks\n",
      "10626 :  Canucks 32 over Winnipeg\n",
      "10627 :   NHL LETTER \n",
      "10628 :  WC: Scores and standings, April 18\n",
      "10629 :  RIPEM Frequently Asked Questions\n",
      "10630 :  RIPEM Frequently Asked Questions\n",
      "10631 :  RIPEM Frequently Noted Vulnerabilities\n",
      "10632 :  Certifying Authority question answered.\n",
      "10633 :  Rubberhose cryptanalysis\n"
     ]
    },
    {
     "name": "stderr",
     "output_type": "stream",
     "text": [
      "\r",
      " 56%|██████████████████████████████████████████▎                                | 10634/18828 [01:03<00:45, 181.79it/s]"
     ]
    },
    {
     "name": "stdout",
     "output_type": "stream",
     "text": [
      "10634 :  Declassifying media\n",
      "10635 :   Hard drive security for FBI targets\n",
      "10636 :   disk safety measure\n",
      "10637 :   PGP 2.2: general comments\n",
      "10638 :  Licensing.....\n",
      "10639 :   Licensing of public key implementations\n",
      "10640 :   Identifying  Securing Files\n",
      "10641 :  LGA ncrypt source\n",
      "10642 :   Illegal Wiretaps \n",
      "10643 :   Licensing of public key implementations\n",
      "10644 :   opinions of RC2 alg.\n",
      "10645 :   disk safety measure\n",
      "10646 :  Licensing...\n",
      "10647 :   looking for oneway  algorithms\n",
      "10648 :   Hard drive security for FBI targets\n",
      "10649 :   Hard drive security for FBI targets\n",
      "10650 :   Hard drive security for FBI targets\n",
      "10651 :   Hard drive security\n",
      "10652 :   Licensing of public key implementations\n"
     ]
    },
    {
     "name": "stderr",
     "output_type": "stream",
     "text": [
      "\r",
      " 57%|██████████████████████████████████████████▍                                | 10653/18828 [01:03<00:47, 171.47it/s]"
     ]
    },
    {
     "name": "stdout",
     "output_type": "stream",
     "text": [
      "10653 :   Hard drive security for FBI targets\n",
      "10654 :   Source of random bits on a Unix workstation\n",
      "10655 :   Source of random bits on a Unix workstation\n",
      "10656 :   Fifth Amendment and Passwords\n",
      "10657 :  What is going on...\n",
      "10658 :   Hard drive security for FBI targets\n",
      "10659 :  SOURCE to Mactinosh PGP 2.2 in C available \n",
      "10660 :   Fifth Amendment and Passwords\n",
      "10661 :   Pgp, PEM, and RFC is \n",
      "10662 :  Privacy & Anonymity on the Internet FAQ \n",
      "10663 :  Privacy & Anonymity on the Internet FAQ \n",
      "10664 :  Privacy & Anonymity on the Internet FAQ \n",
      "10665 :   Pgp, PEM, and RFC is \n",
      "10666 :   Fifth Amendment and Passwords\n",
      "10667 :  ISOC Symposium on Net Security\n",
      "10668 :   PEM and MIME\n",
      "10669 :  text of White House announcement and Q&As on clipper chip encryption\n",
      "10670 :   Keeping Your Mouth Shut \n",
      "10671 :   text of White House announcement and Q&As on clipper chip encryption\n",
      "10672 :   text of White House announcement and Q&As on clipper chip encryption\n",
      "10673 :  compress | crypt foo | des e k foo\n",
      "10674 :  Clipper Chip and crypto keyescrow\n",
      "10675 :  Secret algorithm \n",
      "10676 :   Fifth Amendment and Passwords\n"
     ]
    },
    {
     "name": "stderr",
     "output_type": "stream",
     "text": [
      "\r",
      " 57%|██████████████████████████████████████████▌                                | 10677/18828 [01:03<00:43, 185.90it/s]"
     ]
    },
    {
     "name": "stdout",
     "output_type": "stream",
     "text": [
      "10677 :   text of White House announcement and Q&As on clipper chip encryption\n",
      "10678 :   text of White House announcement and Q&As on clipper chip encryption\n",
      "10679 :  The battle is joined\n",
      "10680 :   MacPGP 2.2 Source Problems\n",
      "10681 :  Reinventing Crypto Policy  An EFF Statement\n",
      "10682 :   text of White House announcement and Q&As on clipper chip encryption\n",
      "10683 :   Shortest Path Algorithm  Status\n",
      "10684 :   Pgp, PEM, and RFC is \n",
      "10685 :  White House Public Encryption Management Fact Sheet\n",
      "10686 :   Initial EFF Analysis of Clinton Privacy and Security Proposal\n",
      "10687 :   Clipper Crypto\n",
      "10688 :   Secret algorithm \n",
      "10689 :   Reinventing Crypto Policy  An EFF Statement\n",
      "10690 :  How to detect use of an illegal cipher\n",
      "10691 :   Another data hiding scheme... \n",
      "10692 :   text of White House announcement and Q&As on clipper chip encryption\n",
      "10693 :   Pgp, PEM, and RFC is \n",
      "10694 :   Reinventing Crypto Policy  An EFF Statement\n",
      "10695 :   Keeping Your Mouth Shut \n",
      "10696 :  The Old Key Registration Idea...\n"
     ]
    },
    {
     "name": "stderr",
     "output_type": "stream",
     "text": [
      "\r",
      " 57%|██████████████████████████████████████████▌                                | 10697/18828 [01:03<00:47, 171.97it/s]"
     ]
    },
    {
     "name": "stdout",
     "output_type": "stream",
     "text": [
      "10697 :   White House Public Encryption Management Fact Sheet\n",
      "10698 :   How to detect use of an illegal cipher\n",
      "10699 :  More Clipper Stuff\n",
      "10700 :   White House Public Encryption Management Fact Sheet\n",
      "10701 :  re: text of White House announcement and Q&As on clipper chip encryption\n",
      "10702 :   Reinventing Crypto Policy  An EFF Statement\n",
      "10703 :  text of White House announcement and Q&As on clipper chip encryption \n",
      "10704 :  How do they know what keys to ask for  \n",
      "10705 :   text of White House announcement and Q&As on clipper chip encryption\n",
      "10706 :   Illegal Wiretaps (was\n",
      "10707 :  An Open Letter to Mr. Clinton\n",
      "10708 :  Clipper an Infringement on Intergraph is Name\n",
      "10709 :   Patents \n",
      "10710 :   The Old Key Registration Idea...\n",
      "10711 :   How to detect use of an illegal cipher\n",
      "10712 :   Pgp, PEM, and RFC is \n",
      "10713 :   text of White House announcement and Q&As on clipper chip encryption\n",
      "10714 :   text of White House announcement and Q&As on clipper chip encryption\n",
      "10715 :   Secret algorithm \n",
      "10716 :   White House Public Encryption Management Fact Sheet\n",
      "10717 :   text of White House announcement and Q&As on clipper chip encryption\n",
      "10718 :   text of White House announcement and Q&As on clipper chip encryption\n"
     ]
    },
    {
     "name": "stderr",
     "output_type": "stream",
     "text": [
      "\r",
      " 57%|██████████████████████████████████████████▋                                | 10719/18828 [01:03<00:44, 182.60it/s]"
     ]
    },
    {
     "name": "stdout",
     "output_type": "stream",
     "text": [
      "10719 :   The Old Key Registration Idea...\n",
      "10720 :  Why the algorithm is secret\n",
      "10721 :  ISSA '93 Conference\n",
      "10722 :   How do they know what keys to ask for  \n",
      "10723 :   text of White House announcement and Q&As on clipper chip encryption\n",
      "10724 :  Once tapped, your code is no good any more.\n",
      "10725 :   Secret algorithm \n",
      "10726 :   text of White House announcement and Q&As on clipper chip \n",
      "10727 :  Cryptography FAQ 0110  Overview\n",
      "10728 :  Cryptography FAQ 0410  Mathematical Cryptology\n",
      "10729 :  Cryptography FAQ 0810  Technical Miscellany\n",
      "10730 :  Cryptography FAQ 1010  References\n",
      "10731 :  Bob Putz Cain  \n",
      "10732 :  Cryptography FAQ 0310  Basic Cryptology\n",
      "10733 :   An Open Letter to Mr. Clinton\n",
      "10734 :   Once tapped, your code is no good any more.\n",
      "10735 :  Cryptography FAQ 0210  Net Etiquette\n",
      "10736 :  Cryptography FAQ 0510  Product Ciphers\n",
      "10737 :  Cryptography FAQ 0610  Public Key Cryptography\n"
     ]
    },
    {
     "name": "stderr",
     "output_type": "stream",
     "text": [
      "\r",
      " 57%|██████████████████████████████████████████▊                                | 10738/18828 [01:04<00:46, 175.81it/s]"
     ]
    },
    {
     "name": "stdout",
     "output_type": "stream",
     "text": [
      "10738 :  Cryptography FAQ 0710  Digital Signatures\n",
      "10739 :  Cryptography FAQ 0910  Other Miscellany\n",
      "10740 :   How do they know what keys to ask for \n",
      "10741 :   Source of random bits on a Unix workstation\n",
      "10742 :  Nonword password generator\n",
      "10743 :   Once tapped, your code is no good any more.\n",
      "10744 :   Once tapped, your code is no good any more.\n",
      "10745 :   text of White House announcement and Q&As on clipper chip encryption\n",
      "10746 :  Clipper Crap\n",
      "10747 :  White House Wiretap Chip Disinformation Sheet\n",
      "10748 :   Secret algorithm \n",
      "10749 :   Clinton Boost in Spy Spending\n",
      "10750 :   White House Wiretap Chip Disinformation Sheet\n",
      "10751 :   Secret algorithm \n",
      "10752 :   How to detect use of an illegal cipher\n",
      "10753 :   White House Public Encryption Management Fact Sheet\n",
      "10754 :   Once tapped, your code is no good any more.\n",
      "10755 :   Fifth Amendment and Passwords\n",
      "10756 :   The Old Key Registration Idea...\n",
      "10757 :   Source of random bits on a Unix workstation\n",
      "10758 :   How do they know what keys to ask for \n",
      "10759 :   What is going on...\n"
     ]
    },
    {
     "name": "stderr",
     "output_type": "stream",
     "text": [
      "\r",
      " 57%|██████████████████████████████████████████▊                                | 10760/18828 [01:04<00:43, 186.09it/s]"
     ]
    },
    {
     "name": "stdout",
     "output_type": "stream",
     "text": [
      "10760 :   White House Public Encryption Management Fact Sheet\n",
      "10761 :   Secret algorithm \n",
      "10762 :   Once tapped, your code is no good any more.\n",
      "10763 :   How do they know what keys to ask for  \n",
      "10764 :   Once tapped, your code is no good any more.\n",
      "10765 :  powerful similarity too\n",
      "10766 :  PGP 2.0 vs 2.2\n",
      "10767 :   What is going on...\n",
      "10768 :  Clipper  some new thoughts\n",
      "10769 :  How does it really work \n",
      "10770 :   Once tapped, your code is no good any more.\n",
      "10771 :   How to detect use of an illegal cipher\n",
      "10772 :   Once tapped, your code is no good any more.\n",
      "10773 :   Secret algorithm \n",
      "10774 :  New Clipper Chip Proposal from the Guv...\n",
      "10775 :   Secret algorithm \n",
      "10776 :  Don't fight Clipper Chip, subvert or replace it \n",
      "10777 :   TrinomialBased PRNG\n",
      "10778 :   Clipper Crap\n",
      "10779 :   Don't fight Clipper Chip, subvert or replace it \n"
     ]
    },
    {
     "name": "stderr",
     "output_type": "stream",
     "text": [
      "\r",
      " 57%|██████████████████████████████████████████▉                                | 10780/18828 [01:04<00:45, 175.98it/s]"
     ]
    },
    {
     "name": "stdout",
     "output_type": "stream",
     "text": [
      "10780 :   Secret algorithm \n",
      "10781 :   Secret algorithm \n",
      "10782 :   Patents \n",
      "10783 :   Once tapped, your code is no good any more.\n",
      "10784 :   How to detect use of an illegal cipher\n",
      "10785 :   How does it really work \n",
      "10786 :   The battle is joined\n",
      "10787 :  The source of that announcement\n",
      "10788 :  Remote file system security\n",
      "10789 :   Secret algorithm \n",
      "10790 :   Once tapped, your code is no good any more.\n",
      "10791 :   Fifth Amendment and Passwords\n",
      "10792 :   The source of that announcement\n",
      "10793 :   Secret algorithm \n",
      "10794 :   The source of that announcement\n",
      "10795 :   How to detect use of an illegal cipher\n",
      "10796 :   Once tapped, your code is no good any more.\n",
      "10797 :  re: WH announcement\n",
      "10798 :   The battle is joined\n",
      "10799 :   The battle is joined\n",
      "10800 :  clipper chip\n"
     ]
    },
    {
     "name": "stderr",
     "output_type": "stream",
     "text": [
      "\r",
      " 57%|███████████████████████████████████████████                                | 10801/18828 [01:04<00:43, 183.73it/s]"
     ]
    },
    {
     "name": "stdout",
     "output_type": "stream",
     "text": [
      "10801 :   The source of that announcement\n",
      "10802 :  Is there ANY security in the Clipper\n",
      "10803 :   The Old Key Registration Idea...\n",
      "10804 :   PEM and MIME\n",
      "10805 :  Need source of FEAL encrytion algorithm\n",
      "10806 :   Don't fight Clipper Chip, subvert or replace it \n",
      "10807 :  WH proposal from Police point of view\n",
      "10808 :   text of White House announcement and Q&As on clipper chip encryption\n",
      "10809 :   Don't fight Clipper Chip, subvert or replace it \n",
      "10810 :   The battle is joined\n",
      "10811 :   text of White House announcement and Q&As on clipper chip encryption\n",
      "10812 :   Once tapped, your code is no good any more.\n",
      "10813 :   Once tapped, your code is no good any more.\n",
      "10814 :   Source of random bits on a Unix workstation\n",
      "10815 :   An Open Letter to Mr. Clinton\n",
      "10816 :  Need help \n",
      "10817 :   Once tapped, your code is no good any more.\n",
      "10818 :   Once tapped, your code is no good any more.\n",
      "10819 :   Secret algorithm \n"
     ]
    },
    {
     "name": "stderr",
     "output_type": "stream",
     "text": [
      "\r",
      " 57%|███████████████████████████████████████████                                | 10820/18828 [01:04<00:46, 173.01it/s]"
     ]
    },
    {
     "name": "stdout",
     "output_type": "stream",
     "text": [
      "10820 :  Clipper chip  technical details\n",
      "10821 :   Secret algorithm \n",
      "10822 :   Once tapped, your code is no good any more.\n",
      "10823 :  are we being hysterical No\n",
      "10824 :   The source of that announcement\n",
      "10825 :   Once tapped, your code is no good any more.\n",
      "10826 :   Clipper chip  technical details\n",
      "10827 :   Once tapped, your code is no good any more.\n",
      "10828 :   Once tapped, your code is no good any more.\n",
      "10829 :   An Open Letter to Mr. Clinton\n",
      "10830 :  Who should be hearing my views on Clipper \n",
      "10831 :   Once tapped, your code is no good any more.\n",
      "10832 :  Big Brother  chip\n",
      "10833 :  Clipper chip and key exchange methods\n",
      "10834 :   Is there ANY security in the Clipper\n",
      "10835 :  Clipper Chip  How would it work\n",
      "10836 :   Once tapped, your code is no good any more.\n",
      "10837 :  Fighting the Clipper Initiative\n"
     ]
    },
    {
     "name": "stderr",
     "output_type": "stream",
     "text": [
      "\r",
      " 58%|███████████████████████████████████████████▏                               | 10838/18828 [01:04<00:47, 169.65it/s]"
     ]
    },
    {
     "name": "stdout",
     "output_type": "stream",
     "text": [
      "10838 :  How can clipper stay classified\n",
      "10839 :  Why the clipper algorithm is secret\n",
      "10840 :   Once tapped, your code is no good any more.\n",
      "10841 :   Clipper chip  technical details\n",
      "10842 :  What the clipper naysayers sound like to me.\n",
      "10843 :   White House Wiretap Chip Disinformation Sheet\n",
      "10844 :   What the clipper naysayers sound like to me.\n",
      "10845 :  Crypto Conference\n",
      "10846 :   Once tapped, your code is no good any more.\n",
      "10847 :   Once tapped, your code is no good any more.\n",
      "10848 :  Some thoughts on Clipper proposal \n",
      "10849 :  Underground encryption \n",
      "10850 :  Unix crypt for DOS\n",
      "10851 :   Once tapped, your code is no good any more.\n",
      "10852 :   Clipper  some new thoughts\n",
      "10853 :   Once tapped, your code is no good any more.\n",
      "10854 :   Secret algorithm \n",
      "10855 :   White House Wiretap Chip Disinformation Sheet\n"
     ]
    },
    {
     "name": "stderr",
     "output_type": "stream",
     "text": [
      "\r",
      " 58%|███████████████████████████████████████████▏                               | 10856/18828 [01:04<00:48, 164.72it/s]"
     ]
    },
    {
     "name": "stdout",
     "output_type": "stream",
     "text": [
      "10856 :   WH proposal from Police point of view\n",
      "10857 :   Clipper chip  technical details\n",
      "10858 :   Clipper chip  technical details\n",
      "10859 :  Corporate acceptance of the wiretap chip\n",
      "10860 :   Why the clipper algorithm is secret\n",
      "10861 :  The wiretap chip, clones, and secure keyexchange\n",
      "10862 :   How to detect use of an illegal cipher\n",
      "10863 :   Secret algorithm \n",
      "10864 :  Competing standard\n",
      "10865 :   Clipper chip  technical details\n",
      "10866 :   Fighting the Clipper Initiative\n",
      "10867 :   Why the clipper algorithm is secret\n",
      "10868 :   Fighting the Clipper Initiative\n",
      "10869 :   text of White House announcement and Q&As on clipper chip encryp\n",
      "10870 :   Automatic online encryption of data\n",
      "10871 :   Clipper chip  technical details\n",
      "10872 :   Corporate acceptance of the wiretap chip\n"
     ]
    },
    {
     "name": "stderr",
     "output_type": "stream",
     "text": [
      "\r",
      " 58%|███████████████████████████████████████████▎                               | 10873/18828 [01:04<00:50, 158.58it/s]"
     ]
    },
    {
     "name": "stdout",
     "output_type": "stream",
     "text": [
      "10873 :  Clipper proposal  key length\n",
      "10874 :   text of White House announcement and Q&As on clipper chip encryption\n",
      "10875 :  Off the shelf cheap DES keyseach machine \n",
      "10876 :   Once tapped, your code is no good any\n",
      "10877 :   text of White House announcement and Q&As on clipper chip encryption\n",
      "10878 :   An Open Letter to Mr. Clinton\n",
      "10879 :   Once tapped, your code is no good any more.\n",
      "10880 :   What the clipper naysayers sound like to me.\n",
      "10881 :   Secret algorithm \n",
      "10882 :   Secret algorithm \n",
      "10883 :  More technical details\n",
      "10884 :   WH proposal from Police point of view\n",
      "10885 :   powerful similarity too\n",
      "10886 :   text of White House announcement and Q&As on clipper chip encryption\n",
      "10887 :   REPORT ON PRIVACYPROTECTING OFFLINE CASH AVAILABLE \n",
      "10888 :   The source of that announcement\n",
      "10889 :   Once tapped, your code is no good any more.\n",
      "10890 :   text of White House announcement and Q&As on clipper chip encryption\n",
      "10891 :   Why the clipper algorithm is secret\n",
      "10892 :  Help me please\n",
      "10893 :   Secret algorithm \n",
      "10894 :   text of White House announcement and Q&As on clipper chip \n"
     ]
    },
    {
     "name": "stderr",
     "output_type": "stream",
     "text": [
      "\r",
      " 58%|███████████████████████████████████████████▍                               | 10895/18828 [01:05<00:45, 172.58it/s]"
     ]
    },
    {
     "name": "stdout",
     "output_type": "stream",
     "text": [
      "10895 :   Fifth Amendment and Passwords\n",
      "10896 :   Once tapped, your code is no good any more.\n",
      "10897 :  Suggestions for escrow agencies \n",
      "10898 :   text of White House announcement and Q&As on clipper chip encryption\n",
      "10899 :   More technical details\n",
      "10900 :   Once tapped, your code is no good any more.\n",
      "10901 :   Secret algorithm \n",
      "10902 :   What is going on...\n",
      "10903 :   Secret algorithm \n",
      "10904 :   Fifth Amendment and Passwords\n",
      "10905 :   More technical details\n",
      "10906 :   Key Registering Bodies\n",
      "10907 :   WH proposal from Police point of view\n",
      "10908 :   More technical details\n",
      "10909 :   White House Public Encryption Management Fact Sheet\n",
      "10910 :   Clipper Chip. LONG follow up.\n",
      "10911 :   More technical details\n",
      "10912 :   Once tapped, your code is no good any more.\n",
      "10913 :   text of White House announcement and Q&As on clipper chip encryption\n",
      "10914 :   Once tapped, your code is no good any more.\n",
      "10915 :   Once tapped, your code is no good any more.\n",
      "10916 :  Screw the people, crypto is for hardcore hackers & spooks only\n"
     ]
    },
    {
     "name": "stderr",
     "output_type": "stream",
     "text": [
      "\r",
      " 58%|███████████████████████████████████████████▍                               | 10917/18828 [01:05<00:43, 183.83it/s]"
     ]
    },
    {
     "name": "stdout",
     "output_type": "stream",
     "text": [
      "10917 :   Once tapped, your code is no good any more.\n",
      " :   subliminal message flashing on TV\n",
      "12124 :   Laser vs Bubblejet\n",
      "12125 :  Radar detector DETECTORS\n",
      "12126 :   How to the disks copy protected.\n",
      "12127 :  600RPM Floopy drives  UPDATE\n"
     ]
    },
    {
     "name": "stderr",
     "output_type": "stream",
     "text": [
      "\r",
      " 64%|████████████████████████████████████████████████▎                          | 12128/18828 [01:11<00:41, 159.75it/s]"
     ]
    },
    {
     "name": "stdout",
     "output_type": "stream",
     "text": [
      "12128 :   How to the disks copy protected.\n",
      "12129 :   Long distance IR detection\n",
      "12130 :  wireless data transfer\n",
      "12131 :  8x oversampling CD player\n",
      "12132 :   Los Angeles Freeway traffic reports\n",
      "12133 :   help  how to construct homebuilt battery for 3rd grade sci report\n",
      "12134 :  Hi Volt from battery\n",
      "12135 :   arcade style buttons and joysticks\n",
      "12136 :   Suggestions  on Audio relays \n",
      "12137 :   Radar detector DETECTORS\n",
      "12138 :   Need to find out number to a phone line\n",
      "12139 :   Power, signal surges in home...\n",
      "12140 :   A question about 120VAC outlet wiring..\n",
      "12141 :   8x oversampling CD player\n",
      "12142 :   Suggestions  on Audio relays \n",
      "12143 :   How to the disks copy protected.\n",
      "12144 :   arcade style buttons and joysticks\n",
      "12145 :   Beginner is RF \n"
     ]
    },
    {
     "name": "stderr",
     "output_type": "stream",
     "text": [
      "\r",
      " 65%|████████████████████████████████████████████████▍                          | 12146/18828 [01:11<00:40, 164.05it/s]"
     ]
    },
    {
     "name": "stdout",
     "output_type": "stream",
     "text": [
      "12146 :   68HC16 public domain software\n",
      "12147 :  Seeking info on wear on monitors \n",
      "12148 :   How to the disks copy protected.\n",
      "12149 :   what to do with old 256k SIMMs\n",
      "12150 :  _Exhausted student needing HELP\n",
      "12151 :   Circuit Cellar Ink address\n",
      "12152 :  Beginner is RF \n",
      "12153 :  UART needed\n",
      "12154 :  EICO tube tester repairs \n",
      "12155 :   PADS Question  How do I go from a schematic  PCB\n",
      "12156 :   how can 0.022 uF be different from two 0.047 in series\n",
      "12157 :  Lead Acid batteries & Concrete\n",
      "12158 :   IR remote control receiver\n",
      "12159 :  Read only if going to ISCAS93 in Chicago\n",
      "12160 :   HELP: MC146818A Real Time Clock Standby Mode\n",
      "12161 :  Membrane keypad with custom legend.\n",
      "12162 :  Los Angeles Freeway traffic reports\n",
      "12163 :   Long distance IR detection\n",
      "12164 :  Answers to many electronics Questions\n"
     ]
    },
    {
     "name": "stderr",
     "output_type": "stream",
     "text": [
      "\r",
      " 65%|████████████████████████████████████████████████▍                          | 12165/18828 [01:12<00:39, 170.43it/s]"
     ]
    },
    {
     "name": "stdout",
     "output_type": "stream",
     "text": [
      "12165 :   Need to find out number to a phone line\n",
      "12166 :   Laser vs Bubblejet\n",
      "12167 :   CAD Program for Electronics\n",
      "12168 :  help  how to constru\n",
      "12169 :  Food Dehydrators\n",
      "12170 :  Need to find out numb\n",
      "12171 :  MC SBI mixer\n",
      "12172 :  Pink Noise\n",
      "12173 :   how can 0.022 uF be different from two 0.047 in series\n",
      "12174 :   Membrane keypad with custom legend.\n",
      "12175 :  Part MC68SEC811E2\n",
      "12176 :   Los Angeles Freeway traffic reports\n",
      "12177 :   Answers to many electronics Questions\n",
      "12178 :   A question about 120VAC outlet wiring.\n",
      "12179 :   Los Angeles Freeway traffic reports\n",
      "12180 :  Voltage regulation and current limiting\n",
      "12181 :   Membrane keypad with custom legend.\n",
      "12182 :   Building a UV flashlight\n",
      "12183 :   decoupling caps  onboard\n",
      "12184 :  Anyone got 200+ Schadow switches with LED\n",
      "12185 :  Need to find out number to a phone line \n"
     ]
    },
    {
     "name": "stderr",
     "output_type": "stream",
     "text": [
      "\r",
      " 65%|████████████████████████████████████████████████▌                          | 12186/18828 [01:12<00:36, 180.36it/s]"
     ]
    },
    {
     "name": "stdout",
     "output_type": "stream",
     "text": [
      "12186 :  ATARI 2600 Processors \n",
      "12187 :   arcade style buttons and joysticks\n",
      "12188 :   UART needed \n",
      "12189 :   Uninterruptible Power Supply\n",
      "12190 :   IR remote control receiver\n",
      "12191 :  IR detector 'cards'\n",
      "12192 :   Suggestions  on Audio relays \n",
      "12193 :   arcade style buttons and joysticks\n",
      "12194 :   8x oversampling CD player\n",
      "12195 :  Can Radio Freq. Be Used To Measure Distance\n",
      "12196 :   Need source for old Radio Shack ste\n",
      "12197 :   Need Info on DSP project\n",
      "12198 :   Can Radio Freq. Be Used To Measure Distance\n",
      "12199 :   Beginner is RF \n",
      "12200 :   arcade style buttons and joysticks\n",
      "12201 :   Long distance IR detection\n",
      "12202 :   Radar detector DETECTORS\n",
      "12203 :   Voltage regulation and current limiting\n",
      "12204 :   Fujitsu 8 HDD\n",
      "12205 :   Adcom cheap products\n",
      "12206 :   Pink Noise\n"
     ]
    },
    {
     "name": "stderr",
     "output_type": "stream",
     "text": [
      "\r",
      " 65%|████████████████████████████████████████████████▋                          | 12207/18828 [01:12<00:35, 187.04it/s]"
     ]
    },
    {
     "name": "stdout",
     "output_type": "stream",
     "text": [
      "12207 :  Manual for Eprom Blower  Wanted\n",
      "12208 :   Need Info on DSP project\n",
      "12209 :   MC SBI mixer\n",
      "12210 :  Making up odd resistor values required by filters\n",
      "12211 :   electronic parts in NYC\n",
      "12212 :   Can Radio Freq. Be Used To Measure Distance\n",
      "12213 :   Pink Noise\n",
      "12214 :   8x oversampling CD player\n",
      "12215 :   Can Radio Freq. Be Used To Measure Distance\n",
      "12216 :   Can Radio Freq. Be Used To Measure Distance\n",
      "12217 :   arcade style buttons and joysticks\n",
      "12218 :   Radio Electronics Free information card\n",
      "12219 :  Need Hydrophone Info.\n",
      "12220 :  VIdeo recording of a vga screen\n",
      "12221 :  Flexible solar cells\n",
      "12222 :   electronic parts in NYC\n",
      "12223 :   Long distance IR detection\n",
      "12224 :   Long distance IR detection\n",
      "12225 :   Making up odd resistor values required by filters\n",
      "12226 :  NTSC horiz & vert drive from black burst\n"
     ]
    },
    {
     "name": "stderr",
     "output_type": "stream",
     "text": [
      "\r",
      " 65%|████████████████████████████████████████████████▋                          | 12227/18828 [01:12<00:36, 182.48it/s]"
     ]
    },
    {
     "name": "stdout",
     "output_type": "stream",
     "text": [
      "12227 :   Radio Electronics Free information card\n",
      "12228 :   How to the disks copy protected.\n",
      "12229 :   How to the disks copy protected.\n",
      "12230 :  MAGIC layout editor\n",
      "12231 :   IR detector 'cards'\n",
      "12232 :   How to the disks copy protected.\n",
      "12233 :   subliminal message flashing on TV\n",
      "12234 :   Can Radio Freq. Be Used To Measure Distance\n",
      "12235 :   How to the disks copy protected.\n",
      "12236 :   How to the disks copy protected.\n",
      "12237 :  68008 cross compilers and assemblers \n",
      "12238 :  WANTED A SCOPE\n",
      "12239 :   IR detector 'cards'\n",
      "12240 :   Long distance IR detection\n",
      "12241 :   Lead Acid batteries & Concrete\n",
      "12242 :   IR remote control receiver\n",
      "12243 :  I need to access reports on Hall effect Devices.\n",
      "12244 :   How to the disks copy protected.\n",
      "12245 :   IR detector 'cards'\n"
     ]
    },
    {
     "name": "stderr",
     "output_type": "stream",
     "text": [
      "\r",
      " 65%|████████████████████████████████████████████████▊                          | 12246/18828 [01:12<00:36, 178.01it/s]"
     ]
    },
    {
     "name": "stdout",
     "output_type": "stream",
     "text": [
      "12246 :   Can Radio Freq. Be Used To Measure Distance\n",
      "12247 :  Test\n",
      "12248 :   Cable TVI interference\n",
      "12249 :  Packet Radio on the PC\n",
      "12250 :   Hi Volt from battery\n",
      "12251 :   600RPM Floopy drives  UPDATE\n",
      "12252 :  help with phone wire: which ones are tip & ring\n",
      "12253 :   How to the disks copy protected.\n",
      "12254 :  Silicon Storage Inc.\n",
      "12255 :   CAD Program for Electronics\n",
      "12256 :  help me, i am not clever \n",
      "12257 :   How to the disks copy protected.\n",
      "12258 :   Laser vs Bubblejet\n",
      "12259 :  MOV advice please\n",
      "12260 :   what to do with old 256k SIMMs\n",
      "12261 :  Tunnel diodes on IG SPICE\n",
      "12262 :   Power, signal surges in home...\n",
      "12263 :   Radar detector DETECTORS\n",
      "12264 :   How to the disks copy protected.\n"
     ]
    },
    {
     "name": "stderr",
     "output_type": "stream",
     "text": [
      "\r",
      " 65%|████████████████████████████████████████████████▊                          | 12265/18828 [01:12<00:37, 173.26it/s]"
     ]
    },
    {
     "name": "stdout",
     "output_type": "stream",
     "text": [
      "12265 :  Contracts\n",
      "12266 :   Lead Acid batteries & Concrete\n",
      "12267 :   Lead Acid batteries & Concrete\n",
      "12268 :   A question about 120VAC outlet wiring.\n",
      "12269 :   Packet Radio on the PC\n",
      "12270 :   UART needed \n",
      "12271 :   ATARI 2600 Processors\n",
      "12272 :   Making up odd resistor values required by filters\n",
      "12273 :   How to the disks copy protected.\n",
      "12274 :   Building a UV flashlight\n",
      "12275 :   Power, signal surges in home...\n",
      "12276 :   Long distance IR detection\n",
      "12277 :  HELP...high data link\n",
      "12278 :   Need to find out numb\n",
      "12279 :   How to the disks copy protected.\n",
      "12280 :   Packet Radio on the PC\n",
      "12281 :   Radio Electronics Free information card\n",
      "12282 :   Lead Acid batteries & Concrete\n",
      "12283 :   How to the disks copy protected.\n",
      "12284 :   ATARI 2600 Processors\n",
      "12285 :   How to the disks copy protected.\n",
      "12286 :  Anyone build anything interesting with PIC16C5X devices \n"
     ]
    },
    {
     "name": "stderr",
     "output_type": "stream",
     "text": [
      "\r",
      " 65%|████████████████████████████████████████████████▉                          | 12287/18828 [01:12<00:35, 184.06it/s]"
     ]
    },
    {
     "name": "stdout",
     "output_type": "stream",
     "text": [
      "12287 :  Looking for NC1 Telecaption Decoder Module\n",
      "12288 :   Making up odd resistor values required by filters\n",
      "12289 :  Why circuit boards are green\n",
      "12290 :  PCMCIA\n",
      "12291 :  ELECTRONIC DESIGN MAG.\n",
      "12292 :   Lead Acid batteries & Concrete\n",
      "12293 :   Lead Acid batteries & Concrete\n",
      "12294 :   ATARI 2600 Processors\n",
      "12295 :  Looking for Z80STI  by Mostek\n",
      "12296 :   help me, i am not clever \n",
      "12297 :   How to the disks copy protected.\n",
      "12298 :  WD40 as moisture repellant \n",
      "12299 :  microstepping\n",
      "12300 :  HM8350 or HM8348\n",
      "12301 :  Switching PS questions\n",
      "12302 :   Lead Acid batteries & Concrete\n",
      "12303 :   Lead Acid batteries & Concrete\n",
      "12304 :  CALLERID chip info requested\n",
      "12305 :  Pinout for 27C64\n"
     ]
    },
    {
     "name": "stderr",
     "output_type": "stream",
     "text": [
      "\r",
      " 65%|█████████████████████████████████████████████████                          | 12306/18828 [01:12<00:37, 174.14it/s]"
     ]
    },
    {
     "name": "stdout",
     "output_type": "stream",
     "text": [
      "12306 :  Question on addressing...\n",
      "12307 :   Adcom cheap products\n",
      "12308 :   Suggestions  on Audio relays \n",
      "12309 :   How to the disks copy protected.\n",
      "12310 :   How to the disks copy protected.\n",
      "12311 :   Need help with video detection circuit\n",
      "12312 :   Does someone know what is the news group for IEEE.\n",
      "12313 :  info wanted about standard phone line\n",
      "12314 :   Voltage regulation and current limiting\n",
      "12315 :   Making up odd resistor values required by filters\n",
      "12316 :  Blue LED is\n",
      "12317 :  Tran tube\n",
      "12318 :   Lead Acid batteries & Concrete\n",
      "12319 :   Why circuit boards are green\n",
      "12320 :  Harris Semiconductor is AnswerFAX Information\n",
      "12321 :  MK3801 data needed\n",
      "12322 :  Data Paging Info WANTED\n",
      "12323 :   How to the disks copy protected.\n",
      "12324 :   Lead Acid batteries & Concrete\n",
      "12325 :   Pinout for 27C64\n",
      "12326 :  FOR SALE: OMTI 3527 : ST506 RLL to SCSI adapters\n"
     ]
    },
    {
     "name": "stderr",
     "output_type": "stream",
     "text": [
      "\r",
      " 65%|█████████████████████████████████████████████████                          | 12327/18828 [01:12<00:35, 181.74it/s]"
     ]
    },
    {
     "name": "stdout",
     "output_type": "stream",
     "text": [
      "12327 :   Cable TVI interference\n",
      "12328 :   Lead Acid batteries & Concrete\n",
      "12329 :   Question on addressing...\n",
      "12330 :   RAMs &ROMs with ALE latches \n",
      "12331 :   Question on addressing... \n",
      "12332 :   help with phone wire: which ones are tip & ring\n",
      "12333 :  Luser\n",
      "12334 :   How to the disks copy protected.\n",
      "12335 :  What exactly is an IBM 486SLC processor\n",
      "12336 :   Lead Acid batteries & Concrete\n",
      "12337 :   Lead Acid batteries & Concrete\n",
      "12338 :  NEED help finding parts\n",
      "12339 :  Selfdestructing copy protection on VHS tape\n",
      "12340 :  D,G,&H type Amplifiers\n",
      "12341 :   How to the disks copy protected.\n",
      "12342 :  RE: Food Deydrators\n",
      "12343 :   How to the disks copy protected.\n",
      "12344 :   Lead Acid batteries & Concrete\n",
      "12345 :  ] HELP  NEED 3479P [\n"
     ]
    },
    {
     "name": "stderr",
     "output_type": "stream",
     "text": [
      "\r",
      " 66%|█████████████████████████████████████████████████▏                         | 12346/18828 [01:13<00:38, 167.54it/s]"
     ]
    },
    {
     "name": "stdout",
     "output_type": "stream",
     "text": [
      "12346 :   ATARI 2600 Processors\n",
      "12347 :  CELLULAR ANTENNAS\n",
      "12348 :  CELLULAR ANTENNAS\n",
      "12349 :  AudioElectronic Parts, esp in Los Angeles\n",
      "12350 :   How to the disks copy protected.\n",
      "12351 :   Los Angeles Freeway traffic reports\n",
      "12352 :   Blue LED is\n",
      "12353 :   How to the disks copy protected.\n",
      "12354 :   Blue LED is\n",
      "12355 :  How to drive an array of LEDs\n",
      "12356 :   IR detector 'cards'\n",
      "12357 :  Looking for Toshiba TA6267 specs\n",
      "12358 :   Power, signal surges in home...\n",
      "12359 :  cleaning electronic equipment\n",
      "12360 :   How to the disks copy protected.\n",
      "12361 :   Long distance IR detection\n",
      "12362 :   Need help with video detection circuit\n",
      "12363 :   Blue LED is\n",
      "12364 :   Long distance IR detection\n",
      "12365 :   Power, signal surges in home...\n",
      "12366 :   WD40 as moisture repellant \n"
     ]
    },
    {
     "name": "stderr",
     "output_type": "stream",
     "text": [
      "\r",
      " 66%|█████████████████████████████████████████████████▎                         | 12367/18828 [01:13<00:36, 176.96it/s]"
     ]
    },
    {
     "name": "stdout",
     "output_type": "stream",
     "text": [
      "12367 :   Switching PS questions\n",
      "12368 :  Does any one know what is biggest ROM for present \n",
      "12369 :   Help Need thermal specs for MC68030FE\n",
      "12370 :   Lead Acid batteries & Concrete\n",
      "12371 :   Laser vs Bubblejet\n",
      "12372 :  Voice synth chips\n",
      "12373 :   Lead Acid batteries & Concrete\n",
      "12374 :   UART needed \n",
      "12375 :   Analog switchesBalanced Demodulators\n",
      "12376 :  flash LEDs with sound\n",
      "12377 :   Blue LED is\n",
      "12378 :   Luser\n",
      "12379 :   Laser vs Bubblejet\n",
      "12380 :  blinking LEDs\n",
      "12381 :  How do you build neural networks\n",
      "12382 :   How to the disks copy protected.\n",
      "12383 :  multiple inputs for PC\n",
      "12384 :   multiple inputs for PC\n",
      "12385 :   Selfdestructing copy protection on VHS tape\n"
     ]
    },
    {
     "name": "stderr",
     "output_type": "stream",
     "text": [
      "\r",
      " 66%|█████████████████████████████████████████████████▎                         | 12386/18828 [01:13<00:38, 169.05it/s]"
     ]
    },
    {
     "name": "stdout",
     "output_type": "stream",
     "text": [
      "12386 :  1bit AD converter\n",
      "12387 :   Blue LED is\n",
      "12388 :   How to the disks copy protected.\n",
      "12389 :   Laser vs Bubblejet\n",
      "12390 :   flash LEDs with sound\n",
      "12391 :   RAMs &ROMs with ALE latches \n",
      "12392 :   Selfdestructing copy protection on VHS tape\n",
      "12393 :   How to the disks copy protected.\n",
      "12394 :  needed: 120v 3watt fan\n",
      "12395 :  Proposal: alt.fan.tesla\n",
      "12396 :  PC BOARD Layout Help\n",
      "12397 :   Pink Noise\n",
      "12398 :   Hi Volt from battery\n",
      "12399 :  Lead ACid Batteries PART 2\n",
      "12400 :   WD40 as moisture repellant \n",
      "12401 :   How to the disks copy protected.\n",
      "12402 :  Circuit List \n",
      "12403 :   How do you build neural networks\n"
     ]
    },
    {
     "name": "stderr",
     "output_type": "stream",
     "text": [
      "\r",
      " 66%|█████████████████████████████████████████████████▍                         | 12404/18828 [01:13<00:39, 164.07it/s]"
     ]
    },
    {
     "name": "stdout",
     "output_type": "stream",
     "text": [
      "12404 :   flash LEDs with sound\n",
      "12405 :  2% silver solder\n",
      "12406 :  Study as audio control engineer in the U.S.A.\n",
      "12407 :   microstepping\n",
      "12408 :   WD40 as moisture repellant (was Lead Acid batteries & C\n",
      "12409 :  Development tools for 8051\n",
      "12410 :   subliminal message flashing on TV\n",
      "12411 :  Development tools for 65C816\n",
      "12412 :   Pink Noise\n",
      "12413 :  Asynchronous Receiver Recommendations\n",
      "12414 :   Selfdestructing copy protection on VHS tape\n",
      "12415 :   Cable TVI interference\n",
      "12416 :   subliminal message flashing on TV\n",
      "12417 :   How to the disks copy protected.\n",
      "12418 :   Blue LED is\n",
      "12419 :   Selfdestructing copy protection on VHS tape\n",
      "12420 :   1bit AD converter\n"
     ]
    },
    {
     "name": "stderr",
     "output_type": "stream",
     "text": [
      "\r",
      " 66%|█████████████████████████████████████████████████▍                         | 12421/18828 [01:13<00:43, 146.76it/s]"
     ]
    },
    {
     "name": "stdout",
     "output_type": "stream",
     "text": [
      "12421 :   WD40 as moisture repellant (was Lead Acid batteries & C\n",
      "12422 :   subliminal message flashing on TV\n",
      "12423 :  77P20 programmer\n",
      "12424 :   Power, signal surges in home...\n",
      "12425 :  descrambling channels\n",
      "12426 :   Pink Noise\n",
      "12427 :   Development tools for 65C816\n",
      "12428 :  Removing battery corrosion\n",
      "12429 :  how to get rid of flyback whine\n",
      "12430 :   ATARI 2600 Processors\n",
      "12431 :   How to the disks copy protected.\n",
      "12432 :   Power, signal surges in home...\n",
      "12433 :   Power, signal surges in home...\n",
      "12434 :  How universal are phones these days\n",
      "12435 :   Power, signal surges in home...\n",
      "12436 :   Laser vs Bubblejet\n",
      "12437 :   How to the disks copy protected.\n",
      "12438 :   help with phone wire: which ones are tip & ring\n"
     ]
    },
    {
     "name": "stderr",
     "output_type": "stream",
     "text": [
      "\r",
      " 66%|█████████████████████████████████████████████████▌                         | 12439/18828 [01:13<00:41, 154.85it/s]"
     ]
    },
    {
     "name": "stdout",
     "output_type": "stream",
     "text": [
      "12439 :   blinking LEDs\n",
      "12440 :   what to do with old 256k SIMMs\n",
      "12441 :   Lead ACid Batteries Part 2\n",
      "12442 :   How universal are phones these days\n",
      "12443 :   600RPM Floopy drives  UPDATE\n",
      "12444 :   How universal are phones these days\n",
      "12445 :  PALs, GALs\n",
      "12446 :   How universal are phones these days\n",
      "12447 :  RF Communications Link\n",
      "12448 :   Blue LED is\n",
      "12449 :   How universal are phones these days\n",
      "12450 :  Caltech PUFF PD ftp RF Tools\n",
      "12451 :   How to drive an array of LEDs\n",
      "12452 :   How to the disks copy protected.\n",
      "12453 :   How to the disks copy protected.\n",
      "12454 :  Clear LCD or LED sheets\n",
      "12455 :  DigitalAC Scaling\n",
      "12456 :   RF Communications Link\n",
      "12457 :   Power, signal surges in home...\n",
      "12458 :  What type of IC is this\n"
     ]
    },
    {
     "name": "stderr",
     "output_type": "stream",
     "text": [
      "\r",
      " 66%|█████████████████████████████████████████████████▋                         | 12459/18828 [01:13<00:41, 152.22it/s]"
     ]
    },
    {
     "name": "stdout",
     "output_type": "stream",
     "text": [
      "12459 :  HELP  Looking for Oscilloscope source\n",
      "12460 :   Clear LCD or LED sheets\n",
      "12461 :   2% silver solder\n",
      "12462 :   Laser vs Bubblejet\n",
      "12463 :   Blue LED is\n",
      "12464 :   multiple inputs for PC\n",
      "12465 :   How universal are phones these days\n",
      "12466 :  RadarLaser Detectors\n",
      "12467 :   How do you build neural networks\n",
      "12468 :   Caltech PUFF PD ftp RF Tools\n",
      "12469 :   Luser\n",
      "12470 :   Why circuit boards are green\n",
      "12471 :   How to the disks copy protected.\n",
      "12472 :   What type of IC is this\n",
      "12473 :   NTSC horiz & vert drive from black burst\n",
      "12474 :  Features for answering machines\n",
      "12475 :   Laser vs Bubblejet\n",
      "12476 :   descrambling channels\n",
      "12477 :  solvent for ducttape adhesive\n",
      "12478 :   How universal are phones these days\n"
     ]
    },
    {
     "name": "stderr",
     "output_type": "stream",
     "text": [
      "\r",
      " 66%|█████████████████████████████████████████████████▋                         | 12479/18828 [01:13<00:38, 163.41it/s]"
     ]
    },
    {
     "name": "stdout",
     "output_type": "stream",
     "text": [
      "12479 :   Removing battery corrosion\n",
      "12480 :  References for ANY IC\n",
      "12481 :   Clear LCD or LED sheets\n",
      "12482 :   Voice synth chips\n",
      "12483 :   How to the disks copy protected.\n",
      "12484 :   Flexible solar cells\n",
      "12485 :   D,G,&H type Amplifiers\n",
      "12486 :  EMI filter, What is in it\n",
      "12487 :   how to get rid of flyback whine\n",
      "12488 :   How universal are phones these days\n",
      "12489 :   Why circuit boards are green\n",
      "12490 :  Fiber Optic Modems For Sale  CHEAP \n",
      "12491 :   References for ANY IC\n",
      "12492 :   Mystery Part \n",
      "12493 :   solvent for ducttape adhesive\n",
      "12494 :  Ranger2.0 shareware\n",
      "12495 :   How universal are  phones these days\n",
      "12496 :  FM Transmitter ICs Help\n",
      "12497 :   Lead ACid Batteries Part 2\n",
      "12498 :   PCMCIA\n"
     ]
    },
    {
     "name": "stderr",
     "output_type": "stream",
     "text": [
      "\r",
      " 66%|█████████████████████████████████████████████████▊                         | 12499/18828 [01:13<00:36, 171.52it/s]"
     ]
    },
    {
     "name": "stdout",
     "output_type": "stream",
     "text": [
      "12499 :   solvent for ducttape adhesive\n",
      "12500 :  Prefab PC casepower supplies and CSAULFCC stuff\n",
      "12501 :   solvent for ducttape adhesive\n",
      "12502 :   How to the disks copy protected.\n",
      "12503 :   RadarLaser Detectors\n",
      "12504 :   solvent for ducttape adhesive\n",
      "12505 :   solvent for ducttape adhesive\n",
      "12506 :  Does any one know what is the biggest ROM for present \n",
      "12507 :   solvent for ducttape adhesive\n",
      "12508 :   solvent for ducttape adhesive\n",
      "12509 :   solvent for ducttape adhesive\n",
      "12510 :   WD40 as moisture repellant (was Lead Acid batteries & C\n",
      "12511 :   8x oversampling CD player\n",
      "12512 :   How universal are phones these days\n",
      "12513 :  VGA circuit\n",
      "12514 :  FREE EPROM eraserPCB exposer\n",
      "12515 :   Cable TVI interference\n",
      "12516 :  HELP : Wanted Pinouts of OKI 58321, RTC\n"
     ]
    },
    {
     "name": "stderr",
     "output_type": "stream",
     "text": [
      "\r",
      " 66%|█████████████████████████████████████████████████▊                         | 12517/18828 [01:14<00:39, 161.37it/s]"
     ]
    },
    {
     "name": "stdout",
     "output_type": "stream",
     "text": [
      "12517 :  Programming Motorola XC68HC705P9\n",
      "12518 :   2% silver solder\n",
      "12519 :   solvent for ducttape adhesive\n",
      "12520 :  PC parallel I \n",
      "12521 :   HELP needed with LIGHT DEPENDENT RESISTOR Devices  \n",
      "12522 :   How universal are phones these days\n",
      "12523 :   How universal are phones these days\n",
      "12524 :   Power, signal surges in home...\n",
      "12525 :   Power, signal surges in home...\n",
      "12526 :   Long distance IR detection\n",
      "12527 :   Removing battery corrosion\n",
      "12528 :  Wanted: source for tuning capacitors\n",
      "12529 :  Filter Design Software for IBMPC\n",
      "12530 :   Why circuit boards are green\n",
      "12531 :   PC parallel I \n",
      "12532 :  ___Fax Machine scanners to monocomputer scanners\n",
      "12533 :  ^^ Phosphorescent pads ...\n",
      "12534 :  Wanting 3479P is...\n",
      "12535 :   solvent for ducttape adhesive\n",
      "12536 :   solvent for ducttape adhesive\n"
     ]
    },
    {
     "name": "stderr",
     "output_type": "stream",
     "text": [
      "\r",
      " 67%|█████████████████████████████████████████████████▉                         | 12537/18828 [01:14<00:36, 171.24it/s]"
     ]
    },
    {
     "name": "stdout",
     "output_type": "stream",
     "text": [
      "12537 :  Card Phones\n",
      "12538 :   How universal are phones these days\n",
      "12539 :   References for ANY IC\n",
      "12540 :   How universal are phones these days\n",
      "12541 :   solvent for ducttape adhesive\n",
      "12542 :  HDTV SOUND SYSTEMS\n",
      "12543 :   solvent for ducttape adhesive\n",
      "12544 :   How universal are phones these days\n",
      "12545 :   2% silver solder\n",
      "12546 :  Correction to Harris is AnswerFAX Phone Number\n",
      "12547 :   How universal are phones these days\n",
      "12548 :   How to the disks copy protected.\n",
      "12549 :   FM Transmitter ICs Help\n",
      "12550 :   solvent for duck tape adhesive\n",
      "12551 :  Looking for a good book on Pspice 5.2\n",
      "12552 :   solvent for ducttape adhesive\n",
      "12553 :  Acceleration sensor\n",
      "12554 :  Old schematics\n"
     ]
    },
    {
     "name": "stderr",
     "output_type": "stream",
     "text": [
      "\r",
      " 67%|██████████████████████████████████████████████████                         | 12555/18828 [01:14<00:38, 163.01it/s]"
     ]
    },
    {
     "name": "stdout",
     "output_type": "stream",
     "text": [
      "12555 :  Disk drive read & write\n",
      "12556 :   Acceleration sensor\n",
      "12557 :   solvent for ducttape adhesive\n",
      "12558 :  HP 200CD manual\n",
      "12559 :   Why circuit boards are green\n",
      "12560 :   PC parallel I \n",
      "12561 :   PC parallel I \n",
      "12562 :   ^^ Phosphorescent pads ...\n",
      "12563 :  Pressure Zone Microphones\n",
      "12564 :  SPICE for XT with no coprocesser\n",
      "12565 :   PC parallel I \n",
      "12566 :   Why circuit boards are green\n",
      "12567 :   And now serious: EMagazine \n",
      "12568 :   cleaning electronic equipment\n",
      "12569 :   Acceleration sensor\n",
      "12570 :   Why circuit boards are green\n",
      "12571 :   Pressure Zone Microphones\n",
      "12572 :   Picking up cable tv with an aerial.\n",
      "12573 :   Picking up cable tv with an aerial.\n"
     ]
    },
    {
     "name": "stderr",
     "output_type": "stream",
     "text": [
      "\r",
      " 67%|██████████████████████████████████████████████████                         | 12574/18828 [01:14<00:37, 168.03it/s]"
     ]
    },
    {
     "name": "stdout",
     "output_type": "stream",
     "text": [
      "12574 :   Microcontroller Questions for newcomer\n",
      "12575 :    And now serious: EMagazine \n",
      "12576 :   How universal are phones these days\n",
      "12577 :   solvent for ducttape adhesive\n",
      "12578 :   Acceleration sensor\n",
      "12579 :   CAD Program for Electronics\n",
      "12580 :   Looking for a good book on Pspice 5.2\n",
      "12581 :   Long distance IR detection\n",
      "12582 :   How universal are phones these days\n",
      "12583 :   How universal are phones these days\n",
      "12584 :   Ultrasonic pest repellers: Stories, advice, bunk, etc.\n",
      "12585 :   solvent for ducttape adhesive\n",
      "12586 :   Passive Mixer\n",
      "12587 :   Lead ACid Batteries Part 2\n",
      "12588 :   Microcontroller Questions for newcomer\n",
      "12589 :   How universal are phones these days \n",
      "12590 :   WD40 as moisture repellant (was Lead Acid batteries & C\n",
      "12591 :   Using generated power on large sound systems\n"
     ]
    },
    {
     "name": "stderr",
     "output_type": "stream",
     "text": [
      "\r",
      " 67%|██████████████████████████████████████████████████▏                        | 12592/18828 [01:14<00:38, 162.37it/s]"
     ]
    },
    {
     "name": "stdout",
     "output_type": "stream",
     "text": [
      "12592 :   Accelerometer request respecified\n",
      "12593 :  Phantoms in my Sony STRVX550 Receiver\n",
      "12594 :   solvent for ducttape adhesive\n",
      "12595 :   solvent for ducttape adhesive\n",
      "12596 :    And now serious: EMagazine \n",
      "12597 :   Why circuit boards are green\n",
      "12598 :   How to make the disks copy protected \n",
      "12599 :   info on flux gate coilsmagnetometer\n",
      "12600 :   Lead ACid Batteries Part 2\n",
      "12601 :  INFO NEEDED: Gaucher is Disease\n",
      "12602 :   jiggers\n",
      "12603 :   Breech Baby Info Needed\n",
      "12604 :  Analgesics with Diuretics\n",
      "12605 :   Lactose intolerance\n",
      "12606 :  Smoker is Lungs\n",
      "12607 :   Blood Cholesterol   Gabe Mirkin is advice\n",
      "12608 :   sex problem.\n",
      "12609 :   Prednisone...what are the significant long term side effects\n"
     ]
    },
    {
     "name": "stderr",
     "output_type": "stream",
     "text": [
      "\r",
      " 67%|██████████████████████████████████████████████████▏                        | 12610/18828 [01:14<00:37, 166.28it/s]"
     ]
    },
    {
     "name": "stdout",
     "output_type": "stream",
     "text": [
      "12610 :   Mental Illness\n",
      "12611 :   Can't Breathe\n",
      "12612 :   Lactose intolerance\n",
      "12613 :   Lactose intolerance\n",
      "12614 :   Smoker is Lungs\n",
      "12615 :   Can't Breathe\n",
      "12616 :   AntiViral Herbs\n",
      "12617 :  ringing ears\n",
      "12618 :   Twitching eyelid\n",
      "12619 :   fibromyalgia\n",
      "12620 :   Analgesics with Diuretics\n",
      "12621 :   ringing ears\n",
      "12622 :  Emphysema question\n",
      "12623 :   Oily skin  problem\n",
      "12624 :   Migraines and scans\n",
      "12625 :   migraine and exercise\n",
      "12626 :  What about sci.med.chemistry\n"
     ]
    },
    {
     "name": "stderr",
     "output_type": "stream",
     "text": [
      "\r",
      " 67%|██████████████████████████████████████████████████▎                        | 12627/18828 [01:14<00:37, 165.09it/s]"
     ]
    },
    {
     "name": "stdout",
     "output_type": "stream",
     "text": [
      "12627 :  Mystery Illness with eye problems\n",
      "12628 :   My New Diet  IT WORKS GREAT \n",
      "12629 :   Can't Breathe\n",
      "12630 :   jiggers\n",
      "12631 :  Teenage acne\n",
      "12632 :   sex problem.\n",
      "12633 :   Oily skin  problem\n",
      "12634 :  Contraceptive pill\n",
      "12635 :  Brain Tumor Treatment \n",
      "12636 :   Can't Breathe  Update\n",
      "12637 :   What about sci.med.chemistry\n",
      "12638 :   Inner Ear Problems from Too Much Flying\n",
      "12639 :   Contraceptive pill\n",
      "12640 :  Lupus\n",
      "12641 :  Is an oral form of Imitrex available in CA\n",
      "12642 :   Twitching eye\n",
      "12643 :  Inner Ear Problems from Too Much Flying\n",
      "12644 :   Human breastfeeding : Myths or reality \n"
     ]
    },
    {
     "name": "stderr",
     "output_type": "stream",
     "text": [
      "\r",
      " 67%|██████████████████████████████████████████████████▎                        | 12645/18828 [01:14<00:37, 164.87it/s]"
     ]
    },
    {
     "name": "stdout",
     "output_type": "stream",
     "text": [
      "12645 :  recurrent volvulus\n",
      "12646 :   Smoker is Lungs\n",
      "12647 :   various migraine therapies\n",
      "12648 :   vangus nerve \n",
      "12649 :   Migraines\n",
      "12650 :   3 AIDS Related Questions\n",
      "12651 :   health care reform\n",
      "12652 :   health care reform\n",
      "12653 :   Update  \n",
      "12654 :   PatientPhysician Diplomacy\n",
      "12655 :   Immotile Cilia Syndrome\n",
      "12656 :   Lung disorders and clubbing of fingers\n",
      "12657 :   Open letter to Hillary Rodham Clinton \n",
      "12658 :   Menangitis question\n",
      "12659 :   3 AIDS Related Questions\n",
      "12660 :   Update  \n",
      "12661 :   CAN'T BREATHE\n"
     ]
    },
    {
     "name": "stderr",
     "output_type": "stream",
     "text": [
      "\r",
      " 67%|██████████████████████████████████████████████████▍                        | 12662/18828 [01:15<00:44, 139.64it/s]"
     ]
    },
    {
     "name": "stdout",
     "output_type": "stream",
     "text": [
      "12662 :   Menangitis question\n",
      "12663 :   CAN'T BREATHE\n",
      "12664 :   Sinus vs. Migraine \n",
      "12665 :   Teenage acne\n",
      "12666 :   ringing ears\n",
      "12667 :   jiggers\n",
      "12668 :   My New Diet  IT WORKS GREAT \n",
      "12669 :   Blindsight\n",
      "12670 :   Sinus vs. Migraine \n",
      "12671 :   Sinus vs. Migraine \n",
      "12672 :   tuberculosis\n",
      "12673 :   Blindsight\n",
      "12674 :   Name of MD is eyepiece\n",
      "12675 :   PatientPhysician Diplomacy\n",
      "12676 :   Exercise Hypertension\n"
     ]
    },
    {
     "name": "stderr",
     "output_type": "stream",
     "text": [
      "\r",
      " 67%|██████████████████████████████████████████████████▍                        | 12677/18828 [01:15<00:43, 141.99it/s]"
     ]
    },
    {
     "name": "stdout",
     "output_type": "stream",
     "text": [
      "12677 :   Striato Nigral Degeneration\n",
      "12678 :   MORBUS MENIERE  is there a real remedy\n",
      "12679 :   Donating organs\n",
      "12680 :   Update  \n",
      "12681 :   Use of codine in narcolepsy.\n",
      "12682 :   Migraines and Estrogen\n",
      "12683 :   migraine and exercise\n",
      "12684 :   new Multiple Sclerosis drug\n",
      "12685 :   Need Info on RSD\n",
      "12686 :   tuberculosis\n",
      "12687 :   amitriptyline\n",
      "12688 :   Medication For Parkinsons\n",
      "12689 :   Fingernail moons\n",
      "12690 :   health care reform\n",
      "12691 :   High Prolactin\n",
      "12692 :   Toxoplasmosis\n"
     ]
    },
    {
     "name": "stderr",
     "output_type": "stream",
     "text": [
      "\r",
      " 67%|██████████████████████████████████████████████████▌                        | 12693/18828 [01:15<00:41, 146.08it/s]"
     ]
    },
    {
     "name": "stdout",
     "output_type": "stream",
     "text": [
      "12693 :   My New Diet  IT WORKS GREAT \n",
      "12694 :  Should patients read package inserts \n",
      "12695 :   tuberculosis\n",
      "12696 :   tuberculosis\n",
      "12697 :   Fungus epidemic in CA\n",
      "12698 :   Travel outside US \n",
      "12699 :   compartment syndrome  general information, references, etc.\n",
      "12700 :   xrays\n",
      "12701 :   Name of MD is eyepiece\n",
      "12702 :  MYSTERY ILLNESS WITH SPOTS\n",
      "12703 :   Menangitis question\n",
      "12704 :   Analgesics with Diuretics\n",
      "12705 :   Blindsight\n",
      "12706 :   Donating organs\n",
      "12707 :  NATURAL ANTIcancerAIDS Remedies\n",
      "12708 :   Fungus epidemic in CA\n"
     ]
    },
    {
     "name": "stderr",
     "output_type": "stream",
     "text": [
      "\r",
      " 68%|██████████████████████████████████████████████████▋                        | 12709/18828 [01:15<00:41, 148.65it/s]"
     ]
    },
    {
     "name": "stdout",
     "output_type": "stream",
     "text": [
      "12709 :  Xanax...please provide info\n",
      "12710 :   MORBUS MENIERE  is there a real remedy\n",
      "12711 :  FAQ: Typing Injuries : Keyboard Alternatives \n",
      "12712 :  FAQ: Typing Injuries : Software Monitoring Tools \n",
      "12713 :   Science and methodology \n",
      "12714 :  FAQ: Typing Injuries : Changes since last month \n",
      "12715 :  FAQ: Typing Injuries : General Info \n",
      "12716 :   Science and Methodology\n",
      "12717 :   NATURAL ANTIcancerAIDS Remedies\n",
      "12718 :   Is MSG sensitivity superstition\n",
      "12719 :   MORBUS MENIERE  is there a real remedy\n",
      "12720 :  podiatry School info\n",
      "12721 :  foodrelated seizures\n",
      "12722 :   Is MSG sensitivity superstition\n",
      "12723 :   Science and methodology \n",
      "12724 :   Update  \n",
      "12725 :  Water supplies vulnerable to Milwaukeetype disease outbreak\n"
     ]
    },
    {
     "name": "stderr",
     "output_type": "stream",
     "text": [
      "\r",
      " 68%|██████████████████████████████████████████████████▋                        | 12726/18828 [01:15<00:39, 153.66it/s]"
     ]
    },
    {
     "name": "stdout",
     "output_type": "stream",
     "text": [
      "12726 :   Science and methodology \n",
      "12727 :  Exercise and Migraine\n",
      "12728 :  erythromycin\n",
      "12729 :   chronic sinus and antibiotics\n",
      "12730 :   Is MSG sensitivity superstition\n",
      "12731 :   My New Diet  IT WORKS GREAT \n",
      "12732 :   Eugenics\n",
      "12733 :   Homeopathy: a respectable medical tradition\n",
      "12734 :   Science and methodology \n",
      "12735 :   Science and methodology \n",
      "12736 :   Emphysema question\n",
      "12737 :   Science and Methodology\n",
      "12738 :   Science and methodology \n",
      "12739 :   chronic sinus and antibiotics\n",
      "12740 :   Is MSG sensitivity superstition\n",
      "12741 :  Future of methanol\n",
      "12742 :   Science and methodology \n"
     ]
    },
    {
     "name": "stderr",
     "output_type": "stream",
     "text": [
      "\r",
      " 68%|██████████████████████████████████████████████████▊                        | 12743/18828 [01:15<00:38, 157.49it/s]"
     ]
    },
    {
     "name": "stdout",
     "output_type": "stream",
     "text": [
      "12743 :   Is MSG sensitivity superstition\n",
      "12744 :   Is MSG sensitivity superstition\n",
      "12745 :   Exercise and Migraine\n",
      "12746 :   Science and Methodology\n",
      "12747 :   Science and methodology \n",
      "12748 :   Crohn is Disease\n",
      "12749 :   Eugenics\n",
      "12750 :   Science and methodology \n",
      "12751 :   Science and methodology \n",
      "12752 :   Exercise and Migraine\n",
      "12753 :   erythromycin\n",
      "12754 :   Emphysema question\n",
      "12755 :  Psoriatic Arthritis  Info Needed Please\n",
      "12756 :   erythromycin\n",
      "12757 :   Is MSG sensitivity superstition\n",
      "12758 :   Is MSG sensitivity superstition\n"
     ]
    },
    {
     "name": "stderr",
     "output_type": "stream",
     "text": [
      "\r",
      " 68%|██████████████████████████████████████████████████▊                        | 12759/18828 [01:15<00:42, 141.22it/s]"
     ]
    },
    {
     "name": "stdout",
     "output_type": "stream",
     "text": [
      "12759 :   Science and methodology \n",
      "12760 :   THE BACK MACHINE  Update\n",
      "12761 :   centrifuge\n",
      "12762 :   My New Diet  IT WORKS GREAT \n",
      "12763 :   Can men get yeast infections\n",
      "12764 :  cystic breast disease\n",
      "12765 :  Endometriosis\n",
      "12766 :   Migraines and scans\n",
      "12767 :  klonopin and pregnancy\n",
      "12768 :  Infant Immune Development Question\n",
      "12769 :   Is MSG sensitivity superstition\n",
      "12770 :   Can men get yeast infections\n",
      "12771 :   RA treatment question\n",
      "12772 :  Can't wear contacts after RKPRK\n",
      "12773 :  left side pains\n",
      "12774 :   Sarchoidosis \n",
      "12775 :   Is MSG sensitivity superstition\n",
      "12776 :   pointer for info \n"
     ]
    },
    {
     "name": "stderr",
     "output_type": "stream",
     "text": [
      "\r",
      " 68%|██████████████████████████████████████████████████▉                        | 12777/18828 [01:15<00:40, 149.57it/s]"
     ]
    },
    {
     "name": "stdout",
     "output_type": "stream",
     "text": [
      "12777 :   Science and methodology \n",
      "12778 :   Seeking adviceexperience with back problem\n",
      "12779 :   options before back surgery for protruding disc at L4L5\n",
      "12780 :  Looking for a doctor\n",
      "12781 :   Is MSG sensitivity superstition\n",
      "12782 :   Can men get yeast infections\n",
      "12783 :  Intensive Japanese at Pitt\n",
      "12784 :  HYPOGLYCEMIA\n",
      "12785 :   Is MSG sensitivity superstition\n",
      "12786 :   Science and methodology \n",
      "12787 :   Is MSG sensitivity superstition\n",
      "12788 :   Can't wear contacts after RKPRK\n",
      "12789 :   Science and methodology \n",
      "12790 :   Is MSG sensitivity superstition\n",
      "12791 :   chronic sinus and antibiotics\n",
      "12792 :   Is MSG sensitivity superstition\n"
     ]
    },
    {
     "name": "stderr",
     "output_type": "stream",
     "text": [
      "\r",
      " 68%|██████████████████████████████████████████████████▉                        | 12793/18828 [01:15<00:44, 134.61it/s]"
     ]
    },
    {
     "name": "stdout",
     "output_type": "stream",
     "text": [
      "12793 :   Is MSG sensitivity superstition\n",
      "12794 :   Can't wear contacts after RKPRK\n",
      "12795 :   Is MSG sensitivity superstition\n",
      "12796 :  prozac\n",
      "12797 :  Need advice with doctorpatient relationship problem\n",
      "12798 :   sore throat\n",
      "12799 :   centrifuge\n",
      "12800 :   Need advice with doctorpatient relationship problem\n",
      "12801 :  Postfever rashes:  I get 'em every time\n",
      "12802 :   Is MSG sensitivity superstition\n",
      "12803 :   Science and methodology \n",
      "12804 :  EXPERTS on PENICILLIN...LOOK\n",
      "12805 :   Endometriosis\n",
      "12806 :   prozac\n",
      "12807 :   Is MSG sensitivity superstition\n",
      "12808 :   Is MSG sensitivity superstition\n",
      "12809 :   Is MSG sensitivity superstition\n",
      "12810 :   chronic sinus and antibiotics\n"
     ]
    },
    {
     "name": "stderr",
     "output_type": "stream",
     "text": [
      "\r",
      " 68%|███████████████████████████████████████████████████                        | 12811/18828 [01:16<00:41, 144.27it/s]"
     ]
    },
    {
     "name": "stdout",
     "output_type": "stream",
     "text": [
      "12811 :   Is MSG sensitivity superstition\n",
      "12812 :   Science and methodology \n",
      "12813 :  Amniocentesis, et. al.\n",
      "12814 :  Need Help in Steroid Research\n",
      "12815 :  Need survival data on colon cancer\n",
      "12816 :   Science and methodology \n",
      "12817 :  Japanese for Scientists and Engineers\n",
      "12818 :   Endometriosis\n",
      "12819 :   Eugenics\n",
      "12820 :   foodrelated seizures\n",
      "12821 :  Bouncing LymeNet newsletters...\n",
      "12822 :  Miracle Berries anyone\n",
      "12823 :  Panic Disorder  more success stories\n",
      "12824 :   foodrelated seizures\n",
      "12825 :  Post Polio Syndrome Information Needed Please \n",
      "12826 :   Is MSG sensitivity superstition\n",
      "12827 :  re: hepatitisb\n"
     ]
    },
    {
     "name": "stderr",
     "output_type": "stream",
     "text": [
      "\r",
      " 68%|███████████████████████████████████████████████████                        | 12828/18828 [01:16<00:43, 137.84it/s]"
     ]
    },
    {
     "name": "stdout",
     "output_type": "stream",
     "text": [
      "12828 :  foodrelated seizures\n",
      "12829 :   Could this be a migraine\n",
      "12830 :   Need advice with doctorpatient relationship problem\n",
      "12831 :   Homeopathy: a respectable medical tradition\n",
      "12832 :   ORGAN DONATION AND TRANSPLANTATION FACT SHEET\n",
      "12833 :   Is MSG sensitivity superstition\n",
      "12834 :  Friend Needs Advice...\n",
      "12835 :  Eumemics \n",
      "12836 :   Need advice with doctorpatient relationship problem\n",
      "12837 :   Science and methodology \n",
      "12838 :  Lasers for dermatologists\n",
      "12839 :  H E L P   M E    desperate with some VD\n",
      "12840 :  Selective Placebo\n",
      "12841 :  Scientific Yawn\n",
      "12842 :  Selective Placebo\n",
      "12843 :   Eumemics \n"
     ]
    },
    {
     "name": "stderr",
     "output_type": "stream",
     "text": [
      "\r",
      " 68%|███████████████████████████████████████████████████▏                       | 12844/18828 [01:16<00:41, 143.35it/s]"
     ]
    },
    {
     "name": "stdout",
     "output_type": "stream",
     "text": [
      "12844 :   H E L P   M E    desperate with some VD\n",
      "12845 :  Barbecued foods and health risk\n",
      "12846 :   Post Polio Syndrome Information Needed Please \n",
      "12847 :   How about a crash program in basic immunological research\n",
      "12848 :   Science and methodology \n",
      "12849 :   Lyme vaccine\n",
      "12850 :   My New Diet  IT WORKS GREAT \n",
      "12851 :   Emphysema question\n",
      "12852 :   foodrelated seizures\n",
      "12853 :   What are the problems with Nutrasweet \n",
      "12854 :   Is MSG sensitivity superstition\n",
      "12855 :   Blood Glucose test strips\n",
      "12856 :   Is MSG sensitivity superstition\n",
      "12857 :  re: what are the problems with nutrasweet \n",
      "12858 :   foodrelated seizures\n",
      "12859 :   Science and methodology \n"
     ]
    },
    {
     "name": "stderr",
     "output_type": "stream",
     "text": [
      "\r",
      " 68%|███████████████████████████████████████████████████▏                       | 12860/18828 [01:16<00:40, 146.62it/s]"
     ]
    },
    {
     "name": "stdout",
     "output_type": "stream",
     "text": [
      "12860 :  Bursitis and laser treatment\n",
      "12861 :   Is MSG sensitivity superstition\n",
      "12862 :  Frequent nosebleeds\n",
      "12863 :   Update  \n",
      "12864 :  Transplant Recipients Newsletter, April `93[D[D[D[D[D[D[D[D[D[D[D[D[D[D[D[D[D[D[D[D[DInternational Newsletter, April `93\n",
      "12865 :   what are the problems with nutrasweet \n",
      "12866 :   Is MSG sensitivity superstition\n",
      "12867 :   Frequent nosebleeds\n",
      "12868 :   Is MSG sensitivity superstition\n",
      "12869 :   Science and methodology \n",
      "12870 :  Need to find information about current trends in diabetes.\n",
      "12871 :   Barbecued foods and health risk\n",
      "12872 :   Barbecued foods and health risk\n",
      "12873 :   Brain abscess definition needed\n",
      "12874 :  HYPOGLYCEMIA\n"
     ]
    },
    {
     "name": "stderr",
     "output_type": "stream",
     "text": [
      "\r",
      " 68%|███████████████████████████████████████████████████▎                       | 12875/18828 [01:16<00:41, 145.06it/s]"
     ]
    },
    {
     "name": "stdout",
     "output_type": "stream",
     "text": [
      "12875 :  Need advice with doctorpatient relationship problem\n",
      "12876 :   Is MSG sensitivity superstition\n",
      "12877 :   Barbecued foods and health risk\n",
      "12878 :   Sleeping Pill OD\n",
      "12879 :   request for information on essential tremor and Indrol\n",
      "12880 :   what are the problems with nutrasweet \n",
      "12881 :   NIH offers Exploratory Grants For Alternative Medicine\n",
      "12882 :   Dislocated Shoulder\n",
      "12883 :   Too many MRIs\n",
      "12884 :   Helium nonrenewable  \n",
      "12885 :   Need to find information about current trends in diabetes.\n",
      "12886 :  Foreskin Troubles\n",
      "12887 :  Bone marrow sclerosis.\n",
      "12888 :  quality control in medicine\n",
      "12889 :   Lyme vaccine\n",
      "12890 :   quality control in medicine\n",
      "12891 :   Homeopathy: a respectable medical tradition\n",
      "12892 :  help\n",
      "12893 :  HYPOGLYCEMIA\n",
      "12894 :  Glutamate\n",
      "12895 :   Lyme vaccine\n",
      "12896 :   Selective Placebo\n",
      "12897 :   Glutamate\n"
     ]
    },
    {
     "name": "stderr",
     "output_type": "stream",
     "text": [
      "\r",
      " 69%|███████████████████████████████████████████████████▍                       | 12898/18828 [01:16<00:36, 162.49it/s]"
     ]
    },
    {
     "name": "stdout",
     "output_type": "stream",
     "text": [
      "12898 :   Glutamate\n",
      "12899 :   Barbecued foods and health risk\n",
      "12900 :   what are the problems with nutrasweet \n",
      "12901 :  Hunchback\n",
      "12902 :  Post Polio Syndrome Information Needed Please \n",
      "12903 :   Post Polio Syndrome Information Needed Please \n",
      "12904 :   foodrelated seizures\n",
      "12905 :   Eugenics\n",
      "12906 :   Science and methodology  \n",
      "12907 :   Eugenics\n",
      "12908 :  Adult Chicken Pox\n",
      "12909 :   Foreskin Troubles\n",
      "12910 :   Selective Placebo\n",
      "12911 :  Image processing software for PC\n",
      "12912 :  Critique of Pressure Point Massager\n",
      "12913 :   Need advice with doctorpatient relationship problem\n",
      "12914 :  Placebo effects\n",
      "12915 :  Help  Looking for a Medical Journal Article  WhiplashCervical Pain\n",
      "12916 :  _The Andromeda Strain_\n",
      "12917 :   H E L P   M E    desperate with some VD\n",
      "12918 :   Barbecued foods and health risk\n",
      "12919 :   Barbecued foods and health risk\n",
      "12920 :  Immunotherapy for Recurrent Miscarriage\n"
     ]
    },
    {
     "name": "stderr",
     "output_type": "stream",
     "text": [
      "\r",
      " 69%|███████████████████████████████████████████████████▍                       | 12921/18828 [01:16<00:33, 176.51it/s]"
     ]
    },
    {
     "name": "stdout",
     "output_type": "stream",
     "text": [
      "12921 :   Is MSG sensitivity superstition\n",
      "12922 :   Science and methodology \n",
      "12923 :  What is the Difference Between an M.D. and a D.O.\n",
      "12924 :   Barbecued foods and health risk\n",
      "12925 :   Placebo effects\n",
      "12926 :   eye dominance\n",
      "12927 :   Surgery of damaged tendons and median nerve\n",
      "12928 :   foodrelated seizures\n",
      "12929 :   ORGAN DONATION AND TRANSPLANTATION FACT SHEET\n",
      "12930 :   Mississippi River water and catfish: safe\n",
      "12931 :   OBGYN residency\n",
      "12932 :  liver spots\n",
      "12933 :   _The Andromeda Strain_\n",
      "12934 :   Eumemics \n",
      "12935 :  Hernia\n",
      "12936 :  Candida Albicans: what is it\n",
      "12937 :   eye dominance\n",
      "12938 :   Barbecued foods and health risk\n",
      "12939 :   quality control in medicine\n",
      "12940 :   Science and methodology \n",
      "12941 :   Too many MRIs\n",
      "12942 :  THE RESEACHING OF STARVATION.\n",
      "12943 :   Is MSG sensitivity superstition\n"
     ]
    },
    {
     "name": "stderr",
     "output_type": "stream",
     "text": [
      "\r",
      " 69%|███████████████████████████████████████████████████▌                       | 12944/18828 [01:16<00:31, 188.65it/s]"
     ]
    },
    {
     "name": "stdout",
     "output_type": "stream",
     "text": [
      "12944 :   Frequent nosebleeds\n",
      "12945 :  Selective Placebo\n",
      "12946 :   Barbecued foods and health risk\n",
      "12947 :  Krillean Photography\n",
      "12948 :   foodrelated seizures\n",
      "14515 :   looking for PLANET MAPS\n",
      "14516 :  Near Miss Asteroids\n",
      "14517 :   Soyuz and Shuttle Comparisons\n",
      "14518 :   Another SF Irritation RELIEVED Doctor Who vindicated.\n",
      "14519 :   Who is Henry Spencer anyway\n",
      "14520 :   Vandenberg launches\n",
      "14521 :   Who is Henry Spencer anyway\n",
      "14522 :   Life on Earth \n",
      "14523 :   Interesting DCX cost anecdote\n",
      "14524 :   Why we like DCX \n",
      "14525 :   Who is Henry Spencer anyway\n",
      "14526 :  Shuttle and Pennicillin\n"
     ]
    },
    {
     "name": "stderr",
     "output_type": "stream",
     "text": [
      "\r",
      " 77%|█████████████████████████████████████████████████████████▊                 | 14527/18828 [01:26<00:27, 157.57it/s]"
     ]
    },
    {
     "name": "stdout",
     "output_type": "stream",
     "text": [
      "14527 :   DCX Publicity\n",
      "14528 :   DCX Publicity\n",
      "14529 :  White Sands & DCX\n",
      "14530 :  Space Marketing  Boycott\n",
      "14531 :   Space Marketing would be wonderfull.\n",
      "14532 :   Space Marketing would be wonderfull.\n",
      "14533 :   Space Marketing would be wonderfull.\n",
      "14534 :  No.  Space Marketing would be wonderfull.\n",
      "14535 :   U.S. Government and Science and Technolgy Investment\n",
      "14536 :   Life on Mars.\n",
      "14537 :   Philosophy Quest. How Boldly\n",
      "14538 :   Why we like DCX \n",
      "14539 :   Excess Shuttle criticism was  Shuttle 0Defects & Bizarre DC\n",
      "14540 :   SDIO kaput\n",
      "14541 :   Near Miss Asteroids \n",
      "14542 :   Space Marketing would be wonderfull.\n",
      "14543 :   HST Servicing Mission Scheduled for 11 Days\n",
      "14544 :   No.  Space Marketing would be wonderfull.\n",
      "14545 :   Who is Henry Spencer anyway\n",
      "14546 :   No.  Space Marketing would be wonderfull.\n",
      "14547 :   Math (Was US govt & Technolgy Investment\n",
      "14548 :   No.  Space Marketing would be wonderfull.\n"
     ]
    },
    {
     "name": "stderr",
     "output_type": "stream",
     "text": [
      "\r",
      " 77%|█████████████████████████████████████████████████████████▉                 | 14549/18828 [01:26<00:24, 171.23it/s]"
     ]
    },
    {
     "name": "stdout",
     "output_type": "stream",
     "text": [
      "14549 :   U.S. Government and Science and Technolgy Investment\n",
      "14550 :   STS57 inclination\n",
      "14551 :   Soyuz and Shuttle Comparisons\n",
      "14552 :   Math (Was US govt & Technolgy Investment\n",
      "14553 :   Space Marketing  Boycott\n",
      "14554 :   Space Marketing would be wonderfull.\n",
      "14555 :   Space Marketing would be wonderfull.\n",
      "14556 :   Space Marketing would be wonderfull.\n",
      "14557 :   Space Marketing would be wonderfull.\n",
      "14558 :   Space Marketing would be wonderfull.\n",
      "14559 :   Space Marketing  Boycott\n",
      "14560 :   Space Marketing would be wonderfull.\n",
      "14561 :   Space Marketing would be wonderfull.\n",
      "14562 :   Space Marketing would be wonderfull.\n",
      "14563 :   Space Marketing  Boycott\n",
      "14564 :   Space Marketing would be wonderfull.\n",
      "14565 :   Space Marketing would be wonderfull.\n",
      "14566 :   Space Marketing would be wonderfull.\n",
      "14567 :   Over zealous shuttle critics\n"
     ]
    },
    {
     "name": "stderr",
     "output_type": "stream",
     "text": [
      "\r",
      " 77%|██████████████████████████████████████████████████████████                 | 14568/18828 [01:26<00:26, 160.32it/s]"
     ]
    },
    {
     "name": "stdout",
     "output_type": "stream",
     "text": [
      "14568 :   ASTRONAUTSWHAT DOES WEIGHTLESSNESS FEEL\n",
      "14569 :   Space Marketing would be wonderfull.\n",
      "14570 :  Satellite CapabilitiesPatriot Games\n",
      "14571 :   Space Marketing would be wonderfull.\n",
      "14572 :   Space Marketing would be wonderfull.\n",
      "14573 :   Questions for KC135 veterans\n",
      "14574 :   Interesting DCX cost anecdote\n",
      "14575 :  Billsats\n",
      "14576 :   Space Marketing  Boycott\n",
      "14577 :   Space Marketing would be wonderfull.\n",
      "14578 :   sex education\n",
      "14579 :  Pantheism & Environmentalism\n",
      "14580 :  re: technology\n",
      "14581 :  Seven castaways w. Gilligan=Seven Deadly Sins\n",
      "14582 :  Daily Verse\n",
      "14583 :   Elder Brother\n",
      "14584 :  Does God love you\n",
      "14585 :   Dead Sea Scrolls\n",
      "14586 :  quality of Catholic liturgy\n",
      "14587 :   Prophetic Warning to New York City\n",
      "14588 :   Prayer in Jesus' Name\n",
      "14589 :  Request for research subjects\n"
     ]
    },
    {
     "name": "stderr",
     "output_type": "stream",
     "text": [
      "\r",
      " 77%|██████████████████████████████████████████████████████████                 | 14590/18828 [01:26<00:24, 173.35it/s]"
     ]
    },
    {
     "name": "stdout",
     "output_type": "stream",
     "text": [
      "14590 :   Deification\n",
      "14591 :  Daily Verse\n",
      "14592 :   Revelations\n",
      "14593 :   Sin\n",
      "14594 :   Opinions asked about rejection\n",
      "14595 :   Prophetic Warning to New York City\n",
      "14596 :   christians and aids\n",
      "14597 :   Essene New Testament\n",
      "14598 :  Anybody out there\n",
      "14599 :  Prayer in Jesus' name\n",
      "14600 :   What did Lazarus smell like\n",
      "14601 :   DID HE REALLY RISE\n",
      "14602 :  Questions from a newbie\n",
      "14603 :   Prophetic Warning to New York City\n",
      "14604 :   Ancient Books\n",
      "14605 :   Is Christian a dirty word\n",
      "14606 :   The arrogance of Christians\n",
      "14607 :  Accepting Jeesus in your heart...\n",
      "14608 :   The arrogance of Christians\n"
     ]
    },
    {
     "name": "stderr",
     "output_type": "stream",
     "text": [
      "\r",
      " 78%|██████████████████████████████████████████████████████████▏                | 14609/18828 [01:26<00:26, 156.34it/s]"
     ]
    },
    {
     "name": "stdout",
     "output_type": "stream",
     "text": [
      "14609 :   Ancient Books\n",
      "14610 :  Doug Sturm\n",
      "14611 :   technology\n",
      "14612 :   post\n",
      "14613 :  re: Pantheism and Environmentalism\n",
      "14614 :  Easter: what is in a name (was  New Testament Double Standard\n",
      "14615 :   sex education\n",
      "14616 :  Weirdness of Early Christians\n",
      "14617 :   Hell\n",
      "14618 :   DID HE REALLY RISE\n",
      "14619 :  Legitimate bawdy humor; was:  sex education  it is a joke \n",
      "14620 :   Easter: what is in a name (was  New Testament Double Standard\n",
      "14621 :  WITNESS & PROOF OF CHRIST'S RESURRECTION\n",
      "14622 :   quality of Catholic liturgy\n",
      "14623 :   christians and aids\n",
      "14624 :   christians and aids\n",
      "14625 :   Essene New Testament\n",
      "14626 :   Pantheism & Environmentalism\n",
      "14627 :   Prayer in Jesus' Name\n",
      "14628 :   Easter: what is in a name (was  New Testament Double Standard\n"
     ]
    },
    {
     "name": "stderr",
     "output_type": "stream",
     "text": [
      "\r",
      " 78%|██████████████████████████████████████████████████████████▎                | 14629/18828 [01:26<00:25, 166.78it/s]"
     ]
    },
    {
     "name": "stdout",
     "output_type": "stream",
     "text": [
      "14629 :   Accepting Jeesus in your heart...\n",
      "14630 :   Reason vs. Revelation\n",
      "14631 :   Salvation by deeds\n",
      "14632 :   Deification\n",
      "14633 :   Revelations\n",
      "14634 :   Ancient Books\n",
      "14635 :   Sin\n",
      "14636 :   Unity\n",
      "14637 :   Weirdness of Early Christians\n",
      "14638 :  Confession & communion\n",
      "14639 :  Sin\n",
      "14640 :  Pantheism & Environmentalism\n",
      "14641 :   Ancient Books\n",
      "14642 :   Revelations\n",
      "14643 :   Prayer in Jesus' Name\n",
      "14644 :  THE EMPTY TOMB...\n",
      "14645 :   old vs. new testament\n",
      "14646 :   Christ references in OT\n"
     ]
    },
    {
     "name": "stderr",
     "output_type": "stream",
     "text": [
      "\r",
      " 78%|██████████████████████████████████████████████████████████▎                | 14647/18828 [01:26<00:26, 158.04it/s]"
     ]
    },
    {
     "name": "stdout",
     "output_type": "stream",
     "text": [
      "14647 :   A question that has bee bothering me.\n",
      "14648 :   Pantheism & Environmentalism\n",
      "14649 :   Opinions asked about rejection\n",
      "14650 :   The arrogance of Christians\n",
      "14651 :   Revelations\n",
      "14652 :  Environmentalism and paganism\n",
      "14653 :   The arrogance of Christians\n",
      "14654 :   Pantheism & Environmentalism\n",
      "14655 :   DID HE REALLY RISE\n",
      "14656 :   Accepting Jeesus in your heart...\n",
      "14657 :   Prophetic Warning to New York City\n",
      "14658 :  Ethics vs. Freedom\n",
      "14659 :   Revelations\n",
      "14660 :   Easter: what is in a name (was  New Testament Double Standard\n",
      "14661 :  Catholic Liturgy\n",
      "14662 :   Pantheism & Environmentalism\n",
      "14663 :  = Hell =\n",
      "14664 :   The arrogance of Christians\n",
      "14665 :   Prodigal Son\n",
      "14666 :   DID HE REALLY RISE\n",
      "14667 :   DID HE REALLY RISE\n",
      "14668 :  Eternity of Hell \n"
     ]
    },
    {
     "name": "stderr",
     "output_type": "stream",
     "text": [
      "\r",
      " 78%|██████████████████████████████████████████████████████████▍                | 14669/18828 [01:26<00:24, 172.21it/s]"
     ]
    },
    {
     "name": "stdout",
     "output_type": "stream",
     "text": [
      "14669 :  summer program\n",
      "14670 :   Can sin block our prayers\n",
      "14671 :  Atheist is views on Christianity \n",
      "14672 :   The arrogance of Christians\n",
      "14673 :   Prophecy on NYC\n",
      "14674 :  RFD: soc.religion.islam.ahmadiyya moderated\n",
      "14675 :   The arrogance of Christians\n",
      "14676 :   Pantheism & Environmentalism\n",
      "14677 :  RE: Does God love you\n",
      "14678 :  quality of Catholic liturgy\n",
      "14679 :  Accepting Jeesus in your heart...\n",
      "14680 :   Every Lent He suffers to save us\n",
      "14681 :   Atheist is views on Christianity \n",
      "14682 :  Weirdness of Early Christians\n",
      "14683 :   The arrogance of Christians\n",
      "14684 :  Greek WordprocessorDatabase.\n",
      "14685 :   DID HE REALLY RISE\n",
      "14686 :  Johnny Hart is  mailing address\n",
      "14687 :   The arrogance of Christians\n"
     ]
    },
    {
     "name": "stderr",
     "output_type": "stream",
     "text": [
      "\r",
      " 78%|██████████████████████████████████████████████████████████▌                | 14688/18828 [01:27<00:25, 160.91it/s]"
     ]
    },
    {
     "name": "stdout",
     "output_type": "stream",
     "text": [
      "14688 :  Conversions\n",
      "14689 :  Does God Love You\n",
      "14690 :   quality of Catholic liturgy\n",
      "14691 :  Certainty and Arrogance\n",
      "14692 :   The arrogance of Christians\n",
      "14693 :   Prayer in Jesus' Name\n",
      "14694 :  Nature of God \n",
      "14695 :   Accepting Jeesus in your heart...\n",
      "14696 :   DID HE REALLY RISE\n",
      "14697 :   Questions from a newbie\n",
      "14698 :   Eternity of Hell \n",
      "14699 :   Ancient Books\n",
      "14700 :  SSPX schism \n",
      "14701 :   Easter: what is in a name (was  New Testament Double Stan\n",
      "14702 :  end of discussion: Easter\n",
      "14703 :  'Easter' not derived from 'Ishtar'\n",
      "14704 :   Easter: what is in a name (was  New Testament Double Stan\n"
     ]
    },
    {
     "name": "stderr",
     "output_type": "stream",
     "text": [
      "\r",
      " 78%|██████████████████████████████████████████████████████████▌                | 14705/18828 [01:27<00:25, 159.11it/s]"
     ]
    },
    {
     "name": "stdout",
     "output_type": "stream",
     "text": [
      "14705 :  Rebuilding the Temple \n",
      "14706 :   Easter: what is in a name (was  New Testament Double Stan\n",
      "14707 :  The Mystery in the Paradox\n",
      "14708 :  When are two people married in God is eyes\n",
      "14709 :  proof of resurection\n",
      "14710 :   Every Lent He suffers to save us\n",
      "14711 :   The arrogance of Christians\n",
      "14712 :   Eternity of Hell \n",
      "14713 :  Need Help with They came for the Jews quote\n",
      "14714 :   Accepting Jeesus in your heart...\n",
      "14715 :  Clarification: Easter\n",
      "14716 :   Prophetic Warning to New York City\n",
      "14717 :  samesex marriages\n",
      "14718 :   Eternity of Hell \n",
      "14719 :   A question that has bee bothering me.\n",
      "14720 :   Ancient Books\n",
      "14721 :   Pantheism & Environmentalism\n"
     ]
    },
    {
     "name": "stderr",
     "output_type": "stream",
     "text": [
      "\r",
      " 78%|██████████████████████████████████████████████████████████▋                | 14722/18828 [01:27<00:27, 147.48it/s]"
     ]
    },
    {
     "name": "stdout",
     "output_type": "stream",
     "text": [
      "14722 :   The arrogance of Christians\n",
      "14723 :   Atheist is views on Christianity \n",
      "14724 :   The arrogance of Christians\n",
      "14725 :   SSPX schism \n",
      "14726 :  Need a book\n",
      "14727 :   What did Lazarus smell like\n",
      "14728 :   Questions from a newbie\n",
      "14729 :   Pantheism & Environmentalism\n",
      "14730 :   quality of Catholic liturgy\n",
      "14731 :  Mission Aviation Fellowship\n",
      "14732 :   SDA Doctrinal Distinctives\n",
      "14733 :  NATIONAL DAY Of PRAYER\n",
      "14734 :  Christianity & Atheism:  an update\n",
      "14735 :   sex education\n",
      "14736 :   Nature of God \n",
      "14737 :  Daily Verse\n",
      "14738 :   Certainty and Arrogance\n",
      "14739 :   Easter: what is in a name (was  New Testament Double Stan\n",
      "14740 :   Can sin block our prayers\n",
      "14741 :   DID HE REALLY RISE\n",
      "14742 :   Accepting Jesus in your heart...\n",
      "14743 :   The arrogance of Christians\n"
     ]
    },
    {
     "name": "stderr",
     "output_type": "stream",
     "text": [
      "\r",
      " 78%|██████████████████████████████████████████████████████████▋                | 14744/18828 [01:27<00:25, 163.23it/s]"
     ]
    },
    {
     "name": "stdout",
     "output_type": "stream",
     "text": [
      "14744 :   The arrogance of Christians\n",
      "14745 :   Ancient Books\n",
      "14746 :  ONLINE BIBLE as bible study\n",
      "14747 :   The arrogance of Christians\n",
      "14748 :   The arrogance of Christians\n",
      "14749 :   DID HE REALLY RISE\n",
      "14750 :   Eternity of Hell \n",
      "14751 :   Prophetic Warning to New York City\n",
      "14752 :  Losing your temper is not a Christian trait\n",
      "14753 :   Certainty and Arrogance\n",
      "14754 :  phone number of wycliffe translators UK\n",
      "14755 :  Some questions from a new Christian\n",
      "14756 :   Sabbath Admissions 5of5\n",
      "14757 :  Daily Verse\n",
      "14758 :   DID HE REALLY RISE\n",
      "14759 :  hearing sinners\n",
      "14760 :  John 3:16 paraphrased\n",
      "14761 :   Certainty and Arrogance\n"
     ]
    },
    {
     "name": "stderr",
     "output_type": "stream",
     "text": [
      "\r",
      " 78%|██████████████████████████████████████████████████████████▊                | 14762/18828 [01:27<00:26, 153.53it/s]"
     ]
    },
    {
     "name": "stdout",
     "output_type": "stream",
     "text": [
      "14762 :  WBT \n",
      "14763 :   An agnostic is question\n",
      "14764 :  Religious wars\n",
      "14765 :   Hell_2:  Black Sabbath\n",
      "14766 :   phone number of wycliffe translators UK\n",
      "14767 :   Losing your temper is not a Christian trait\n",
      "14768 :   Godshaped hole \n",
      "14769 :  Daily Verse\n",
      "14770 :   Accepting Jesus in your heart...\n",
      "14771 :  'Moody Monthly' and 'Moody' the same\n",
      "14772 :  Anyone with L'Abri Experiences\n",
      "14773 :   The arrogance of Christians\n",
      "14774 :   Atheist is views on Christianity \n",
      "14775 :  Revelations  BABYLON\n",
      "14776 :  Doing the work of God)\n",
      "14777 :   The arrogance of Christians\n",
      "14778 :   When are two people married\n",
      "14779 :   Atheist is views on Christianity \n",
      "14780 :  Cell Church discussion group\n",
      "14781 :   Atheists and Hell\n",
      "14782 :  prayers and advice requested on family problem\n",
      "14783 :   Christian is need for Christianity\n",
      "14784 :   DID HE REALLY RISE\n"
     ]
    },
    {
     "name": "stderr",
     "output_type": "stream",
     "text": [
      "\r",
      " 79%|██████████████████████████████████████████████████████████▉                | 14785/18828 [01:27<00:23, 168.75it/s]"
     ]
    },
    {
     "name": "stdout",
     "output_type": "stream",
     "text": [
      "14785 :   proof of resurection\n",
      "14786 :  Question: Jesus alone, Oneness\n",
      "14787 :   sex education\n",
      "14788 :   DID HE REALLY RISE\n",
      "14789 :   Latest on Branch Davidians\n",
      "14790 :   Accepting Jeesus in your heart...\n",
      "14791 :   Assurance of Hell\n",
      "14792 :   DID HE REALLY RISE\n",
      "14793 :  etymology of Easter\n",
      "14794 :  Help\n",
      "14795 :   Interfaith weddings\n",
      "14796 :  Paul on weekly collections\n",
      "14797 :  about Eliz C Prophet\n",
      "14798 :  Chanting of the Passion\n",
      "14799 :  muslim tithe; sexism in Genesis 2\n",
      "14800 :   proof of resurection\n",
      "14801 :   Help\n",
      "14802 :  iterations of the bible\n",
      "14803 :   Help\n"
     ]
    },
    {
     "name": "stderr",
     "output_type": "stream",
     "text": [
      "\r",
      " 79%|██████████████████████████████████████████████████████████▉                | 14804/18828 [01:27<00:25, 157.80it/s]"
     ]
    },
    {
     "name": "stdout",
     "output_type": "stream",
     "text": [
      "14804 :   Assurance of Hell\n",
      "14805 :   Question: Jesus alone, Oneness\n",
      "14806 :  Daily Verse\n",
      "14807 :   A question that has bee bothering me.\n",
      "14808 :   When are two people married in God is eyes\n",
      "14809 :   When are two people married in God is eyes\n",
      "14810 :   Serbian genocide Work of God\n",
      "14811 :   The arrogance of Christians\n",
      "14812 :   Being right about messiahs\n",
      "14813 :  Was Jesus Black\n",
      "14814 :   Accepting Jeesus in your heart...\n",
      "14815 :   Hell_2:  Black Sabbath\n",
      "14816 :  Could anyone answer this question\n",
      "14817 :  CoptNet Newsletter\n",
      "14818 :   DID HE REALLY RISE\n",
      "14819 :   Help\n",
      "14820 :   Hell_2:  Black Sabbath\n",
      "14821 :   Am I going to Hell\n",
      "14822 :   When are two people married in God is eyes\n",
      "14823 :   Assurance of Hell\n",
      "14824 :   Serbian genocide Work of God\n",
      "14825 :   Atheists and Hell\n"
     ]
    },
    {
     "name": "stderr",
     "output_type": "stream",
     "text": [
      "\r",
      " 79%|███████████████████████████████████████████████████████████                | 14826/18828 [01:27<00:23, 171.49it/s]"
     ]
    },
    {
     "name": "stdout",
     "output_type": "stream",
     "text": [
      "14826 :   The arrogance of Christians\n",
      "14827 :  Looking for Christians in Urbana, Illinois...\n",
      "14828 :   Am I going to Hell\n",
      "14829 :   Atheist is views on Christianity \n",
      "14830 :   Losing your temper is not a Christian trait\n",
      "14831 :   Hell_2:  Black Sabbath\n",
      "14832 :   Losing your temper is not a Christian trait\n",
      "14833 :   harrassed at work, could use some prayers\n",
      "14834 :  Christians that are not church members\n",
      "14835 :   Am I going to Hell\n",
      "14836 :   Bible Unsuitable for New Christians\n",
      "14837 :   Help\n",
      "14838 :   Doing the work of God)\n",
      "14839 :  National Day of Prayer,5693\n",
      "14840 :   Hell_2: Black Sabbath\n",
      "14841 :   The arrogance of Christians\n",
      "14842 :   Daily Verse\n",
      "14843 :   Some questions from a new Christian\n",
      "14844 :  Godshaped hole \n"
     ]
    },
    {
     "name": "stderr",
     "output_type": "stream",
     "text": [
      "\r",
      " 79%|███████████████████████████████████████████████████████████▏               | 14845/18828 [01:27<00:24, 161.37it/s]"
     ]
    },
    {
     "name": "stdout",
     "output_type": "stream",
     "text": [
      "14845 :   Can sin block our prayers\n",
      "14846 :  Daily Verse\n",
      "14847 :   The arrogance of Christians\n",
      "14848 :   Ancient Books\n",
      "14849 :   Some questions from a new Christian\n",
      "14850 :   When are two people married in God is eyes\n",
      "14851 :   proof of resurection\n",
      "14852 :  Some questions from a new Christian\n",
      "14853 :   RE: Does God love you\n",
      "14854 :  MAJOR VIEWS OF THE TRINITY\n",
      "14855 :  Love Europe\n",
      "14856 :   Doing the work of God)\n",
      "14857 :  Daily Verse\n",
      "14858 :  Maybe\n",
      "14859 :   Hell_2:  Black Sabbath\n",
      "14860 :   Help\n",
      "14861 :   Being right about messiahs\n",
      "14862 :  WITCHES AND WICCAN:  your opinion\n",
      "14863 :   Assurance of Hell\n",
      "14864 :   The arrogance of Christians\n",
      "14865 :   src\n",
      "14866 :   Sabbath Admissions 5of5\n"
     ]
    },
    {
     "name": "stderr",
     "output_type": "stream",
     "text": [
      "\r",
      " 79%|███████████████████████████████████████████████████████████▏               | 14867/18828 [01:28<00:22, 174.21it/s]"
     ]
    },
    {
     "name": "stdout",
     "output_type": "stream",
     "text": [
      "14867 :   The arrogance of Christians\n",
      "14868 :   Questioning Authority\n",
      "14869 :   The arrogance of Christians\n",
      "14870 :   Cell Church discussion group\n",
      "14871 :   Religious wars\n",
      "14872 :   prayers and advice requested on family problem\n",
      "14873 :   about Eliz C Prophet\n",
      "14874 :   Atheist is views on Christianity \n",
      "14875 :   Branch Davidians info\n",
      "14876 :   Assurance of Hell\n",
      "14877 :   Atheists and Hell\n",
      "14878 :   WBT \n",
      "14879 :   Hell_2:  Black Sabbath\n",
      "14880 :   hearing sinners\n",
      "14881 :   When are two people married in God is eyes\n",
      "14882 :   Latest on Branch Davidians\n",
      "14883 :   proof of resurection\n",
      "14884 :   The arrogance of Christians\n",
      "14885 :   iterations of the bible\n"
     ]
    },
    {
     "name": "stderr",
     "output_type": "stream",
     "text": [
      "\r",
      " 79%|███████████████████████████████████████████████████████████▎               | 14886/18828 [01:28<00:24, 163.73it/s]"
     ]
    },
    {
     "name": "stdout",
     "output_type": "stream",
     "text": [
      "14886 :   Serbian genocide Work of God\n",
      "14887 :   Atheists and Hell\n",
      "14888 :   Cell Church discussion group\n",
      "14889 :   Christians that are not church members\n",
      "14890 :   When are two people married in God is eyes\n",
      "14891 :   Knowing God is Will\n",
      "14892 :   harrassed at work, could use some prayers\n",
      "14893 :   Am I going to Hell\n",
      "14894 :   Am I going to Hell\n",
      "14895 :   The arrogance of Christians\n",
      "14896 :   Was Jesus Black\n",
      "14897 :  Looking for videotapes\n",
      "14898 :   Am I going to Hell\n",
      "14899 :  Theists And Objectivity\n",
      "14900 :   DID HE REALLY RISE\n",
      "14901 :  Any good electronic Christian magazine\n",
      "14902 :  Survey: Faith vs. Reason\n",
      "14903 :   sex education\n",
      "14904 :   Doing the work of God)\n",
      "14905 :  Q the Lost Gospel\n",
      "14906 :   Was Jesus Black\n"
     ]
    },
    {
     "name": "stderr",
     "output_type": "stream",
     "text": [
      "\r",
      " 79%|███████████████████████████████████████████████████████████▍               | 14907/18828 [01:28<00:22, 174.85it/s]"
     ]
    },
    {
     "name": "stdout",
     "output_type": "stream",
     "text": [
      "14907 :   Christians that are not church members\n",
      "14908 :   When are two people married in God is eyesy\n",
      "14909 :   The arrogance of Christians\n",
      "14910 :   Was Jesus Black\n",
      "14911 :   Sabbath Admissions 5of5\n",
      "14912 :   When are two people married in God is eyes\n",
      "14913 :   Certainty and Arrogance\n",
      "14914 :   Easter: what is in a name (was  New Testament Double Stan\n",
      "14915 :  intolerance  eternal life  etc\n",
      "14916 :   Can sin block our prayers\n",
      "14917 :   Atheist is views on Christianity   soc.religion.christian #16242\n",
      "14918 :   The arrogance of Christians\n",
      "14919 :  Rom 911 article ready..requests\n",
      "14920 :   The arrogance of Christians\n",
      "14921 :   Accepting Jesus in your heart...\n",
      "14922 :  Watt misquoted\n",
      "14923 :   Accepting Jeesus in your heart...\n",
      "14924 :  Hebrew grammar textschoose English or German\n",
      "14925 :   cause\n",
      "14926 :   Accepting Jeesus in your heart...\n"
     ]
    },
    {
     "name": "stderr",
     "output_type": "stream",
     "text": [
      "\r",
      " 79%|███████████████████████████████████████████████████████████▍               | 14927/18828 [01:28<00:23, 167.70it/s]"
     ]
    },
    {
     "name": "stdout",
     "output_type": "stream",
     "text": [
      "14927 :   Atheist is views on Christianity \n",
      "14928 :   When are two people married in God is eyes\n",
      "14929 :   Some questions from a new Christian\n",
      "14930 :  When are two people married\n",
      "14931 :  Book Review Wanted\n",
      "14932 :   DID HE REALLY RISE\n",
      "14933 :  Bible Unsuitable for New Christians\n",
      "14934 :   Nature of God \n",
      "14935 :   SSPX schism \n",
      "14936 :   quality of Catholic liturgy\n",
      "14937 :   anger\n",
      "14938 :   ONLINE BIBLE as bible study\n",
      "14939 :   SDA Doctrinal Distinctives\n",
      "14940 :   Rebuilding the Temple \n",
      "14941 :  tuff to be a Christian\n",
      "14942 :  C. S. Lewis is OK \n",
      "14943 :  DOCTRINE OF GOD\n",
      "14944 :   Questions...\n",
      "14945 :  Being right about messiahs\n",
      "14946 :  An agnostic is question\n",
      "14947 :   phone number of wycliffe translators UK\n",
      "14948 :  Esotericism\n"
     ]
    },
    {
     "name": "stderr",
     "output_type": "stream",
     "text": [
      "\r",
      " 79%|███████████████████████████████████████████████████████████▌               | 14949/18828 [01:28<00:21, 180.02it/s]"
     ]
    },
    {
     "name": "stdout",
     "output_type": "stream",
     "text": [
      "14949 :   Certainty and Arrogance\n",
      "14950 :   Sabbath Admissions 5of5\n",
      "14951 :  Thinking about heaven\n",
      "14952 :  quality of Catholic liturgy\n",
      "14953 :   DID HE REALLY RISE\n",
      "14954 :   Hell_2:  Black Sabbath\n",
      "14955 :  harrassed at work, could use some prayers\n",
      "14956 :   SSPX schism \n",
      "14957 :   When are two people married in God is eyes\n",
      "14958 :   Certainty and Arrogance\n",
      "14959 :   Question: Jesus alone, Oneness\n",
      "14960 :  Daily Verse\n",
      "14961 :   Godshaped hole \n",
      "14962 :  RADIO FREE THULCANDRA  (was Dungeons & Dragons: An author is view\n",
      "14963 :   Being right about messiahs\n",
      "14964 :   Revelations  BABYLON\n",
      "14965 :  Afterlife\n",
      "14966 :  HELPHELP Part2\n",
      "14967 :   An agnostic is question\n"
     ]
    },
    {
     "name": "stderr",
     "output_type": "stream",
     "text": [
      "\r",
      " 79%|███████████████████████████████████████████████████████████▌               | 14968/18828 [01:28<00:22, 167.87it/s]"
     ]
    },
    {
     "name": "stdout",
     "output_type": "stream",
     "text": [
      "14968 :   Bible Unsuitable for New Christians\n",
      "14969 :   Need a book\n",
      "14970 :  Saint Story St. Aloysius Gonzaga\n",
      "14971 :   When are two people married in God is eyes\n",
      "14972 :  Pastoral Authority\n",
      "14973 :  Am I going to Hell\n",
      "14974 :   Certainty and Arrogance\n",
      "14975 :   Latest on Branch Davidians\n",
      "14976 :  Serbian genocide Work of God\n",
      "14977 :  Goodbye, but not forever\n",
      "14978 :   DID HE REALLY RISE\n",
      "14979 :   Losing your temper is not a Christian trait\n",
      "14980 :   Maybe\n",
      "14981 :   prayers and advice requested on family problem\n",
      "14982 :  Help\n",
      "14983 :   When are two people married in God is e\n",
      "14984 :   The arrogance of Christians\n",
      "14985 :   proof of resurection\n",
      "14986 :   SSPX schism \n",
      "14987 :   The arrogance of Christians\n",
      "14988 :   Help\n",
      "14989 :   Cell Church discussion group\n"
     ]
    },
    {
     "name": "stderr",
     "output_type": "stream",
     "text": [
      "\r",
      " 80%|███████████████████████████████████████████████████████████▋               | 14990/18828 [01:28<00:21, 180.20it/s]"
     ]
    },
    {
     "name": "stdout",
     "output_type": "stream",
     "text": [
      "14990 :   proof of resurection\n",
      "14991 :   catholic church poland\n",
      "14992 :   DID HE REALLY RISE\n",
      "14993 :   Sabbath Admissions 5of5\n",
      "14994 :  \n",
      "14995 :   DID HE REALLY RISE\n",
      "14996 :   = Hell =\n",
      "14997 :   DID HE REALLY RISE\n",
      "14998 :   The arrogance of Christians\n",
      "14999 :   tuff to be a Christian\n",
      "15000 :   Hebrew grammar textschoose English or German\n",
      "15001 :   When are two people married in God is eyes\n",
      "15002 :  Orthodox List\n",
      "15003 :  Why religion and which religion\n",
      "15004 :   Sabbath Admissions 5of5\n",
      "15005 :   When are two people married in God is eyes\n",
      "15006 :  Immaterial afterlife \n",
      "15007 :   SSPX schism \n",
      "15008 :  Christian is need for Christianity \n"
     ]
    },
    {
     "name": "stderr",
     "output_type": "stream",
     "text": [
      "\r",
      " 80%|███████████████████████████████████████████████████████████▊               | 15009/18828 [01:28<00:23, 163.25it/s]"
     ]
    },
    {
     "name": "stdout",
     "output_type": "stream",
     "text": [
      "15009 :  Christian Parenting\n",
      "15010 :   anger\n",
      "15011 :   tuff to be a Christian\n",
      "15012 :  Interdisc. Bible Research Inst.\n",
      "15013 :  HELPHLPHELPHELP\n",
      "15014 :   sex education\n",
      "15015 :   Accepting Jeesus in your heart...\n",
      "15016 :   So far so good\n",
      "15017 :  Does 'Justjustifiable War' exist\n",
      "15018 :  When is a couple married...\n",
      "15019 :  Divine providence vs. Murphy is Law\n",
      "15020 :   Accepting Jesus in your heart...\n",
      "15021 :  What is in a name: the sequel\n",
      "15022 :   tuff to be a Christian\n",
      "15023 :   An agnostic is question\n",
      "15024 :   SSPX schism \n",
      "15025 :   Atheist is views on Christianity \n",
      "15026 :   A question that has bee bothering me.\n",
      "15027 :   The arrogance of Christians\n",
      "15028 :   Being right about messiahs\n",
      "15029 :  Atheists and Hell\n"
     ]
    },
    {
     "name": "stderr",
     "output_type": "stream",
     "text": [
      "\r",
      " 80%|███████████████████████████████████████████████████████████▊               | 15030/18828 [01:29<00:21, 174.09it/s]"
     ]
    },
    {
     "name": "stdout",
     "output_type": "stream",
     "text": [
      "15030 :   tuff to be a Christian\n",
      "15031 :   Sabbath Admissions 5of5\n",
      "15032 :  Poem\n",
      "15033 :  Assurance of Hell\n",
      "15034 :   Sabbath Admissions 5of5\n",
      "15035 :   Sabbath Admissions 5of5\n",
      "15036 :   Hell\n",
      "15037 :   Atheists and Hell\n",
      "15038 :  catholic church poland\n",
      "15039 :   proof of resurection\n",
      "15040 :  Daily Verse\n",
      "15041 :   sex education\n",
      "15042 :   Certainty and Arrogance\n",
      "15043 :   phone number of wycliffe translators UK\n",
      "15044 :  Hell_2:  Black Sabbath\n",
      "15045 :   Divine providence vs. Murphy is Law\n",
      "15046 :   Atheists and Hell\n",
      "15047 :   intolerance  eternal life  etc\n",
      "15048 :   Sabbath Admissions 5of5\n",
      "15049 :   Atheists and Hell\n",
      "15050 :    The arrogance of Christians\n"
     ]
    },
    {
     "name": "stderr",
     "output_type": "stream",
     "text": [
      "\r",
      " 80%|███████████████████████████████████████████████████████████▉               | 15051/18828 [01:29<00:23, 161.22it/s]"
     ]
    },
    {
     "name": "stdout",
     "output_type": "stream",
     "text": [
      "15051 :   Atheists and Hell\n",
      "15052 :  Latest on Branch Davidians\n",
      "15053 :   Atheists and Hell\n",
      "15054 :   Accepting Jeesus in your heart...\n",
      "15055 :  Refusing Divine Peace and Alive Prayer \n",
      "15056 :   So far so good\n",
      "15057 :   tuff to be a Christian\n",
      "15058 :   Sabbath Admissions 5of5\n",
      "15059 :   SSPX schism \n",
      "15060 :   Losing your temper is not a Christian trait\n",
      "15061 :  Some questions from a new Christian\n",
      "15062 :   Godshaped hole \n",
      "15063 :  Interfaith weddings\n",
      "15064 :   The arrogance of Christians\n",
      "15065 :   So far so good\n",
      "15066 :  library of congress to host dead sea scroll symposium april 2122\n",
      "15067 :   Sabbath Admissions 5of5\n",
      "15068 :   Atheist is views on Christianity \n",
      "15069 :   Does 'Justjustifiable War' exist\n",
      "15070 :   Divine providence vs. Murphy is Law\n",
      "15071 :   Being right about messiahs\n",
      "15072 :  Questioning Authority\n"
     ]
    },
    {
     "name": "stderr",
     "output_type": "stream",
     "text": [
      "\r",
      " 80%|████████████████████████████████████████████████████████████               | 15073/18828 [01:29<00:21, 173.94it/s]"
     ]
    },
    {
     "name": "stdout",
     "output_type": "stream",
     "text": [
      "15073 :   Christian Parenting\n",
      "15074 :   phone number of wycliffe translators UK\n",
      "15075 :   Question about Virgin Mary\n",
      "15076 :   Question about Virgin Mary\n",
      "15077 :   What WAS the immaculate conception\n",
      "15078 :   SATANIC TOUNGES\n",
      "15079 :  Babylon Book Offer\n",
      "15080 :   March for Jesus\n",
      "15081 :   Record burning...\n",
      "15082 :  Monophysites and Mike Walker\n",
      "15083 :  Daily Verse\n",
      "15084 :  CHRIST, MY ADVOCATE  A Poem\n",
      "15085 :   Homosexuality issues in Christianity\n",
      "15086 :    My original post \n",
      "15087 :  Going permanent nomail\n",
      "15088 :   Question about Virgin Mary\n",
      "15089 :  MAJOR VIEWS OF THE TRINITY\n",
      "15090 :   Athiests and Hell\n",
      "15091 :   The arrogance of Christians\n"
     ]
    },
    {
     "name": "stderr",
     "output_type": "stream",
     "text": [
      "\r",
      " 80%|████████████████████████████████████████████████████████████               | 15092/18828 [01:29<00:23, 158.14it/s]"
     ]
    },
    {
     "name": "stdout",
     "output_type": "stream",
     "text": [
      "15092 :   Question about Virgin Mary\n",
      "15093 :   What WAS the immaculate conception\n",
      "15094 :  Legal definition of religion\n",
      "15095 :   What WAS the immaculate conception\n",
      "15096 :  2nd CFV: soc.religion.islam.ahmadiyya moderated\n",
      "15097 :   Question about Virgin Mary\n",
      "15098 :   If There Were No Hell\n",
      "15099 :   If There Were No Hell\n",
      "15100 :   The Bible available in every language \n",
      "15101 :   Deuterocanonicals, esp. Sirach\n",
      "15102 :   Question about Virgin Mary\n",
      "15103 :   Christianity and repeated lives\n",
      "15104 :   The truth of the Bible\n",
      "15105 :   Homosexuality issues in Christianity\n",
      "15106 :   SATANIC TOUNGES\n",
      "15107 :   Why do people become atheists\n",
      "15108 :  Daily Verse\n",
      "15109 :   Athiests and Hell\n",
      "15110 :   Monophysites and Mike Walker\n"
     ]
    },
    {
     "name": "stderr",
     "output_type": "stream",
     "text": [
      "\r",
      " 80%|████████████████████████████████████████████████████████████▏              | 15111/18828 [01:29<00:22, 165.96it/s]"
     ]
    },
    {
     "name": "stdout",
     "output_type": "stream",
     "text": [
      "15111 :   Question about Virgin Mary\n",
      "15112 :  PublicPrivate Revelation (formerly  Question about Virgin Mary\n",
      "15113 :   Question from an agnostic\n",
      "15114 :   SATANIC TOUNGES\n",
      "15115 :   Question about Virgin Mary\n",
      "15116 :   Seeking Christian opinion, all sorts.\n",
      "15117 :  The Nicene Creed \n",
      "15118 :   The doctrine of Original Sin\n",
      "15119 :   Serbian genocide Work of God\n",
      "15120 :   Why do people become atheists\n",
      "15121 :  Christians in the Martial Arts\n",
      "15122 :   Good Jewish Arguments\n",
      "15123 :   Atheists and Hell\n",
      "15124 :   Homosexuality issues in Christianity\n",
      "15125 :   Mormon Temples\n",
      "15126 :   What WAS the immaculate conception\n",
      "15127 :   When are two people married in God is e\n",
      "15128 :   Serbian genocide Work of God\n",
      "15129 :   When are two people married in God is e\n",
      "15130 :  Mormon temples\n"
     ]
    },
    {
     "name": "stderr",
     "output_type": "stream",
     "text": [
      "\r",
      " 80%|████████████████████████████████████████████████████████████▎              | 15131/18828 [01:29<00:21, 174.21it/s]"
     ]
    },
    {
     "name": "stdout",
     "output_type": "stream",
     "text": [
      "15131 :   Mormon Temples\n",
      "15132 :   The doctrine of Original Sin\n",
      "15133 :   Question about Virgin Mary\n",
      "15134 :   Portland earthquake\n",
      "15135 :   The arrogance of Christians\n",
      "15136 :   Christianity and repeated lives\n",
      "15137 :   SATANIC TOUNGES\n",
      "15138 :  Giving spiritual gifts\n",
      "15139 :   Variants in the NT Text \n",
      "15140 :   Satan kicked out of heaven: Biblical\n",
      "15141 :   Why do people become atheists\n",
      "15142 :   Satan kicked out of heaven: Biblical\n",
      "15143 :   Monophysites and Mike Walker\n",
      "15144 :  Translations\n",
      "15145 :  Satan and MTV\n",
      "15146 :   SATANIC TOUNGES\n",
      "15147 :  Major Views of the Trinity\n",
      "15148 :   Homosexuality issues in Christiani\n",
      "15149 :  Apology\n"
     ]
    },
    {
     "name": "stderr",
     "output_type": "stream",
     "text": [
      "\r",
      " 80%|████████████████████████████████████████████████████████████▎              | 15150/18828 [01:29<00:23, 158.54it/s]"
     ]
    },
    {
     "name": "stdout",
     "output_type": "stream",
     "text": [
      "15150 :  National repentance\n",
      "15151 :  Mary is assumption\n",
      "15152 :  Should Christians fight  Justifiable war\n",
      "15153 :  St. Maria Goretti\n",
      "15154 :  Mormon beliefs about bastards\n",
      "15155 :   National repentance\n",
      "15156 :   Why do people become atheists\n",
      "15157 :   Satan kicked out of heaven: Biblical\n",
      "15158 :   The doctrine of Original Sin\n",
      "15159 :   Homosexuality issues in Christianity\n",
      "15160 :  Divorce\n",
      "15161 :   Mormon temples\n",
      "15162 :   Homosexuality issues in Christianity\n",
      "15163 :  God, morality, and massacres\n",
      "15164 :   Question from an agnostic\n",
      "15165 :   Christianity and repeated lives\n",
      "15166 :  Deuterocanonicals, esp. Sirach\n",
      "15167 :   Deuterocanonicals, esp. Sirach\n",
      "15168 :   Should Christians fight  Justifiable war\n",
      "15169 :   Is OT Valid\n"
     ]
    },
    {
     "name": "stderr",
     "output_type": "stream",
     "text": [
      "\r",
      " 81%|████████████████████████████████████████████████████████████▍              | 15170/18828 [01:29<00:21, 167.52it/s]"
     ]
    },
    {
     "name": "stdout",
     "output_type": "stream",
     "text": [
      "15170 :   Revelations  BABYLON\n",
      "15171 :   Revelations  BABYLON\n",
      "15172 :   Translations\n",
      "15173 :   The doctrine of Original Sin\n",
      "15174 :   Monophysites and Mike Walker\n",
      "15175 :   Serbian genocide Work of God\n",
      "15176 :   The doctrine of Original Sin\n",
      "15177 :   The obvious isn't politically correct.\n",
      "15178 :   Homosexuality issues in Christianity\n",
      "15179 :   Ethnicity in Worship\n",
      "15180 :   Homosexuality issues in Christiani\n",
      "15181 :   Mary is assumption\n",
      "15182 :   If There Were No Hell\n",
      "15183 :   Question about Virgin Mary\n",
      "15184 :   How I got saved...\n",
      "15185 :   SATANIC TOUNGES\n",
      "15186 :   What WAS the immaculate conception\n",
      "15187 :   The doctrine of Original Sin\n"
     ]
    },
    {
     "name": "stderr",
     "output_type": "stream",
     "text": [
      "\r",
      " 81%|████████████████████████████████████████████████████████████▌              | 15188/18828 [01:30<00:22, 159.99it/s]"
     ]
    },
    {
     "name": "stdout",
     "output_type": "stream",
     "text": [
      "15188 :  the ancient canon of the Roman rite\n",
      "15189 :   Why do people become atheists\n",
      "15190 :   God, morality, and massacres\n",
      "15191 :   Why do people become atheists\n",
      "15192 :   Revelations  BABYLON\n",
      "15193 :  Question about hell\n",
      "15194 :   Monophysites and Mike Walker\n",
      "15195 :   Homosexuality issues in Christianity\n",
      "15196 :   Mormon temples\n",
      "15197 :   Mormon beliefs about bastards\n",
      "15198 :   Homosexuality issues in Christianity\n",
      "15199 :   Why do people become atheists\n",
      "15200 :   Why do people become atheists\n",
      "15201 :   Athiests and Hell\n",
      "15202 :   Why do people become atheists\n",
      "15203 :   homosexual issues in Christianity\n",
      "15204 :   Homosexuality issues in Christiani\n",
      "15205 :   Why do people become atheists\n",
      "15206 :   War   should Christians fight\n"
     ]
    },
    {
     "name": "stderr",
     "output_type": "stream",
     "text": [
      "\r",
      " 81%|████████████████████████████████████████████████████████████▌              | 15207/18828 [01:30<00:21, 167.22it/s]"
     ]
    },
    {
     "name": "stdout",
     "output_type": "stream",
     "text": [
      "15207 :   Mormon Temples\n",
      "15208 :   Mary is assumption\n",
      "15209 :   Serbian genocide Work of God\n",
      "15210 :   Question about Virgin Mary\n",
      "15211 :  SJ Mercury is reference to Fundamentalist Christian parents\n",
      "15212 :   Christianity and repeated lives\n",
      "15213 :   Question about Virgin Mary\n",
      "15214 :   MAJOR VIEWS OF THE TRINITY\n",
      "15215 :  Daily Verse\n",
      "15216 :   Monophysites and Mike Walker\n",
      "15217 :   God, morality, and massacres\n",
      "15218 :   Monophysites and Mike Walker\n",
      "15219 :   The Nicene Creed \n",
      "15220 :   earthquake prediction\n",
      "15221 :   MAJOR VIEWS OF THE TRINITY \n",
      "15222 :   If There Were No Hell\n",
      "15223 :   Serbian genocide Work of God\n",
      "15224 :  Dreams and out of body incidents\n"
     ]
    },
    {
     "name": "stderr",
     "output_type": "stream",
     "text": [
      "\r",
      " 81%|████████████████████████████████████████████████████████████▋              | 15225/18828 [01:30<00:22, 160.38it/s]"
     ]
    },
    {
     "name": "stdout",
     "output_type": "stream",
     "text": [
      "15225 :   Why do people become atheists\n",
      "15226 :   Atheists and Hell\n",
      "15227 :   When are two people married in God is e\n",
      "15228 :   Homosexuality issues in Christiani\n",
      "15229 :   Question about Virgin Mary\n",
      "15230 :   If There Were No Hell\n",
      "15231 :   Robin Lane Fox is _The Unauthorized Version_\n",
      "15232 :   Atheists and Hell\n",
      "15233 :  Major Views of the Trinity\n",
      "15234 :   Question about Virgin Mary\n",
      "15235 :   Why do people become atheists\n",
      "15236 :   If There Were No Hell\n",
      "15237 :   Deuterocanonicals, esp. Sirach\n",
      "15238 :   Deuterocanonicals, esp. Sirach\n",
      "15239 :   Christianity and repeated lives\n",
      "15240 :   Divorce\n",
      "15241 :   The doctrine of Original Sin\n"
     ]
    },
    {
     "name": "stderr",
     "output_type": "stream",
     "text": [
      "\r",
      " 81%|████████████████████████████████████████████████████████████▋              | 15242/18828 [01:30<00:22, 162.47it/s]"
     ]
    },
    {
     "name": "stdout",
     "output_type": "stream",
     "text": [
      "15242 :   The doctrine of Original Sin\n",
      "15243 :   Homosexuality issues in Christianity\n",
      "15244 :   Mormon temples\n",
      "15245 :   When are two people married in God is e\n",
      "15246 :   Why do people become atheists\n",
      "15247 :   Deuterocanonicals, esp. Sirach\n",
      "15248 :  Christian Embassy in DC\n",
      "15249 :   The doctrine of Original Sin\n",
      "15250 :  Ontological argument\n",
      "15251 :   Homosexuality issues in Christianity\n",
      "15252 :   National repentance\n",
      "15253 :  Urbana 93 mission conference\n",
      "15254 :   When are two people married in God is e\n",
      "15255 :   The doctrine of Original Sin\n",
      "15256 :   Mormon Temples\n",
      "15257 :   Does it matter which church\n",
      "15258 :   Christianity and repeated lives\n"
     ]
    },
    {
     "name": "stderr",
     "output_type": "stream",
     "text": [
      "\r",
      " 81%|████████████████████████████████████████████████████████████▊              | 15259/18828 [01:30<00:22, 158.57it/s]"
     ]
    },
    {
     "name": "stdout",
     "output_type": "stream",
     "text": [
      "15259 :   Satan and TV\n",
      "15260 :   Portland earthquake\n",
      "15261 :   Why do people become atheists\n",
      "15262 :   SATANIC TOUNGES\n",
      "15263 :  FAQ essay on homosexuality\n",
      "15264 :  Baptism requires Faith\n",
      "15265 :   Atheists and Hell\n",
      "15266 :  Christianity and repeated lives\n",
      "15267 :   Variants in the NT Text \n",
      "15268 :  SOC.RELIGION.CHRISTIAN\n",
      "15269 :  Virtues of Purity, Modesty and innocence\n",
      "15270 :  hate the sin...\n",
      "15271 :  Daily Verse\n",
      "15272 :  _Christianity In Crisis_ by Hank Hanegraaff\n",
      "15273 :   Mormon beliefs about bastards\n",
      "15274 :   Homosexuality issues in Christianity\n",
      "15275 :   Deuterocanicals, eps. Sirach\n"
     ]
    },
    {
     "name": "stderr",
     "output_type": "stream",
     "text": [
      "\r",
      " 81%|████████████████████████████████████████████████████████████▊              | 15276/18828 [01:30<00:24, 147.42it/s]"
     ]
    },
    {
     "name": "stdout",
     "output_type": "stream",
     "text": [
      "15276 :   Legal definition of religion\n",
      "15277 :   Homosexuality issues in Christianity\n",
      "15278 :   What WAS the immaculate conception\n",
      "15279 :   The doctrine of Original Sin\n",
      "15280 :   What WAS the immaculate conception\n",
      "15281 :  Definition of Christianity\n",
      "15282 :   Homosexuality issues in Christianity\n",
      "15283 :   Satan kicked out of heaven: Biblical\n",
      "15284 :  a few questions\n",
      "15285 :   Why do people become atheists\n",
      "15286 :   homosexual issues in Christianity\n",
      "15287 :   The doctrine of Original Sin\n",
      "15288 :   Mary is assumption\n",
      "15289 :  New thought on Deuterocanonicals\n",
      "15290 :  On Capital Punishment\n",
      "15291 :   The Bible available in every language \n",
      "15292 :  The Bible on the Immaculate COnception\n",
      "15293 :  two nits picked\n",
      "15294 :  Bernadette dates\n",
      "15295 :   SATANIC TOUNGES\n",
      "15296 :  Jacob and Esau\n",
      "15297 :  RFD: soc.religion.taize\n"
     ]
    },
    {
     "name": "stderr",
     "output_type": "stream",
     "text": [
      "\r",
      " 81%|████████████████████████████████████████████████████████████▉              | 15298/18828 [01:30<00:21, 163.01it/s]"
     ]
    },
    {
     "name": "stdout",
     "output_type": "stream",
     "text": [
      "15298 :  legal definition of religion\n",
      "15299 :   Athiests and Hell\n",
      "15300 :  Eternal Marriage \n",
      "15301 :  Christian CounselingPsychology Folks out there\n",
      "15302 :   Dreams and out of body incidents\n",
      "15303 :   Bastards \n",
      "15304 :   The doctrine of Original Sin\n",
      "15305 :   Dreams and out of body incidents\n",
      "15306 :   The doctrine of Original Sin\n",
      "15307 :  more on 2 Peter 1:20\n",
      "15308 :   earthquake prediction\n",
      "15309 :   homosexual issues in Christianity\n",
      "15310 :   Mary is assumption\n",
      "15311 :   The arrogance of Christians\n",
      "15312 :  Daily Verse\n",
      "15313 :   The doctrine of Original Sin\n",
      "15314 :   SATANIC TOUNGES\n",
      "15315 :   How I got saved...\n",
      "15316 :   The doctrine of Original Sin\n",
      "15317 :   FAQ essay on homosexuality\n"
     ]
    },
    {
     "name": "stderr",
     "output_type": "stream",
     "text": [
      "\r",
      " 81%|█████████████████████████████████████████████████████████████              | 15318/18828 [01:30<00:20, 172.40it/s]"
     ]
    },
    {
     "name": "stdout",
     "output_type": "stream",
     "text": [
      "15318 :   FAQ essay on homosexuality\n",
      "15319 :   Homosexuality issues in Christianity\n",
      "15320 :  Catholic doctrine of predestination\n",
      "15321 :  An quoted argument for theism\n",
      "15322 :   How I got saved\n",
      "15323 :   The doctrine of Original Sin\n",
      "15324 :   Homosexuality issues in Christiani\n",
      "15325 :   homosexual issues in Christianity\n",
      "15326 :   Dreams and out of body incidents\n",
      "15327 :   SATANIC TOUNGES\n",
      "15328 :   Homosexuality issues in Christianity\n",
      "15329 :   Deuterocanonicals, esp. Sirach\n",
      "15330 :   Deuterocanonicals, esp. Sirach\n",
      "15331 :  Praying for Justice\n",
      "15332 :   Deuterocanonicals, esp. Sirach\n",
      "15333 :  Boston C of C\n",
      "15334 :   If There Were No Hell\n",
      "15335 :   Why do people become atheists Apology\n",
      "15336 :   Mormon beliefs about children born out of wedlock\n",
      "15337 :    Atheists and Hell\n",
      "15338 :  Who PraysSpeaks in Tongues\n"
     ]
    },
    {
     "name": "stderr",
     "output_type": "stream",
     "text": [
      "\r",
      " 81%|█████████████████████████████████████████████████████████████              | 15339/18828 [01:30<00:19, 178.70it/s]"
     ]
    },
    {
     "name": "stdout",
     "output_type": "stream",
     "text": [
      "15339 :   Homosexuality issues in Christianity\n",
      "15340 :   Incarnation...Two minds of Christ..\n",
      "15341 "
     ]
    }
   ],
   "source": [
    "for i in tqdm(range(len(df[0]))):\n",
    "    text=re.findall('Subject:.*',df[0][i])\n",
    "    text=re.sub('Subject:','',text[0])\n",
    "    text=re.sub('Re:','',text)\n",
    "    text=re.sub('\\(.*\\)','',text)\n",
    "    text=re.sub('\\[.*\\]','',text)\n",
    "    text=re.sub('[!?><*/\\-\"]','',text)\n",
    "    text=re.sub(\"'s\",' is',text)\n",
    "    text=re.sub(\"can't\",'can not',text)\n",
    "    text=re.sub(\"'ve\",' have',text)\n",
    "    text=re.sub(\"'m\",' am',text)\n",
    "    text=re.sub(\"'are\",' are',text)\n",
    "    text=re.sub(\"'ll\",' will',text)\n",
    "#can't -> can not, 's -> is, i've -> i have, i'm -> i am, you're -> you are, i'll --> i will \n",
    "    print(i,':',text)"
   ]
  },
  {
   "cell_type": "code",
   "execution_count": null,
   "metadata": {},
   "outputs": [],
   "source": [
    "df[0][124]"
   ]
  },
  {
   "cell_type": "code",
   "execution_count": 160,
   "metadata": {},
   "outputs": [
    {
     "data": {
      "text/plain": [
       "'From: frank  (Frank O\\'Dwyer)\\nSubject: Re: After 2000 years, can we say that Christian Morality is\\n\\nIn article <1993Apr15.125245.12872 > MANDTBACKA  (Mats Andtbacka) writes:\\n|In <1qie61$fkt > frank  writes:\\n|> In article <30114 > halat  (Jim Halat) writes:\\n|\\n|> #I\\'m one of those people who does not know what the word objective means \\n|> #when put next to the word morality.  I assume its an idiom and cannot\\n|> #be defined by its separate terms.\\n|> #\\n|> #Give it a try.\\n|> \\n|> Objective morality is morality built from objective values.\\n|\\n|      \"And these objective values are ... ?\"\\n|Please be specific, and more importantly, motivate.\\n\\nI\\'ll take a wild guess and say Freedom is objectively valuable.  I base\\nthis on the assumption that if everyone in the world were deprived utterly\\nof their freedom (so that their every act was contrary to their volition),\\nalmost all would want to complain.  Therefore I take it that to assert or\\nbelieve that \"Freedom is not very valuable\", when almost everyone can see\\nthat it is, is every bit as absurd as to assert \"it is not raining\" on\\na rainy day.  I take this to be a candidate for an objective value, and it\\nit is a necessary condition for objective morality that objective values\\nsuch as this exist.\\n\\n-- \\nFrank O\\'Dwyer                                  \\'I\\'m not hatching That\\'\\nodwyer                                   from \"Hens\",  by Evelyn Conlon\\n'"
      ]
     },
     "execution_count": 160,
     "metadata": {},
     "output_type": "execute_result"
    }
   ],
   "source": [
    "df[0][234]"
   ]
  },
  {
   "cell_type": "code",
   "execution_count": null,
   "metadata": {},
   "outputs": [],
   "source": []
  },
  {
   "cell_type": "markdown",
   "metadata": {
    "colab_type": "text",
    "id": "zIovFDQzYv03"
   },
   "source": [
    "<pre>\n",
    "<font color='blue'><b>3.</b></font> Get subject of the text i.e. get the total lines where \"Subject:\" occur and remove \n",
    "the word which are before the \":\" remove the newlines, tabs, punctuations, any special chars.\n",
    "<b>Eg: if we have sentance like \"Subject: Re: Gospel Dating @ \\r\\r\\n\" --> You have to get \"Gospel Dating\"</b> \n",
    "Save all this data into another list/array. \n",
    "\n",
    "<font color='blue'><b>4.</b></font> After you store it in the list, Replace those sentances in original text by space.\n",
    "\n",
    "<font color='blue'><b>5.</b></font> Delete all the sentances where sentence starts with <b>\"Write to:\"</b> or <b>\"From:\"</b>.\n",
    "> In the above sample document check the 2nd line, we should remove that\n",
    "\n",
    "<font color='blue'><b>6.</b></font> Delete all the tags like \"< anyword >\"\n",
    "> In the above sample document check the 4nd line, we should remove that \"< 65882@mimsy.umd.edu >\"\n",
    "\n",
    "\n",
    "<font color='blue'><b>7.</b></font> Delete all the data which are present in the brackets. \n",
    "In many text data, we observed that, they maintained the explanation of sentence \n",
    "or translation of sentence to another language in brackets so remove all those.\n",
    "<b>Eg: \"AAIC-The course that gets you HIRED(AAIC - Der Kurs, der Sie anstellt)\" --> \"AAIC-The course that gets you HIRED\"</b>\n",
    "\n",
    "> In the above sample document check the 4nd line, we should remove that \"(Charley Wingate)\"\n",
    "\n",
    "\n",
    "<font color='blue'><b>8.</b></font> Remove all the newlines('\\n'), tabs('\\t'), \"-\", \"\\\".\n",
    "\n",
    "<font color='blue'><b>9.</b></font> Remove all the words which ends with <b>\":\"</b>.\n",
    "<b>Eg: \"Anyword:\"</b>\n",
    "> In the above sample document check the 4nd line, we should remove that \"writes:\"\n",
    "\n",
    "\n",
    "<font color='blue'><b>10.</b></font> Decontractions, replace words like below to full words. \n",
    "please check the donors choose preprocessing for this \n",
    "<b>Eg: can't -> can not, 's -> is, i've -> i have, i'm -> i am, you're -> you are, i'll --> i will </b>\n",
    "\n",
    "<b> There is no order to do point 6 to 10. but you have to get final output correctly</b>\n",
    "\n",
    "<font color='blue'><b>11.</b></font> Do chunking on the text you have after above preprocessing. \n",
    "Text chunking, also referred to as shallow parsing, is a task that \n",
    "follows Part-Of-Speech Tagging and that adds more structure to the sentence.\n",
    "So it combines the some phrases, named entities into single word.\n",
    "So after that combine all those phrases/named entities by separating <b>\"_\"</b>. \n",
    "And remove the phrases/named entities if that is a \"Person\". \n",
    "You can use <b>nltk.ne_chunk</b> to get these. \n",
    "Below we have given one example. please go through it. \n",
    "\n",
    "useful links: \n",
    "<a href='https://www.nltk.org/book/ch07.html'>https://www.nltk.org/book/ch07.html</a>\n",
    "<a href='https://stackoverflow.com/a/31837224/4084039'>https://stackoverflow.com/a/31837224/4084039</a>\n",
    "<a href='http://www.nltk.org/howto/tree.html'>http://www.nltk.org/howto/tree.html</a>\n",
    "<a href='https://stackoverflow.com/a/44294377/4084039'>https://stackoverflow.com/a/44294377/4084039</a>\n",
    "</pre>"
   ]
  },
  {
   "cell_type": "code",
   "execution_count": 0,
   "metadata": {
    "colab": {},
    "colab_type": "code",
    "id": "2lAaKQ6EYv04",
    "outputId": "53b66a94-acef-4002-e51c-002bde4178b4"
   },
   "outputs": [
    {
     "name": "stdout",
     "output_type": "stream",
     "text": [
      "i am living in the New York --> [('i', 'NN'), ('am', 'VBP'), ('living', 'VBG'), ('in', 'IN'), ('the', 'DT'), Tree('GPE', [('New', 'NNP'), ('York', 'NNP')])]\n",
      " \n",
      "--------------------------------------------------\n",
      " \n",
      "My name is Srikanth Varma --> [('My', 'PRP$'), ('name', 'NN'), ('is', 'VBZ'), Tree('PERSON', [('Srikanth', 'NNP'), ('Varma', 'NNP')])]\n"
     ]
    }
   ],
   "source": [
    "#i am living in the New York\n",
    "print(\"i am living in the New York -->\", list(chunks))\n",
    "print(\" \")\n",
    "print(\"-\"*50)\n",
    "print(\" \")\n",
    "#My name is Srikanth Varma\n",
    "print(\"My name is Srikanth Varma -->\", list(chunks1))"
   ]
  },
  {
   "cell_type": "markdown",
   "metadata": {
    "colab_type": "text",
    "id": "XV8gzLUjYv0-"
   },
   "source": [
    "<pre>We did chunking for above two lines and then We got one list where each word is mapped to a \n",
    "POS(parts of speech) and also if you see \"New York\" and \"Srikanth Varma\", \n",
    "they got combined and represented as a tree and \"New York\" was referred as \"GPE\" and \"Srikanth Varma\" was referred as \"PERSON\". \n",
    "so now you have to Combine the \"New York\" with <b>\"_\"</b> i.e \"New_York\"\n",
    "and remove the \"Srikanth Varma\" from the above sentence because it is a person.</pre>"
   ]
  },
  {
   "cell_type": "markdown",
   "metadata": {
    "colab_type": "text",
    "id": "VpaC-KF3Yv1A"
   },
   "source": [
    "<pre>\n",
    "<font color='blue'><b>13.</b></font> Replace all the digits with space i.e delete all the digits. \n",
    "> In the above sample document, the 6th line have digit 100, so we have to remove that.\n",
    "\n",
    "<font color='blue'><b>14.</b></font> After doing above points, we observed there might be few word's like\n",
    " <b> \"_word_\" (i.e starting and ending with the _), \"_word\" (i.e starting with the _),\n",
    "  \"word_\" (i.e ending with the _)</b> remove the <b>_</b> from these type of words. \n",
    "\n",
    "<font color='blue'><b>15.</b></font>  We also observed some words like <b> \"OneLetter_word\"- eg: d_berlin, \n",
    "\"TwoLetters_word\" - eg: dr_berlin </b>, in these words we remove the \"OneLetter_\" (d_berlin ==> berlin) and \n",
    "\"TwoLetters_\" (de_berlin ==> berlin). i.e remove the words \n",
    "which are length less than or equal to 2 after spliiting those words by \"_\". \n",
    "\n",
    "<font color='blue'><b>16.</b></font> Convert all the words into lower case and lowe case \n",
    "and remove the words which are greater than or equal to 15 or less than or equal to 2.\n",
    "\n",
    "<font color='blue'><b>17.</b></font> replace all the words except \"A-Za-z_\" with space. \n",
    "\n",
    "<font color='blue'><b>18.</b></font> Now You got Preprocessed Text, email, subject. create a dataframe with those. \n",
    "Below are the columns of the df. \n",
    "</pre>"
   ]
  },
  {
   "cell_type": "code",
   "execution_count": 0,
   "metadata": {
    "colab": {},
    "colab_type": "code",
    "id": "hB43OGEfYv1C",
    "outputId": "945bc8a4-1f99-4410-94c8-c776a405b5f0"
   },
   "outputs": [
    {
     "name": "stdout",
     "output_type": "stream",
     "text": [
      "Index(['text', 'class', 'preprocessed_text', 'preprocessed_subject',\n",
      "       'preprocessed_emails'],\n",
      "      dtype='object')\n"
     ]
    }
   ],
   "source": [
    "data.columns"
   ]
  },
  {
   "cell_type": "code",
   "execution_count": 0,
   "metadata": {
    "colab": {},
    "colab_type": "code",
    "id": "AM6A19xFYv1I",
    "outputId": "9de13fa8-6604-49a2-8013-6b22f0a256a8"
   },
   "outputs": [
    {
     "name": "stdout",
     "output_type": "stream",
     "text": [
      "text                    From: arc1@ukc.ac.uk (Tony Curtis)\\r\\r\\r\\nSubj...\n",
      "class                                                         alt.atheism\n",
      "preprocessed_text       said re is article if followed the quoting rig...\n",
      "preprocessed_subject                                christian morality is\n",
      "preprocessed_emails                                   ukc mac macalstr edu\n",
      "Name: 567, dtype: object\n"
     ]
    }
   ],
   "source": [
    "data.iloc[400]"
   ]
  },
  {
   "cell_type": "markdown",
   "metadata": {
    "colab_type": "text",
    "id": "rfWUeIN1Yv1N"
   },
   "source": [
    "### To get above mentioned data frame --> Try to Write Total Preprocessing steps in One Function Named Preprocess as below. "
   ]
  },
  {
   "cell_type": "code",
   "execution_count": 0,
   "metadata": {
    "colab": {},
    "colab_type": "code",
    "id": "uEGEHTNQYv1N"
   },
   "outputs": [],
   "source": [
    "def preprocess(Input_Text):\n",
    "    \"\"\"Do all the Preprocessing as shown above and\n",
    "    return a tuple contain preprocess_email,preprocess_subject,preprocess_text for that Text_data\"\"\"\n",
    "    return (list_of_preproessed_emails,subject,text)"
   ]
  },
  {
   "cell_type": "markdown",
   "metadata": {
    "colab_type": "text",
    "id": "ceASjKizYv1U"
   },
   "source": [
    "### Code checking:\n",
    "\n",
    "<font color='red' size=4>\n",
    "After Writing preprocess function. call that functoin with the input text of 'alt.atheism_49960' doc and print the output of the preprocess function\n",
    "<br>\n",
    "This will help us to evaluate faster, based on the output we can suggest you if there are any changes.\n",
    "</font>"
   ]
  },
  {
   "cell_type": "markdown",
   "metadata": {
    "colab_type": "text",
    "id": "2x3og_iaYv1S"
   },
   "source": [
    "### After writing Preprocess function, call the function for each of the document(18828 docs) and then create a dataframe as mentioned above."
   ]
  },
  {
   "cell_type": "markdown",
   "metadata": {
    "colab_type": "text",
    "id": "n3ucJLtWYv1V"
   },
   "source": [
    "### Training The models to Classify: \n",
    "\n",
    "<pre>\n",
    "1. Combine \"preprocessed_text\", \"preprocessed_subject\", \"preprocessed_emails\" into one column. use that column to model. \n",
    "\n",
    "2. Now Split the data into Train and test. use 25% for test also do a stratify split. \n",
    "\n",
    "3. Analyze your text data and pad the sequnce if required. \n",
    "Sequnce length is not restricted, you can use anything of your choice. \n",
    "you need to give the reasoning\n",
    "\n",
    "4. Do Tokenizer i.e convert text into numbers. please be careful while doing it. \n",
    "if you are using tf.keras \"Tokenizer\" API, it removes the <b>\"_\"</b>, but we need that.\n",
    "\n",
    "5. code the model's ( Model-1, Model-2 ) as discussed below \n",
    "and try to optimize that models.  \n",
    "\n",
    "6. For every model use predefined Glove vectors. \n",
    "<b>Don't train any word vectors while Training the model.</b>\n",
    "\n",
    "7. Use \"categorical_crossentropy\" as Loss. \n",
    "\n",
    "8. Use <b>Accuracy and Micro Avgeraged F1 score</b> as your as Key metrics to evaluate your model. \n",
    "\n",
    "9.  Use Tensorboard to plot the loss and Metrics based on the epoches.\n",
    "\n",
    "10. Please save your best model weights in to <b>'best_model_L.h5' ( L = 1 or 2 )</b>. \n",
    "\n",
    "11. You are free to choose any Activation function, learning rate, optimizer.\n",
    "But have to use the same architecture which we are giving below.\n",
    "\n",
    "12. You can add some layer to our architecture but you <b>deletion</b> of layer is not acceptable.\n",
    "\n",
    "13. Try to use <b>Early Stopping</b> technique or any of the callback techniques that you did in the previous assignments.\n",
    "\n",
    "14. For Every model save your model to image ( Plot the model) with shapes \n",
    "and inlcude those images in the notebook markdown cell, \n",
    "upload those imgages to Classroom. You can use \"plot_model\" \n",
    "please refer <a href='https://www.tensorflow.org/api_docs/python/tf/keras/utils/plot_model'>this</a> if you don't know how to plot the model with shapes. \n",
    "\n",
    "</pre>"
   ]
  },
  {
   "cell_type": "markdown",
   "metadata": {
    "colab_type": "text",
    "id": "c0mwdtcvYv1X"
   },
   "source": [
    "### Model-1: Using 1D convolutions with word embeddings"
   ]
  },
  {
   "cell_type": "markdown",
   "metadata": {
    "colab_type": "text",
    "id": "gXPPsovJ3ePk"
   },
   "source": [
    "<pre>\n",
    "<b>Encoding of the Text </b> --> For a given text data create a Matrix with Embedding layer as shown Below. \n",
    "In the example we have considered d = 5, but in this assignment we will get d = dimension of Word vectors we are using.\n",
    " i.e if we have maximum of 350 words in a sentence and embedding of 300 dim word vector, \n",
    " we result in 350*300 dimensional matrix for each sentance as output after embedding layer\n",
    "<img src='https://i.imgur.com/kiVQuk1.png'>\n",
    "Ref: https://i.imgur.com/kiVQuk1.png\n",
    "\n",
    "<b>Reference:</b>\n",
    "<a href='https://stackoverflow.com/a/43399308/4084039'>https://stackoverflow.com/a/43399308/4084039</a>\n",
    "<a href='https://missinglink.ai/guides/keras/keras-conv1d-working-1d-convolutional-neural-networks-keras/'>https://missinglink.ai/guides/keras/keras-conv1d-working-1d-convolutional-neural-networks-keras/</a>\n",
    "\n",
    "<b><a href='https://stats.stackexchange.com/questions/270546/how-does-keras-embedding-layer-work'>How EMBEDDING LAYER WORKS </a></b>\n",
    "\n",
    "</pre>\n",
    "\n",
    "### Go through this blog, if you have any doubt on using predefined Embedding values in Embedding layer - https://machinelearningmastery.com/use-word-embedding-layers-deep-learning-keras/"
   ]
  },
  {
   "cell_type": "markdown",
   "metadata": {
    "colab_type": "text",
    "id": "wGVQKge3Yv1e"
   },
   "source": [
    "<img src='https://i.imgur.com/fv1GvFJ.png'>\n",
    "ref: 'https://i.imgur.com/fv1GvFJ.png'"
   ]
  },
  {
   "cell_type": "markdown",
   "metadata": {
    "colab_type": "text",
    "id": "GC6SBG5AYv1f"
   },
   "source": [
    "<pre>\n",
    "1. all are Conv1D layers with any number of filter and filter sizes, there is no restriction on this.\n",
    "\n",
    "2. use concatenate layer is to concatenate all the filters/channels. \n",
    "\n",
    "3. You can use any pool size and stride for maxpooling layer.\n",
    "\n",
    "4. Don't use more than 16 filters in one Conv layer becuase it will increase the no of params. \n",
    "( Only recommendation if you have less computing power )\n",
    "\n",
    "5. You can use any number of layers after the Flatten Layer.\n",
    "</pre>"
   ]
  },
  {
   "cell_type": "markdown",
   "metadata": {
    "colab_type": "text",
    "id": "9cg4L1V4Yv1d"
   },
   "source": [
    "### Model-2 : Using 1D convolutions with character embedding"
   ]
  },
  {
   "cell_type": "markdown",
   "metadata": {
    "colab_type": "text",
    "id": "2Djg4YVA3oQx"
   },
   "source": [
    "<pre>\n",
    "<pre><img src=\"https://i.ytimg.com/vi/CNY8VjJt-iQ/maxresdefault.jpg\" width=\"70%\">\n",
    "Here are the some papers based on Char-CNN\n",
    " 1. Xiang Zhang, Junbo Zhao, Yann LeCun. <a href=\"http://arxiv.org/abs/1509.01626\">Character-level Convolutional Networks for Text Classification</a>.NIPS 2015\n",
    " 2. Yoon Kim, Yacine Jernite, David Sontag, Alexander M. Rush. <a href=\"https://arxiv.org/abs/1508.06615\">Character-Aware Neural Language Models</a>. AAAI 2016\n",
    " 3. Shaojie Bai, J. Zico Kolter, Vladlen Koltun. <a href=\"https://arxiv.org/pdf/1803.01271.pdf\">An Empirical Evaluation of Generic Convolutional and Recurrent Networks for Sequence Modeling</a>\n",
    "</pre>"
   ]
  },
  {
   "cell_type": "markdown",
   "metadata": {
    "colab_type": "text",
    "id": "VXvKSEIeSvN5"
   },
   "source": [
    "<img src='https://i.imgur.com/EuuoJtr.png'>"
   ]
  }
 ],
 "metadata": {
  "colab": {
   "collapsed_sections": [],
   "name": "Text Classification Assignment.ipynb",
   "provenance": []
  },
  "kernelspec": {
   "display_name": "Python 3",
   "language": "python",
   "name": "python3"
  },
  "language_info": {
   "codemirror_mode": {
    "name": "ipython",
    "version": 3
   },
   "file_extension": ".py",
   "mimetype": "text/x-python",
   "name": "python",
   "nbconvert_exporter": "python",
   "pygments_lexer": "ipython3",
   "version": "3.7.4"
  }
 },
 "nbformat": 4,
 "nbformat_minor": 1
}
