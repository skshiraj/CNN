{
 "cells": [
  {
   "cell_type": "markdown",
   "metadata": {
    "colab_type": "text",
    "id": "mDMgSstPYv0P"
   },
   "source": [
    "# Text Classification:\n",
    "\n",
    "## Data\n",
    "<pre>\n",
    "1. we have total of 20 types of documents(Text files) and total 18828 documents(text files).\n",
    "2. You can download data from this <a href='https://drive.google.com/open?id=1rxD15nyeIPIAZ-J2VYPrDRZI66-TBWvM'>link</a>, in that you will get documents.rar folder. <br>If you unzip that, you will get total of 18828 documnets. document name is defined as'ClassLabel_DocumentNumberInThatLabel'. \n",
    "so from document name, you can extract the label for that document.\n",
    "4. Now our problem is to classify all the documents into any one of the class.\n",
    "5. Below we provided count plot of all the labels in our data. \n",
    "</pre>"
   ]
  },
  {
   "cell_type": "code",
   "execution_count": 22,
   "metadata": {
    "colab": {},
    "colab_type": "code",
    "id": "64U9NzWFYv0V",
    "outputId": "f3f19ed2-f637-4a8c-cff7-40a603025e96"
   },
   "outputs": [
    {
     "name": "stderr",
     "output_type": "stream",
     "text": [
      "100%|████████████████████████████████████████████████████████████████████████████| 18828/18828 [05:07<00:00, 61.29it/s]\n"
     ]
    }
   ],
   "source": [
    "import pandas as pd\n",
    "from tqdm import tqdm\n",
    "import os\n",
    "folder = 'C:\\\\Users\\\\user\\\\Desktop\\\\CNN\\\\CNN_with_textdata\\\\documents'\n",
    "#labels = {'pos': 1, 'neg': 0}\n",
    "df = pd.DataFrame()\n",
    "path = os.path.join(folder)\n",
    "for file in tqdm(os.listdir (path) ):\n",
    "    #label=file.rsplit('_')[0]\n",
    "    label=file\n",
    "    with open(os.path.join(path, file),'r') as infile:\n",
    "        txt = infile.read()\n",
    "        df = df.append([[txt, label]],ignore_index=True)"
   ]
  },
  {
   "cell_type": "code",
   "execution_count": 23,
   "metadata": {},
   "outputs": [
    {
     "data": {
      "text/html": [
       "<div>\n",
       "<style scoped>\n",
       "    .dataframe tbody tr th:only-of-type {\n",
       "        vertical-align: middle;\n",
       "    }\n",
       "\n",
       "    .dataframe tbody tr th {\n",
       "        vertical-align: top;\n",
       "    }\n",
       "\n",
       "    .dataframe thead th {\n",
       "        text-align: right;\n",
       "    }\n",
       "</style>\n",
       "<table border=\"1\" class=\"dataframe\">\n",
       "  <thead>\n",
       "    <tr style=\"text-align: right;\">\n",
       "      <th></th>\n",
       "      <th>0</th>\n",
       "      <th>1</th>\n",
       "    </tr>\n",
       "  </thead>\n",
       "  <tbody>\n",
       "    <tr>\n",
       "      <td>0</td>\n",
       "      <td>From: mathew &lt;mathew@mantis.co.uk&gt;\\nSubject: A...</td>\n",
       "      <td>alt.atheism_49960.txt</td>\n",
       "    </tr>\n",
       "    <tr>\n",
       "      <td>1</td>\n",
       "      <td>From: mathew &lt;mathew@mantis.co.uk&gt;\\nSubject: A...</td>\n",
       "      <td>alt.atheism_51060.txt</td>\n",
       "    </tr>\n",
       "    <tr>\n",
       "      <td>2</td>\n",
       "      <td>From: I3150101@dbstu1.rz.tu-bs.de (Benedikt Ro...</td>\n",
       "      <td>alt.atheism_51119.txt</td>\n",
       "    </tr>\n",
       "    <tr>\n",
       "      <td>3</td>\n",
       "      <td>From: mathew &lt;mathew@mantis.co.uk&gt;\\nSubject: R...</td>\n",
       "      <td>alt.atheism_51120.txt</td>\n",
       "    </tr>\n",
       "    <tr>\n",
       "      <td>4</td>\n",
       "      <td>From: strom@Watson.Ibm.Com (Rob Strom)\\nSubjec...</td>\n",
       "      <td>alt.atheism_51121.txt</td>\n",
       "    </tr>\n",
       "  </tbody>\n",
       "</table>\n",
       "</div>"
      ],
      "text/plain": [
       "                                                   0                      1\n",
       "0  From: mathew <mathew@mantis.co.uk>\\nSubject: A...  alt.atheism_49960.txt\n",
       "1  From: mathew <mathew@mantis.co.uk>\\nSubject: A...  alt.atheism_51060.txt\n",
       "2  From: I3150101@dbstu1.rz.tu-bs.de (Benedikt Ro...  alt.atheism_51119.txt\n",
       "3  From: mathew <mathew@mantis.co.uk>\\nSubject: R...  alt.atheism_51120.txt\n",
       "4  From: strom@Watson.Ibm.Com (Rob Strom)\\nSubjec...  alt.atheism_51121.txt"
      ]
     },
     "execution_count": 23,
     "metadata": {},
     "output_type": "execute_result"
    }
   ],
   "source": [
    "df.head()"
   ]
  },
  {
   "cell_type": "code",
   "execution_count": 3,
   "metadata": {},
   "outputs": [
    {
     "data": {
      "text/plain": [
       "array(['alt.atheism', 'comp.graphics', 'comp.os.ms-windows.misc',\n",
       "       'comp.sys.ibm.pc.hardware', 'comp.sys.mac.hardware',\n",
       "       'comp.windows.x', 'misc.forsale', 'rec.autos', 'rec.motorcycles',\n",
       "       'rec.sport.baseball', 'rec.sport.hockey', 'sci.crypt',\n",
       "       'sci.electronics', 'sci.med', 'sci.space',\n",
       "       'soc.religion.christian', 'talk.politics.guns',\n",
       "       'talk.politics.mideast', 'talk.politics.misc',\n",
       "       'talk.religion.misc'], dtype=object)"
      ]
     },
     "execution_count": 3,
     "metadata": {},
     "output_type": "execute_result"
    }
   ],
   "source": [
    "df[1].unique()"
   ]
  },
  {
   "cell_type": "markdown",
   "metadata": {
    "colab_type": "text",
    "id": "2mK4TJOFYv0h"
   },
   "source": [
    "## Assignment:"
   ]
  },
  {
   "cell_type": "markdown",
   "metadata": {
    "colab_type": "text",
    "id": "VlqYFVI3Yv0k"
   },
   "source": [
    "#### sample document\n",
    "<pre>\n",
    "<font color='blue'>\n",
    "Subject: A word of advice\n",
    "From: jcopelan@nyx.cs.du.edu (The One and Only)\n",
    "\n",
    "In article < 65882@mimsy.umd.edu > mangoe@cs.umd.edu (Charley Wingate) writes:\n",
    ">\n",
    ">I've said 100 times that there is no \"alternative\" that should think you\n",
    ">might have caught on by now.  And there is no \"alternative\", but the point\n",
    ">is, \"rationality\" isn't an alternative either.  The problems of metaphysical\n",
    ">and religious knowledge are unsolvable-- or I should say, humans cannot\n",
    ">solve them.\n",
    "\n",
    "How does that saying go: Those who say it can't be done shouldn't interrupt\n",
    "those who are doing it.\n",
    "\n",
    "Jim\n",
    "--\n",
    "Have you washed your brain today?\n",
    "</font>\n",
    "</pre>"
   ]
  },
  {
   "cell_type": "code",
   "execution_count": 5,
   "metadata": {},
   "outputs": [],
   "source": [
    "import re\n",
    "preprocessed_emails=[]\n",
    "for i in range(len(df[0])):\n",
    "    doc_preprocessed_email=re.findall('@[\\w.-]+',df[0][i])\n",
    "    df[0][i]=re.sub('@[\\w.-]+',' ',df[0][i])\n",
    "    preprocessed_email=[]\n",
    "    for j in range(len(doc_preprocessed_email)):\n",
    "        doc_preprocessed_email[j]=doc_preprocessed_email[j].lstrip('@')\n",
    "        preprocessed_email.extend(doc_preprocessed_email[j].split('.'))\n",
    "    duplicate=[]\n",
    "    duplicate.extend(preprocessed_email)\n",
    "    for word in duplicate:\n",
    "        if len(word)<=2:\n",
    "            preprocessed_email.remove(word)\n",
    "        if word=='com'or word=='COM':\n",
    "            preprocessed_email.remove(word)\n",
    "    preprocessed_email=(' '.join(preprocessed_email))\n",
    "    preprocessed_emails.append(preprocessed_email)"
   ]
  },
  {
   "cell_type": "markdown",
   "metadata": {
    "colab_type": "text",
    "id": "KAR5HoR1Yv0m"
   },
   "source": [
    "### Preprocessing:\n",
    "<pre>\n",
    "useful links: <a href='http://www.pyregex.com/'>http://www.pyregex.com/</a>\n",
    "\n",
    "<font color='blue'><b>1.</b></font> Find all emails in the document and then get the text after the \"@\". and then split those texts by '.' \n",
    "after that remove the words whose length is less than or equal to 2 and also remove'com' word and then combine those words by space. \n",
    "In one doc, if we have 2 or more mails, get all.\n",
    "<b>Eg:[test@dm1.d.com, test2@dm2.dm3.com]-->[dm1.d.com, dm3.dm4.com]-->[dm1,d,com,dm2,dm3,com]-->[dm1,dm2,dm3]-->\"dm1 dm2 dm3\" </b> \n",
    "append all those into one list/array. ( This will give length of 18828 sentences i.e one list for each of the document). \n",
    "Some sample output was shown below. \n",
    "\n",
    "> In the above sample document there are emails [jcopelan@nyx.cs.du.edu, 65882@mimsy.umd.edu, mangoe@cs.umd.edu]\n",
    "\n",
    "preprocessing:\n",
    "[jcopelan@nyx.cs.du.edu, 65882@mimsy.umd.edu, mangoe@cs.umd.edu] ==> [nyx cs du edu mimsy umd edu cs umd edu] ==> \n",
    "[nyx edu mimsy umd edu umd edu]\n",
    "\n",
    "<font color='blue'><b>2.</b></font> Replace all the emails by space in the original text. \n",
    "</pre>"
   ]
  },
  {
   "cell_type": "code",
   "execution_count": 30,
   "metadata": {},
   "outputs": [
    {
     "data": {
      "text/plain": [
       "'  ? '"
      ]
     },
     "execution_count": 30,
     "metadata": {},
     "output_type": "execute_result"
    }
   ],
   "source": [
    "text=re.findall('Subject:.*',df[0][281])\n",
    "text=re.sub('Subject:','',text[0])\n",
    "text=re.sub('Re:','',text)\n",
    "text=re.sub('\\(.*\\)','',text)\n",
    "text"
   ]
  },
  {
   "cell_type": "code",
   "execution_count": 31,
   "metadata": {},
   "outputs": [
    {
     "name": "stderr",
     "output_type": "stream",
     "text": [
      "\r",
      "  0%|                                                                                         | 0/1000 [00:00<?, ?it/s]"
     ]
    },
    {
     "name": "stdout",
     "output_type": "stream",
     "text": [
      "0 :  Alt.Atheism\n",
      "1 :  Alt.Atheism\n",
      "2 :   Gospel Dating\n",
      "3 :   university violating separation of church/state?\n",
      "4 :   [soc.motss, et al.] \"Princeton axes matching funds for Boy Scouts\"\n",
      "5 :   A visit from the Jehovah is Witnesses\n",
      "6 :   Political Atheists?\n",
      "7 :   An Anecdote about Islam\n",
      "8 :   <Political Atheists?\n",
      "9 :   >>>>>>Pompous ass\n",
      "10 :   >>>>>>Pompous ass\n",
      "11 :   Keith Schneider - Stealth Poster?\n"
     ]
    },
    {
     "name": "stderr",
     "output_type": "stream",
     "text": [
      "\r",
      "  1%|▉                                                                              | 12/1000 [00:00<00:08, 116.13it/s]"
     ]
    },
    {
     "name": "stdout",
     "output_type": "stream",
     "text": [
      "12 :   Keith Schneider - Stealth Poster?\n",
      "13 :   <Political Atheists?\n",
      "14 :   <Political Atheists?\n",
      "15 :   Political Atheists?\n",
      "16 :   Don't more innocents die without the death penalty?\n",
      "17 :   Ancient islamic rituals\n",
      "18 :   <Political Atheists?\n",
      "19 :   There must be a creator! \n",
      "20 :   Americans and Evolution\n",
      "21 :   Speculations\n",
      "22 :   <Political Atheists?\n",
      "23 :   <Political Atheists?\n",
      "24 :   university violating separation of church/state?\n",
      "25 :   USAToday ad \n",
      "26 :   islamic authority over women\n",
      "27 :   Ancient islamic rituals\n"
     ]
    },
    {
     "name": "stderr",
     "output_type": "stream",
     "text": [
      "\r",
      "  3%|██▏                                                                            | 28/1000 [00:00<00:07, 125.17it/s]"
     ]
    },
    {
     "name": "stdout",
     "output_type": "stream",
     "text": [
      "28 :   [soc.motss, et al.] \"Princeton axes matching funds for Boy Scouts\"\n",
      "29 :   <Political Atheists?\n",
      "30 :   <Political Atheists?\n",
      "31 :   EnviroLeague\n",
      "32 :  Idle questions for fellow atheists\n",
      "33 :   Americans and Evolution\n",
      "34 :   Genocide is Caused by Atheism\n",
      "35 :   Dear Mr. Theist\n",
      "36 :   <Political Atheists?\n",
      "37 :   Radical Agnostic... NOT!\n",
      "38 :  So what is Maddi?\n",
      "39 :   The wrong and the right.\n",
      "40 :   <Political Atheists?\n",
      "41 :   Americans and Evolution\n",
      "42 :   <Political Atheists?\n"
     ]
    },
    {
     "name": "stderr",
     "output_type": "stream",
     "text": [
      "\r",
      "  4%|███▍                                                                           | 43/1000 [00:00<00:07, 130.65it/s]"
     ]
    },
    {
     "name": "stdout",
     "output_type": "stream",
     "text": [
      "43 :   <Political Atheists?\n",
      "44 :   Idle questions for fellow atheists\n",
      "45 :   The Problem of Satan \n",
      "46 :   [soc.motss, et al.] \"Princeton axes matching funds for Boy Scouts\"\n",
      "47 :   Gospel Dating\n",
      "48 :  A word of advice\n",
      "49 :   Concerning God is Morality \n",
      "50 :   islamic authority over women\n",
      "51 :   islamic authority over women\n",
      "52 :  Omnipotence \n",
      "53 :   Islamic marriage?\n",
      "54 :   <Political Atheists?\n",
      "55 :   <Political Atheists?\n",
      "56 :   <Political Atheists?\n",
      "57 :   >>>>>>Pompous ass\n",
      "58 :   >>>>>>Pompous ass\n"
     ]
    },
    {
     "name": "stderr",
     "output_type": "stream",
     "text": [
      "\r",
      "  6%|████▋                                                                          | 59/1000 [00:00<00:06, 136.37it/s]"
     ]
    },
    {
     "name": "stdout",
     "output_type": "stream",
     "text": [
      "59 :   Concerning God is Morality \n",
      "60 :   Jews can not hide from keith@cco.\n",
      "61 :   Jews can not hide from keith@cco.\n",
      "62 :   Yet more Rushdie [ ISLAMIC LAW]\n",
      "63 :   An Anecdote about Islam\n",
      "64 :   Genocide is Caused by Atheism\n",
      "65 :   *** The list of Biblical contradictions\n",
      "66 :   A visit from the Jehovah is Witnesses\n",
      "67 :   <Political Atheists?\n",
      "68 :   <Political Atheists?\n",
      "69 :   Omnipotence \n",
      "70 :   A Little Too Satanic\n",
      "71 :   Ancient islamic rituals\n",
      "72 :   Americans and Evolution\n",
      "73 :   Jews can not hide from keith@cco.\n",
      "74 :   Omnipotence \n",
      "75 :   A visit from the Jehovah is Witnesses\n"
     ]
    },
    {
     "name": "stderr",
     "output_type": "stream",
     "text": [
      "\r",
      "  8%|██████                                                                         | 76/1000 [00:00<00:06, 143.51it/s]"
     ]
    },
    {
     "name": "stdout",
     "output_type": "stream",
     "text": [
      "76 :  Islam vs the Jehovah is Witnesses\n",
      "77 :   Had to share this\n",
      "78 :   Genocide is Caused by Atheism\n",
      "79 :   A visit from the Jehovah is Witnesses\n",
      "80 :   Gospel Dating\n",
      "81 :   Gospel Dating\n",
      "82 :   Americans and Evolution\n",
      "83 :   A visit from the Jehovah is Witnesses\n",
      "84 :   Concerning God is Morality \n",
      "85 :   Concerning God is Morality \n",
      "86 :   An Anecdote about Islam\n",
      "87 :   Concerning God is Morality \n",
      "88 :   Islam & Dress Code for women\n"
     ]
    },
    {
     "name": "stderr",
     "output_type": "stream",
     "text": [
      "\r",
      "  9%|███████                                                                        | 89/1000 [00:00<00:06, 131.85it/s]"
     ]
    },
    {
     "name": "stdout",
     "output_type": "stream",
     "text": [
      "89 :   islamic authority over women\n",
      "90 :   Jews can not hide from keith@cco.\n",
      "91 :   Don't more innocents die without the death penalty?\n",
      "92 :   Islam & Dress Code for women\n",
      "93 :   There must be a creator! \n",
      "94 :   <Political Atheists?\n",
      "95 :   A Little Too Satanic\n",
      "96 :   Islamic marriage?\n",
      "97 :   Don't more innocents die without the death penalty?\n",
      "98 :   A visit from the Jehovah is Witnesses\n",
      "99 :   A visit from the Jehovah is Witnesses\n",
      "100 :   [soc.motss, et al.] \"Princeton axes matching funds for Boy Scouts\"\n",
      "101 :   A Little Too Satanic\n",
      "102 :   Americans and Evolution\n",
      "103 :   Alt.Atheism\n",
      "104 :   Theists posting\n",
      "105 :   Genocide is Caused by Atheism\n"
     ]
    },
    {
     "name": "stderr",
     "output_type": "stream",
     "text": [
      "\r",
      " 11%|████████▎                                                                     | 106/1000 [00:00<00:06, 140.53it/s]"
     ]
    },
    {
     "name": "stdout",
     "output_type": "stream",
     "text": [
      "106 :   Genocide is Caused by Atheism\n",
      "107 :   Radical Agnostic... NOT!\n",
      "108 :   Is Keith as ignorant as he seems?\n",
      "109 :   Keith Schneider - Stealth Poster?\n",
      "110 :   Keith Schneider - Stealth Poster?\n",
      "111 :   Political Atheists?\n",
      "112 :   <Political Atheists?\n",
      "113 :   Political Atheists?\n",
      "114 :   >>>>>>Pompous ass\n",
      "115 :   A visit from the Jehovah is Witnesses\n",
      "116 :   <Political Atheists?\n",
      "117 :   <Political Atheists?\n",
      "118 :   <Political Atheists?\n",
      "119 :   atheist?\n",
      "120 :   <Political Atheists?\n",
      "121 :   An Anecdote about Islam\n"
     ]
    },
    {
     "name": "stderr",
     "output_type": "stream",
     "text": [
      "\r",
      " 12%|█████████▌                                                                    | 122/1000 [00:00<00:06, 144.36it/s]"
     ]
    },
    {
     "name": "stdout",
     "output_type": "stream",
     "text": [
      "122 :  A fundamental contradiction \n",
      "123 :   atheist?\n",
      "124 :   The Inimitable Rushdie ( An Anecdote about Islam\n",
      "125 :   An Anecdote about Islam\n",
      "126 :   Biblical Rape\n",
      "127 :   [soc.motss, et al.] \"Princeton axes matching funds for Boy Scouts\"\n",
      "128 :   Americans and Evolution\n",
      "129 :   Is Morality Constant \n",
      "130 :   <Political Atheists?\n",
      "131 :   islamic authority over women\n",
      "132 :   [soc.motss, et al.] \"Princeton axes matching funds for Boy Scouts\"\n",
      "133 :   [soc.motss, et al.] \"Princeton axes matching funds for Boy Scouts\"\n",
      "134 :   Biblical Rape\n",
      "135 :   atheist?\n",
      "136 :   Why is sex only allowed in marriage: Rationality ?\n"
     ]
    },
    {
     "name": "stderr",
     "output_type": "stream",
     "text": [
      "\r",
      " 14%|██████████▋                                                                   | 137/1000 [00:00<00:06, 130.16it/s]"
     ]
    },
    {
     "name": "stdout",
     "output_type": "stream",
     "text": [
      "137 :   Motto Mania\n",
      "138 :   A visit from the Jehovah is Witnesses \n",
      "139 :  Benediktine Metaphysics\n",
      "140 :   Gospel Dating\n",
      "141 :  A Remarkable Admission\n",
      "142 :   Gospel Dating\n",
      "143 :   Yeah, Right\n",
      "144 :   Radical Agnostic... NOT!\n",
      "145 :   <Political Atheists?\n",
      "146 :   Yeah, Right\n",
      "147 :   Yeah, Right\n",
      "148 :   Ancient islamic rituals\n",
      "149 :   Ancient islamic rituals\n",
      "150 :   Why is sex only allowed in marriage: Rationality ?\n",
      "151 :   Ancient islamic rituals\n",
      "152 :   Benediktine Metaphysics\n",
      "153 :   islamic authority over women\n"
     ]
    },
    {
     "name": "stderr",
     "output_type": "stream",
     "text": [
      "\r",
      " 15%|████████████                                                                  | 154/1000 [00:01<00:06, 139.60it/s]"
     ]
    },
    {
     "name": "stdout",
     "output_type": "stream",
     "text": [
      "154 :   A visit from the Jehovah is Witnesses \n",
      "155 :  Evo. & Homosexuality \n",
      "156 :  Vonnegut/atheism\n",
      "157 :   Yet more Rushdie [ ISLAMIC LAW]\n",
      "158 :   Request for Support\n",
      "159 :   Bill Conner:\n",
      "160 :   [soc.motss, et al.] \"Princeton axes matching funds for Boy Scouts\"\n",
      "161 :   [soc.motss, et al.] \"Princeton axes matching funds for Boy Scouts\"\n",
      "162 :  Fluids vs Liquids\n",
      "163 :   Gospel Dating\n",
      "164 :   Is Morality Constant \n",
      "165 :   Gospel Dating\n",
      "166 :   Contradictions\n",
      "167 :  Ontology \n",
      "168 :   The Inimitable Rushdie\n"
     ]
    },
    {
     "name": "stderr",
     "output_type": "stream",
     "text": [
      "\r",
      " 17%|█████████████▏                                                                | 169/1000 [00:01<00:06, 131.87it/s]"
     ]
    },
    {
     "name": "stdout",
     "output_type": "stream",
     "text": [
      "169 :   A visit from the Jehovah is Witnesses\n",
      "170 :   Ancient islamic rituals\n",
      "171 :   Yeah, Right\n",
      "172 :   Yet more Rushdie [ ISLAMIC LAW]\n",
      "173 :   Gospel Dating\n",
      "174 :   And Another THing:\n",
      "175 :  Periodic Post of Charley Challenges, #3, with additions\n",
      "176 :   <Political Atheists?\n",
      "177 :  Request for Support\n",
      "178 :   Gospel Dating\n",
      "179 :   Americans and Evolution\n",
      "180 :   Second Law \n",
      "181 :   Gospel Dating\n",
      "182 :   Gospel Dating\n",
      "183 :   Not the Omni!\n",
      "184 :   IF ONLY HE KNEW\n"
     ]
    },
    {
     "name": "stderr",
     "output_type": "stream",
     "text": [
      "\r",
      " 18%|██████████████▍                                                               | 185/1000 [00:01<00:05, 139.06it/s]"
     ]
    },
    {
     "name": "stdout",
     "output_type": "stream",
     "text": [
      "185 :   Allah Akbar and Praise the Lord.\n",
      "186 :   Dear Mr. Theist\n",
      "187 :   Is Morality Constant \n",
      "188 :   Bill Conner:\n",
      "189 :   Islam & Dress Code for women\n",
      "190 :   Slavery \n",
      "191 :   Jews can not hide from keith@cco.\n",
      "192 :  Alt.Atheism\n",
      "193 :  Alt.Atheism\n",
      "194 :  Alt.Atheism\n",
      "195 :   Amusing atheists and agnostics\n",
      "196 :   \"So help you God\" in court?  \n",
      "197 :   Nicknames\n",
      "198 :   Amusing atheists and agnostics\n",
      "199 :  Christian Morality is\n"
     ]
    },
    {
     "name": "stderr",
     "output_type": "stream",
     "text": [
      "\r",
      " 20%|███████████████▌                                                              | 200/1000 [00:01<00:05, 141.64it/s]"
     ]
    },
    {
     "name": "stdout",
     "output_type": "stream",
     "text": [
      "200 :   KORESH IS GOD!\n",
      "201 :   YOU WILL ALL GO TO HELL!!!\n",
      "202 :   Amusing atheists and agnostics\n",
      "203 :   Is Morality Constant \n",
      "204 :   Yet more Rushdie [ ISLAMIC LAW]\n",
      "205 :   about the bible quiz answers\n",
      "206 :   Amusing atheists and agnostics\n",
      "207 :   some thoughts.\n",
      "208 :   THE POPE IS JEWISH!\n",
      "209 :   free moral agency and Jeff Clark\n",
      "210 :   THE POPE IS JEWISH!\n",
      "211 :   A silly question on x-tianity\n",
      "212 :   I don't beleive in you either.\n",
      "213 :   Genocide is Caused by Theism : Evidence?\n",
      "214 :   free moral agency and Jeff Clark\n"
     ]
    },
    {
     "name": "stderr",
     "output_type": "stream",
     "text": [
      "\r",
      " 22%|████████████████▊                                                             | 215/1000 [00:01<00:05, 136.23it/s]"
     ]
    },
    {
     "name": "stdout",
     "output_type": "stream",
     "text": [
      "215 :   <Political Atheists?\n",
      "216 :   New Member\n",
      "217 :   free moral agency\n",
      "218 :   some thoughts.\n",
      "219 :   some thoughts.\n",
      "220 :   Genocide is Caused by Atheism\n",
      "221 :   some thoughts.\n",
      "222 :   Slavery \n",
      "223 :   Slavery \n",
      "224 :   New Member\n",
      "225 :   Genocide is Caused by Atheism\n",
      "226 :   some thoughts.\n",
      "227 :   Genocide is Caused by Atheism\n",
      "228 :   some thoughts.\n"
     ]
    },
    {
     "name": "stderr",
     "output_type": "stream",
     "text": [
      "\r",
      " 23%|█████████████████▊                                                            | 229/1000 [00:01<00:05, 131.05it/s]"
     ]
    },
    {
     "name": "stdout",
     "output_type": "stream",
     "text": [
      "229 :   islamic genocide\n",
      "230 :   I don't beleive in you either.\n",
      "231 :   Genocide is Caused by Atheism\n",
      "232 :  islamic authority [sic] over women\n",
      "233 :   Feminism and Islam, again\n",
      "234 :   After 2000 years, can we say that Christian Morality is\n",
      "235 :   The Inimitable Rushdie ( An Anecdote about Islam\n",
      "236 :   Yet more Rushdie [ ISLAMIC LAW]\n",
      "237 :   Yet more Rushdie [ ISLAMIC LAW]\n",
      "238 :   Genocide is Caused by Atheism\n",
      "239 :   The nonexistance of Atheists?!\n",
      "240 :   some thoughts.\n",
      "241 :   Genocide is Caused by Atheism\n",
      "242 :   The Inimitable Rushdie\n",
      "243 :   A Little Too Satanic\n"
     ]
    },
    {
     "name": "stderr",
     "output_type": "stream",
     "text": [
      "\r",
      " 24%|███████████████████                                                           | 244/1000 [00:01<00:05, 131.33it/s]"
     ]
    },
    {
     "name": "stdout",
     "output_type": "stream",
     "text": [
      "244 :   note to Bobby M.\n",
      "245 :   The Inimitable Rushdie ( An Anecdote about Islam\n",
      "246 :   Slavery \n",
      "247 :   <Political Atheists?\n",
      "248 :   After 2000 years, can we say that Christian Morality is\n",
      "249 :   Where are they now?\n",
      "250 :   some thoughts.\n",
      "251 :   thoughts on christians\n",
      "252 :   Where are they now?\n",
      "253 :   <Political Atheists?\n",
      "254 :   <Political Atheists?\n",
      "255 :   <Political Atheists?\n",
      "256 :   <Political Atheists?\n",
      "257 :   <Political Atheists?\n",
      "258 :   <Political Atheists?\n",
      "259 :   After 2000 years, can we say that Christian Morality is\n"
     ]
    },
    {
     "name": "stderr",
     "output_type": "stream",
     "text": [
      "\r",
      " 26%|████████████████████▎                                                         | 260/1000 [00:01<00:05, 135.68it/s]"
     ]
    },
    {
     "name": "stdout",
     "output_type": "stream",
     "text": [
      "260 :   After 2000 years, can we say that Christian Morality is\n",
      "261 :   After 2000 years, can we say that Christian Morality is\n",
      "262 :   After 2000 years, can we say that Christian Morality is\n",
      "263 :   islamic genocide\n",
      "264 :   Death Penalty \n",
      "265 :   thoughts on christians\n",
      "266 :   Bible Quiz\n",
      "267 :  Why the bible?\n",
      "268 :   <Political Atheists?\n",
      "269 :   New Member\n",
      "270 :   The Inimitable Rushdie\n",
      "271 :   Yet more Rushdie [ ISLAMIC LAW]\n",
      "272 :   Yet more Rushdie [ ISLAMIC LAW]\n",
      "273 :   Yet more Rushdie [ ISLAMIC LAW]\n"
     ]
    },
    {
     "name": "stderr",
     "output_type": "stream",
     "text": [
      "\r",
      " 27%|█████████████████████▎                                                        | 274/1000 [00:02<00:05, 125.65it/s]"
     ]
    },
    {
     "name": "stdout",
     "output_type": "stream",
     "text": [
      "274 :   Yet more Rushdie [ ISLAMIC LAW]\n",
      "275 :   The Inimitable Rushdie\n",
      "276 :   free moral agency\n",
      "277 :   note to Bobby M.\n",
      "278 :   Morality? \n",
      "279 :   Morality? \n",
      "280 :   Morality? \n",
      "281 :   ? \n",
      "282 :   The Inimitable Rushdie\n",
      "283 :   Free Moral Agency and Kent S.\n",
      "284 :   free moral agency and Jeff Clark\n",
      "285 :   <<Pompous ass\n",
      "286 :   <<Pompous ass\n",
      "287 :   Objective morality \n",
      "288 :   who are we to judge, Bobby?\n",
      "289 :   some thoughts.\n",
      "290 :   who are we to judge, Bobby?\n",
      "291 :   Death Penalty \n"
     ]
    },
    {
     "name": "stderr",
     "output_type": "stream",
     "text": [
      "\r",
      " 29%|██████████████████████▊                                                       | 292/1000 [00:02<00:05, 136.63it/s]"
     ]
    },
    {
     "name": "stdout",
     "output_type": "stream",
     "text": [
      "292 :   some thoughts.\n",
      "293 :   <Political Atheists?\n",
      "294 :   some thoughts.\n",
      "295 :   Yet more Rushdie [ ISLAMIC LAW]\n",
      "296 :   Morality? \n",
      "297 :   Moraltiy? \n",
      "298 :   \"Cruel\" \n",
      "299 :   <Political Atheists?\n",
      "300 :   Morality? \n",
      "301 :   <<Pompous ass\n",
      "302 :   thoughts on christians\n",
      "303 :  It is all Mary is fault!\n",
      "304 :   Rawlins debunks creationism\n",
      "305 :   some thoughts.\n",
      "306 :   After 2000 years, can we say that Christian Morality is\n",
      "307 :   islamic authority over women\n",
      "308 :   Objective morality \n",
      "309 :   <<Pompous ass\n",
      "310 :   Moraltiy? \n"
     ]
    },
    {
     "name": "stderr",
     "output_type": "stream",
     "text": [
      "\r",
      " 31%|████████████████████████▎                                                     | 311/1000 [00:02<00:04, 148.54it/s]"
     ]
    },
    {
     "name": "stdout",
     "output_type": "stream",
     "text": [
      "311 :   The Inimitable Rushdie\n",
      "312 :   The Inimitable Rushdie\n",
      "313 :   Slavery \n",
      "314 :   <<Pompous ass\n",
      "315 :   <<Pompous ass\n",
      "316 :   Morality? \n",
      "317 :   Objective morality \n",
      "318 :   New Member\n",
      "319 :   <Political Atheists?\n",
      "320 :   <<Pompous ass\n",
      "321 :   Objective morality \n",
      "322 :   Slavery \n",
      "323 :   Morality? \n",
      "324 :   After 2000 years, can we say that Christian Morality is\n",
      "325 :   Yet more Rushdie [ ISLAMIC LAW]\n",
      "326 :   Morality? \n",
      "327 :   \"Cruel\" \n",
      "328 :   <<Pompous ass\n",
      "329 :   thoughts on christians\n"
     ]
    },
    {
     "name": "stderr",
     "output_type": "stream",
     "text": [
      "\r",
      " 33%|█████████████████████████▋                                                    | 330/1000 [00:02<00:04, 156.50it/s]"
     ]
    },
    {
     "name": "stdout",
     "output_type": "stream",
     "text": [
      "330 :   <Political Atheists?\n",
      "331 :   Objective morality \n",
      "332 :  Islam is caused by believing \n",
      "333 :   The Inimitable Rushdie ( An Anecdote about Islam\n",
      "334 :   The Inimitable Rushdie ( An Anecdote about Islam\n",
      "335 :   A silly question on x-tianity\n",
      "336 :   The nonexistance of Atheists?!\n",
      "337 :  Keith IS a relativist!\n",
      "338 :   some thoughts.\n",
      "339 :   Objective Values 'v' Scientific Accuracy \n",
      "340 :  Victims of various 'Good Fight is\n",
      "341 :   Keith Schneider - Stealth Poster?\n",
      "342 :   It is all Mary is fault!\n",
      "343 :   Amusing atheists and agnostics\n",
      "344 :   Origins of the bible.\n",
      "345 :   Yet more Rushdie [ ISLAMIC LAW]\n",
      "346 :   Christian Morality is\n",
      "347 :   After 2000 years, can we say that Christian Morality is\n"
     ]
    },
    {
     "name": "stderr",
     "output_type": "stream",
     "text": [
      "\r",
      " 35%|███████████████████████████▏                                                  | 348/1000 [00:02<00:04, 162.42it/s]"
     ]
    },
    {
     "name": "stdout",
     "output_type": "stream",
     "text": [
      "348 :   Amusing atheists and agnostics\n",
      "349 :   The Inimitable Rushdie\n",
      "350 :   Amusing atheists and agnostics\n",
      "351 :   Islam And Scientific Predictions \n",
      "352 :   Islam And Scientific Predictions \n",
      "353 :  Southern Baptist Convention & Freemasonry\n",
      "354 :   Societally acceptable behavior\n",
      "355 :   Origins of the bible.\n",
      "356 :   Amusing atheists and agnostics\n",
      "357 :   Requests\n",
      "358 :   thoughts on christians\n",
      "359 :   What is a shit shoveler to do? \n",
      "360 :   Christian Morality is\n",
      "361 :   Amusing atheists and agnostics\n",
      "362 :  Studies on Book of Mormon\n",
      "363 :   Gulf War and Peace-niks\n",
      "364 :   Amusing atheists and agnostics\n"
     ]
    },
    {
     "name": "stderr",
     "output_type": "stream",
     "text": [
      "\r",
      " 36%|████████████████████████████▍                                                 | 365/1000 [00:02<00:03, 163.75it/s]"
     ]
    },
    {
     "name": "stdout",
     "output_type": "stream",
     "text": [
      "365 :  He has risen!\n",
      "366 :   Idle questions for fellow atheists\n",
      "367 :   Societally acceptable behavior\n",
      "368 :   islamic genocide\n",
      "369 :   Amusing atheists and agnostics\n",
      "370 :   Christian Morality is\n",
      "371 :   Death Penalty / Gulf War\n",
      "372 :   Theism and Fanatism \n",
      "373 :   YOU WILL ALL GO TO HELL!!!\n",
      "374 :   YOU WILL ALL GO TO HELL!!!\n",
      "375 :   free moral agency\n",
      "376 :   What is a shit shoveler to do? \n",
      "377 :   Genocide is Caused by Theism : Evidence?\n",
      "378 :   islamic genocide\n",
      "379 :   Where are they now?\n",
      "380 :   \"Cruel\" \n",
      "381 :   <Political Atheists?\n"
     ]
    },
    {
     "name": "stderr",
     "output_type": "stream",
     "text": [
      "\r",
      " 38%|█████████████████████████████▊                                                | 382/1000 [00:02<00:04, 143.27it/s]"
     ]
    },
    {
     "name": "stdout",
     "output_type": "stream",
     "text": [
      "382 :   some thoughts.\n",
      "383 :   Who Says the Apostles Were Tortured?\n",
      "384 :   <Political Atheists?\n",
      "385 :   Where are they now?\n",
      "386 :   Societally acceptable behavior\n",
      "387 :   free moral agency\n",
      "388 :   Societally acceptable behavior\n",
      "389 :   Christian Morality is\n",
      "390 :   Gulf War and Peace-niks\n",
      "391 :   Christian Morality is\n",
      "392 :   Societal basis for morality\n",
      "393 :   Nicknames\n",
      "394 :   free moral agency\n",
      "395 :   Death Penalty / Gulf War \n",
      "396 :   Is Morality Constant \n",
      "397 :   \"satanic\" verses\n",
      "398 :   Who Says the Apostles Were Tortured?\n",
      "399 :   Who has read Rushdie is _The Satanic Verses_?\n"
     ]
    },
    {
     "name": "stderr",
     "output_type": "stream",
     "text": [
      "\r",
      " 40%|███████████████████████████████▏                                              | 400/1000 [00:02<00:03, 152.58it/s]"
     ]
    },
    {
     "name": "stdout",
     "output_type": "stream",
     "text": [
      "400 :   Is Morality Constant \n",
      "401 :   Origins of the bible.\n",
      "402 :   Amusing atheists and agnostics\n",
      "403 :   Christian Morality is\n",
      "404 :   Gulf War / Selling Arms\n",
      "405 :   Amusing atheists and agnostics\n",
      "406 :   Studies on Book of Mormon\n",
      "407 :   Amusing atheists and agnostics\n",
      "408 :   Where are they now?\n",
      "409 :  STRONG & weak Atheism\n",
      "410 :   Faith and Dogma\n",
      "411 :   Yet more Rushdie [ ISLAMIC LAW]\n",
      "412 :   Yet more Rushdie [ ISLAMIC LAW]\n",
      "413 :   Who Says the Apostles Were Tortured?\n",
      "414 :   Yet more Rushdie [ ISLAMIC LAW]\n",
      "415 :   Islam And Scientific Predictions \n"
     ]
    },
    {
     "name": "stderr",
     "output_type": "stream",
     "text": [
      "\r",
      " 42%|████████████████████████████████▍                                             | 416/1000 [00:02<00:04, 136.54it/s]"
     ]
    },
    {
     "name": "stdout",
     "output_type": "stream",
     "text": [
      "416 :   Societally acceptable behavior\n",
      "417 :   Gulf War \n",
      "418 :   Amusing atheists and anarchists\n",
      "419 :   Who has read Rushdie is _The Satanic Ve\n",
      "420 :   After 2000 years, can we say that Christian Morality is\n",
      "421 :   He has risen!\n",
      "422 :  College atheists\n",
      "423 :   Amusing atheists and agnostics\n",
      "424 :   What is a shit shoveler to do? \n",
      "425 :   Amusing atheists and agnostics\n",
      "426 :   Death Penalty (was  Political Athei\n",
      "427 :   Amusing atheists and agnostics\n",
      "428 :   Societally acceptable behavior\n",
      "429 :   You will all go to hell.\n",
      "430 :   \"So help you God\" in court?\n",
      "431 :   some thoughts.\n",
      "432 :   Who Says the Apostles Were Tortured?\n",
      "433 :   some thoughts.\n",
      "434 :   some thoughts.\n"
     ]
    },
    {
     "name": "stderr",
     "output_type": "stream",
     "text": [
      "\r",
      " 44%|█████████████████████████████████▉                                            | 435/1000 [00:03<00:03, 149.02it/s]"
     ]
    },
    {
     "name": "stdout",
     "output_type": "stream",
     "text": [
      "435 :   thoughts on christians\n",
      "436 :   Victims of various 'Good Fight is\n",
      "437 :   After 2000 years, can we say that Christian Morality is\n",
      "438 :   KORESH IS GOD!\n",
      "439 :   Where are they now?\n",
      "440 :   After 2000 years, can we say that Christian Morality is\n",
      "441 :   The Inimitable Rushdie\n",
      "442 :   After 2000 years, can we say that Christian Morality is\n",
      "443 :   KORESH IS GOD!\n",
      "444 :   THE POPE IS JEWISH!\n",
      "445 :   Bible Quiz\n",
      "446 :   YOU WILL ALL GO TO HELL!!!\n",
      "447 :   Death Penalty / Gulf War \n",
      "448 :   Societally acceptable behavior\n",
      "449 :   Societally acceptable behavior\n",
      "450 :   Societal basis for morality\n",
      "451 :   YOU WILL ALL GO TO HELL!!!\n",
      "452 :   free moral agency\n"
     ]
    },
    {
     "name": "stderr",
     "output_type": "stream",
     "text": [
      "\r",
      " 45%|███████████████████████████████████▎                                          | 453/1000 [00:03<00:03, 140.72it/s]"
     ]
    },
    {
     "name": "stdout",
     "output_type": "stream",
     "text": [
      "453 :  TEST: IGNORE\n",
      "454 :   Amusing atheists and anarchists\n",
      "455 :   THE POPE IS JEWISH!\n",
      "456 :   Faith and Dogma\n",
      "457 :  Church o' Satan \n",
      "458 :   Who has read Rushdie is _The Satanic Verses_?\n",
      "459 :   islamic genocide\n",
      "460 :   The Inimitable Rushdie\n",
      "461 :   Who has read Rushdie is _The Satanic Verses_?\n",
      "462 :   The Universe and Black Holes, was  2000 years.....\n",
      "463 :   Yet more Rushdie [ ISLAMIC LAW]\n",
      "464 :   Yet more Rushdie [ ISLAMIC LAW]\n",
      "465 :   \"Cruel\" \n",
      "466 :   \"Cruel\" \n",
      "467 :   <Political Atheists?\n",
      "468 :   <Political Atheists?\n",
      "469 :   A Little Too Satanic\n",
      "470 :   Amusing atheists and agnostics\n",
      "471 :   Faith and Dogma\n"
     ]
    },
    {
     "name": "stderr",
     "output_type": "stream",
     "text": [
      "\r",
      " 47%|████████████████████████████████████▊                                         | 472/1000 [00:03<00:03, 150.85it/s]"
     ]
    },
    {
     "name": "stdout",
     "output_type": "stream",
     "text": [
      "472 :   Christian Morality is\n",
      "473 :   YOU WILL ALL GO TO HELL!!!\n",
      "474 :   Genocide is Caused by Atheism\n",
      "475 :   Genocide is Caused by Atheism\n",
      "476 :   Genocide is Caused by Atheism\n",
      "477 :   Faith and Dogma\n",
      "478 :   Faith and Dogma\n",
      "479 :   Faith and Dogma\n",
      "480 :   islamic authority over women\n",
      "481 :   islamic authority over women\n",
      "482 :   some thoughts.\n",
      "483 :   some thoughts.\n",
      "484 :   thoughts on christians\n",
      "485 :   thoughts on christians\n",
      "486 :   Nicknames\n",
      "487 :   islamic authority over women\n",
      "488 :   Death Penalty \n",
      "489 :   Americans and Evolution\n",
      "490 :   Amusing atheists and agnostics\n"
     ]
    },
    {
     "name": "stderr",
     "output_type": "stream",
     "text": [
      "\r",
      " 49%|██████████████████████████████████████▎                                       | 491/1000 [00:03<00:03, 158.45it/s]"
     ]
    },
    {
     "name": "stdout",
     "output_type": "stream",
     "text": [
      "491 :   thoughts on christians\n",
      "492 :   Who has read Rushdie is _The Satanic Verses_?\n",
      "493 :  Age of Reason Was: Who has read Rushdie is\n",
      "494 :   Death Penalty (was  Political Athei\n",
      "495 :   some thoughts.\n",
      "496 :   thoughts on christians\n",
      "497 :   \"Cruel\" \n",
      "498 :   Studies on Book of Mormon\n",
      "499 :   Christian Morality is\n",
      "500 :   Requests\n",
      "501 :   Studies on Book of Mormon\n",
      "502 :  Logic of Jesus?\n",
      "503 :   islamic authority over women\n",
      "504 :   \"So help you God\" in court?\n",
      "505 :   Societal basis for morality\n",
      "506 :   Genocide is Caused by Atheism\n",
      "507 :   free moral agency\n"
     ]
    },
    {
     "name": "stderr",
     "output_type": "stream",
     "text": [
      "\r",
      " 51%|███████████████████████████████████████▌                                      | 508/1000 [00:03<00:03, 136.05it/s]"
     ]
    },
    {
     "name": "stdout",
     "output_type": "stream",
     "text": [
      "508 :   Yet more Rushdie [ ISLAMIC LAW]\n",
      "509 :   After 2000 years, can we say that Christian Morality is\n",
      "510 :   islamic authority over women\n",
      "511 :   some thoughts.\n",
      "512 :   Christian Morality is\n",
      "513 :   thoughts on christians\n",
      "514 :   islamic authority over women\n",
      "515 :   Death Penalty \n",
      "516 :   Suggestion for \"resources\" FAQ\n",
      "517 :   Amusing atheists and agnostics\n",
      "518 :   Genocide is Caused by Atheism\n",
      "519 :   islamic genocide\n",
      "520 :   Objective Values 'v' Scientific Accuracy \n",
      "521 :   Islam And Scientific Predictions \n",
      "522 :   After 2000 years, can we say that Christian Morality is\n",
      "523 :   Yet more Rushdie [ ISLAMIC LAW]\n",
      "524 :   Death Penalty / Gulf War \n",
      "525 :   Gulf War \n"
     ]
    },
    {
     "name": "stderr",
     "output_type": "stream",
     "text": [
      "\r",
      " 53%|█████████████████████████████████████████                                     | 526/1000 [00:03<00:03, 145.00it/s]"
     ]
    },
    {
     "name": "stdout",
     "output_type": "stream",
     "text": [
      "526 :   Gulf War and Peace-niks\n",
      "527 :   Christian Morality is\n",
      "528 :   Genocide is Caused by Atheism\n",
      "529 :   Gulf War / Selling Arms\n",
      "530 :   Yet more Rushdie [ ISLAMIC LAW]\n",
      "531 :   Yet more Rushdie [ ISLAMIC LAW]\n",
      "532 :   Consciousness part II - Kev Strikes Back!\n",
      "533 :   Consciousness part II - Kev Strikes Back!\n",
      "534 :   Consciousness part II - Kev Strikes Back!\n",
      "535 :   Christian Morality is\n",
      "536 :   Cults Vs. Religions?\n",
      "537 :   Gulf War and Peace-niks\n",
      "538 :   Death Penalty / Gulf War \n",
      "539 :   DAVID CORESH IS! GOD!\n",
      "540 :   It is all Mary is fault!\n",
      "541 :    Islam And Scientific Predictions (was\n"
     ]
    },
    {
     "name": "stderr",
     "output_type": "stream",
     "text": [
      "\r",
      " 54%|██████████████████████████████████████████▎                                   | 542/1000 [00:03<00:03, 141.90it/s]"
     ]
    },
    {
     "name": "stdout",
     "output_type": "stream",
     "text": [
      "542 :   Yet more Rushdie [ ISLAMIC LAW]\n",
      "543 :   The Inimitable Rushdie ( An Anecdote about Islam\n",
      "544 :   Jewish Settlers Demolish a Mosque in Gaza\n",
      "545 :  Nostalgia\n",
      "546 :   some thoughts.\n",
      "547 :   Bible Quiz\n",
      "548 :    Islam And Scientific Predictions (was\n",
      "549 :  Bible contradictions\n",
      "550 :   After 2000 years, can we say that Christian Morality is\n",
      "551 :   A silly question on x-tianity\n",
      "552 :   Islam And Scientific Predictions (was\n",
      "553 :   The Bible and Abortion\n",
      "554 :  YOU WILL ALL GO TO HELL!!!\n",
      "555 :   Yet more Rushdie [ ISLAMIC LAW]\n",
      "556 :   note to Bobby M., again\n",
      "557 :   ISLAM: a clearer view\n",
      "558 :  Cannanite genocide in the Bible\n",
      "559 :  getting to the point!\n"
     ]
    },
    {
     "name": "stderr",
     "output_type": "stream",
     "text": [
      "\r",
      " 56%|███████████████████████████████████████████▋                                  | 560/1000 [00:03<00:02, 150.29it/s]"
     ]
    },
    {
     "name": "stdout",
     "output_type": "stream",
     "text": [
      "560 :   Smullyanism for the day.....\n",
      "561 :   Christian Morality is\n",
      "562 :   Christian Morality is\n",
      "563 :  From soc.religion.christian\n",
      "564 :   College atheists\n",
      "565 :  some thoughts on Christian books...\n",
      "566 :   What it means to be human? \n",
      "567 :   Christian Morality is\n",
      "568 :  Another request for Darwin Fish\n",
      "569 :   Another request for Darwin Fish\n",
      "570 :   FAQ sheet\n",
      "571 :   Gulf War \n",
      "572 :   Death Penalty / Gulf War \n",
      "573 :   Death Penalty / Gulf War \n",
      "574 :   Death Penalty / Gulf War \n",
      "575 :   Gulf War / Selling Arms\n",
      "576 :   free moral agency\n"
     ]
    },
    {
     "name": "stderr",
     "output_type": "stream",
     "text": [
      "\r",
      " 58%|█████████████████████████████████████████████                                 | 577/1000 [00:03<00:02, 149.67it/s]"
     ]
    },
    {
     "name": "stdout",
     "output_type": "stream",
     "text": [
      "577 :  Discordian & SubGenius books, addresses etc.\n",
      "578 :   free moral agency\n",
      "579 :  Atheism survey\n",
      "580 :   Americans and Evolution, now with free Ockham is Razor inside\n",
      "581 :   some thoughts.\n",
      "582 :   The Inimitable Rushdie ( An Anecdote about Islam\n",
      "583 :   The Inimitable Rushdie ( An Anecdote about Islam\n",
      "584 :   Objective morality \n",
      "585 :   Free Moral Agency and Kent S.\n",
      "586 :   free moral agency\n",
      "587 :   Religion As Cause  \n",
      "588 :   Yet more Rushdie [ ISLAMIC LAW]\n",
      "589 :   free moral agency\n",
      "590 :   Societally acceptable behavior\n",
      "591 :   Societal basis for morality\n",
      "592 :   Faith and Dogma\n",
      "593 :   Yet more Rushdie [ ISLAMIC LAW]\n",
      "594 :   After 2000 years, can we say that Christian Morality is\n"
     ]
    },
    {
     "name": "stderr",
     "output_type": "stream",
     "text": [
      "\r",
      " 60%|██████████████████████████████████████████████▍                               | 595/1000 [00:04<00:02, 157.08it/s]"
     ]
    },
    {
     "name": "stdout",
     "output_type": "stream",
     "text": [
      "595 :   Amusing atheists and agnostics\n",
      "596 :   Theism and Fanatism \n",
      "597 :   islamic authority over women\n",
      "598 :   Death Penalty / Gulf War \n",
      "599 :   Gulf War / Selling Arms\n",
      "600 :   Gulf War \n",
      "601 :   Gulf War and Peace-niks\n",
      "602 :   STRONG & weak Atheism\n",
      "603 :   Who has read Rushdie is _The Satanic Verses_?\n",
      "604 :   Yet more Rushdie [ ISLAMIC LAW]\n",
      "605 :   Yet more Rushdie [ ISLAMIC LAW]\n",
      "606 :   After 2000 years, can we say that Christian Morality is\n",
      "607 :   Studies on Book of Mormon\n",
      "608 :  Science and theories\n",
      "609 :   Age of Reason Was: Who has read Rushdie is\n",
      "610 :   Science and theories\n",
      "611 :   Theism and Fanatism \n"
     ]
    },
    {
     "name": "stderr",
     "output_type": "stream",
     "text": [
      "\r",
      " 61%|███████████████████████████████████████████████▋                              | 612/1000 [00:04<00:02, 160.46it/s]"
     ]
    },
    {
     "name": "stdout",
     "output_type": "stream",
     "text": [
      "612 :   After 2000 years, can we say that Christian Morality is\n",
      "613 :   free moral agency\n",
      "614 :   Room for Metaphor?\n",
      "615 :   The Universe and Black Holes, was  2000 years.....\n",
      "616 :   Asimov stamp\n",
      "617 :   Amusing atheists and agnostics\n",
      "618 :   some thoughts.\n",
      "619 :   Death Penalty \n",
      "620 :   YOU WILL ALL GO TO HELL!!!\n",
      "621 :   YOU WILL ALL GO TO HELL!!!\n",
      "622 :   some thoughts.\n",
      "623 :   Christian Morality is\n",
      "624 :   Genocide is Caused by Theism : Evidence?\n",
      "625 :   Gulf War and Peace-niks\n",
      "626 :   After 2000 years, can we say that Christian Morality is\n",
      "627 :   Asimov stamp\n",
      "628 :   Mottos to replace \"In doG we trust\"\n"
     ]
    },
    {
     "name": "stderr",
     "output_type": "stream",
     "text": [
      "\r",
      " 63%|█████████████████████████████████████████████████                             | 629/1000 [00:04<00:02, 152.82it/s]"
     ]
    },
    {
     "name": "stdout",
     "output_type": "stream",
     "text": [
      "629 :   islamic genocide\n",
      "630 :   Asimov stamp\n",
      "631 :  More Best of A.A\n",
      "632 :   Are atoms real? \n",
      "633 :   free moral agency\n",
      "634 :   sci.skeptic.religion \n",
      "635 :   The Inimitable Rushdie\n",
      "636 :   Yet more Rushdie [ ISLAMIC LAW]\n",
      "637 :   some thoughts.\n",
      "638 :  Islam and Sufism \n",
      "639 :  Nicknames\n",
      "640 :   Death Penalty / Gulf War\n",
      "641 :   Genocide is Caused by Atheism\n",
      "642 :   Atheism survey\n",
      "643 :   Theism and Fanatism \n",
      "644 :   Christian Morality is\n",
      "645 :   Alt.Atheism\n",
      "646 :  Religion As Cause  \n"
     ]
    },
    {
     "name": "stderr",
     "output_type": "stream",
     "text": [
      "\r",
      " 65%|██████████████████████████████████████████████████▍                           | 647/1000 [00:04<00:02, 158.42it/s]"
     ]
    },
    {
     "name": "stdout",
     "output_type": "stream",
     "text": [
      "647 :  Books\n",
      "648 :   College atheists\n",
      "649 :   Yet more Rushdie [ ISLAMIC LAW]\n",
      "650 :   Who has read Rushdie is _The Satanic Verses_?\n",
      "651 :   The Inimitable Rushdie\n",
      "652 :   YOU WILL ALL GO TO HELL!!!\n",
      "653 :   The Inimitable Rushdie\n",
      "654 :   An Anecdote about Islam\n",
      "655 :   free moral agency\n",
      "656 :   Yet more Rushdie [ ISLAMIC LAW]\n",
      "657 :   KORESH IS GOD!\n",
      "658 :   Islam And Scientific Predictions (was\n",
      "659 :   Keith IS a relativist!\n",
      "660 :   <Political Atheists?\n",
      "661 :   Objective morality \n",
      "662 :   Yet more Rushdie [ ISLAMIC LAW]\n",
      "663 :   \"Cruel\" \n"
     ]
    },
    {
     "name": "stderr",
     "output_type": "stream",
     "text": [
      "\r",
      " 66%|███████████████████████████████████████████████████▊                          | 664/1000 [00:04<00:02, 150.43it/s]"
     ]
    },
    {
     "name": "stdout",
     "output_type": "stream",
     "text": [
      "664 :   \"Cruel\" \n",
      "665 :   The Inimitable Rushdie\n",
      "666 :   Genocide is Caused by Theism : Evidence?\n",
      "667 :   Societal basis for morality\n",
      "668 :   High Times A Comin'!!!!!!!\n",
      "669 :   High Times A Comin'!!!!!!!\n",
      "670 :   \"Cruel\" \n",
      "671 :   Christian Morality is\n",
      "672 :   Who has read Rushdie is _The Satanic Verses_?\n",
      "673 :   Burden of Proof\n",
      "674 :   Rawlins debunks creationism\n",
      "675 :   Genocide is Caused by Theism : Evidence?\n",
      "676 :   <Political Atheists?\n",
      "677 :   Bayesian Statistics, theism and atheism\n",
      "678 :   Asimov stamp\n",
      "679 :   Where are they now?\n",
      "680 :   Age of Reason Was: Who has read Rushdie is\n"
     ]
    },
    {
     "name": "stderr",
     "output_type": "stream",
     "text": [
      "\r",
      " 68%|█████████████████████████████████████████████████████                         | 681/1000 [00:04<00:02, 154.61it/s]"
     ]
    },
    {
     "name": "stdout",
     "output_type": "stream",
     "text": [
      "681 :   STRONG & weak Atheism\n",
      "682 :  \u0010A PROBLEM WITH OMNIPOTENCE\n",
      "683 :  Atheism\n",
      "684 :   YOU WILL ALL GO TO HELL!!!\n",
      "685 :   Requests\n",
      "686 :   A Little Too Satanic\n",
      "687 :   Societally acceptable behavior\n",
      "688 :   Why Rushdie is writings are unappreciated\n",
      "689 :   Yet more Rushdie [ ISLAMIC LAW]\n",
      "690 :   Why?\n",
      "691 :  Christianity & Logic \n",
      "692 :   some thoughts.\n",
      "693 :   some thoughts.\n",
      "694 :   27 fundamental beliefs of SDA\n",
      "695 :   Cults Vs. Religions?\n",
      "696 :   YOU WILL ALL GO TO HELL!!!\n"
     ]
    },
    {
     "name": "stderr",
     "output_type": "stream",
     "text": [
      "\r",
      " 70%|██████████████████████████████████████████████████████▎                       | 697/1000 [00:04<00:02, 144.02it/s]"
     ]
    },
    {
     "name": "stdout",
     "output_type": "stream",
     "text": [
      "697 :   Poisoning the well \n",
      "698 :   some thoughts.\n",
      "699 :   some thoughts.\n",
      "700 :   some thoughts.\n",
      "701 :   It is all Mary is fault!\n",
      "702 :   thoughts on christians\n",
      "703 :   Room for Metaphor?\n",
      "704 :   Moraltiy? \n",
      "705 :   YOU WILL ALL GO TO HELL!!!\n",
      "706 :   Islam And Scientific Predictions \n",
      "707 :   \"Cruel\" \n",
      "708 :  Alt.Atheism\n",
      "709 :  Alt.Atheism\n",
      "710 :   The nonexistance of Atheists?!\n",
      "711 :   An Anecdote about Islam\n"
     ]
    },
    {
     "name": "stderr",
     "output_type": "stream",
     "text": [
      "\r",
      " 71%|███████████████████████████████████████████████████████▌                      | 712/1000 [00:04<00:02, 127.85it/s]"
     ]
    },
    {
     "name": "stdout",
     "output_type": "stream",
     "text": [
      "712 :   The Inimitable Rushdie\n",
      "713 :   A Little Too Satanic\n",
      "714 :   After 2000 years, can we say that Christian Morality is\n",
      "715 :   Genocide is Caused by Theism : Evidence?\n",
      "716 :   thoughts on christians\n",
      "717 :   Death Penalty \n",
      "718 :   Americans and Evolution\n",
      "719 :   Christian Morality is\n",
      "720 :  Hard/Soft == Strong/Weak.  KISS!\n",
      "721 :   After 2000 years, can we say that Christian Morality is\n",
      "722 :   Islamic Banks (was  Slavery\n",
      "723 :  We don't need no stinking subjects!\n",
      "724 :   After 2000 years, can we say that Christian Morality is\n",
      "725 :   <Political Atheists?\n",
      "726 :   After 2000 years, can we say that Christian Morality is\n"
     ]
    },
    {
     "name": "stderr",
     "output_type": "stream",
     "text": [
      "\r",
      " 73%|████████████████████████████████████████████████████████▋                     | 727/1000 [00:05<00:02, 132.81it/s]"
     ]
    },
    {
     "name": "stdout",
     "output_type": "stream",
     "text": [
      "727 :   Burden of Proof\n",
      "728 :   Cults Vs. Religions?\n",
      "729 :   Gulf War and Peace-niks\n",
      "730 :   Are atoms real? \n",
      "731 :   History & texts \n",
      "732 :   After 2000 years, can we say that Christian Morality is\n",
      "733 :   After 2000 years, can we say that Christian Morality is\n",
      "734 :   Yet more Rushdie [ ISLAMIC LAW]\n",
      "735 :   Hoban \n",
      "736 :   Death Penalty \n",
      "737 :   Faith and Dogma\n",
      "738 :   Rawlins debunks creationism\n",
      "739 :   Rawlins debunks creationism\n",
      "740 :   Mottos to replace \"In doG we trust\"\n",
      "741 :   After 2000 years, can we say that Christian Morality is\n",
      "742 :   Death Penalty \n",
      "743 :   After 2000 years, can we say that Christian Morality is\n"
     ]
    },
    {
     "name": "stderr",
     "output_type": "stream",
     "text": [
      "\r",
      " 74%|██████████████████████████████████████████████████████████                    | 744/1000 [00:05<00:01, 140.90it/s]"
     ]
    },
    {
     "name": "stdout",
     "output_type": "stream",
     "text": [
      "744 :   Yet more Rushdie [ ISLAMIC LAW]\n",
      "745 :   The Inimitable Rushdie\n",
      "746 :   After 2000 years, can we say that Christian Morality is\n",
      "747 :   YOU WILL ALL GO TO HELL!!!\n",
      "748 :   FAKE GOD, HOLY LIES\n",
      "749 :   free moral agency\n",
      "750 :   free moral agency\n",
      "751 :   free moral agency\n",
      "752 :   free moral agency\n",
      "753 :   free moral agency\n",
      "754 :   free moral agency\n",
      "755 :   Death Penalty / Gulf War \n",
      "756 :   The Qur'an and atheists \n",
      "757 :   free moral agency\n",
      "758 :   free moral agency\n",
      "759 :   free moral agency\n",
      "760 :   The Inimitable Rushdie ( An Anecdote about Islam\n",
      "761 :   Death Penalty \n"
     ]
    },
    {
     "name": "stderr",
     "output_type": "stream",
     "text": [
      "\r",
      " 76%|███████████████████████████████████████████████████████████▍                  | 762/1000 [00:05<00:01, 149.16it/s]"
     ]
    },
    {
     "name": "stdout",
     "output_type": "stream",
     "text": [
      "762 :   \"Cruel\"\n",
      "763 :   Christian Morality is\n",
      "764 :  [UPI] \"Mother files complaint over Boy Scouts\"\n",
      "765 :   free moral agency\n",
      "766 :   After 2000 years, can we say that Christian Morality is\n",
      "767 :   YOU WILL ALL GO TO HELL!!!\n",
      "768 :   free moral agency\n",
      "769 :   \"Cruel\"\n",
      "770 :   Books\n",
      "771 :   Cults Vs. Religions?\n",
      "772 :   Nicknames\n",
      "773 :   Asimov stamp\n",
      "774 :   free moral agency\n",
      "775 :   After 2000 years, can we say that Christian Morality is\n",
      "776 :   After 2000 years, can we say that Christian Morality is\n",
      "777 :   After 2000 years, can we say that Christian Morality is\n",
      "778 :   What is a shit shoveler to do? \n",
      "779 :  FREE-ENERGY TECHNOLOGY\n",
      "780 :   Christian Morality is\n"
     ]
    },
    {
     "name": "stderr",
     "output_type": "stream",
     "text": [
      "\r",
      " 78%|████████████████████████████████████████████████████████████▉                 | 781/1000 [00:05<00:01, 157.86it/s]"
     ]
    },
    {
     "name": "stdout",
     "output_type": "stream",
     "text": [
      "781 :   free moral agency\n",
      "782 :   FREE-ENERGY TECHNOLOGY\n",
      "783 :   The Qur'an and atheists \n",
      "784 :   Cults Vs. Religions?\n",
      "785 :   Science and theories\n",
      "786 :   A Little Too Satanic\n",
      "787 :  Albert Sabin\n",
      "788 :  Albert Sabin\n",
      "789 :  After 2000 years, can we say that Christian Morality is\n",
      "790 :  some thoughts.\n",
      "791 :   \"So help you God\" in court?\n",
      "792 :   Alleged Deathbed Conversions \n",
      "793 :   YOU WILL ALL GO TO HELL!!!\n",
      "794 :   The Inimitable Rushdie ( An Anecdote about Islam\n",
      "795 :   Islam And Scientific Predictions \n",
      "796 :   Wholly Babble \n",
      "797 :   Yet more Rushdie [ ISLAMIC LAW]\n",
      "798 :   Alleged Deathbed Conversions \n",
      "799 :  CALL FOR PRESENTATIONS: Navy SciViz/VR Seminar\n"
     ]
    },
    {
     "name": "stderr",
     "output_type": "stream",
     "text": [
      "\r",
      " 80%|██████████████████████████████████████████████████████████████▍               | 800/1000 [00:05<00:01, 164.47it/s]"
     ]
    },
    {
     "name": "stdout",
     "output_type": "stream",
     "text": [
      "800 :  graphical representation of vector-valued functions\n",
      "801 :   DMORPH\n",
      "802 :    VOICE INPUT -- vendor information needed\n",
      "803 :  Where can I find SIPP?\n",
      "804 :   16 million vs 65 thousand colors\n",
      "805 :  Translating TTTDDD to DXF or Swiv3D.\n",
      "806 :  Help on RenderMan language wanted!\n",
      "807 :   More gray levels out of the screen\n",
      "808 :   More gray levels out of the screen\n",
      "809 :   Rumours about 3DO ???\n",
      "810 :  Visuallib \n",
      "811 :  Graphics Library Package\n",
      "812 :   Rumours about 3DO ???\n",
      "813 :   Graphics Library Package\n",
      "814 :  WANTED: SIRD Alogorythmn\n",
      "815 :  Any graphics packages available for AIX ?\n",
      "816 :   BW hardcopy of colored window?\n",
      "817 :   More gray levels out of the screen\n",
      "818 :  LOOKING for CTDS !\n",
      "819 :   POV previewer\n"
     ]
    },
    {
     "name": "stderr",
     "output_type": "stream",
     "text": [
      "\r",
      " 82%|███████████████████████████████████████████████████████████████▉              | 820/1000 [00:05<00:01, 172.69it/s]"
     ]
    },
    {
     "name": "stdout",
     "output_type": "stream",
     "text": [
      "820 :   Real Time Graphics??\n",
      "821 :  BGI Drivers for SVGA\n",
      "822 :  RE: VESA on the Speedstar 24\n",
      "823 :  \n",
      "824 :  HELP WANTED FOR DMORF.......!\n",
      "825 :  test....\n",
      "826 :   Rumours about 3DO ???\n",
      "827 :  Technical Help Sought\n",
      "828 :  Surface normal orientations\n",
      "829 :   Graphics Library Package\n",
      "830 :   Signature Image Database\n",
      "831 :   Surface normal orientations\n",
      "832 :   Genoa Blitz 24 hits 1600x1200x256 NI !\n",
      "833 :   Surface normal orientations\n",
      "834 :   Surface normal orientations\n",
      "835 :   16 million vs 65 thousand colors\n",
      "836 :   Real Time Graphics??\n",
      "837 :  IGES Viewer for DOS/Windows\n"
     ]
    },
    {
     "name": "stderr",
     "output_type": "stream",
     "text": [
      "\r",
      " 84%|█████████████████████████████████████████████████████████████████▎            | 838/1000 [00:05<00:01, 153.87it/s]"
     ]
    },
    {
     "name": "stdout",
     "output_type": "stream",
     "text": [
      "838 :  computer graphics to vcr?\n",
      "839 :  Stereoscopic imaging\n",
      "840 :   Fractals? what good are they?\n",
      "841 :  Complex  bio-medical images..\n",
      "842 :  MPEG for MS-DOS\n",
      "843 :  Help!!\n",
      "844 :   Help! 256 colors display in C.\n",
      "845 :   Rumours about 3DO ???\n",
      "846 :   QuickTime movie available\n",
      "847 :  QC/MSC code to view/save images\n",
      "848 :  AutoCAD -> TIFF Can it be done????\n",
      "849 :  Gamma-Law Correction\n",
      "850 :  MPEG for x-windows MONO needed.\n",
      "851 :   thining algorithm\n",
      "852 :   TIFF: philosophical significance of 42\n",
      "853 :   VGA 640x400 graphics mode\n",
      "854 :   Weitek P9000 ?\n"
     ]
    },
    {
     "name": "stderr",
     "output_type": "stream",
     "text": [
      "\r",
      " 86%|██████████████████████████████████████████████████████████████████▋           | 855/1000 [00:05<00:00, 151.35it/s]"
     ]
    },
    {
     "name": "stdout",
     "output_type": "stream",
     "text": [
      "855 :   Delaunay Triangulation\n",
      "856 :  Graphic Formats\n",
      "857 :   Nice gif code\n",
      "858 :   Rumours about 3DO ???\n",
      "859 :   forms for curses\n",
      "860 :   Trying to view POV files.....\n",
      "861 :  HOT NEW 3D Software\n",
      "862 :   HOT NEW 3D Software\n",
      "863 :   VGA 640x400 graphics mode\n",
      "864 :  TIN files & coutours\n",
      "865 :  Apr 20 Toronto Siggraph Event\n",
      "866 :   Delaunay Triangulation\n",
      "867 :  ANSI/AIIM MS-53 Standard Image File Format\n",
      "868 :   Trying to view POV files.....\n",
      "869 :   looking for circle algorithm faster than Bresenhams\n",
      "870 :  E-mail of Michael Abrash?\n"
     ]
    },
    {
     "name": "stderr",
     "output_type": "stream",
     "text": [
      "\r",
      " 87%|███████████████████████████████████████████████████████████████████▉          | 871/1000 [00:05<00:00, 140.77it/s]"
     ]
    },
    {
     "name": "stdout",
     "output_type": "stream",
     "text": [
      "871 :  Fonts in POV??\n",
      "872 :  Polygon Reduction for Marching Cubes\n",
      "873 :  dmpeg10.zip info: Another DOS MPEG decoder/player posted\n",
      "874 :  Point within a polygon\n",
      "875 :  POV reboots PC after memory upgrade\n",
      "876 :  Good shareware paint and/or animation software for SGI?\n",
      "877 :  Processing of stereo images\n",
      "878 :   Weitek P9000 ?\n",
      "879 :  Sun-os and 8bit ASCII graphics\n",
      "880 :   looking for circle algorithm faster than Bresenhams\n",
      "881 :  Geometry package\n",
      "882 :   Point within a polygon\n",
      "883 :   Distance between two Bezier curves\n",
      "884 :   Point within a polygon\n",
      "885 :   Point within a polygon\n",
      "886 :   Two pointing devices in one COM-port?\n",
      "887 :   Fractals? what good are they?\n",
      "888 :   BGI Drivers for SVGA\n"
     ]
    },
    {
     "name": "stderr",
     "output_type": "stream",
     "text": [
      "\r",
      " 89%|█████████████████████████████████████████████████████████████████████▎        | 889/1000 [00:06<00:00, 149.97it/s]"
     ]
    },
    {
     "name": "stdout",
     "output_type": "stream",
     "text": [
      "889 :   TIFF: philosophical significance of 42\n",
      "890 :  Interleaf to CGM\n",
      "891 :   Hollywood Hits, Virtual Reality\n",
      "892 :   Point within a polygon\n",
      "893 :  Virtual Reality for X on the CHEAP!\n",
      "894 :   Virtual Reality for X on the CHEAP!\n",
      "895 :  PCX\n",
      "896 :  What is a good assembly VGA programming book?\n",
      "897 :   Fractals? what good are they?\n",
      "898 :    VGA 640x400 graphics mode\n",
      "899 :  Reaction-Diffusion techniques\n",
      "900 :  24 bit Graphics cards\n",
      "901 :   Fractal Generation of Clouds\n",
      "902 :  Please Recommend 3D Graphics Library For Mac.\n",
      "903 :   HOT NEW 3D Software\n",
      "904 :  Raytracers: which is best?\n"
     ]
    },
    {
     "name": "stderr",
     "output_type": "stream",
     "text": [
      "\r",
      " 90%|██████████████████████████████████████████████████████████████████████▌       | 905/1000 [00:06<00:00, 134.10it/s]"
     ]
    },
    {
     "name": "stdout",
     "output_type": "stream",
     "text": [
      "905 :  Shareware\n",
      "906 :   Please Recommend 3D Graphics Library For Mac.\n",
      "907 :  thinning algorithm\n",
      "908 :  Looking for AUTOCAD .DXF file parser\n",
      "909 :  Delaunay Triangulation\n",
      "910 :   cylinder and ray\n",
      "911 :   Crimson \n",
      "912 :  BOOK OF KELLS CORRECTION!!!\n",
      "913 :  JOB\n",
      "914 :  Chosing optimal colors for colormap ?\n",
      "915 :   SIGGRAPH\n",
      "916 :  3d studio works changes!!!!\n",
      "917 :   Rumours about 3DO ???\n",
      "918 :   Please Recommend 3D Graphics Library For M\n",
      "919 :  About the various DXF format questions\n",
      "920 :   MPEG for x-windows MONO needed.\n",
      "921 :  Compiled version of VOGL-library for PC?\n",
      "922 :   Virtual Reality for X on the CHEAP!\n",
      "923 :  Micro World Data Bank II ?\n",
      "924 :  Looking for Dr. Bala R. Vatti is email address\n"
     ]
    },
    {
     "name": "stderr",
     "output_type": "stream",
     "text": [
      "\r",
      " 92%|████████████████████████████████████████████████████████████████████████▏     | 925/1000 [00:06<00:00, 147.23it/s]"
     ]
    },
    {
     "name": "stdout",
     "output_type": "stream",
     "text": [
      "925 :  Round VS Elliptical DOT Screens\n",
      "926 :  SGI sales practices \n",
      "927 :   Please Recommend 3D Graphics Library For Mac.\n",
      "928 :   Fonts in POV??\n",
      "929 :   VESA on the Speedstar 24\n",
      "930 :   HOT NEW 3D Software\n",
      "931 :   PCX\n",
      "932 :   Please Recommend 3D Graphics Library F\n",
      "933 :  Need help with Mitsubishi P78U image printer\n",
      "934 :  Need graph display/edit\n",
      "935 :   Rumours about 3DO ???\n",
      "936 :  XGA-2 info?\n",
      "937 :   TIFF: philosophical significance of 42\n",
      "938 :   SGI sales practices \n",
      "939 :  Rendering Software for Multi-processor Computer S\n",
      "940 :  Wanted: map of the world type gifs\n",
      "941 :  [POV] Having trouble bump mapping a gif to a sphere\n",
      "942 :  Point of intersection of n lines\n",
      "943 :  Program Included: 2 Edge Detection Algorithms!\n",
      "944 :   Virtual Reality for X on the CHEAP!\n"
     ]
    },
    {
     "name": "stderr",
     "output_type": "stream",
     "text": [
      "\r",
      " 94%|█████████████████████████████████████████████████████████████████████████▋    | 945/1000 [00:06<00:00, 158.73it/s]"
     ]
    },
    {
     "name": "stdout",
     "output_type": "stream",
     "text": [
      "945 :  RE: Hot new 3D software\n",
      "946 :   cylinder and ray\n",
      "947 :  Sphere from 4 points?\n",
      "948 :  [ANNOUNCE] Ivan Sutherland to speak at Harvard\n",
      "949 :  windows imagine??!!\n",
      "950 :  VGA Mode 13h Routines Available\n",
      "951 :   Please Recommend 3D Graphics Library For Mac.\n",
      "952 :   Please Recommend 3D Graphics Library F\n",
      "953 :   Sphere from 4 points?\n",
      "954 :   Sphere from 4 points?\n",
      "955 :  Rayshade to DXF,RIB,etc.. ?\n",
      "956 :  Siggraph 1987 Course Notes\n",
      "957 :  Cobra 2.0 1-b-1 Video card HELP ME!!!!\n",
      "958 :  Externel processes for 3D Studio\n",
      "959 :   Text Recognition software availability\n",
      "960 :   Sphere from 4 points?\n",
      "961 :   Rumours about 3DO ???\n"
     ]
    },
    {
     "name": "stderr",
     "output_type": "stream",
     "text": [
      "\r",
      " 96%|███████████████████████████████████████████████████████████████████████████   | 962/1000 [00:06<00:00, 147.11it/s]"
     ]
    },
    {
     "name": "stdout",
     "output_type": "stream",
     "text": [
      "962 :  AVI file format?\n",
      "963 :   VGA 640x400 graphics mode\n",
      "964 :  CView answers\n",
      "965 :   alt.raytrace \n",
      "966 :  SHADOW Optical Raytracing Package?\n",
      "967 :  character recognition\n",
      "968 :  Need a good concave -> convex polygon algorithm\n",
      "969 :  Automatic layout of state diagrams\n",
      "970 :  How do I compensate for photographic viewpoint and distortion?\n",
      "971 :   Sphere from 4 points?\n",
      "972 :  polygon orientation in DXF?\n",
      "973 :  Fractals? What good are they ?\n",
      "974 :   A Book I found... graphics\n",
      "975 :  Speedstar 24 - how to program the TrueColor mode ?\n",
      "976 :  Info needed: 2D contour plotting\n",
      "977 :  VESA standard VGA/SVGA programming???\n",
      "978 :   Sphere from 4 points?\n",
      "979 :   VESA on the Speedstar 24\n",
      "980 :   Delaunay Triangulation\n"
     ]
    },
    {
     "name": "stderr",
     "output_type": "stream",
     "text": [
      "\r",
      " 98%|████████████████████████████████████████████████████████████████████████████▌ | 981/1000 [00:06<00:00, 157.60it/s]"
     ]
    },
    {
     "name": "stdout",
     "output_type": "stream",
     "text": [
      "981 :   Rumours about 3DO ???\n",
      "982 :  .GIF to .BMP\n",
      "983 :  Point within a polygon \n",
      "984 :   Any graphics packages available for AIX ?\n",
      "985 :   VESA standard VGA/SVGA programming???\n",
      "986 :   Please Recommend 3D Graphics Library For Mac.\n",
      "987 :  Questions about Plane Eqn method of Hidden Surface removal\n",
      "988 :  Reprints\n",
      "989 :  Church related graphics\n",
      "990 :  PC fastest line/circle drawing routines: HELP!\n",
      "991 :   Rumours about 3DO ???\n",
      "992 :  Oak Driver NEEDED \n",
      "993 :  manipulating a hexagonal grid\n",
      "994 :   .GIF to .BMP\n",
      "995 :  Looking for a good book for beginners\n",
      "996 :  Need some Graphics Help!\n",
      "997 :  What is reverse or negative video?\n"
     ]
    },
    {
     "name": "stderr",
     "output_type": "stream",
     "text": [
      "\r",
      "100%|█████████████████████████████████████████████████████████████████████████████▊| 998/1000 [00:06<00:00, 143.44it/s]"
     ]
    },
    {
     "name": "stdout",
     "output_type": "stream",
     "text": [
      "998 :   Need a good concave -> convex polygon algorithm\n",
      "999 :   Please Recommend 3D Graphics Library For Mac.\n"
     ]
    },
    {
     "name": "stderr",
     "output_type": "stream",
     "text": [
      "100%|█████████████████████████████████████████████████████████████████████████████| 1000/1000 [00:06<00:00, 147.27it/s]\n"
     ]
    }
   ],
   "source": [
    "for i in tqdm(range(1000)):\n",
    "    text=re.findall('Subject:.*',df[0][i])\n",
    "    text=re.sub('Subject:','',text[0])\n",
    "    text=re.sub('Re:','',text)\n",
    "    text=re.sub('\\(.*\\)','',text)\n",
    "    #text=re.sub('\\[.*\\]','',text)\n",
    "    #text=re.sub('[!?><*/\\-\"]','',text)\n",
    "    text=re.sub(\"'s\",' is',text)\n",
    "    text=re.sub(\"can't\",'can not',text)\n",
    "    text=re.sub(\"'ve\",' have',text)\n",
    "    text=re.sub(\"'m\",' am',text)\n",
    "    text=re.sub(\"'are\",' are',text)\n",
    "    text=re.sub(\"'ll\",' will',text)\n",
    "    text=re.sub(\"'on't\",' o not',text)\n",
    "    match = re.search(r'FAQ:', text)\n",
    "    if match:\n",
    "        text=re.findall('.*FAQ:',text)\n",
    "        text=re.sub(' FAQ:','',text[0])\n",
    "    \n",
    "#can't -> can not, 's -> is, i've -> i have, i'm -> i am, you're -> you are, i'll --> i will \n",
    "    print(i,':',text)"
   ]
  },
  {
   "cell_type": "code",
   "execution_count": 25,
   "metadata": {},
   "outputs": [
    {
     "data": {
      "text/plain": [
       "'alt.atheism_53175.txt'"
      ]
     },
     "execution_count": 25,
     "metadata": {},
     "output_type": "execute_result"
    }
   ],
   "source": [
    "df[1][281]"
   ]
  },
  {
   "cell_type": "code",
   "execution_count": 160,
   "metadata": {},
   "outputs": [
    {
     "data": {
      "text/plain": [
       "'From: frank  (Frank O\\'Dwyer)\\nSubject: Re: After 2000 years, can we say that Christian Morality is\\n\\nIn article <1993Apr15.125245.12872 > MANDTBACKA  (Mats Andtbacka) writes:\\n|In <1qie61$fkt > frank  writes:\\n|> In article <30114 > halat  (Jim Halat) writes:\\n|\\n|> #I\\'m one of those people who does not know what the word objective means \\n|> #when put next to the word morality.  I assume its an idiom and cannot\\n|> #be defined by its separate terms.\\n|> #\\n|> #Give it a try.\\n|> \\n|> Objective morality is morality built from objective values.\\n|\\n|      \"And these objective values are ... ?\"\\n|Please be specific, and more importantly, motivate.\\n\\nI\\'ll take a wild guess and say Freedom is objectively valuable.  I base\\nthis on the assumption that if everyone in the world were deprived utterly\\nof their freedom (so that their every act was contrary to their volition),\\nalmost all would want to complain.  Therefore I take it that to assert or\\nbelieve that \"Freedom is not very valuable\", when almost everyone can see\\nthat it is, is every bit as absurd as to assert \"it is not raining\" on\\na rainy day.  I take this to be a candidate for an objective value, and it\\nit is a necessary condition for objective morality that objective values\\nsuch as this exist.\\n\\n-- \\nFrank O\\'Dwyer                                  \\'I\\'m not hatching That\\'\\nodwyer                                   from \"Hens\",  by Evelyn Conlon\\n'"
      ]
     },
     "execution_count": 160,
     "metadata": {},
     "output_type": "execute_result"
    }
   ],
   "source": [
    "df[0][234]"
   ]
  },
  {
   "cell_type": "code",
   "execution_count": null,
   "metadata": {},
   "outputs": [],
   "source": []
  },
  {
   "cell_type": "markdown",
   "metadata": {
    "colab_type": "text",
    "id": "zIovFDQzYv03"
   },
   "source": [
    "<pre>\n",
    "<font color='blue'><b>3.</b></font> Get subject of the text i.e. get the total lines where \"Subject:\" occur and remove \n",
    "the word which are before the \":\" remove the newlines, tabs, punctuations, any special chars.\n",
    "<b>Eg: if we have sentance like \"Subject: Re: Gospel Dating @ \\r\\r\\n\" --> You have to get \"Gospel Dating\"</b> \n",
    "Save all this data into another list/array. \n",
    "\n",
    "<font color='blue'><b>4.</b></font> After you store it in the list, Replace those sentances in original text by space.\n",
    "\n",
    "<font color='blue'><b>5.</b></font> Delete all the sentances where sentence starts with <b>\"Write to:\"</b> or <b>\"From:\"</b>.\n",
    "> In the above sample document check the 2nd line, we should remove that\n",
    "\n",
    "<font color='blue'><b>6.</b></font> Delete all the tags like \"< anyword >\"\n",
    "> In the above sample document check the 4nd line, we should remove that \"< 65882@mimsy.umd.edu >\"\n",
    "\n",
    "\n",
    "<font color='blue'><b>7.</b></font> Delete all the data which are present in the brackets. \n",
    "In many text data, we observed that, they maintained the explanation of sentence \n",
    "or translation of sentence to another language in brackets so remove all those.\n",
    "<b>Eg: \"AAIC-The course that gets you HIRED(AAIC - Der Kurs, der Sie anstellt)\" --> \"AAIC-The course that gets you HIRED\"</b>\n",
    "\n",
    "> In the above sample document check the 4nd line, we should remove that \"(Charley Wingate)\"\n",
    "\n",
    "\n",
    "<font color='blue'><b>8.</b></font> Remove all the newlines('\\n'), tabs('\\t'), \"-\", \"\\\".\n",
    "\n",
    "<font color='blue'><b>9.</b></font> Remove all the words which ends with <b>\":\"</b>.\n",
    "<b>Eg: \"Anyword:\"</b>\n",
    "> In the above sample document check the 4nd line, we should remove that \"writes:\"\n",
    "\n",
    "\n",
    "<font color='blue'><b>10.</b></font> Decontractions, replace words like below to full words. \n",
    "please check the donors choose preprocessing for this \n",
    "<b>Eg: can't -> can not, 's -> is, i've -> i have, i'm -> i am, you're -> you are, i'll --> i will </b>\n",
    "\n",
    "<b> There is no order to do point 6 to 10. but you have to get final output correctly</b>\n",
    "\n",
    "<font color='blue'><b>11.</b></font> Do chunking on the text you have after above preprocessing. \n",
    "Text chunking, also referred to as shallow parsing, is a task that \n",
    "follows Part-Of-Speech Tagging and that adds more structure to the sentence.\n",
    "So it combines the some phrases, named entities into single word.\n",
    "So after that combine all those phrases/named entities by separating <b>\"_\"</b>. \n",
    "And remove the phrases/named entities if that is a \"Person\". \n",
    "You can use <b>nltk.ne_chunk</b> to get these. \n",
    "Below we have given one example. please go through it. \n",
    "\n",
    "useful links: \n",
    "<a href='https://www.nltk.org/book/ch07.html'>https://www.nltk.org/book/ch07.html</a>\n",
    "<a href='https://stackoverflow.com/a/31837224/4084039'>https://stackoverflow.com/a/31837224/4084039</a>\n",
    "<a href='http://www.nltk.org/howto/tree.html'>http://www.nltk.org/howto/tree.html</a>\n",
    "<a href='https://stackoverflow.com/a/44294377/4084039'>https://stackoverflow.com/a/44294377/4084039</a>\n",
    "</pre>"
   ]
  },
  {
   "cell_type": "code",
   "execution_count": 0,
   "metadata": {
    "colab": {},
    "colab_type": "code",
    "id": "2lAaKQ6EYv04",
    "outputId": "53b66a94-acef-4002-e51c-002bde4178b4"
   },
   "outputs": [
    {
     "name": "stdout",
     "output_type": "stream",
     "text": [
      "i am living in the New York --> [('i', 'NN'), ('am', 'VBP'), ('living', 'VBG'), ('in', 'IN'), ('the', 'DT'), Tree('GPE', [('New', 'NNP'), ('York', 'NNP')])]\n",
      " \n",
      "--------------------------------------------------\n",
      " \n",
      "My name is Srikanth Varma --> [('My', 'PRP$'), ('name', 'NN'), ('is', 'VBZ'), Tree('PERSON', [('Srikanth', 'NNP'), ('Varma', 'NNP')])]\n"
     ]
    }
   ],
   "source": [
    "#i am living in the New York\n",
    "print(\"i am living in the New York -->\", list(chunks))\n",
    "print(\" \")\n",
    "print(\"-\"*50)\n",
    "print(\" \")\n",
    "#My name is Srikanth Varma\n",
    "print(\"My name is Srikanth Varma -->\", list(chunks1))"
   ]
  },
  {
   "cell_type": "markdown",
   "metadata": {
    "colab_type": "text",
    "id": "XV8gzLUjYv0-"
   },
   "source": [
    "<pre>We did chunking for above two lines and then We got one list where each word is mapped to a \n",
    "POS(parts of speech) and also if you see \"New York\" and \"Srikanth Varma\", \n",
    "they got combined and represented as a tree and \"New York\" was referred as \"GPE\" and \"Srikanth Varma\" was referred as \"PERSON\". \n",
    "so now you have to Combine the \"New York\" with <b>\"_\"</b> i.e \"New_York\"\n",
    "and remove the \"Srikanth Varma\" from the above sentence because it is a person.</pre>"
   ]
  },
  {
   "cell_type": "markdown",
   "metadata": {
    "colab_type": "text",
    "id": "VpaC-KF3Yv1A"
   },
   "source": [
    "<pre>\n",
    "<font color='blue'><b>13.</b></font> Replace all the digits with space i.e delete all the digits. \n",
    "> In the above sample document, the 6th line have digit 100, so we have to remove that.\n",
    "\n",
    "<font color='blue'><b>14.</b></font> After doing above points, we observed there might be few word's like\n",
    " <b> \"_word_\" (i.e starting and ending with the _), \"_word\" (i.e starting with the _),\n",
    "  \"word_\" (i.e ending with the _)</b> remove the <b>_</b> from these type of words. \n",
    "\n",
    "<font color='blue'><b>15.</b></font>  We also observed some words like <b> \"OneLetter_word\"- eg: d_berlin, \n",
    "\"TwoLetters_word\" - eg: dr_berlin </b>, in these words we remove the \"OneLetter_\" (d_berlin ==> berlin) and \n",
    "\"TwoLetters_\" (de_berlin ==> berlin). i.e remove the words \n",
    "which are length less than or equal to 2 after spliiting those words by \"_\". \n",
    "\n",
    "<font color='blue'><b>16.</b></font> Convert all the words into lower case and lowe case \n",
    "and remove the words which are greater than or equal to 15 or less than or equal to 2.\n",
    "\n",
    "<font color='blue'><b>17.</b></font> replace all the words except \"A-Za-z_\" with space. \n",
    "\n",
    "<font color='blue'><b>18.</b></font> Now You got Preprocessed Text, email, subject. create a dataframe with those. \n",
    "Below are the columns of the df. \n",
    "</pre>"
   ]
  },
  {
   "cell_type": "code",
   "execution_count": 0,
   "metadata": {
    "colab": {},
    "colab_type": "code",
    "id": "hB43OGEfYv1C",
    "outputId": "945bc8a4-1f99-4410-94c8-c776a405b5f0"
   },
   "outputs": [
    {
     "name": "stdout",
     "output_type": "stream",
     "text": [
      "Index(['text', 'class', 'preprocessed_text', 'preprocessed_subject',\n",
      "       'preprocessed_emails'],\n",
      "      dtype='object')\n"
     ]
    }
   ],
   "source": [
    "data.columns"
   ]
  },
  {
   "cell_type": "code",
   "execution_count": 0,
   "metadata": {
    "colab": {},
    "colab_type": "code",
    "id": "AM6A19xFYv1I",
    "outputId": "9de13fa8-6604-49a2-8013-6b22f0a256a8"
   },
   "outputs": [
    {
     "name": "stdout",
     "output_type": "stream",
     "text": [
      "text                    From: arc1@ukc.ac.uk (Tony Curtis)\\r\\r\\r\\nSubj...\n",
      "class                                                         alt.atheism\n",
      "preprocessed_text       said re is article if followed the quoting rig...\n",
      "preprocessed_subject                                christian morality is\n",
      "preprocessed_emails                                   ukc mac macalstr edu\n",
      "Name: 567, dtype: object\n"
     ]
    }
   ],
   "source": [
    "data.iloc[400]"
   ]
  },
  {
   "cell_type": "markdown",
   "metadata": {
    "colab_type": "text",
    "id": "rfWUeIN1Yv1N"
   },
   "source": [
    "### To get above mentioned data frame --> Try to Write Total Preprocessing steps in One Function Named Preprocess as below. "
   ]
  },
  {
   "cell_type": "code",
   "execution_count": 0,
   "metadata": {
    "colab": {},
    "colab_type": "code",
    "id": "uEGEHTNQYv1N"
   },
   "outputs": [],
   "source": [
    "def preprocess(Input_Text):\n",
    "    \"\"\"Do all the Preprocessing as shown above and\n",
    "    return a tuple contain preprocess_email,preprocess_subject,preprocess_text for that Text_data\"\"\"\n",
    "    return (list_of_preproessed_emails,subject,text)"
   ]
  },
  {
   "cell_type": "markdown",
   "metadata": {
    "colab_type": "text",
    "id": "ceASjKizYv1U"
   },
   "source": [
    "### Code checking:\n",
    "\n",
    "<font color='red' size=4>\n",
    "After Writing preprocess function. call that functoin with the input text of 'alt.atheism_49960' doc and print the output of the preprocess function\n",
    "<br>\n",
    "This will help us to evaluate faster, based on the output we can suggest you if there are any changes.\n",
    "</font>"
   ]
  },
  {
   "cell_type": "markdown",
   "metadata": {
    "colab_type": "text",
    "id": "2x3og_iaYv1S"
   },
   "source": [
    "### After writing Preprocess function, call the function for each of the document(18828 docs) and then create a dataframe as mentioned above."
   ]
  },
  {
   "cell_type": "markdown",
   "metadata": {
    "colab_type": "text",
    "id": "n3ucJLtWYv1V"
   },
   "source": [
    "### Training The models to Classify: \n",
    "\n",
    "<pre>\n",
    "1. Combine \"preprocessed_text\", \"preprocessed_subject\", \"preprocessed_emails\" into one column. use that column to model. \n",
    "\n",
    "2. Now Split the data into Train and test. use 25% for test also do a stratify split. \n",
    "\n",
    "3. Analyze your text data and pad the sequnce if required. \n",
    "Sequnce length is not restricted, you can use anything of your choice. \n",
    "you need to give the reasoning\n",
    "\n",
    "4. Do Tokenizer i.e convert text into numbers. please be careful while doing it. \n",
    "if you are using tf.keras \"Tokenizer\" API, it removes the <b>\"_\"</b>, but we need that.\n",
    "\n",
    "5. code the model's ( Model-1, Model-2 ) as discussed below \n",
    "and try to optimize that models.  \n",
    "\n",
    "6. For every model use predefined Glove vectors. \n",
    "<b>Don't train any word vectors while Training the model.</b>\n",
    "\n",
    "7. Use \"categorical_crossentropy\" as Loss. \n",
    "\n",
    "8. Use <b>Accuracy and Micro Avgeraged F1 score</b> as your as Key metrics to evaluate your model. \n",
    "\n",
    "9.  Use Tensorboard to plot the loss and Metrics based on the epoches.\n",
    "\n",
    "10. Please save your best model weights in to <b>'best_model_L.h5' ( L = 1 or 2 )</b>. \n",
    "\n",
    "11. You are free to choose any Activation function, learning rate, optimizer.\n",
    "But have to use the same architecture which we are giving below.\n",
    "\n",
    "12. You can add some layer to our architecture but you <b>deletion</b> of layer is not acceptable.\n",
    "\n",
    "13. Try to use <b>Early Stopping</b> technique or any of the callback techniques that you did in the previous assignments.\n",
    "\n",
    "14. For Every model save your model to image ( Plot the model) with shapes \n",
    "and inlcude those images in the notebook markdown cell, \n",
    "upload those imgages to Classroom. You can use \"plot_model\" \n",
    "please refer <a href='https://www.tensorflow.org/api_docs/python/tf/keras/utils/plot_model'>this</a> if you don't know how to plot the model with shapes. \n",
    "\n",
    "</pre>"
   ]
  },
  {
   "cell_type": "markdown",
   "metadata": {
    "colab_type": "text",
    "id": "c0mwdtcvYv1X"
   },
   "source": [
    "### Model-1: Using 1D convolutions with word embeddings"
   ]
  },
  {
   "cell_type": "markdown",
   "metadata": {
    "colab_type": "text",
    "id": "gXPPsovJ3ePk"
   },
   "source": [
    "<pre>\n",
    "<b>Encoding of the Text </b> --> For a given text data create a Matrix with Embedding layer as shown Below. \n",
    "In the example we have considered d = 5, but in this assignment we will get d = dimension of Word vectors we are using.\n",
    " i.e if we have maximum of 350 words in a sentence and embedding of 300 dim word vector, \n",
    " we result in 350*300 dimensional matrix for each sentance as output after embedding layer\n",
    "<img src='https://i.imgur.com/kiVQuk1.png'>\n",
    "Ref: https://i.imgur.com/kiVQuk1.png\n",
    "\n",
    "<b>Reference:</b>\n",
    "<a href='https://stackoverflow.com/a/43399308/4084039'>https://stackoverflow.com/a/43399308/4084039</a>\n",
    "<a href='https://missinglink.ai/guides/keras/keras-conv1d-working-1d-convolutional-neural-networks-keras/'>https://missinglink.ai/guides/keras/keras-conv1d-working-1d-convolutional-neural-networks-keras/</a>\n",
    "\n",
    "<b><a href='https://stats.stackexchange.com/questions/270546/how-does-keras-embedding-layer-work'>How EMBEDDING LAYER WORKS </a></b>\n",
    "\n",
    "</pre>\n",
    "\n",
    "### Go through this blog, if you have any doubt on using predefined Embedding values in Embedding layer - https://machinelearningmastery.com/use-word-embedding-layers-deep-learning-keras/"
   ]
  },
  {
   "cell_type": "markdown",
   "metadata": {
    "colab_type": "text",
    "id": "wGVQKge3Yv1e"
   },
   "source": [
    "<img src='https://i.imgur.com/fv1GvFJ.png'>\n",
    "ref: 'https://i.imgur.com/fv1GvFJ.png'"
   ]
  },
  {
   "cell_type": "markdown",
   "metadata": {
    "colab_type": "text",
    "id": "GC6SBG5AYv1f"
   },
   "source": [
    "<pre>\n",
    "1. all are Conv1D layers with any number of filter and filter sizes, there is no restriction on this.\n",
    "\n",
    "2. use concatenate layer is to concatenate all the filters/channels. \n",
    "\n",
    "3. You can use any pool size and stride for maxpooling layer.\n",
    "\n",
    "4. Don't use more than 16 filters in one Conv layer becuase it will increase the no of params. \n",
    "( Only recommendation if you have less computing power )\n",
    "\n",
    "5. You can use any number of layers after the Flatten Layer.\n",
    "</pre>"
   ]
  },
  {
   "cell_type": "markdown",
   "metadata": {
    "colab_type": "text",
    "id": "9cg4L1V4Yv1d"
   },
   "source": [
    "### Model-2 : Using 1D convolutions with character embedding"
   ]
  },
  {
   "cell_type": "markdown",
   "metadata": {
    "colab_type": "text",
    "id": "2Djg4YVA3oQx"
   },
   "source": [
    "<pre>\n",
    "<pre><img src=\"https://i.ytimg.com/vi/CNY8VjJt-iQ/maxresdefault.jpg\" width=\"70%\">\n",
    "Here are the some papers based on Char-CNN\n",
    " 1. Xiang Zhang, Junbo Zhao, Yann LeCun. <a href=\"http://arxiv.org/abs/1509.01626\">Character-level Convolutional Networks for Text Classification</a>.NIPS 2015\n",
    " 2. Yoon Kim, Yacine Jernite, David Sontag, Alexander M. Rush. <a href=\"https://arxiv.org/abs/1508.06615\">Character-Aware Neural Language Models</a>. AAAI 2016\n",
    " 3. Shaojie Bai, J. Zico Kolter, Vladlen Koltun. <a href=\"https://arxiv.org/pdf/1803.01271.pdf\">An Empirical Evaluation of Generic Convolutional and Recurrent Networks for Sequence Modeling</a>\n",
    "</pre>"
   ]
  },
  {
   "cell_type": "markdown",
   "metadata": {
    "colab_type": "text",
    "id": "VXvKSEIeSvN5"
   },
   "source": [
    "<img src='https://i.imgur.com/EuuoJtr.png'>"
   ]
  }
 ],
 "metadata": {
  "colab": {
   "collapsed_sections": [],
   "name": "Text Classification Assignment.ipynb",
   "provenance": []
  },
  "kernelspec": {
   "display_name": "Python 3",
   "language": "python",
   "name": "python3"
  },
  "language_info": {
   "codemirror_mode": {
    "name": "ipython",
    "version": 3
   },
   "file_extension": ".py",
   "mimetype": "text/x-python",
   "name": "python",
   "nbconvert_exporter": "python",
   "pygments_lexer": "ipython3",
   "version": "3.7.4"
  }
 },
 "nbformat": 4,
 "nbformat_minor": 1
}
